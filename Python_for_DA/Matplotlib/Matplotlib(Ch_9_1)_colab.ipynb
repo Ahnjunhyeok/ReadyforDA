{
  "nbformat": 4,
  "nbformat_minor": 0,
  "metadata": {
    "colab": {
      "provenance": []
    },
    "kernelspec": {
      "name": "python3",
      "display_name": "Python 3"
    },
    "language_info": {
      "name": "python"
    }
  },
  "cells": [
    {
      "cell_type": "code",
      "execution_count": 2,
      "metadata": {
        "id": "F-DTaHHtj8sQ"
      },
      "outputs": [],
      "source": [
        "import numpy as np\n",
        "import pandas as pd\n",
        "PREVIOUS_MAX_ROWS = pd.options.display.max_rows\n",
        "pd.options.display.max_rows = 20\n",
        "pd.options.display.max_colwidth = 80\n",
        "pd.options.display.max_columns = 20\n",
        "np.random.seed(12345)\n",
        "import matplotlib.pyplot as plt\n",
        "import matplotlib\n",
        "plt.rc(\"figure\", figsize=(10, 6))\n",
        "np.set_printoptions(precision=4, suppress=True)"
      ]
    },
    {
      "cell_type": "code",
      "source": [
        "# Chapter 9 그래프와 시각화"
      ],
      "metadata": {
        "id": "HmJZWCQMkp3X"
      },
      "execution_count": 3,
      "outputs": []
    },
    {
      "cell_type": "code",
      "source": [
        "# 정보 시각화는 데이터 분석에서 무척 중요한 일 중 하나다."
      ],
      "metadata": {
        "id": "94ypuqbukxST"
      },
      "execution_count": 4,
      "outputs": []
    },
    {
      "cell_type": "code",
      "source": [
        "# 시각화는 특잇값을 찾아내거나, 데이터 변형이 필요한지 알아보거나, 모델에 대한 아이디어를 찾기 위한 과정의 일부이기도 하다."
      ],
      "metadata": {
        "id": "OpFyV8rGky5Y"
      },
      "execution_count": 5,
      "outputs": []
    },
    {
      "cell_type": "code",
      "source": [
        "# matplotlib과 matplotlib 기반의 도구들을 우선적으로 살펴보겠다."
      ],
      "metadata": {
        "id": "hddgOK8ak1K_"
      },
      "execution_count": 6,
      "outputs": []
    },
    {
      "cell_type": "code",
      "source": [
        "# matplotlib은 주로 2D 그래프를 위한 데스크톱 패키지로, 출판물 수준의 그래프를 만들어내도록 설계되었다."
      ],
      "metadata": {
        "id": "acsWxnKIk2mh"
      },
      "execution_count": 7,
      "outputs": []
    },
    {
      "cell_type": "code",
      "source": [
        "# matplotlib 프로젝트는 파이썬에서 매트랩과 유사한 인터페이스를 지원하기 위해 2002년에 존 헌터가 시작했다. "
      ],
      "metadata": {
        "id": "8QVgOZ9lk4EE"
      },
      "execution_count": 8,
      "outputs": []
    },
    {
      "cell_type": "code",
      "source": [
        "# 그 후 IPython과 matplotlib 커뮤니티의 협력을 통해 IPython 셸(지금은 주피터 노트북)에서 대화형 시각화를 구현해냈다."
      ],
      "metadata": {
        "id": "PZHM-Cw_k5Po"
      },
      "execution_count": 9,
      "outputs": []
    },
    {
      "cell_type": "code",
      "source": [
        "# matplotlib은 모든 운영체제의 다양한 GUI 백엔드를 지원하고 있으며, PDF, SVG, JPG, PNG, BMP, GIF 등 일반적으로 널리 사용되는 벡터 포맷과 래스터 포맷으로 그래프를 저장할 수 있다. "
      ],
      "metadata": {
        "id": "dEYXdvPmk6sh"
      },
      "execution_count": 10,
      "outputs": []
    },
    {
      "cell_type": "code",
      "source": [
        "# 이 장에 포함된 코드 예제를 실행시키는 가장 손쉬운 방법은 주피터 노트북의 대화형 시각화 기능을 사용하는 것이다. "
      ],
      "metadata": {
        "id": "AJqAPis6k8Sj"
      },
      "execution_count": 11,
      "outputs": []
    },
    {
      "cell_type": "code",
      "source": [
        "# 이 기능을 활성화하려면 주피터 노트북을 실행시킨 후 다음 명령을 입력한다. "
      ],
      "metadata": {
        "id": "VBgs4NoMk9kk"
      },
      "execution_count": 12,
      "outputs": []
    },
    {
      "cell_type": "code",
      "source": [
        "# %matplotlib notebook # 주피터 노트북 환경에서 실행"
      ],
      "metadata": {
        "id": "rHYnVrmUk_SC"
      },
      "execution_count": 13,
      "outputs": []
    },
    {
      "cell_type": "code",
      "source": [
        "# 9.1 matplotlib API 간략하게 살펴보기"
      ],
      "metadata": {
        "id": "UMBLeh0SlA4X"
      },
      "execution_count": 14,
      "outputs": []
    },
    {
      "cell_type": "code",
      "source": [
        "# 이 책에서는 matplotlib을 아래와 같은 네이밍 컨벤션으로 임포트하겠다. "
      ],
      "metadata": {
        "id": "aHR9cRi2lCJt"
      },
      "execution_count": 15,
      "outputs": []
    },
    {
      "cell_type": "code",
      "source": [
        "import matplotlib.pyplot as plt"
      ],
      "metadata": {
        "id": "Yqclb-NLlDWA"
      },
      "execution_count": 16,
      "outputs": []
    },
    {
      "cell_type": "code",
      "source": [
        "# 주피터 노트북 환경에서 %matplotlib notebook을 실행한 다음(IPython인 경우 그냥 %matplotlib) 간단한 그래프를 그려보자."
      ],
      "metadata": {
        "id": "TqYI13d5lFJm"
      },
      "execution_count": 17,
      "outputs": []
    },
    {
      "cell_type": "code",
      "source": [
        "# 모든 것이 제대로 설정되었다면 [그림 9-1]과 같은 선그래프가 그려진다. 페이지 348"
      ],
      "metadata": {
        "id": "ioBUyOi9lGa9"
      },
      "execution_count": 18,
      "outputs": []
    },
    {
      "cell_type": "code",
      "source": [
        "import numpy as np"
      ],
      "metadata": {
        "id": "nT3dnDZAlHzD"
      },
      "execution_count": 19,
      "outputs": []
    },
    {
      "cell_type": "code",
      "source": [
        "data = np.arange(10)"
      ],
      "metadata": {
        "id": "_BuZ_QJTlKJB"
      },
      "execution_count": 20,
      "outputs": []
    },
    {
      "cell_type": "code",
      "source": [
        "data"
      ],
      "metadata": {
        "colab": {
          "base_uri": "https://localhost:8080/"
        },
        "id": "pl2e-udflKv7",
        "outputId": "4f7ffdde-139a-41ad-fd4a-f9c79beef274"
      },
      "execution_count": 21,
      "outputs": [
        {
          "output_type": "execute_result",
          "data": {
            "text/plain": [
              "array([0, 1, 2, 3, 4, 5, 6, 7, 8, 9])"
            ]
          },
          "metadata": {},
          "execution_count": 21
        }
      ]
    },
    {
      "cell_type": "code",
      "source": [
        "plt.plot(data)"
      ],
      "metadata": {
        "colab": {
          "base_uri": "https://localhost:8080/",
          "height": 392
        },
        "id": "Z8FQBF0UlL11",
        "outputId": "5c72c271-7576-42da-dedf-17e24a7d6a2d"
      },
      "execution_count": 22,
      "outputs": [
        {
          "output_type": "execute_result",
          "data": {
            "text/plain": [
              "[<matplotlib.lines.Line2D at 0x7f265f137610>]"
            ]
          },
          "metadata": {},
          "execution_count": 22
        },
        {
          "output_type": "display_data",
          "data": {
            "text/plain": [
              "<Figure size 720x432 with 1 Axes>"
            ],
            "image/png": "[encoded data removed]"
          },
          "metadata": {
            "needs_background": "light"
          }
        }
      ]
    },
    {
      "cell_type": "code",
      "source": [
        "# 나중에 seabom 라이브러리나 pandas로 그래프를 그리는 방법과 그래프가 만들어지는 세부사항에 관한 재미없는 내용을 다루게 되는데, 함수에서 제공하는 옵션만 사용하는 데 그치지 않고\n",
        "# 그 이상의 최적화를 하고 싶다면 matplotlib API도 어느 정도 알고 있어야 한다. "
      ],
      "metadata": {
        "id": "3qzRHlgulOK1"
      },
      "execution_count": 23,
      "outputs": []
    },
    {
      "cell_type": "code",
      "source": [
        "# 9.1.1 figure와 서브플롯 "
      ],
      "metadata": {
        "id": "QHBldMNUlpKo"
      },
      "execution_count": 24,
      "outputs": []
    },
    {
      "cell_type": "code",
      "source": [
        "# matplotlib에서 그래프는 Figure 객체 내에 존재한다. 그래프를 위한 새로운 figure(피겨)는 plt.figure를 사용해서 생성할 수 있다. "
      ],
      "metadata": {
        "id": "YWRrBg7zl6LL"
      },
      "execution_count": 25,
      "outputs": []
    },
    {
      "cell_type": "code",
      "source": [
        "fig = plt.figure()"
      ],
      "metadata": {
        "colab": {
          "base_uri": "https://localhost:8080/",
          "height": 35
        },
        "id": "-SK-f1VHmLFO",
        "outputId": "1736c52c-1205-46b9-9b26-d8633bb7801a"
      },
      "execution_count": 26,
      "outputs": [
        {
          "output_type": "display_data",
          "data": {
            "text/plain": [
              "<Figure size 720x432 with 0 Axes>"
            ]
          },
          "metadata": {}
        }
      ]
    },
    {
      "cell_type": "code",
      "source": [
        "# IPython에서 실행했다면 빈 윈도우가 나타날 것이다. 반면 주피터에서는 몇 가지 명령을 더 입력하기 전에는 아무것도 나타나지 않을 것이다. "
      ],
      "metadata": {
        "id": "k7ytAcEJmNZM"
      },
      "execution_count": 27,
      "outputs": []
    },
    {
      "cell_type": "code",
      "source": [
        "# plt.figure에는 다양한 옵션이 있는데 그 중 figsize는 파일에 저장할 경우를 위해 만들려는 figure의 크기와 비율을 지정할 수 있다."
      ],
      "metadata": {
        "id": "ZA8NRFE3mbRb"
      },
      "execution_count": 28,
      "outputs": []
    },
    {
      "cell_type": "code",
      "source": [
        "# 빈 figure로는 그래프를 그릴 수 없다. add_subplot을 사용해서 최소 하나 이상의 subplots를 생성해야 한다. "
      ],
      "metadata": {
        "id": "kwv5i1R2mmQN"
      },
      "execution_count": 29,
      "outputs": []
    },
    {
      "cell_type": "code",
      "source": [
        "ax1 = fig.add_subplot(2, 2, 1)"
      ],
      "metadata": {
        "id": "qTwJOOs9mvtv"
      },
      "execution_count": 30,
      "outputs": []
    },
    {
      "cell_type": "code",
      "source": [
        "# 위 코드는 figure가 2 * 2 크기이고 4개의 서브플롯 중에서 첫 번째를 선택하겠다는 의미다(서브플롯은 1부터 숫자가 매겨진다). 다음처럼 2개의 서브플롯을 더 추가하면 그림 [9-2]와 같은 모양이 된다."
      ],
      "metadata": {
        "id": "nIcHkTThmy04"
      },
      "execution_count": 31,
      "outputs": []
    },
    {
      "cell_type": "code",
      "source": [
        "ax2 = fig.add_subplot(2, 2, 2)"
      ],
      "metadata": {
        "id": "b4UC2XfinGFD"
      },
      "execution_count": 32,
      "outputs": []
    },
    {
      "cell_type": "code",
      "source": [
        "ax3 = fig.add_subplot(2, 2, 3)"
      ],
      "metadata": {
        "id": "pp8ucVVrnK3R"
      },
      "execution_count": 33,
      "outputs": []
    },
    {
      "cell_type": "code",
      "source": [
        "# TIP: 주피터 노트북을 사용할 때는 실행되는 셀마다 그래프가 리셋된다. 따라서 복잡한 그래프를 그릴 때는 단일 노트북 셀에 그래프를 그리는 코드를 전부 입력해야 한다. "
      ],
      "metadata": {
        "id": "_FxJ54DknON-"
      },
      "execution_count": 34,
      "outputs": []
    },
    {
      "cell_type": "code",
      "source": [
        "# 책에서는 같은 셀에 다 입력하여 한번에 실행했다. "
      ],
      "metadata": {
        "id": "zrgR4OelngVq"
      },
      "execution_count": 35,
      "outputs": []
    },
    {
      "cell_type": "code",
      "source": [
        "fig = plt.figure()\n",
        "ax1 = fig.add_subplot(2, 2, 1)\n",
        "ax2 = fig.add_subplot(2, 2, 2)\n",
        "ax3 = fig.add_subplot(2, 2, 3)"
      ],
      "metadata": {
        "colab": {
          "base_uri": "https://localhost:8080/",
          "height": 378
        },
        "id": "FxCScxz_nlYS",
        "outputId": "829dd304-88ad-4525-d030-d98a769d3d7f"
      },
      "execution_count": 36,
      "outputs": [
        {
          "output_type": "display_data",
          "data": {
            "text/plain": [
              "<Figure size 720x432 with 3 Axes>"
            ],
            "image/png": "[encoded data removed]"
          },
          "metadata": {
            "needs_background": "light"
          }
        }
      ]
    },
    {
      "cell_type": "code",
      "source": [
        "# plt.plot([1.5, 3.5, -2, 1.6]) 명령으로 그래프를 띄우면 matplotlib은 가장 최근의 figure의 그 서브플롯을 그린다. "
      ],
      "metadata": {
        "id": "2eEWf9G4nu-L"
      },
      "execution_count": 37,
      "outputs": []
    },
    {
      "cell_type": "code",
      "source": [
        "# 서브플롯이 없다면 서브플롯 하나를 생성한다. "
      ],
      "metadata": {
        "id": "DCJ4bmlyn8XV"
      },
      "execution_count": 38,
      "outputs": []
    },
    {
      "cell_type": "code",
      "source": [
        "# 이렇게 해서 figure와 서브플롯이 생성되는 과정을 숨겨준다. "
      ],
      "metadata": {
        "id": "Voeu7wYRoAKN"
      },
      "execution_count": 39,
      "outputs": []
    },
    {
      "cell_type": "code",
      "source": [
        "# 따라서 다음 명령을 실행하면 [그림 9-3]과 같은 그래프를 얻을 수 있다. "
      ],
      "metadata": {
        "id": "WEl5hQ84oF1q"
      },
      "execution_count": 40,
      "outputs": []
    },
    {
      "cell_type": "code",
      "source": [
        "plt.plot(np.random.randn(50).cumsum(), \"k--\")"
      ],
      "metadata": {
        "colab": {
          "base_uri": "https://localhost:8080/",
          "height": 392
        },
        "id": "B4D166KgoLdM",
        "outputId": "05522785-a243-4e33-d788-f68feea0a182"
      },
      "execution_count": 42,
      "outputs": [
        {
          "output_type": "execute_result",
          "data": {
            "text/plain": [
              "[<matplotlib.lines.Line2D at 0x7f265e474370>]"
            ]
          },
          "metadata": {},
          "execution_count": 42
        },
        {
          "output_type": "display_data",
          "data": {
            "text/plain": [
              "<Figure size 720x432 with 1 Axes>"
            ],
            "image/png": "[encoded data removed]"
          },
          "metadata": {
            "needs_background": "light"
          }
        }
      ]
    },
    {
      "cell_type": "code",
      "source": [
        "# \"k--\" 옵션은 검은 점선을 그리기 위한 스타일 옵션이다. fig.add_subplot에서 반환되는 객체는 AxesSubplot인데, 각각의 인스턴스 메서드를 호출해서 다른 빈 서브플롯에 직접 그래프를 그릴 수 있다. "
      ],
      "metadata": {
        "id": "6eps_hC4oXOk"
      },
      "execution_count": 43,
      "outputs": []
    },
    {
      "cell_type": "code",
      "source": [
        "# [그림 9-4]를 참조하자. 페이지 352"
      ],
      "metadata": {
        "id": "7Ttlueh4omVH"
      },
      "execution_count": 44,
      "outputs": []
    },
    {
      "cell_type": "code",
      "source": [
        "_ = ax1.hist(np.random.randn(100), bins=20, color=\"k\", alpha=0.3)"
      ],
      "metadata": {
        "id": "-l1sCvgiorBo"
      },
      "execution_count": 56,
      "outputs": []
    },
    {
      "cell_type": "code",
      "source": [
        "ax2.scatter(np.arange(30), np.arange(30) + 3 * np.random.randn(30))"
      ],
      "metadata": {
        "colab": {
          "base_uri": "https://localhost:8080/"
        },
        "id": "atQF4hN7o0Zk",
        "outputId": "04b38cad-b7b7-49ea-f28f-b13e858aa7bd"
      },
      "execution_count": 57,
      "outputs": [
        {
          "output_type": "execute_result",
          "data": {
            "text/plain": [
              "<matplotlib.collections.PathCollection at 0x7f265c6b2550>"
            ]
          },
          "metadata": {},
          "execution_count": 57
        }
      ]
    },
    {
      "cell_type": "code",
      "source": [
        "# matplotlib 문서에서 여러 가지 그래프 종류를 확인할 수 있다. "
      ],
      "metadata": {
        "id": "5-pTtav1o93b"
      },
      "execution_count": 58,
      "outputs": []
    },
    {
      "cell_type": "code",
      "source": [
        "# 특정한 배치에 맞추어 여러 개의 서브 플롯을 포함하는 figure를 생성하는 일은 흔히 접하게 되는 업무인데, 이를 위한 plt.subplots라는 편리한 메서드가 있다."
      ],
      "metadata": {
        "id": "j4DrXvMjpLR8"
      },
      "execution_count": 59,
      "outputs": []
    },
    {
      "cell_type": "code",
      "source": [
        "# 이 메서드는 NumPy 배열과 서브플롯 객체를 새로 생성하여 반환한다. "
      ],
      "metadata": {
        "id": "5NzYIdyhpWIg"
      },
      "execution_count": 60,
      "outputs": []
    },
    {
      "cell_type": "code",
      "source": [
        "fig, axes = plt.subplots(2, 3)"
      ],
      "metadata": {
        "colab": {
          "base_uri": "https://localhost:8080/",
          "height": 378
        },
        "id": "iBZLqn_SpcTe",
        "outputId": "2788de22-7fae-42ae-ba4e-830f36083ee4"
      },
      "execution_count": 61,
      "outputs": [
        {
          "output_type": "display_data",
          "data": {
            "text/plain": [
              "<Figure size 720x432 with 6 Axes>"
            ],
            "image/png": "[encoded data removed]"
          },
          "metadata": {
            "needs_background": "light"
          }
        }
      ]
    },
    {
      "cell_type": "code",
      "source": [
        "axes"
      ],
      "metadata": {
        "colab": {
          "base_uri": "https://localhost:8080/"
        },
        "id": "Gd64zYk2pfOO",
        "outputId": "e68c7114-f083-46a2-9a54-64bb6b1d2da6"
      },
      "execution_count": 62,
      "outputs": [
        {
          "output_type": "execute_result",
          "data": {
            "text/plain": [
              "array([[<matplotlib.axes._subplots.AxesSubplot object at 0x7f265c711610>,\n",
              "        <matplotlib.axes._subplots.AxesSubplot object at 0x7f265c75ebe0>,\n",
              "        <matplotlib.axes._subplots.AxesSubplot object at 0x7f265c62fca0>],\n",
              "       [<matplotlib.axes._subplots.AxesSubplot object at 0x7f265c5e80a0>,\n",
              "        <matplotlib.axes._subplots.AxesSubplot object at 0x7f265c618460>,\n",
              "        <matplotlib.axes._subplots.AxesSubplot object at 0x7f265c5c48e0>]],\n",
              "      dtype=object)"
            ]
          },
          "metadata": {},
          "execution_count": 62
        }
      ]
    },
    {
      "cell_type": "code",
      "source": [
        "# axes 배열은 axes[0, 1]처럼 2차원 배열로 쉽게 색인될 수 있어서 편리하게 사용할 수 있다. "
      ],
      "metadata": {
        "id": "0DITzh3LphBP"
      },
      "execution_count": 63,
      "outputs": []
    },
    {
      "cell_type": "code",
      "source": [
        "# 서브플롯이 같은 x축 혹은 y축을 가져야 한다면 각각 sharex와 sharey를 사용해서 지정할 수 있다. "
      ],
      "metadata": {
        "id": "1SNZN9Rdpsi7"
      },
      "execution_count": 64,
      "outputs": []
    },
    {
      "cell_type": "code",
      "source": [
        "# 같은 범위 내에서 데이터를 비교해야 할 경우 특히 유용하다. 그렇지 않으면 matplotlib은 각 그래프의 범위를 독립적으로 조정한다. "
      ],
      "metadata": {
        "id": "l--8ngaIpz7B"
      },
      "execution_count": 65,
      "outputs": []
    },
    {
      "cell_type": "code",
      "source": [
        "# 이 메서드에 대한 자세한 내용은 [표 9-1]을 참조하자. 페이지 353"
      ],
      "metadata": {
        "id": "cbDLApXhp8-q"
      },
      "execution_count": 66,
      "outputs": []
    },
    {
      "cell_type": "code",
      "source": [
        "# 서브플롯 간의 간격 조절하기"
      ],
      "metadata": {
        "id": "_4rjjoW-qDfl"
      },
      "execution_count": 67,
      "outputs": []
    },
    {
      "cell_type": "code",
      "source": [
        "# matplotlib은 서브플롯 간에 적당한 간격과 여백을 추가해준다. 이 간격은 전체 그래프의 높이와 너비에 따라 상대적으로 결정된다. "
      ],
      "metadata": {
        "id": "xdXj9lebqWWM"
      },
      "execution_count": 68,
      "outputs": []
    },
    {
      "cell_type": "code",
      "source": [
        "# 그러므로 프로그램을 이용하든 아니면 직접 GUI 윈도우의 크기를 조정하든 그래프의 크기가 자동으로 조절된다. "
      ],
      "metadata": {
        "id": "JW4WE5HYqf-A"
      },
      "execution_count": 69,
      "outputs": []
    },
    {
      "cell_type": "code",
      "source": [
        "# 서브플롯 간의 간격은 Figure 객체의 subplots_adjust 메서드를 사용해서 쉽게 바꿀 수 있다. "
      ],
      "metadata": {
        "id": "7wlvCZIhrS_j"
      },
      "execution_count": 70,
      "outputs": []
    },
    {
      "cell_type": "code",
      "source": [
        "# subplots_adjust 메서드는 최상위 함수로도 존재한다. "
      ],
      "metadata": {
        "id": "tZzsAt19rkiZ"
      },
      "execution_count": 71,
      "outputs": []
    },
    {
      "cell_type": "code",
      "source": [
        "# subplots_adjust(left=None, bottom=None, right=None, top=None,\n",
        "#                wspace=None, hspace=None)"
      ],
      "metadata": {
        "id": "-fJyMKYhro_p"
      },
      "execution_count": 74,
      "outputs": []
    },
    {
      "cell_type": "code",
      "source": [
        "# wspace와 hspace는 서브플롯 간의 간격을 위해 각각 figure의 너비와 높이에 대한 비율을 조절한다. "
      ],
      "metadata": {
        "id": "NsWcywVmufS4"
      },
      "execution_count": 75,
      "outputs": []
    },
    {
      "cell_type": "code",
      "source": [
        "# 다음 코드는 서브플롯 간의 간격을 주지 않은 그래프를 생성하는 코드다. 그림 9-5 페이지 354"
      ],
      "metadata": {
        "id": "pj_kTaFJuwfB"
      },
      "execution_count": 80,
      "outputs": []
    },
    {
      "cell_type": "code",
      "source": [
        "fig, axes = plt.subplots(2, 2, sharex=True, sharey=True)\n",
        "for i in range(2):\n",
        "  for j in range(2):\n",
        "    axes[i, j].hist(np.random.randn(500), bins=50, color=\"k\", alpha=0.5)\n",
        "plt.subplots_adjust(wspace=0, hspace=0)"
      ],
      "metadata": {
        "colab": {
          "base_uri": "https://localhost:8080/",
          "height": 375
        },
        "id": "QMpsywrdu0u1",
        "outputId": "ec724941-f2ab-46c2-8b6c-fdf056ac9d6d"
      },
      "execution_count": 81,
      "outputs": [
        {
          "output_type": "display_data",
          "data": {
            "text/plain": [
              "<Figure size 720x432 with 4 Axes>"
            ],
            "image/png": "[encoded data removed]"
          },
          "metadata": {
            "needs_background": "light"
          }
        }
      ]
    },
    {
      "cell_type": "code",
      "source": [
        "# 그래프를 그렸을 때 축 이름이 겹치는 경우가 있다. matplotlib은 그래프에서 이름이 겹치는지 겁사하지 않기 때문에 이와 같은 경우에는 눈금 위치와 눈금 이름을 명시적으로 직접 지정해야 한다."
      ],
      "metadata": {
        "id": "ynKfBjuRu6bL"
      },
      "execution_count": 82,
      "outputs": []
    },
    {
      "cell_type": "code",
      "source": [
        "# 9.1.2 색상, 마커, 선 스타일"
      ],
      "metadata": {
        "id": "kM1bKw_lvuBt"
      },
      "execution_count": 83,
      "outputs": []
    },
    {
      "cell_type": "code",
      "source": [
        "# matplotlib에서 가장 중요한 plot 함수는 x와  y 좌푯값이 담긴 배열과 추가적으로 색상과 선 스타일을 나타내는 축약 문자열을 인자로 받는다. "
      ],
      "metadata": {
        "id": "jY2pYk93vwyS"
      },
      "execution_count": 84,
      "outputs": []
    },
    {
      "cell_type": "code",
      "source": [
        "# 예를 들어 녹색 점선으로 그려진 x 대 y 그래프는 아래처럼 나타낼 수 있다. "
      ],
      "metadata": {
        "id": "iNBgkyH6zPqz"
      },
      "execution_count": 85,
      "outputs": []
    },
    {
      "cell_type": "code",
      "source": [
        "# ax.plot(x, y, \"g--\")"
      ],
      "metadata": {
        "id": "yTCczmXBzWEr"
      },
      "execution_count": 87,
      "outputs": []
    },
    {
      "cell_type": "code",
      "source": [
        "# 이와 같이 문자열로 색상과 선 스타일을 지정하는 방법은 편의를 위해 제공되고 있다.\n",
        "# 실무에서 프로그램으로 그래프를 생성할 때는 그래프를 원하는 형식으로 생성하기 위해 문자열을 지저분하게 섞어 쓰고 싶지 않을 것이다. "
      ],
      "metadata": {
        "id": "H_ZIhoKGzY0H"
      },
      "execution_count": 88,
      "outputs": []
    },
    {
      "cell_type": "code",
      "source": [
        "# 위에서 만든 그래프는 아래처럼 좀 더 명시적인 방법으로 표현 가능하다. "
      ],
      "metadata": {
        "id": "ghWsJ_NwzrBG"
      },
      "execution_count": 89,
      "outputs": []
    },
    {
      "cell_type": "code",
      "source": [
        "# ax.plot(x, y, linestyle=\"--\", color=\"g\")"
      ],
      "metadata": {
        "id": "5M3WTJ0hzv7x"
      },
      "execution_count": 90,
      "outputs": []
    },
    {
      "cell_type": "code",
      "source": [
        "# 흔히 사용되는 색상을 위해 몇 가지 색상 문자열이 존재하지만 RGB 값을 지정해서 색상표에 있는 어떤 색상이라도 지정할 수 있다. "
      ],
      "metadata": {
        "id": "abBZHj_Uz2Y5"
      },
      "execution_count": 91,
      "outputs": []
    },
    {
      "cell_type": "code",
      "source": [
        "# 선 스타일에 대한 전체 목록은 plot 메서드의 도움말을 참고하자. (IPython이나 주피터에서 plot?을 입력한다)"
      ],
      "metadata": {
        "id": "KqxY5Tsw0B8k"
      },
      "execution_count": 92,
      "outputs": []
    },
    {
      "cell_type": "code",
      "source": [
        "# 선 그래프는 특정 지점의 실제 데이터를 돋보이게 하기 위해 마커를 추가하기도 한다. "
      ],
      "metadata": {
        "id": "wCo5otTi0KId"
      },
      "execution_count": 93,
      "outputs": []
    },
    {
      "cell_type": "code",
      "source": [
        "# matplotlib은 점들을 잇는 연속된 선그래프를 생성하기 때문에 어떤 지점에 마커를 설정해야 하는지 확실하지 않은 경우가 종종 있다. "
      ],
      "metadata": {
        "id": "DCVbT-5D0Wv3"
      },
      "execution_count": 94,
      "outputs": []
    },
    {
      "cell_type": "code",
      "source": [
        "# 마커도 스타일 문자열에 포함시킬 수 있는데 색상 다음에 마커 스타일이 오고 그 뒤에 선 스타일을 지정한다.(그림 9-6) 페이지 355"
      ],
      "metadata": {
        "id": "QOnheKkf0pi-"
      },
      "execution_count": 97,
      "outputs": []
    },
    {
      "cell_type": "code",
      "source": [
        "from numpy.random import randn"
      ],
      "metadata": {
        "id": "MqsxBx0V0vM0"
      },
      "execution_count": 98,
      "outputs": []
    },
    {
      "cell_type": "code",
      "source": [
        "# 이 역시 조금 더 명시적인 방법으로 표현할 수 있다. "
      ],
      "metadata": {
        "id": "S1ZlLwuq0zh_"
      },
      "execution_count": 99,
      "outputs": []
    },
    {
      "cell_type": "code",
      "source": [
        "# plot(randn(30).cumsum(), color=\"k\", linestyle=\"dashed\", marker=\"o\")"
      ],
      "metadata": {
        "id": "eimvkriA06IW"
      },
      "execution_count": 101,
      "outputs": []
    },
    {
      "cell_type": "code",
      "source": [
        "# 선그래프를 보면 일정한 간격으로 연속된 지점이 연결되어 있다. 이 역시 drawstyle 옵션을 이용해서 바꿀 수 있다. (그림 9-7) 페이지 356"
      ],
      "metadata": {
        "id": "Sb0Tla7S1DjC"
      },
      "execution_count": 102,
      "outputs": []
    },
    {
      "cell_type": "code",
      "source": [
        "data = np.random.randn(30).cumsum()"
      ],
      "metadata": {
        "id": "LrpefBRy1QBN"
      },
      "execution_count": 106,
      "outputs": []
    },
    {
      "cell_type": "code",
      "source": [
        "plt.plot(data, \"k--\", label=\"Default\")"
      ],
      "metadata": {
        "colab": {
          "base_uri": "https://localhost:8080/",
          "height": 392
        },
        "id": "xaFaM3_z1TQI",
        "outputId": "6aaaa7c7-7af0-4560-ed92-dea8b8097a08"
      },
      "execution_count": 107,
      "outputs": [
        {
          "output_type": "execute_result",
          "data": {
            "text/plain": [
              "[<matplotlib.lines.Line2D at 0x7f265bd6ffa0>]"
            ]
          },
          "metadata": {},
          "execution_count": 107
        },
        {
          "output_type": "display_data",
          "data": {
            "text/plain": [
              "<Figure size 720x432 with 1 Axes>"
            ],
            "image/png": "[encoded data removed]"
          },
          "metadata": {
            "needs_background": "light"
          }
        }
      ]
    },
    {
      "cell_type": "code",
      "source": [
        "plt.plot(data, \"k--\", drawstyle=\"steps-post\", label=\"steps-post\")"
      ],
      "metadata": {
        "colab": {
          "base_uri": "https://localhost:8080/",
          "height": 392
        },
        "id": "zEqraMoa1YEN",
        "outputId": "bf3bde57-ad3e-448f-eb48-b8ad598b26f7"
      },
      "execution_count": 108,
      "outputs": [
        {
          "output_type": "execute_result",
          "data": {
            "text/plain": [
              "[<matplotlib.lines.Line2D at 0x7f265c003430>]"
            ]
          },
          "metadata": {},
          "execution_count": 108
        },
        {
          "output_type": "display_data",
          "data": {
            "text/plain": [
              "<Figure size 720x432 with 1 Axes>"
            ],
            "image/png": "[encoded data removed]"
          },
          "metadata": {
            "needs_background": "light"
          }
        }
      ]
    },
    {
      "cell_type": "code",
      "source": [
        "# plt.legend(loc=\"best\")"
      ],
      "metadata": {
        "id": "vaS1Mn-e1lZZ"
      },
      "execution_count": 110,
      "outputs": []
    },
    {
      "cell_type": "code",
      "source": [
        "# 이 코드를 실행해보면 [<matplotlib.lines.Line2D at 0x7f265c003430>] 과 같은 결과를 확인할 수 있다. "
      ],
      "metadata": {
        "id": "pMvuZQPM1vId"
      },
      "execution_count": 111,
      "outputs": []
    },
    {
      "cell_type": "code",
      "source": [
        "# matplotlib은 방금 추가된 그래프의 하위 컴포넌트에 대한 레퍼런스 객체를 리턴한다. "
      ],
      "metadata": {
        "id": "ZDYMdyb32g5N"
      },
      "execution_count": 112,
      "outputs": []
    },
    {
      "cell_type": "code",
      "source": [
        "# 이 결과는 무시해도 된다. 여기서는 label 인자로 plot을 전달했기 때문에 pld.legend를 이용해서 각 선그래프의 범례를 추가할 수 있다. "
      ],
      "metadata": {
        "id": "mmM6Pjww2lHW"
      },
      "execution_count": 113,
      "outputs": []
    },
    {
      "cell_type": "code",
      "source": [
        "# NOTE_ 범례를 생성하려면 그래프를 그릴 때 label 옵션 지정 여부와 상관없이 반드시 plt.legend를 호출해야 한다(축에 대한 범례를 추가하려면 ax.legend를 호출하자)"
      ],
      "metadata": {
        "id": "TrTxMlyx2u9Z"
      },
      "execution_count": 114,
      "outputs": []
    },
    {
      "cell_type": "code",
      "source": [
        "# 9.1.3 눈금, 라벨, 범례"
      ],
      "metadata": {
        "id": "cIINN5Ey2_xi"
      },
      "execution_count": 115,
      "outputs": []
    },
    {
      "cell_type": "code",
      "source": [
        "# 그래프를 꾸미는 방법은 크게 2가지가 있다. pyplot 인터페이스를 사용해서 꾸미든가(즉, matplotlib.pyplot) 아니면 matplotlib이 제공하는 API를 사용해서 좀 더 객체지향적인 방법으로 꾸미는 것이다. "
      ],
      "metadata": {
        "id": "ih1c4SUR3Bw2"
      },
      "execution_count": 116,
      "outputs": []
    },
    {
      "cell_type": "code",
      "source": [
        "# pyplot 인터페이스는 대화형 사용에 맞추어 설계되었으면 xlim, xticks, xticklabels 같은 메서드로 이루어져 있다. "
      ],
      "metadata": {
        "id": "88jgnyH23VQe"
      },
      "execution_count": 117,
      "outputs": []
    },
    {
      "cell_type": "code",
      "source": [
        "# 이런 메서드로 표의 범위를 지정하거나 눈금 위치, 눈금 이름을 조절할 수 있다. "
      ],
      "metadata": {
        "id": "Vz5mDqLp3jkE"
      },
      "execution_count": 118,
      "outputs": []
    },
    {
      "cell_type": "code",
      "source": [
        "# 아무런 인자 없이 호출하면 현재 설정되어 있는 매개변수의 값을 반환한다. plt.xlim 메서드는 현재 x축의 범위를 반환한다. "
      ],
      "metadata": {
        "id": "GSqgM2uI3oZ0"
      },
      "execution_count": 119,
      "outputs": []
    },
    {
      "cell_type": "code",
      "source": [
        "# 인자를 전달하면 매개변수의 값을 설정한다. 예를 들어 plt.xlim([0, 10])을 호출하면 x축의 범위가 0부터 10까지로 설정된다."
      ],
      "metadata": {
        "id": "vsY0-YUT3vch"
      },
      "execution_count": 120,
      "outputs": []
    },
    {
      "cell_type": "code",
      "source": [
        "# 이 모든 메서드는 현재 활성화된 혹은 가장 최근에 생성된 AxesSubplot 객체에 대해 동작한다."
      ],
      "metadata": {
        "id": "Y3gDS0Nt34Vg"
      },
      "execution_count": 121,
      "outputs": []
    },
    {
      "cell_type": "code",
      "source": [
        "# 위에서 소개한 모든 메서드는 서브플롯 객체의 set/get 메서드로도 존재하는데, xlim이라면 ax.get_xlim과 ax.set_xlim 메서드가 존재한다. "
      ],
      "metadata": {
        "id": "3QGohGBz4KVt"
      },
      "execution_count": 122,
      "outputs": []
    },
    {
      "cell_type": "code",
      "source": [
        "# 제목, 축, 이름, 눈금, 눈금 이름 설정하기"
      ],
      "metadata": {
        "id": "hFyku1ec5Yrb"
      },
      "execution_count": 123,
      "outputs": []
    },
    {
      "cell_type": "code",
      "source": [
        "# 축을 꾸미는 방법을 설명하기 위해 무작위 값으로 간단한 그래프를 하나 생성해보겠다(그림 9-8)."
      ],
      "metadata": {
        "id": "N_oefw945can"
      },
      "execution_count": 124,
      "outputs": []
    },
    {
      "cell_type": "code",
      "source": [
        "fig = plt.figure()"
      ],
      "metadata": {
        "colab": {
          "base_uri": "https://localhost:8080/",
          "height": 35
        },
        "id": "6YnTqleo5lHG",
        "outputId": "8ffce35d-b80d-427d-9ec7-4d1736b2cdfe"
      },
      "execution_count": 125,
      "outputs": [
        {
          "output_type": "display_data",
          "data": {
            "text/plain": [
              "<Figure size 720x432 with 0 Axes>"
            ]
          },
          "metadata": {}
        }
      ]
    },
    {
      "cell_type": "code",
      "source": [
        "ax = fig.add_subplot(1, 1, 1)"
      ],
      "metadata": {
        "id": "HNT4RTsB5tmf"
      },
      "execution_count": 126,
      "outputs": []
    },
    {
      "cell_type": "code",
      "source": [
        "ax.plot(np.random.randn(1000).cumsum())"
      ],
      "metadata": {
        "colab": {
          "base_uri": "https://localhost:8080/"
        },
        "id": "o3K5s53m5wxJ",
        "outputId": "95e537db-d4a9-4901-c64f-422c2467c930"
      },
      "execution_count": 127,
      "outputs": [
        {
          "output_type": "execute_result",
          "data": {
            "text/plain": [
              "[<matplotlib.lines.Line2D at 0x7f265b9edb80>]"
            ]
          },
          "metadata": {},
          "execution_count": 127
        }
      ]
    },
    {
      "cell_type": "code",
      "source": [
        "# x축의 눈금을 변경하기 위한 가장 쉬운 방법은 set_xticks와 set_xticklabels 메서드를 사용하는 것이다. "
      ],
      "metadata": {
        "id": "Fz7EHlme51qo"
      },
      "execution_count": 128,
      "outputs": []
    },
    {
      "cell_type": "code",
      "source": [
        "# set_xticks 메서드는 전체 데이터 범위에 따라 눈금을 어디에 배치할지 지정한다. "
      ],
      "metadata": {
        "id": "yXvfT19a7-0M"
      },
      "execution_count": 129,
      "outputs": []
    },
    {
      "cell_type": "code",
      "source": [
        "# 기본적으로 이 위치에 눈금 이름이 들어간다. 하지만 다른 눈금 이름을 지정하고 싶다면 set_xticklabels를 사용하면 된다."
      ],
      "metadata": {
        "id": "CGMy0fsW8EVP"
      },
      "execution_count": 130,
      "outputs": []
    },
    {
      "cell_type": "code",
      "source": [
        "ticks = ax.set_xticks([0, 250, 500, 750, 1000])"
      ],
      "metadata": {
        "id": "LSanGYIf8LBK"
      },
      "execution_count": 132,
      "outputs": []
    },
    {
      "cell_type": "code",
      "source": [
        "labels = ax.set_xticklabels([\"one\", \"two\", \"three\", \"four\", \"five\"],\n",
        "                            rotation=30, fontsize=\"small\")"
      ],
      "metadata": {
        "id": "w7EAlJLK8ytt"
      },
      "execution_count": 133,
      "outputs": []
    },
    {
      "cell_type": "code",
      "source": [
        "# 마지막으로 set_xlabel 메서드는 x축에 대한 이름을 지정하고 set_title 메서드는 서브플롯의 제목을 지정한다. "
      ],
      "metadata": {
        "id": "2gCD8Ddp8_q-"
      },
      "execution_count": 134,
      "outputs": []
    },
    {
      "cell_type": "code",
      "source": [
        "# [그림 9-9]를 보면 위 코드의 결과를 확인할 수 있다. "
      ],
      "metadata": {
        "id": "KZ7l2Pdz9XfL"
      },
      "execution_count": 135,
      "outputs": []
    },
    {
      "cell_type": "code",
      "source": [
        "ax.set_title(\"My first matplotlib plot\")"
      ],
      "metadata": {
        "colab": {
          "base_uri": "https://localhost:8080/"
        },
        "id": "Bkr97QPg9b34",
        "outputId": "c7e6b383-4469-40bf-f805-44287c73fbf2"
      },
      "execution_count": 136,
      "outputs": [
        {
          "output_type": "execute_result",
          "data": {
            "text/plain": [
              "Text(0.5, 1.0, 'My first matplotlib plot')"
            ]
          },
          "metadata": {},
          "execution_count": 136
        }
      ]
    },
    {
      "cell_type": "code",
      "source": [
        "ax.set_xlabel(\"Stages\")"
      ],
      "metadata": {
        "colab": {
          "base_uri": "https://localhost:8080/"
        },
        "id": "BlE2YPdF9hoH",
        "outputId": "c851aac6-3d29-4cbc-ed3d-3af93325afe9"
      },
      "execution_count": 137,
      "outputs": [
        {
          "output_type": "execute_result",
          "data": {
            "text/plain": [
              "Text(0.5, 0, 'Stages')"
            ]
          },
          "metadata": {},
          "execution_count": 137
        }
      ]
    },
    {
      "cell_type": "code",
      "source": [
        "# x 대신 y를 써서 같은 과정을 y축에 대해 진행할 수 있다. axes 클래스는 플롯의 속성을 설정할 수 있도록 set 메서드를 제공한다."
      ],
      "metadata": {
        "id": "UDNfwheS9nvd"
      },
      "execution_count": 138,
      "outputs": []
    },
    {
      "cell_type": "code",
      "source": [
        "# 위 예제는 아래와 같이 작성할 수도 있다."
      ],
      "metadata": {
        "id": "SjFGpOtY-SuD"
      },
      "execution_count": 139,
      "outputs": []
    },
    {
      "cell_type": "code",
      "source": [
        "# props = {\n",
        "#    \"title\": \"My first matplotlib plot\",\n",
        "#    \"xlabels\": \"Stages\"\n",
        "# }\n",
        "# ax.set(**props)"
      ],
      "metadata": {
        "id": "czkHP03X-VsU"
      },
      "execution_count": 141,
      "outputs": []
    },
    {
      "cell_type": "code",
      "source": [
        "# 범례 추가하기"
      ],
      "metadata": {
        "id": "c3l_ZRIt-g4V"
      },
      "execution_count": 142,
      "outputs": []
    },
    {
      "cell_type": "code",
      "source": [
        "# 범례는 그래프 요소를 확인하기 위해 중요한 요소다. 범례를 추가하는 몇 가지 방법이 있는데 가장 쉬운 방법은 각 그래프에 label 인자를 넘기는 것이다."
      ],
      "metadata": {
        "id": "bIOhFuO_-5ve"
      },
      "execution_count": 143,
      "outputs": []
    },
    {
      "cell_type": "code",
      "source": [
        "from numpy.random import randn"
      ],
      "metadata": {
        "id": "HDakst77_CFK"
      },
      "execution_count": 144,
      "outputs": []
    },
    {
      "cell_type": "code",
      "source": [
        "fig = plt.figure(); ax = fig.add_subplot(1, 1, 1)"
      ],
      "metadata": {
        "colab": {
          "base_uri": "https://localhost:8080/",
          "height": 378
        },
        "id": "EQTbdr5u_FVq",
        "outputId": "a568b907-cd36-4469-876b-f097816becef"
      },
      "execution_count": 145,
      "outputs": [
        {
          "output_type": "display_data",
          "data": {
            "text/plain": [
              "<Figure size 720x432 with 1 Axes>"
            ],
            "image/png": "[encoded data removed]"
          },
          "metadata": {
            "needs_background": "light"
          }
        }
      ]
    },
    {
      "cell_type": "code",
      "source": [
        "ax.plot(randn(1000).cumsum(), \"k\", label=\"one\")"
      ],
      "metadata": {
        "colab": {
          "base_uri": "https://localhost:8080/"
        },
        "id": "1Jlr2HvM_MDl",
        "outputId": "68d0e6e6-49f5-4391-ad84-06895ffe0e76"
      },
      "execution_count": 146,
      "outputs": [
        {
          "output_type": "execute_result",
          "data": {
            "text/plain": [
              "[<matplotlib.lines.Line2D at 0x7f265c2de8b0>]"
            ]
          },
          "metadata": {},
          "execution_count": 146
        }
      ]
    },
    {
      "cell_type": "code",
      "source": [
        "ax.plot(randn(1000).cumsum(), \"k--\", label=\"two\")"
      ],
      "metadata": {
        "colab": {
          "base_uri": "https://localhost:8080/"
        },
        "id": "u2Fkyxzf_Smv",
        "outputId": "4521004c-defe-47ce-8973-cc59c942db48"
      },
      "execution_count": 147,
      "outputs": [
        {
          "output_type": "execute_result",
          "data": {
            "text/plain": [
              "[<matplotlib.lines.Line2D at 0x7f265bffa880>]"
            ]
          },
          "metadata": {},
          "execution_count": 147
        }
      ]
    },
    {
      "cell_type": "code",
      "source": [
        "ax.plot(randn(1000).cumsum(), \"k.\", label=\"three\")"
      ],
      "metadata": {
        "colab": {
          "base_uri": "https://localhost:8080/"
        },
        "id": "aV0250ol_ZQA",
        "outputId": "e9a370a9-5118-4883-8040-178d7e305483"
      },
      "execution_count": 148,
      "outputs": [
        {
          "output_type": "execute_result",
          "data": {
            "text/plain": [
              "[<matplotlib.lines.Line2D at 0x7f265c2c45e0>]"
            ]
          },
          "metadata": {},
          "execution_count": 148
        }
      ]
    },
    {
      "cell_type": "code",
      "source": [
        "# 이렇게 하면 ax.legend()나 plt.legend()를 실행했을 때 [그림 9-10]처럼 자동으로 범례가 생성된다."
      ],
      "metadata": {
        "id": "QOaOCHKZ_ctQ"
      },
      "execution_count": 149,
      "outputs": []
    },
    {
      "cell_type": "code",
      "source": [
        "ax.legend(loc=\"best\")"
      ],
      "metadata": {
        "colab": {
          "base_uri": "https://localhost:8080/"
        },
        "id": "9ELSHXuH_mRy",
        "outputId": "43e5b9a1-b810-4b84-92fa-ec0ca5ae7f42"
      },
      "execution_count": 151,
      "outputs": [
        {
          "output_type": "execute_result",
          "data": {
            "text/plain": [
              "<matplotlib.legend.Legend at 0x7f265c2c5250>"
            ]
          },
          "metadata": {},
          "execution_count": 151
        }
      ]
    },
    {
      "cell_type": "code",
      "source": [
        "# legend 메서드에는 범례 위치를 지정하기 위한 loc 인자를 제공한다. "
      ],
      "metadata": {
        "id": "XqLidn4M_o6A"
      },
      "execution_count": 152,
      "outputs": []
    },
    {
      "cell_type": "code",
      "source": [
        "# legend 메서드의 문서에서 더 자세한 정보를 확인할 수 있다. ax.legend? 명령으로 확인할 수 있다."
      ],
      "metadata": {
        "id": "AsPfXI4R__Nz"
      },
      "execution_count": 153,
      "outputs": []
    },
    {
      "cell_type": "code",
      "source": [
        "# loc는 범례가 그래프에서 어디에 위치시킬지 지정해주는 인자다. 까다로운 사람이 아니라면 최대한 방해가 되지 않는 곳에 두는 \"best\" 옵션만으로 충분할 것이다. "
      ],
      "metadata": {
        "id": "6lffe5_xAGWc"
      },
      "execution_count": 154,
      "outputs": []
    },
    {
      "cell_type": "code",
      "source": [
        "# 범례에서 제외하고 싶은 요소가 있다면 label 인자를 넘기지 않거나 label=\"_nolegend_\" 옵션을 사용하면 된다."
      ],
      "metadata": {
        "id": "KRmf5j1IAPwB"
      },
      "execution_count": 155,
      "outputs": []
    },
    {
      "cell_type": "code",
      "source": [
        "# 9.1.4 주석과 그림 추가하기"
      ],
      "metadata": {
        "id": "waD-w_KdAXoG"
      },
      "execution_count": 156,
      "outputs": []
    },
    {
      "cell_type": "code",
      "source": [
        "# 일반적인 그래프에 추가적으로 글자나 화살표 혹은 다른 도형으로 자기만의 주석을 그리고 싶은 경우가 있다. "
      ],
      "metadata": {
        "id": "EaRWefeCAap5"
      },
      "execution_count": 157,
      "outputs": []
    },
    {
      "cell_type": "code",
      "source": [
        "# 주석과 글자는 text, arrow, annotate 함수를 이용해서 추가할 수 있다. text 함수는 그래프 내에 주어진 좌표 (x, y)에 부가적인 스타일로 글자를 그려준다. "
      ],
      "metadata": {
        "id": "166gju1WAtmA"
      },
      "execution_count": 158,
      "outputs": []
    },
    {
      "cell_type": "code",
      "source": [
        "# ax.text(x, y, \"Hello World!\",\n",
        "#         family=\"monospace\", fontsize=10)"
      ],
      "metadata": {
        "id": "WkIRpo4YA68-"
      },
      "execution_count": 159,
      "outputs": []
    },
    {
      "cell_type": "code",
      "source": [
        "# 주석은 글자와 화살표를 함께 써서 그릴 수 있는데, 예를 들어 야후! 파이낸스에서 얻은 2007년부터의 S&P 500 지수 데이터로 그래프를 생성하고 2008-2009년 사이에 있었던 재정위기 중 중요한 날짜를 주석으로 추가해보자. "
      ],
      "metadata": {
        "id": "Z30pNjkzC65P"
      },
      "execution_count": 160,
      "outputs": []
    },
    {
      "cell_type": "code",
      "source": [
        "# 주피터 노트북에 단일 셀 안에서 코드 예제를 실행하면 쉽게 그래프를 그릴 수 있다. 결과는 [그림 9-11]에서 확인할 수 있다. "
      ],
      "metadata": {
        "id": "Cs-7gvsqRBlK"
      },
      "execution_count": 161,
      "outputs": []
    },
    {
      "cell_type": "code",
      "source": [
        "# 이후는 CSV 파일을 읽어와야하기 때문에 vscode로 마저 진행하겠다."
      ],
      "metadata": {
        "id": "7hnlfIipSDTU"
      },
      "execution_count": 162,
      "outputs": []
    },
    {
      "cell_type": "code",
      "source": [
        "fig = plt.figure()\n",
        "ax = fig.add_subplot(1, 1, 1)\n",
        "\n",
        "rect = plt.Rectangle((0.2, 0.75), 0.4, 0.15, color=\"k\", alpha=0.3)\n",
        "circ = plt.Circle((0.7, 0.2), 0.15, color=\"b\", alpha=0.3)\n",
        "pgon = plt.Polygon([[0.15, 0.15], [0.35, 0.4], [0.2, 0.6]],\n",
        "                   color=\"g\", alpha=0.5)\n",
        "\n",
        "ax.add_patch(rect)\n",
        "ax.add_patch(circ)\n",
        "ax.add_patch(pgon)"
      ],
      "metadata": {
        "colab": {
          "base_uri": "https://localhost:8080/",
          "height": 396
        },
        "id": "HdnDU7-heKqU",
        "outputId": "c0eab0ef-2f3f-4114-94dc-7ac9fdd05561"
      },
      "execution_count": 163,
      "outputs": [
        {
          "output_type": "execute_result",
          "data": {
            "text/plain": [
              "<matplotlib.patches.Polygon at 0x7f265c2c40d0>"
            ]
          },
          "metadata": {},
          "execution_count": 163
        },
        {
          "output_type": "display_data",
          "data": {
            "text/plain": [
              "<Figure size 720x432 with 1 Axes>"
            ],
            "image/png": "[encoded data removed]"
          },
          "metadata": {
            "needs_background": "light"
          }
        }
      ]
    },
    {
      "cell_type": "code",
      "source": [
        "# vscode에서도 그래프가 보이지 않는 것들은 여기서 구현해보려고 한다."
      ],
      "metadata": {
        "id": "BxMfkB6KeLLB"
      },
      "execution_count": null,
      "outputs": []
    }
  ]
}
