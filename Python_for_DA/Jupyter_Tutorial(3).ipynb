{
  "nbformat": 4,
  "nbformat_minor": 0,
  "metadata": {
    "colab": {
      "name": "Jupyter Tutorial(3).ipynb",
      "provenance": [],
      "collapsed_sections": []
    },
    "kernelspec": {
      "name": "python3",
      "display_name": "Python 3"
    },
    "language_info": {
      "name": "python"
    }
  },
  "cells": [
    {
      "cell_type": "code",
      "execution_count": null,
      "metadata": {
        "id": "WezKbEiFQYCN"
      },
      "outputs": [],
      "source": [
        "# 2.2.6 클립보드에 있는 코드 실행하기"
      ]
    },
    {
      "cell_type": "code",
      "source": [
        "# 주피터 노트북을 사용하고 있다면 아무 코드 셀에나 코드를 붙여넣기 해서 실행할 수 있다. IPython 셸에서도 클립보드의 내용을 실행하는 것이 가능하다. \n",
        "# 다른 애플리케이션에서 사용 중인 다음 코드가 있다고 하자. "
      ],
      "metadata": {
        "id": "_ds1GkpK-WSw"
      },
      "execution_count": null,
      "outputs": []
    },
    {
      "cell_type": "code",
      "source": [
        "x = 5\n",
        "y = 7\n",
        "if x > 5:\n",
        "  x += 1\n",
        "\n",
        "  y = 8"
      ],
      "metadata": {
        "id": "312I-jqLQiP3"
      },
      "execution_count": null,
      "outputs": []
    },
    {
      "cell_type": "code",
      "source": [
        "# 이 경우 %paste나 %cpaste 매직함수를 사용할 수 있다. %paste는 클립보드에 있는 텍스트를 단일 블록으로 실행한다. "
      ],
      "metadata": {
        "id": "yxDWglrE-1ue"
      },
      "execution_count": null,
      "outputs": []
    },
    {
      "cell_type": "code",
      "source": [
        "%paste\n",
        "x = 5\n",
        "y = 7\n",
        "if x > 5:\n",
        "  x += 1\n",
        "\n",
        "  y = 8\n",
        "\n",
        "## -- End pasted text -- "
      ],
      "metadata": {
        "colab": {
          "base_uri": "https://localhost:8080/"
        },
        "id": "_enSpzqP_FX0",
        "outputId": "d69b6d91-a340-4465-8f0c-721eda809e49"
      },
      "execution_count": null,
      "outputs": [
        {
          "output_type": "stream",
          "name": "stderr",
          "text": [
            "UsageError: Line magic function `%paste` not found.\n"
          ]
        }
      ]
    },
    {
      "cell_type": "code",
      "source": [
        "# %cpaste는 %paste와 유사하지만 코드를 붙여 넣을 때 특수한 프롬프트를 제공한다.  "
      ],
      "metadata": {
        "id": "wauLEfVqABNo"
      },
      "execution_count": null,
      "outputs": []
    },
    {
      "cell_type": "code",
      "source": [
        "%cpaste"
      ],
      "metadata": {
        "colab": {
          "base_uri": "https://localhost:8080/"
        },
        "id": "hOhse2mYA7ro",
        "outputId": "867591de-077c-47da-b66d-0c71734c61cd"
      },
      "execution_count": null,
      "outputs": [
        {
          "output_type": "stream",
          "name": "stderr",
          "text": [
            "UsageError: Line magic function `%cpaste` not found.\n"
          ]
        }
      ]
    },
    {
      "cell_type": "code",
      "source": [
        "# 2.2.7 키보드 단축기\n",
        "# IPython은 이맥스 편집기나 유닉스 bash shell 사용자에게 친숙한 프롬프트 이동 단축키를 제공하며 이전에 입력한 셸의 명령어 히스토리를 사용할 수 있다. \n",
        "# 주피터 노트북은 편집과 이동에 관련된 단축키를 분리하여 제공한다. 단축키가 IPython보다 더 빠르게 진화하고 있으므로 주피터 노트북 메뉴에서 통합된 도움말을 살펴보기 권장한다."
      ],
      "metadata": {
        "id": "L1xhuYhCvBF2"
      },
      "execution_count": null,
      "outputs": []
    },
    {
      "cell_type": "code",
      "source": [
        "# 2.2.8 매직 명령어"
      ],
      "metadata": {
        "id": "yTYuC7fUxQwF"
      },
      "execution_count": null,
      "outputs": []
    },
    {
      "cell_type": "code",
      "source": [
        "# IPython은 파이썬 자체에는 존재하지 않는 \"매직\" 명령어라고 하는 여러 가지 특수한 명령어를 포함하고 있다. \n",
        "# 이 매직 명령어는 일반적인 작업이나 IPython 시스템의 동작을 쉽게 제어할 수 있도록 설계된 특수한 명령어다. 매직 명령어는 앞에 % 기호를 붙이는 형식이다. \n",
        "# 예를 들어 IPython에서 행령 곱셈 같은 코드가 실행된 시간을 측정하고 싶을 떄는 %timeit 매직함수를 이용해서 값을 얻어올 수 있다. "
      ],
      "metadata": {
        "id": "WQR1ofnAz_u0"
      },
      "execution_count": null,
      "outputs": []
    },
    {
      "cell_type": "code",
      "source": [
        "import numpy as np\n",
        "\n",
        "a = np.random.randn(100, 100)\n",
        "%timeit np.dot(a, a)"
      ],
      "metadata": {
        "colab": {
          "base_uri": "https://localhost:8080/"
        },
        "id": "EcpPSc5f3Hhw",
        "outputId": "c740aabf-d71e-4921-fe69-faef5e75c2ab"
      },
      "execution_count": null,
      "outputs": [
        {
          "output_type": "stream",
          "name": "stdout",
          "text": [
            "The slowest run took 94.47 times longer than the fastest. This could mean that an intermediate result is being cached.\n",
            "10000 loops, best of 5: 105 µs per loop\n"
          ]
        }
      ]
    },
    {
      "cell_type": "code",
      "source": [
        "# 매직 명령어는 IPython 시스템 안에서 실행되는 명령행 프로그램으로 볼 수 있는데, 많은 매직 명령어는 추가적인 옵션을 필요로 하며 ?를 이용해서 전체 옵션을 살펴볼 수 있다. "
      ],
      "metadata": {
        "id": "4RuC9Ok43MdT"
      },
      "execution_count": null,
      "outputs": []
    },
    {
      "cell_type": "code",
      "source": [
        "%debug?"
      ],
      "metadata": {
        "id": "9tZ866zP31OF"
      },
      "execution_count": null,
      "outputs": []
    },
    {
      "cell_type": "code",
      "source": [
        "# 매직함수와 같은 이름의 변수가 선언되어 있지 않다면 기본적으로 % 기호 없이도 매직함수를 사용할 수 있다. 이를 오토매직이라고 하는데, %automagic을 이용해서 이 기능을 켜거나 끌 수 있다.\n",
        "# 일부 매직함수는 파이썬 함수처럼 동작하며 결과를 변수에 대입할 수도 있다."
      ],
      "metadata": {
        "id": "PUdyMU0E36Yd"
      },
      "execution_count": null,
      "outputs": []
    },
    {
      "cell_type": "code",
      "source": [
        "%pwd"
      ],
      "metadata": {
        "colab": {
          "base_uri": "https://localhost:8080/",
          "height": 38
        },
        "id": "rkfjzR8O4Um_",
        "outputId": "f22212fc-28e8-42ef-b795-7bb65c26331c"
      },
      "execution_count": null,
      "outputs": [
        {
          "output_type": "execute_result",
          "data": {
            "text/plain": [
              "'/content'"
            ],
            "application/vnd.google.colaboratory.intrinsic+json": {
              "type": "string"
            }
          },
          "metadata": {},
          "execution_count": 12
        }
      ]
    },
    {
      "cell_type": "code",
      "source": [
        "foo = %pwd"
      ],
      "metadata": {
        "id": "ctwIV8Ww4V2X"
      },
      "execution_count": null,
      "outputs": []
    },
    {
      "cell_type": "code",
      "source": [
        "foo"
      ],
      "metadata": {
        "colab": {
          "base_uri": "https://localhost:8080/",
          "height": 38
        },
        "id": "GPI3kJVM4aUk",
        "outputId": "ad525e8f-f707-44fd-ab6e-2e682029ea9f"
      },
      "execution_count": null,
      "outputs": [
        {
          "output_type": "execute_result",
          "data": {
            "text/plain": [
              "'/content'"
            ],
            "application/vnd.google.colaboratory.intrinsic+json": {
              "type": "string"
            }
          },
          "metadata": {},
          "execution_count": 14
        }
      ]
    },
    {
      "cell_type": "code",
      "source": [
        "# IPython 도움말은 시스템에서 쉽게 접근할 수 있으니 %quickref나 %magic 명령을 이용해서 사용 가능한 모든 특수 명령어를 살펴보는 것도 좋다.\n",
        "# IPython에서 파이썬 개발을 하거나 대화형 컴퓨팅 환경을 생산적으로 활용할 수 있는 중요한 몇 가지 명령어를 요약해두었다. 페이지 58쪽"
      ],
      "metadata": {
        "id": "eWnUlVM84bs2"
      },
      "execution_count": null,
      "outputs": []
    },
    {
      "cell_type": "code",
      "source": [
        "# 2.2.9 matplotlib 통합\n",
        "# IPython이 분석 컴퓨팅 환경에서 널리 사용되고 있는 이유는 데이터 시각화를 위한 matplotlib이나 다른 사용자 인터페이스 라이브러리와 잘 통합되어 있기 때문이다. \n",
        "# %matplotlib 매직함수는 IPython 셸이나 주피터 노트북과 matplotlib 통합을 설정한다. \n",
        "# 이 기능을 실행하지 않으면 노트북의 경우 그래프가 화면에 나타나지 않거나 셸의 경우 세션의 제어권을 뺏기게 되므로 중요하다.\n",
        "# IPython 셸에서 %matplotlib을 실행하면 콘솔 세션을 방해받지 않고 여러 플롯 윈도우를 생성할 수 있게 된다."
      ],
      "metadata": {
        "id": "cJ0hdRWD489R"
      },
      "execution_count": null,
      "outputs": []
    },
    {
      "cell_type": "code",
      "source": [
        "%matplotlib "
      ],
      "metadata": {
        "colab": {
          "base_uri": "https://localhost:8080/"
        },
        "id": "BXsCRCdx83ri",
        "outputId": "9df4cd3f-d37f-4c9d-95b5-db9b5eef2266"
      },
      "execution_count": null,
      "outputs": [
        {
          "output_type": "stream",
          "name": "stdout",
          "text": [
            "Using matplotlib backend: agg\n"
          ]
        }
      ]
    },
    {
      "cell_type": "code",
      "source": [
        "# 주피터에서는 약간 다르다.\n",
        "%matplotlib inline"
      ],
      "metadata": {
        "id": "t4P7FNEj-hrH"
      },
      "execution_count": null,
      "outputs": []
    },
    {
      "cell_type": "code",
      "source": [
        "import matplotlib.pyplot as plt\n",
        "plt.plot(np.random.randn(50).cumsum())"
      ],
      "metadata": {
        "colab": {
          "base_uri": "https://localhost:8080/",
          "height": 283
        },
        "id": "XyX_TYSh-tc7",
        "outputId": "0e9383f6-b9d4-49e2-9e3f-799c6f9d2b2a"
      },
      "execution_count": null,
      "outputs": [
        {
          "output_type": "execute_result",
          "data": {
            "text/plain": [
              "[<matplotlib.lines.Line2D at 0x7fd539ed1910>]"
            ]
          },
          "metadata": {},
          "execution_count": 21
        },
        {
          "output_type": "display_data",
          "data": {
            "text/plain": [
              "<Figure size 432x288 with 1 Axes>"
            ],
            "image/png": "[encoded data removed]"
          },
          "metadata": {
            "needs_background": "light"
          }
        }
      ]
    },
    {
      "cell_type": "code",
      "source": [
        "# 2.3 파이썬 기초 - 파이썬 프로그래밍의 기초 개념과 원리"
      ],
      "metadata": {
        "id": "SWuzqwfj_Rkx"
      },
      "execution_count": null,
      "outputs": []
    },
    {
      "cell_type": "code",
      "source": [
        "# 2.3.1 시맨틱\n",
        "# 파이썬은 가독성과 명료성 그리고 명백함을 강조한다. 어떤 사람은 파이썬을 '실행 가능한 의사코드'라고 표현하기도 한다."
      ],
      "metadata": {
        "id": "m2XAP2_r4Pr3"
      },
      "execution_count": null,
      "outputs": []
    },
    {
      "cell_type": "code",
      "source": [
        "# 들여쓰기\n",
        "\n",
        "# 파이썬은 R, C++, 자바, 펄 같은 다른 많은 언어와는 다르게 중괄호대신 공백문자(탭이나 스페이스)를 사용해서 코드를 구조화한다.\n",
        "\n",
        "# for x in array:\n",
        "#  if x < pivot:\n",
        "#    less.append(x)\n",
        "#  else:\n",
        "#    greater.append(x)\n",
        "\n",
        "# 콜론은 코드 블록의 시작을 의미하며 블록이 끝날 때까지 블록 안에 있는 코드는 모두 같은 크기만큼 들여 써야 한다. "
      ],
      "metadata": {
        "id": "Lpq09Q394cCv"
      },
      "execution_count": null,
      "outputs": []
    },
    {
      "cell_type": "code",
      "source": [
        "# 또한 파이썬 문장은 세미콜론으로 끝낼 필요가 없다. 하지만 하나의 줄에서 여러 문장을 구분하기 위해서는 세미콜론을 사용한다. \n",
        "# a = 5; b = 6; c = 7\n",
        "# 한 줄에 여러 문장을 쓰는 것은 가독성을 해친다는 이유로 파이썬에서는 지양하는 습관이다. "
      ],
      "metadata": {
        "id": "SSjMGXmY6lBu"
      },
      "execution_count": null,
      "outputs": []
    },
    {
      "cell_type": "code",
      "source": [
        "# 모든 것은 객체!\n",
        "\n",
        "# 파이썬 언어의 중요한 특징 중 하나는 객체 모델의 일관성이다. 모든 숫자, 문자열, 자료구조, 함수, 클래스, 모듈 등은 파이썬 인터프리터에서 파이썬 객체라고 하는 어떤 '상자' 안에 저장된다.\n",
        "# 각 객체는 연관된 자료형(ex. 문자열, 함수 등)과 내부 데이터를 가지고 있다. 실제로 이 특징은 심지어는 함수마저도 하나의 객체로 간주함으로써 파이썬을 매우 유연한 언어로 만든다. "
      ],
      "metadata": {
        "id": "SBz5qxj979Sx"
      },
      "execution_count": null,
      "outputs": []
    },
    {
      "cell_type": "code",
      "source": [
        "# 주석\n",
        "# # 뒤에 오는 문자는 모두 파이썬 인터프리터에서 무시된다. 이를 이용해서 코드에 주석을 달 수 있다. 또한 코드를 지우지 않고 실행만 되지 않도록 남겨두고 싶을 때도 활용한다. "
      ],
      "metadata": {
        "id": "W_nIPC7x8PYv"
      },
      "execution_count": null,
      "outputs": []
    },
    {
      "cell_type": "code",
      "source": [
        "file_handle = \"foo\", \"bar\"\n",
        "results = []\n",
        "for line in file_handle:\n",
        "  # 아래 코드는 실행되지 않는다.\n",
        "  # if len(line) == 0:\n",
        "  #   continue\n",
        "  results.append(line.replace(\"foo\", \"bar\"))\n",
        "\n",
        "# 주석을 실행되는 코드 뒤에 두는 것을 선호하는 개발자들도 있는데 종종 유용한 경우가 있다.\n",
        "print(\"Reached this line\") # 여기까지 확인\n",
        " "
      ],
      "metadata": {
        "colab": {
          "base_uri": "https://localhost:8080/"
        },
        "id": "LkiocQYCEqyn",
        "outputId": "928bd67b-6686-4a64-e141-0387b7621c42"
      },
      "execution_count": null,
      "outputs": [
        {
          "output_type": "stream",
          "name": "stdout",
          "text": [
            "Reached this line\n"
          ]
        }
      ]
    },
    {
      "cell_type": "code",
      "source": [
        "# 함수와 객체 메서드 호출\n",
        "\n",
        "# 함수는 괄호와 0개 이상의 인자를 전달해서 호출할 수 있다. 반환되는 값은 선택적으로 변수에 대입할 수 있다. \n",
        "# result = f(x, y, z)\n",
        "# g()\n",
        "# 파이썬의 거의 모든 객체는 함수를 포함하고 있는데 이를 메서드라고 하며 객체의 내부 데이터에 접근할 수 있다. 메서드는 다음 문법으로 호출할 수 있다. \n",
        "# obj.some_method(x, y, z)\n",
        "# 함수는 순서별 인자와 키워드 인자를 동시에 받을 수 있다."
      ],
      "metadata": {
        "id": "dW-XgfbcGLtv"
      },
      "execution_count": null,
      "outputs": []
    },
    {
      "cell_type": "code",
      "source": [
        "# 변수와 인자 전달\n",
        "\n",
        "# 파이썬에서 변수(혹은 이름)에 값을 대입하면 대입 연산자 오른쪽에 있는 객체에 대한 참조를 생성하게 된다. 정수가 담긴 리스트를 생각해보자."
      ],
      "metadata": {
        "id": "SFw4BN2CG5D4"
      },
      "execution_count": null,
      "outputs": []
    },
    {
      "cell_type": "code",
      "source": [
        "a = [1, 2, 3]"
      ],
      "metadata": {
        "id": "UA7OfXX2MuaW"
      },
      "execution_count": null,
      "outputs": []
    },
    {
      "cell_type": "code",
      "source": [
        "b = a"
      ],
      "metadata": {
        "id": "EUeBbpfgM7az"
      },
      "execution_count": null,
      "outputs": []
    },
    {
      "cell_type": "code",
      "source": [
        "a.append(4)"
      ],
      "metadata": {
        "id": "o76FVQiiM9Q0"
      },
      "execution_count": null,
      "outputs": []
    },
    {
      "cell_type": "code",
      "source": [
        "b"
      ],
      "metadata": {
        "colab": {
          "base_uri": "https://localhost:8080/"
        },
        "id": "ifJu_hjcM_O5",
        "outputId": "6a343608-9896-48bb-d314-00c3e23156fa"
      },
      "execution_count": null,
      "outputs": [
        {
          "output_type": "execute_result",
          "data": {
            "text/plain": [
              "[1, 2, 3, 4]"
            ]
          },
          "metadata": {},
          "execution_count": 21
        }
      ]
    },
    {
      "cell_type": "code",
      "source": [
        "# a를 b라는 변수에 대입한다고 가정하자. 어떤 언어에서는 이렇게 대입하면 [1, 2, 3]이라는 데이터가 복사된다. 파이썬에서는 a, b가 실제로는 같은 객체인 리스트 [1, 2, 3]을 가리키고 있다. \n",
        "# 이를 확인하기 위해 a에 원소를 추가한 다음 b를 확인하면 [1, 2, 3, 4] 리스트가 출력되는 것을 알 수 있다."
      ],
      "metadata": {
        "id": "Mryn3x57NAds"
      },
      "execution_count": null,
      "outputs": []
    },
    {
      "cell_type": "code",
      "source": [
        "# 파이썬에서 참조에 대한 의미와 언제, 어떻게, 왜 데이터가 복사되지지 이해하는 것은 대규모 데이터셋을 다룰 때 특히 중요하다. \n",
        "# 변수에 값을 할당하는 것은 이름을 객체에 연결하는 것이므로 바인딩이라고 부른다. 값이 할당된 변수 이름을 때때로 바운드 변수라고 부르기도 한다. \n",
        "# 함수에 객체를 인자로 넘기면 새로운 지역 변수가 생성되고 원래 객체를 복사하지 않고 참조만 하게 된다. \n",
        "# 만일 함수 안에 있는 어떤 변수에 새로운 객체를 연결한다면 함수 바깥에는 영향을 끼치지 않는다. 그러므로 함수에서 인자의 내부 값을 변경하는 것이 가능하다. "
      ],
      "metadata": {
        "id": "2IUywZdJON1c"
      },
      "execution_count": null,
      "outputs": []
    },
    {
      "cell_type": "code",
      "source": [
        "def append_element(some_list, element):\n",
        "  some_list.append(element)"
      ],
      "metadata": {
        "id": "HDk3IQMsDAk4"
      },
      "execution_count": null,
      "outputs": []
    },
    {
      "cell_type": "code",
      "source": [
        "data = [1, 2, 3]"
      ],
      "metadata": {
        "id": "8o1sVmZEDKza"
      },
      "execution_count": null,
      "outputs": []
    },
    {
      "cell_type": "code",
      "source": [
        "append_element(data, 4)"
      ],
      "metadata": {
        "id": "sgIY96IvDNrE"
      },
      "execution_count": null,
      "outputs": []
    },
    {
      "cell_type": "code",
      "source": [
        "data"
      ],
      "metadata": {
        "colab": {
          "base_uri": "https://localhost:8080/"
        },
        "id": "lN8iyBzXDP_5",
        "outputId": "484ba21c-c38c-4e22-e2d5-b1999655db28"
      },
      "execution_count": null,
      "outputs": [
        {
          "output_type": "execute_result",
          "data": {
            "text/plain": [
              "[1, 2, 3, 4]"
            ]
          },
          "metadata": {},
          "execution_count": 5
        }
      ]
    },
    {
      "cell_type": "code",
      "source": [
        "# 함수의 실행결과는 위와 같다."
      ],
      "metadata": {
        "id": "kbjOFjsrDQ5x"
      },
      "execution_count": null,
      "outputs": []
    },
    {
      "cell_type": "code",
      "source": [
        "# 동적 참조와 강한 타입\n",
        "# 자바나 C++ 같은 컴파일 언어와는 달리 파이썬에서는 객체 참조에 타입이 관여하지 않는다. 아래 코드는 전혀 문제되지 않는다. "
      ],
      "metadata": {
        "id": "xigV6tk-DWz7"
      },
      "execution_count": null,
      "outputs": []
    },
    {
      "cell_type": "code",
      "source": [
        "a = 5"
      ],
      "metadata": {
        "id": "CrWNnr99KvbZ"
      },
      "execution_count": null,
      "outputs": []
    },
    {
      "cell_type": "code",
      "source": [
        "type(a)"
      ],
      "metadata": {
        "colab": {
          "base_uri": "https://localhost:8080/"
        },
        "id": "ZSoRghkYKwbA",
        "outputId": "9b1a469d-c5ad-42cf-9c59-23eba95fe980"
      },
      "execution_count": null,
      "outputs": [
        {
          "output_type": "execute_result",
          "data": {
            "text/plain": [
              "int"
            ]
          },
          "metadata": {},
          "execution_count": 3
        }
      ]
    },
    {
      "cell_type": "code",
      "source": [
        "a = \"foo\""
      ],
      "metadata": {
        "id": "I9Xnot-VKxpH"
      },
      "execution_count": null,
      "outputs": []
    },
    {
      "cell_type": "code",
      "source": [
        "type(a)"
      ],
      "metadata": {
        "colab": {
          "base_uri": "https://localhost:8080/"
        },
        "id": "mFhHASUnK1rk",
        "outputId": "f9e18c26-d728-461a-cef2-24b04c627c61"
      },
      "execution_count": null,
      "outputs": [
        {
          "output_type": "execute_result",
          "data": {
            "text/plain": [
              "str"
            ]
          },
          "metadata": {},
          "execution_count": 5
        }
      ]
    },
    {
      "cell_type": "code",
      "source": [
        "# 변수는 특정한 네임스페이스 안에 존재하는 객체에 대한 이름이며 자료형에 대한 정보는 객체 자체에 있다."
      ],
      "metadata": {
        "id": "6OdoIbeiLN9V"
      },
      "execution_count": null,
      "outputs": []
    },
    {
      "cell_type": "code",
      "source": [
        "\"5\" + 5"
      ],
      "metadata": {
        "colab": {
          "base_uri": "https://localhost:8080/",
          "height": 173
        },
        "id": "TLspBjEtLVFM",
        "outputId": "6cb8f770-69d9-40df-b52d-1b7b8c9577ab"
      },
      "execution_count": null,
      "outputs": [
        {
          "output_type": "error",
          "ename": "TypeError",
          "evalue": "ignored",
          "traceback": [
            "\u001b[0;31m---------------------------------------------------------------------------\u001b[0m",
            "\u001b[0;31mTypeError\u001b[0m                                 Traceback (most recent call last)",
            "\u001b[0;32m<ipython-input-7-7fe5aa79f268>\u001b[0m in \u001b[0;36m<module>\u001b[0;34m()\u001b[0m\n\u001b[0;32m----> 1\u001b[0;31m \u001b[0;34m\"5\"\u001b[0m \u001b[0;34m+\u001b[0m \u001b[0;36m5\u001b[0m\u001b[0;34m\u001b[0m\u001b[0;34m\u001b[0m\u001b[0m\n\u001b[0m",
            "\u001b[0;31mTypeError\u001b[0m: can only concatenate str (not \"int\") to str"
          ]
        }
      ]
    },
    {
      "cell_type": "code",
      "source": [
        "# 비주얼베이직 같은 언어에서는 문자열 \"5\"가 묵시적으로 정수형으로 변환(캐스팅)되어서 10이라는 결과를 낸다. 자바스크립트 같은 언어에서는 정수 5가 문자열로 변환되어 \"55\" 라는 문자열을 반환한다.\n",
        "# 이런 측면에서 볼 때 파이썬에서 모든 객체는 특정한 자료형(또는 클래스)을 가지며 다음과 같은 어떤 명백한 상황에서만 묵시적인 변환을 수행하는 자료형을 구분하는 강한 타입의 언어라고 하는 것이 맞다."
      ],
      "metadata": {
        "id": "MAFHRR9WLree"
      },
      "execution_count": null,
      "outputs": []
    },
    {
      "cell_type": "code",
      "source": [
        "a = 4.5"
      ],
      "metadata": {
        "id": "H2dKxyFCL8AV"
      },
      "execution_count": null,
      "outputs": []
    },
    {
      "cell_type": "code",
      "source": [
        "b = 2"
      ],
      "metadata": {
        "id": "opM4DOSgMu68"
      },
      "execution_count": null,
      "outputs": []
    },
    {
      "cell_type": "code",
      "source": [
        "print(\"a is {0}, b is {1}\".format(type(a), type(b)))"
      ],
      "metadata": {
        "colab": {
          "base_uri": "https://localhost:8080/"
        },
        "id": "crxC2ap4Mv1Q",
        "outputId": "1f3ac297-c3aa-425b-bf2b-a62ad390bb0a"
      },
      "execution_count": null,
      "outputs": [
        {
          "output_type": "stream",
          "name": "stdout",
          "text": [
            "a is <class 'float'>, b is <class 'int'>\n"
          ]
        }
      ]
    },
    {
      "cell_type": "code",
      "source": [
        "a / b"
      ],
      "metadata": {
        "colab": {
          "base_uri": "https://localhost:8080/"
        },
        "id": "P8vh4G2hNTQ9",
        "outputId": "4a3b3b01-258d-4ba2-ef40-9b30633a92ad"
      },
      "execution_count": null,
      "outputs": [
        {
          "output_type": "execute_result",
          "data": {
            "text/plain": [
              "2.25"
            ]
          },
          "metadata": {},
          "execution_count": 16
        }
      ]
    },
    {
      "cell_type": "code",
      "source": [
        "# 객체의 자료형을 아는 것은 중요하며 다양한 종류의 입력을 처리할 수 있는 함수를 작성할 때 유용하다. isinstance 함수를 이용하면 어떤 객체가 무슨 자료형인지 검사할 수 있다. "
      ],
      "metadata": {
        "id": "9Cz7bknKNmed"
      },
      "execution_count": null,
      "outputs": []
    },
    {
      "cell_type": "code",
      "source": [
        "a = 5"
      ],
      "metadata": {
        "id": "ogM_l0sqNyCw"
      },
      "execution_count": null,
      "outputs": []
    },
    {
      "cell_type": "code",
      "source": [
        "isinstance(a, int)"
      ],
      "metadata": {
        "colab": {
          "base_uri": "https://localhost:8080/"
        },
        "id": "4YBZCyHRNzTF",
        "outputId": "60cf8194-65cb-4e1a-f7b3-fcdf4e7082f6"
      },
      "execution_count": null,
      "outputs": [
        {
          "output_type": "execute_result",
          "data": {
            "text/plain": [
              "True"
            ]
          },
          "metadata": {},
          "execution_count": 19
        }
      ]
    },
    {
      "cell_type": "code",
      "source": [
        "# isinstance는 튜플을 넘겨서 객체의 자료형이 주어진 튜플 중 하나인지 검사할 수도 있다."
      ],
      "metadata": {
        "id": "N3YPOddzN1_v"
      },
      "execution_count": null,
      "outputs": []
    },
    {
      "cell_type": "code",
      "source": [
        "a = 5; b = 4.5"
      ],
      "metadata": {
        "id": "Imeh__WNN8bG"
      },
      "execution_count": null,
      "outputs": []
    },
    {
      "cell_type": "code",
      "source": [
        "isinstance(a, (int, float))"
      ],
      "metadata": {
        "colab": {
          "base_uri": "https://localhost:8080/"
        },
        "id": "lBnN1RCHOCEK",
        "outputId": "fa603dc5-a6d9-4973-90ae-3dd71629a5ae"
      },
      "execution_count": null,
      "outputs": [
        {
          "output_type": "execute_result",
          "data": {
            "text/plain": [
              "True"
            ]
          },
          "metadata": {},
          "execution_count": 22
        }
      ]
    },
    {
      "cell_type": "code",
      "source": [
        "isinstance(b, (int, float))"
      ],
      "metadata": {
        "colab": {
          "base_uri": "https://localhost:8080/"
        },
        "id": "CVlRELFkOFBB",
        "outputId": "cf8d726f-2326-4ba3-b6c7-bf13f1b67590"
      },
      "execution_count": null,
      "outputs": [
        {
          "output_type": "execute_result",
          "data": {
            "text/plain": [
              "True"
            ]
          },
          "metadata": {},
          "execution_count": 23
        }
      ]
    },
    {
      "cell_type": "code",
      "source": [
        "# 속성과 메서드"
      ],
      "metadata": {
        "id": "qtWzEd90OIuL"
      },
      "execution_count": null,
      "outputs": []
    },
    {
      "cell_type": "code",
      "source": [
        "# 파이썬에서 객체는 일반적으로 속성(객체 내부에 저장되는 다른 파이썬 객체)과 메서드(객체의 내부 데이터에 접근할 수 있는 함수)를 가진다. 속성과 메서드는 obj.attribute_name 문법으로 접근할 수 있다."
      ],
      "metadata": {
        "id": "jBiKh5l-Ombi"
      },
      "execution_count": null,
      "outputs": []
    },
    {
      "cell_type": "code",
      "source": [
        "a = \"foo\""
      ],
      "metadata": {
        "id": "ezvxbpnbO-9k"
      },
      "execution_count": null,
      "outputs": []
    },
    {
      "cell_type": "code",
      "source": [
        "# a.<Tab> : 탭 키를 누르면 자동완성이 됨- 주피터에서 가능"
      ],
      "metadata": {
        "id": "YdZwsc66PAx7"
      },
      "execution_count": null,
      "outputs": []
    },
    {
      "cell_type": "code",
      "source": [
        "getattr(a, \"split\")"
      ],
      "metadata": {
        "colab": {
          "base_uri": "https://localhost:8080/"
        },
        "id": "oP-PeSQoPB3R",
        "outputId": "7342a2a5-5389-48d8-e12d-2301d08fcce6"
      },
      "execution_count": null,
      "outputs": [
        {
          "output_type": "execute_result",
          "data": {
            "text/plain": [
              "<function str.split>"
            ]
          },
          "metadata": {},
          "execution_count": 34
        }
      ]
    },
    {
      "cell_type": "code",
      "source": [
        "# 다른 언어에서는 이름으로 객체에 접근하는 것을 \"리플렉션\"이라고 한다. 이 책에서는 getattr 함수와 이와 관련 있는 hasattr와 setattr 함수를 그다지 사용하진 않는다.\n",
        "# 이 함수들은 범용적이고 재사용이 가능한 코드를 작성할 때 아주 유용하다. "
      ],
      "metadata": {
        "id": "saShSvhvPwan"
      },
      "execution_count": null,
      "outputs": []
    },
    {
      "cell_type": "code",
      "source": [
        "# 덕 타이핑"
      ],
      "metadata": {
        "id": "0vjm20YJXZ_Z"
      },
      "execution_count": null,
      "outputs": []
    },
    {
      "cell_type": "code",
      "source": [
        "# 객체의 자료형에는 관심이 없고 그 객체가 어떤 메서드나 행동을 지원하는지만 알고 싶은 경우가 있다. 이를 \"덕 타이핑\"이라고 부른다.\n",
        "# \"만일 오리처럼 걷고 오리처럼 꽥꽥 운다면 그것은 오리다\" 라는 의미로 지어진 이름이다. \n",
        "# 예를 들어 어떤 객체가 이터레이터를 구현했다면 순회가 가능한 객체인지 검증할 수 있다. 이는 대부분의 객체의 경우 __iter__라는 \"매직 메서드\"를 가지고 있는지 확인하면 된다. \n",
        "# 좀 더 나은 방법은 iter 함수를 이용해서 검사하는 것이다. "
      ],
      "metadata": {
        "id": "0d3BKW6kX1U4"
      },
      "execution_count": null,
      "outputs": []
    },
    {
      "cell_type": "code",
      "source": [
        "def isiterable(obj):\n",
        "  try:\n",
        "    iter(obj)\n",
        "    return True\n",
        "  except TypeError: # iterable 객체 아님\n",
        "    return False"
      ],
      "metadata": {
        "id": "ZOXN6ffbbVpx"
      },
      "execution_count": null,
      "outputs": []
    },
    {
      "cell_type": "code",
      "source": [
        "isiterable(\"a string\")"
      ],
      "metadata": {
        "colab": {
          "base_uri": "https://localhost:8080/"
        },
        "id": "31dt5sxjgA5d",
        "outputId": "c50d3a95-b293-4c1b-d3e6-66b45711b9ae"
      },
      "execution_count": null,
      "outputs": [
        {
          "output_type": "execute_result",
          "data": {
            "text/plain": [
              "True"
            ]
          },
          "metadata": {},
          "execution_count": 40
        }
      ]
    },
    {
      "cell_type": "code",
      "source": [
        "isiterable([1, 2, 3])"
      ],
      "metadata": {
        "colab": {
          "base_uri": "https://localhost:8080/"
        },
        "id": "rdFMH0r5gVtC",
        "outputId": "89b2b0d6-92ce-4f34-d067-4c5e4e44e749"
      },
      "execution_count": null,
      "outputs": [
        {
          "output_type": "execute_result",
          "data": {
            "text/plain": [
              "True"
            ]
          },
          "metadata": {},
          "execution_count": 41
        }
      ]
    },
    {
      "cell_type": "code",
      "source": [
        "isiterable(5)"
      ],
      "metadata": {
        "colab": {
          "base_uri": "https://localhost:8080/"
        },
        "id": "ske9ieU0gZSo",
        "outputId": "597db848-2ebb-418f-963d-74e90666321a"
      },
      "execution_count": null,
      "outputs": [
        {
          "output_type": "execute_result",
          "data": {
            "text/plain": [
              "False"
            ]
          },
          "metadata": {},
          "execution_count": 42
        }
      ]
    },
    {
      "cell_type": "code",
      "source": [
        "# 보통은 리스트나 튜플, ndarray처럼 순차적인 자료구조를 다루는 함수를 작성할 때 주로 사용하며 이터레이터를 처리할 때도 사용한다. \n",
        "# 먼저 객체가 리스트(또는 NumPy 배열)인지 검사해서 그렇지 않을 경우 인자를 변환해줄 수 있다."
      ],
      "metadata": {
        "id": "4_ogcl8mgbBI"
      },
      "execution_count": null,
      "outputs": []
    },
    {
      "cell_type": "code",
      "source": [
        "x = [1, 2, 3]\n",
        "\n",
        "if not isinstance(x, list) and isiterable(x):\n",
        "  x = list(x)"
      ],
      "metadata": {
        "id": "-scUHav-iM_7"
      },
      "execution_count": null,
      "outputs": []
    },
    {
      "cell_type": "code",
      "source": [
        "# 모듈 임포트"
      ],
      "metadata": {
        "id": "oy7V2TYiiWMV"
      },
      "execution_count": null,
      "outputs": []
    },
    {
      "cell_type": "code",
      "source": [
        "# 파이썬에서 모듈은 간단히 파이썬 코드가 담긴 .py 파일이다. 다음과 같은 모듈이 있다고 하자. "
      ],
      "metadata": {
        "id": "bb0mCV1PtBr4"
      },
      "execution_count": null,
      "outputs": []
    },
    {
      "cell_type": "code",
      "source": [
        "# some_module.py\n",
        "PI = 3.14159\n",
        "\n",
        "def f(x):\n",
        "  return x + 2\n",
        "\n",
        "def g(a, b):\n",
        "  return a + b"
      ],
      "metadata": {
        "id": "zeIBxIentJPV"
      },
      "execution_count": null,
      "outputs": []
    },
    {
      "cell_type": "code",
      "source": [
        "# some_module.py에 정의된 변수와 함수에 접근하려면 같은 디렉터리에 있는 파일에서 다음과 같이 작성한다."
      ],
      "metadata": {
        "id": "gs8Pl29AtMwD"
      },
      "execution_count": null,
      "outputs": []
    },
    {
      "cell_type": "code",
      "source": [
        "# 코랩에서 작업하기 때문에 코드 각주처리하겠다.\n",
        "# import some_module\n",
        "# result = some_module.f(5)\n",
        "# pi = some_module.PI"
      ],
      "metadata": {
        "id": "AFTIHtLKtkR1"
      },
      "execution_count": null,
      "outputs": []
    },
    {
      "cell_type": "code",
      "source": [
        "# 또는 다음과 같이 작성한다."
      ],
      "metadata": {
        "id": "xn5QwTf_u8XY"
      },
      "execution_count": null,
      "outputs": []
    },
    {
      "cell_type": "code",
      "source": [
        "# from some_module import f, g, PI\n",
        "# result = g(5, PI)"
      ],
      "metadata": {
        "id": "1VavV7egu-8g"
      },
      "execution_count": null,
      "outputs": []
    },
    {
      "cell_type": "code",
      "source": [
        "# as 예약어를 사용하면 모듈을 다른 이름으로 임포트할 수 있다."
      ],
      "metadata": {
        "id": "eWOo7B59wI6I"
      },
      "execution_count": null,
      "outputs": []
    },
    {
      "cell_type": "code",
      "source": [
        "# import some_module as sm\n",
        "# from some_module import PI as pi, g as gf\n",
        "# r1 = sm.f(pi)\n",
        "# r2 = gf(6, pi)"
      ],
      "metadata": {
        "id": "sffn0akaw5KM"
      },
      "execution_count": null,
      "outputs": []
    },
    {
      "cell_type": "code",
      "source": [
        "# 이항 연산자와 비교문"
      ],
      "metadata": {
        "id": "9ODX_XLLw71m"
      },
      "execution_count": null,
      "outputs": []
    },
    {
      "cell_type": "code",
      "source": [
        "# 이항 산술 연산자와 비교 연산자는 우리가 일반적으로 생각하는 것과 별로 다르지 않다."
      ],
      "metadata": {
        "id": "4VEkaiXV06-8"
      },
      "execution_count": null,
      "outputs": []
    },
    {
      "cell_type": "code",
      "source": [
        "5 - 7"
      ],
      "metadata": {
        "colab": {
          "base_uri": "https://localhost:8080/"
        },
        "id": "qb6jyLDl1XFc",
        "outputId": "4b3a5802-1e48-4080-c1f2-5ef9ffbe613e"
      },
      "execution_count": null,
      "outputs": [
        {
          "output_type": "execute_result",
          "data": {
            "text/plain": [
              "-2"
            ]
          },
          "metadata": {},
          "execution_count": 16
        }
      ]
    },
    {
      "cell_type": "code",
      "source": [
        "12 + 21.5"
      ],
      "metadata": {
        "colab": {
          "base_uri": "https://localhost:8080/"
        },
        "id": "lQc-Z50R1YNg",
        "outputId": "a098654a-8b54-4e48-c4aa-2e125cef6b1a"
      },
      "execution_count": null,
      "outputs": [
        {
          "output_type": "execute_result",
          "data": {
            "text/plain": [
              "33.5"
            ]
          },
          "metadata": {},
          "execution_count": 17
        }
      ]
    },
    {
      "cell_type": "code",
      "source": [
        "5 <= 2"
      ],
      "metadata": {
        "colab": {
          "base_uri": "https://localhost:8080/"
        },
        "id": "Z3fRpNAn1ZOD",
        "outputId": "39dcf1fb-f791-4bb2-b524-c60c6464a5f6"
      },
      "execution_count": null,
      "outputs": [
        {
          "output_type": "execute_result",
          "data": {
            "text/plain": [
              "False"
            ]
          },
          "metadata": {},
          "execution_count": 18
        }
      ]
    },
    {
      "cell_type": "code",
      "source": [
        "# 파이썬에서 사용 가능한 이항 연산자는 p.69 [표 2-3]을 참조하자.\n",
        "# 두 참조 변수가 같은 객체를 가리키고 있는지 검사하려면 is 예약어를 사용한다. \n",
        "# is not 을 사용하면 두 객체가 같지 않은지 검사할 수 있다."
      ],
      "metadata": {
        "id": "LjiZSIzV1asG"
      },
      "execution_count": null,
      "outputs": []
    },
    {
      "cell_type": "code",
      "source": [
        "a = [1, 2, 3]"
      ],
      "metadata": {
        "id": "_UsuM7-65u3Y"
      },
      "execution_count": null,
      "outputs": []
    },
    {
      "cell_type": "code",
      "source": [
        "b = a"
      ],
      "metadata": {
        "id": "c2VQiWxh5wx3"
      },
      "execution_count": null,
      "outputs": []
    },
    {
      "cell_type": "code",
      "source": [
        "c = list(a)"
      ],
      "metadata": {
        "id": "1ImeDovg5xNM"
      },
      "execution_count": null,
      "outputs": []
    },
    {
      "cell_type": "code",
      "source": [
        "a is b"
      ],
      "metadata": {
        "colab": {
          "base_uri": "https://localhost:8080/"
        },
        "id": "sc5_mBBv5y42",
        "outputId": "12712639-8dd3-4aa4-d0ad-89b5cb17df9c"
      },
      "execution_count": null,
      "outputs": [
        {
          "output_type": "execute_result",
          "data": {
            "text/plain": [
              "True"
            ]
          },
          "metadata": {},
          "execution_count": 23
        }
      ]
    },
    {
      "cell_type": "code",
      "source": [
        "a is not c"
      ],
      "metadata": {
        "colab": {
          "base_uri": "https://localhost:8080/"
        },
        "id": "tq9ECiPA50Wb",
        "outputId": "e0006386-75a8-4f3e-fd7b-f9afa416af82"
      },
      "execution_count": null,
      "outputs": [
        {
          "output_type": "execute_result",
          "data": {
            "text/plain": [
              "True"
            ]
          },
          "metadata": {},
          "execution_count": 24
        }
      ]
    },
    {
      "cell_type": "code",
      "source": [
        "# list는 항상 새로운 파이썬 리스트를 생성하므로 c는 a와 구별된다는 점을 명심하자.\n",
        "# is로 비교하는 것과 == 연산자로 비교하는 것은 같지 않다. 이 경우 == 연산자의 결과는 다음과 같다. "
      ],
      "metadata": {
        "id": "NKqKm7Zr51mQ"
      },
      "execution_count": null,
      "outputs": []
    },
    {
      "cell_type": "code",
      "source": [
        "a == c"
      ],
      "metadata": {
        "colab": {
          "base_uri": "https://localhost:8080/"
        },
        "id": "qPSX1Qw757eq",
        "outputId": "e6fbd631-364e-47ce-fea9-691790e21b14"
      },
      "execution_count": null,
      "outputs": [
        {
          "output_type": "execute_result",
          "data": {
            "text/plain": [
              "True"
            ]
          },
          "metadata": {},
          "execution_count": 28
        }
      ]
    },
    {
      "cell_type": "code",
      "source": [
        "# is와 is not은 변수가 None인지 검사하기 위해 흔히 사용하는데, None 인스턴스는 하나만 존재하기 때문이다."
      ],
      "metadata": {
        "id": "tTwLUs566Lzx"
      },
      "execution_count": null,
      "outputs": []
    },
    {
      "cell_type": "code",
      "source": [
        "a = None"
      ],
      "metadata": {
        "id": "lVfXS3YN6ofe"
      },
      "execution_count": null,
      "outputs": []
    },
    {
      "cell_type": "code",
      "source": [
        "a is None"
      ],
      "metadata": {
        "colab": {
          "base_uri": "https://localhost:8080/"
        },
        "id": "dV-UexZK6tBH",
        "outputId": "83d7861b-b877-4b11-c413-eda3b695d986"
      },
      "execution_count": null,
      "outputs": [
        {
          "output_type": "execute_result",
          "data": {
            "text/plain": [
              "True"
            ]
          },
          "metadata": {},
          "execution_count": 31
        }
      ]
    },
    {
      "cell_type": "code",
      "source": [
        "# 뮤터블, 이뮤터블 객체"
      ],
      "metadata": {
        "id": "DPocS0O56ujn"
      },
      "execution_count": null,
      "outputs": []
    },
    {
      "cell_type": "code",
      "source": [
        "# 파이썬에서 리스트, 사전, NumPy 배열 또는 사용자 정의 클래스 같은 대부분의 객체는 변경 가능하다(뮤터블). 이 말은 객체나 값의 내용을 바꿀 수 있다는 뜻이다. "
      ],
      "metadata": {
        "id": "r8dXhTs89CLl"
      },
      "execution_count": null,
      "outputs": []
    },
    {
      "cell_type": "code",
      "source": [
        "a_list = [\"foo\", 2, [4, 5]]"
      ],
      "metadata": {
        "id": "QWU-idBr9bJ8"
      },
      "execution_count": null,
      "outputs": []
    },
    {
      "cell_type": "code",
      "source": [
        "a_list[2] = (3, 4)"
      ],
      "metadata": {
        "id": "XhYUasPW_I-I"
      },
      "execution_count": null,
      "outputs": []
    },
    {
      "cell_type": "code",
      "source": [
        "a_list"
      ],
      "metadata": {
        "colab": {
          "base_uri": "https://localhost:8080/"
        },
        "id": "iSXRlbOg_MNt",
        "outputId": "bc69640f-1c41-4eb3-dff1-d42130bdba66"
      },
      "execution_count": null,
      "outputs": [
        {
          "output_type": "execute_result",
          "data": {
            "text/plain": [
              "['foo', 2, (3, 4)]"
            ]
          },
          "metadata": {},
          "execution_count": 36
        }
      ]
    },
    {
      "cell_type": "code",
      "source": [
        "# 문자열이나 튜플은 변경 불가능하다(이뮤터블)."
      ],
      "metadata": {
        "id": "wmFI4fCD_NQR"
      },
      "execution_count": null,
      "outputs": []
    },
    {
      "cell_type": "code",
      "source": [
        "a_tuple = (3, 5, (4, 5))"
      ],
      "metadata": {
        "id": "6fveG9aH_Ziv"
      },
      "execution_count": null,
      "outputs": []
    },
    {
      "cell_type": "code",
      "source": [
        "a_tuple[1] = \"four\""
      ],
      "metadata": {
        "colab": {
          "base_uri": "https://localhost:8080/",
          "height": 173
        },
        "id": "_IMnBdPXBdvo",
        "outputId": "e02458a5-97f8-43c9-b6a9-8a2e5b64d040"
      },
      "execution_count": null,
      "outputs": [
        {
          "output_type": "error",
          "ename": "TypeError",
          "evalue": "ignored",
          "traceback": [
            "\u001b[0;31m---------------------------------------------------------------------------\u001b[0m",
            "\u001b[0;31mTypeError\u001b[0m                                 Traceback (most recent call last)",
            "\u001b[0;32m<ipython-input-39-cd2a018a7529>\u001b[0m in \u001b[0;36m<module>\u001b[0;34m()\u001b[0m\n\u001b[0;32m----> 1\u001b[0;31m \u001b[0ma_tuple\u001b[0m\u001b[0;34m[\u001b[0m\u001b[0;36m1\u001b[0m\u001b[0;34m]\u001b[0m \u001b[0;34m=\u001b[0m \u001b[0;34m\"four\"\u001b[0m\u001b[0;34m\u001b[0m\u001b[0;34m\u001b[0m\u001b[0m\n\u001b[0m",
            "\u001b[0;31mTypeError\u001b[0m: 'tuple' object does not support item assignment"
          ]
        }
      ]
    },
    {
      "cell_type": "code",
      "source": [
        "# 객체는 변경할 수 있으니 언제든지 변경해도 된다는 의미는 아님을 기억하자. \n",
        "# 그런 방식의 사용은 프로그래밍에서 부작용을 유발한다.\n",
        "# 어떤 함수를 작성할 때 발생할 수 있는 부작용에 대해 함수의 문서나 주석으로 명시적으로 남겨두어야 한다. \n",
        "# 가능하면 변경 가능한 객체를 많이 사용하더라도 부작용을 피하고 불역성을 잘 활용하기 추천한다."
      ],
      "metadata": {
        "id": "lE8MnDt8Bgol"
      },
      "execution_count": null,
      "outputs": []
    },
    {
      "cell_type": "code",
      "source": [
        "# 2.3.2 스칼라형"
      ],
      "metadata": {
        "id": "60E0EllLBpdJ"
      },
      "execution_count": null,
      "outputs": []
    },
    {
      "cell_type": "code",
      "source": [
        "# 파이썬은 숫자 데이터와 문자열, 불리언값(True or False) 그리고 날짜와 시간을 다룰 수 있는 몇몇 내장 자료형을 제공한다. 이런 '단일 값'을 담는 자료형을 스칼라 타입이라고 한다."
      ],
      "metadata": {
        "id": "-Pp0e7upwTPb"
      },
      "execution_count": null,
      "outputs": []
    },
    {
      "cell_type": "code",
      "source": [
        "# 표준 파이썬 스칼라 자료형\n",
        "# None : 파이썬의 null 값(하나의 유일한 None 인스턴스만 존재한다.)\n",
        "# str : 문자열 자료형, 유니코드(UTF-8 인코딩) 문자열\n",
        "# bytes : Raw ASCII 바이트(또는 바이트로 인코딩된 유니코드)\n",
        "# float : 배정밀도(64비트) 부동소수점수.double형이 따로 존재하지 않는다는 점을 기억하자.\n",
        "# bool : True or False\n",
        "# int : 부호가 있는(음수 표현이 가능한) 정수. 값의 범위는 플랫폼에 의존적이다."
      ],
      "metadata": {
        "id": "Yvc1fAOFwt2h"
      },
      "execution_count": null,
      "outputs": []
    },
    {
      "cell_type": "code",
      "source": [
        "# 숫자 자료형 \n",
        "# 숫자를 위한 파이썬의 주요 자료형은 int와 float다. int는 임의의 숫자를 저장할 수 있다.\n",
        "ival = 17239871"
      ],
      "metadata": {
        "id": "GmTBuEi6w4Vx"
      },
      "execution_count": null,
      "outputs": []
    },
    {
      "cell_type": "code",
      "source": [
        "ival ** 6"
      ],
      "metadata": {
        "colab": {
          "base_uri": "https://localhost:8080/"
        },
        "id": "7cKBUWR1ydCh",
        "outputId": "da032988-34e3-470b-a58a-01452181ebc2"
      },
      "execution_count": null,
      "outputs": [
        {
          "output_type": "execute_result",
          "data": {
            "text/plain": [
              "26254519291092456596965462913230729701102721"
            ]
          },
          "metadata": {},
          "execution_count": 9
        }
      ]
    },
    {
      "cell_type": "code",
      "source": [
        "# 부동소수점수는 float형으로 나타낸다. 내부적으로 배정밀도(64비트)를 가지는 값이다. float는 과학 표기법으로 나타낼 수도 있다.  "
      ],
      "metadata": {
        "id": "5rBoWbikzWf7"
      },
      "execution_count": null,
      "outputs": []
    },
    {
      "cell_type": "code",
      "source": [
        "fval = 7.243"
      ],
      "metadata": {
        "id": "-1ML1f0yXjRh"
      },
      "execution_count": null,
      "outputs": []
    },
    {
      "cell_type": "code",
      "source": [
        "fval2 = 6.78e-5"
      ],
      "metadata": {
        "id": "ssYOr-uIXnFM"
      },
      "execution_count": null,
      "outputs": []
    },
    {
      "cell_type": "code",
      "source": [
        "# 정수 나눗셈은 정수를 반환하지 않고 부동소수점수를 반환한다. "
      ],
      "metadata": {
        "id": "NfqX1wW2XyrE"
      },
      "execution_count": null,
      "outputs": []
    },
    {
      "cell_type": "code",
      "source": [
        "3 / 2"
      ],
      "metadata": {
        "colab": {
          "base_uri": "https://localhost:8080/"
        },
        "id": "bni4uPhfXr3f",
        "outputId": "a1095e8b-ae10-403a-987d-aea4cb46b172"
      },
      "execution_count": null,
      "outputs": [
        {
          "output_type": "execute_result",
          "data": {
            "text/plain": [
              "1.5"
            ]
          },
          "metadata": {},
          "execution_count": 4
        }
      ]
    },
    {
      "cell_type": "code",
      "source": [
        "# 나눗셈의 결과가 정수가 아닐 경우 몫만을 돌려주는 C 형식의 정수 나눗셈은 // 연산자로 계산한다."
      ],
      "metadata": {
        "id": "aL1hPW2xXtYg"
      },
      "execution_count": null,
      "outputs": []
    },
    {
      "cell_type": "code",
      "source": [
        "3 // 2"
      ],
      "metadata": {
        "colab": {
          "base_uri": "https://localhost:8080/"
        },
        "id": "NFJGKRFoYGqy",
        "outputId": "1212ede3-5ff9-482c-e5b7-21a312ab822d"
      },
      "execution_count": null,
      "outputs": [
        {
          "output_type": "execute_result",
          "data": {
            "text/plain": [
              "1"
            ]
          },
          "metadata": {},
          "execution_count": 7
        }
      ]
    },
    {
      "cell_type": "code",
      "source": [
        "# 문자열"
      ],
      "metadata": {
        "id": "wXRL6oLWYIbY"
      },
      "execution_count": null,
      "outputs": []
    },
    {
      "cell_type": "code",
      "source": [
        "# 문자열은 작은따옴표나 큰따옴표로 둘러싸서 표현할 수 있다. "
      ],
      "metadata": {
        "id": "TCi_aFvEYJ-C"
      },
      "execution_count": null,
      "outputs": []
    },
    {
      "cell_type": "code",
      "source": [
        "a = ' 문자열을 작은따옴표로 둘러싼다. '\n",
        "b = \"문자열을 처리하는 다른 방법\"\n",
        "c = \"\"\"\n",
        "여러 줄에 걸친 문자열은\n",
        "따옴표 세 개로 둘러싼다.\n",
        "\"\"\""
      ],
      "metadata": {
        "id": "CAM3aAAUZGJM"
      },
      "execution_count": null,
      "outputs": []
    },
    {
      "cell_type": "code",
      "source": [
        "# 문자열 c가 실제로 4줄의 텍스트를 담고 있다는 사실에 놀랄 수도 있다. \"\"\" 뒤에 오는 개행 문자도 c도 포함된다. 개행 문자의 수는 count 메서드를 이용해서 확인할 수 있다. "
      ],
      "metadata": {
        "id": "oOKtBXbTcK7K"
      },
      "execution_count": null,
      "outputs": []
    },
    {
      "cell_type": "code",
      "source": [
        "c.count(\"\\n\")"
      ],
      "metadata": {
        "colab": {
          "base_uri": "https://localhost:8080/"
        },
        "id": "jw2L8PknbaIw",
        "outputId": "b6c92bd5-192a-4285-bde6-2fc407fc201e"
      },
      "execution_count": null,
      "outputs": [
        {
          "output_type": "execute_result",
          "data": {
            "text/plain": [
              "3"
            ]
          },
          "metadata": {},
          "execution_count": 11
        }
      ]
    },
    {
      "cell_type": "code",
      "source": [
        "# 파이썬의 문자열은 변경 불가능하다."
      ],
      "metadata": {
        "id": "fUbwaMuCcJE7"
      },
      "execution_count": null,
      "outputs": []
    },
    {
      "cell_type": "code",
      "source": [
        "a = \"this is a string\""
      ],
      "metadata": {
        "id": "FKTRnvijcEqZ"
      },
      "execution_count": null,
      "outputs": []
    },
    {
      "cell_type": "code",
      "source": [
        "a[10] = \"f\""
      ],
      "metadata": {
        "colab": {
          "base_uri": "https://localhost:8080/",
          "height": 171
        },
        "id": "iqkejAmTcjsT",
        "outputId": "1f252a0f-29b4-4299-8624-92d89df487bb"
      },
      "execution_count": null,
      "outputs": [
        {
          "output_type": "error",
          "ename": "TypeError",
          "evalue": "ignored",
          "traceback": [
            "\u001b[0;31m---------------------------------------------------------------------------\u001b[0m",
            "\u001b[0;31mTypeError\u001b[0m                                 Traceback (most recent call last)",
            "\u001b[0;32m<ipython-input-14-3b2d95f10db4>\u001b[0m in \u001b[0;36m<module>\u001b[0;34m()\u001b[0m\n\u001b[0;32m----> 1\u001b[0;31m \u001b[0ma\u001b[0m\u001b[0;34m[\u001b[0m\u001b[0;36m10\u001b[0m\u001b[0;34m]\u001b[0m \u001b[0;34m=\u001b[0m \u001b[0;34m\"f\"\u001b[0m\u001b[0;34m\u001b[0m\u001b[0;34m\u001b[0m\u001b[0m\n\u001b[0m",
            "\u001b[0;31mTypeError\u001b[0m: 'str' object does not support item assignment"
          ]
        }
      ]
    },
    {
      "cell_type": "code",
      "source": [
        "# 이 작업 이후 변수 a는 변경되지 않는다."
      ],
      "metadata": {
        "id": "RMPPu4FGclxL"
      },
      "execution_count": null,
      "outputs": []
    },
    {
      "cell_type": "code",
      "source": [
        "a"
      ],
      "metadata": {
        "colab": {
          "base_uri": "https://localhost:8080/",
          "height": 38
        },
        "id": "vU_3RnM8cqPG",
        "outputId": "cddc3298-0713-4224-e7b1-ff58d230c315"
      },
      "execution_count": null,
      "outputs": [
        {
          "output_type": "execute_result",
          "data": {
            "text/plain": [
              "'this is a string'"
            ],
            "application/vnd.google.colaboratory.intrinsic+json": {
              "type": "string"
            }
          },
          "metadata": {},
          "execution_count": 16
        }
      ]
    },
    {
      "cell_type": "code",
      "source": [
        "# 많은 파이썬 객체는 str 함수를 이용해서 문자열로 변환할 수 있다. "
      ],
      "metadata": {
        "id": "p64jq0g2crPK"
      },
      "execution_count": null,
      "outputs": []
    },
    {
      "cell_type": "code",
      "source": [
        "a = 5.6"
      ],
      "metadata": {
        "id": "UU0Ir9Vxcx_p"
      },
      "execution_count": null,
      "outputs": []
    },
    {
      "cell_type": "code",
      "source": [
        "s = str(a)"
      ],
      "metadata": {
        "id": "YqHm01zmczVg"
      },
      "execution_count": null,
      "outputs": []
    },
    {
      "cell_type": "code",
      "source": [
        "print(s)"
      ],
      "metadata": {
        "colab": {
          "base_uri": "https://localhost:8080/"
        },
        "id": "9P4JWikWc1FV",
        "outputId": "59d0bea4-7122-4ecc-cd0f-1d379703c258"
      },
      "execution_count": null,
      "outputs": [
        {
          "output_type": "stream",
          "name": "stdout",
          "text": [
            "5.6\n"
          ]
        }
      ]
    },
    {
      "cell_type": "code",
      "source": [
        "# 문자열은 일련의 유니코드 문자이며 따라서 리스트나 튜플 같은 다른 순차적인 자료형과 같이 취급된다"
      ],
      "metadata": {
        "id": "Kdu5cEd9c2IU"
      },
      "execution_count": null,
      "outputs": []
    },
    {
      "cell_type": "code",
      "source": [
        "s = \"python\""
      ],
      "metadata": {
        "id": "WoSi6vAhewEj"
      },
      "execution_count": null,
      "outputs": []
    },
    {
      "cell_type": "code",
      "source": [
        "list(s)"
      ],
      "metadata": {
        "colab": {
          "base_uri": "https://localhost:8080/"
        },
        "id": "_JRdOSOkeyq3",
        "outputId": "55d62062-6fff-4543-a551-8dbf3d62c693"
      },
      "execution_count": null,
      "outputs": [
        {
          "output_type": "execute_result",
          "data": {
            "text/plain": [
              "['p', 'y', 't', 'h', 'o', 'n']"
            ]
          },
          "metadata": {},
          "execution_count": 23
        }
      ]
    },
    {
      "cell_type": "code",
      "source": [
        "s[:3]"
      ],
      "metadata": {
        "colab": {
          "base_uri": "https://localhost:8080/",
          "height": 38
        },
        "id": "mgzjn8dSe0BM",
        "outputId": "385676d9-46d6-4708-ff83-b7ae74277487"
      },
      "execution_count": null,
      "outputs": [
        {
          "output_type": "execute_result",
          "data": {
            "text/plain": [
              "'pyt'"
            ],
            "application/vnd.google.colaboratory.intrinsic+json": {
              "type": "string"
            }
          },
          "metadata": {},
          "execution_count": 24
        }
      ]
    },
    {
      "cell_type": "code",
      "source": [
        "# 슬라이싱이라고 부르는 s[:3] 문법은 대부분의 파이썬 시퀀스 자료구조에 구현되어 있다.\n",
        "# 역슬래시(\\)는 이스케이프 문자로, 개행 문자(\\n)나 유니코드 문자 같은 특수한 목적의 문자를 나타내기 위해 사용한다. \n",
        "# 역슬래시를 나타내려면 다음처럼 역슬래시 자체를 이스케이프한다."
      ],
      "metadata": {
        "id": "wslq884ve2G0"
      },
      "execution_count": null,
      "outputs": []
    },
    {
      "cell_type": "code",
      "source": [
        "s = \"12\\\\34\""
      ],
      "metadata": {
        "id": "xd-_yvMogvGQ"
      },
      "execution_count": null,
      "outputs": []
    },
    {
      "cell_type": "code",
      "source": [
        "print(s)"
      ],
      "metadata": {
        "colab": {
          "base_uri": "https://localhost:8080/"
        },
        "id": "6gJql2f2gxoo",
        "outputId": "1c11b762-9bd7-43ac-be84-8cc5b544f73c"
      },
      "execution_count": null,
      "outputs": [
        {
          "output_type": "stream",
          "name": "stdout",
          "text": [
            "12\\34\n"
          ]
        }
      ]
    },
    {
      "cell_type": "code",
      "source": [
        "# 특수 문자 없이 역슬래시(\\)가 많이 포함된 문자열을 나타내려면 좀 귀찮을 수 있는데, 다행히도 문자열 앞에 r을 써서 문자열을 있는 그대로 해석하도록 할 수 있다."
      ],
      "metadata": {
        "id": "E90X-ZxCgyfj"
      },
      "execution_count": null,
      "outputs": []
    },
    {
      "cell_type": "code",
      "source": [
        "s = r\"this\\has\\no\\special\\characters\""
      ],
      "metadata": {
        "id": "EZ1Uohj-h1Mx"
      },
      "execution_count": null,
      "outputs": []
    },
    {
      "cell_type": "code",
      "source": [
        "s"
      ],
      "metadata": {
        "colab": {
          "base_uri": "https://localhost:8080/",
          "height": 38
        },
        "id": "pZFxJGzfh8MI",
        "outputId": "b3e044d0-a807-4cf0-e27b-dee769af8705"
      },
      "execution_count": null,
      "outputs": [
        {
          "output_type": "execute_result",
          "data": {
            "text/plain": [
              "' this\\\\has\\\\no\\\\special\\\\characters '"
            ],
            "application/vnd.google.colaboratory.intrinsic+json": {
              "type": "string"
            }
          },
          "metadata": {},
          "execution_count": 34
        }
      ]
    },
    {
      "cell_type": "code",
      "source": [
        "# 여기서 r은 raw를 뜻한다. "
      ],
      "metadata": {
        "id": "eoAnGmA8h8x2"
      },
      "execution_count": null,
      "outputs": []
    },
    {
      "cell_type": "code",
      "source": [
        "# 두 문자열을 더하면 두 문자열을 이어붙인 새로운 문자열이 생성된다."
      ],
      "metadata": {
        "id": "qsvW7XdViAp9"
      },
      "execution_count": null,
      "outputs": []
    },
    {
      "cell_type": "code",
      "source": [
        "a = \"this is the first half \""
      ],
      "metadata": {
        "id": "L_Scil5DjDhm"
      },
      "execution_count": null,
      "outputs": []
    },
    {
      "cell_type": "code",
      "source": [
        "b = \"and this is the second half\""
      ],
      "metadata": {
        "id": "85yNxWK0kO2v"
      },
      "execution_count": null,
      "outputs": []
    },
    {
      "cell_type": "code",
      "source": [
        "a + b"
      ],
      "metadata": {
        "colab": {
          "base_uri": "https://localhost:8080/",
          "height": 38
        },
        "id": "LA9GdgOWkW7r",
        "outputId": "fd606ff3-5d54-4438-ecb7-23b62acc1eb6"
      },
      "execution_count": null,
      "outputs": [
        {
          "output_type": "execute_result",
          "data": {
            "text/plain": [
              "'this is the first halfand this is the second half'"
            ],
            "application/vnd.google.colaboratory.intrinsic+json": {
              "type": "string"
            }
          },
          "metadata": {},
          "execution_count": 39
        }
      ]
    },
    {
      "cell_type": "code",
      "source": [
        "# 문자열의 템플릿이나 형식을 지정하는 것은 중요한 주제다. 문자열 객체는 포맷에 따라 문자열을 대체하여 새로운 문자열을 반환하는 format 메서드를 가지고 있다."
      ],
      "metadata": {
        "id": "3iwjGaCTkX1u"
      },
      "execution_count": null,
      "outputs": []
    },
    {
      "cell_type": "code",
      "source": [
        "template = \"{0:.2f} {1:s} are worth US${2:d}\""
      ],
      "metadata": {
        "id": "xYu_fYjBmDi-"
      },
      "execution_count": null,
      "outputs": []
    },
    {
      "cell_type": "code",
      "source": [
        "# 위 문자열에서\n",
        "# {0:.2f}는 첫 번째 인자를 소수점 아래 2자리까지만 표시하는 부동소수점 형태로 출력하라는 의미이다.\n",
        "# {1:s}는 두 번째 인자가 문자열이라는 의미다. \n",
        "# {2:d}는 세 번째 인자가 정수라는 의미다. "
      ],
      "metadata": {
        "id": "SMCAyoR3mMpf"
      },
      "execution_count": null,
      "outputs": []
    },
    {
      "cell_type": "code",
      "source": [
        "# 인자를 이런 포맷 매개변수를 이용해 대치하려면 인자를 format 메서드에 전달해야 한다. "
      ],
      "metadata": {
        "id": "WuCFZPstmmi6"
      },
      "execution_count": null,
      "outputs": []
    },
    {
      "cell_type": "code",
      "source": [
        "template.format(4.5560, \"Argentie Pesos\", 1)"
      ],
      "metadata": {
        "colab": {
          "base_uri": "https://localhost:8080/",
          "height": 38
        },
        "id": "UPzxCcitm5CJ",
        "outputId": "4d1f37c9-0b75-492e-e02e-c82ae4b50b14"
      },
      "execution_count": null,
      "outputs": [
        {
          "output_type": "execute_result",
          "data": {
            "text/plain": [
              "'4.56 Argentie Pesos are worth US$1'"
            ],
            "application/vnd.google.colaboratory.intrinsic+json": {
              "type": "string"
            }
          },
          "metadata": {},
          "execution_count": 49
        }
      ]
    },
    {
      "cell_type": "code",
      "source": [
        "# 문자열 포맷은 광범위한 주제이며 결과 문자열에서 값을 어떻게 표시할 것인지에 대한 다양한 옵션과 메서드, 팁이 있다."
      ],
      "metadata": {
        "id": "9mPquH_5n6ol"
      },
      "execution_count": null,
      "outputs": []
    },
    {
      "cell_type": "code",
      "source": [
        "# 바이트와 유니코드"
      ],
      "metadata": {
        "id": "WvPOdyqtoDx0"
      },
      "execution_count": null,
      "outputs": []
    },
    {
      "cell_type": "code",
      "source": [
        "# 파이썬 3.0부터는 아스키와 아스키가 아닌 텍스트를 일관되게 다루기 위해 유니코드가 최상위 문자열 타입이 되었다. \n",
        "# 파이썬 구 버전에서 문자열은 유니코드 인코딩을 명시하지 않은 바이트였다. 문자 인코딩을 알고 있다는 가정 하에 유니코드로 변환할 수 있었다. "
      ],
      "metadata": {
        "id": "hZ9aRGzxoF3p"
      },
      "execution_count": 52,
      "outputs": []
    },
    {
      "cell_type": "code",
      "source": [
        "val = \"espanol\""
      ],
      "metadata": {
        "id": "Qo19G-_QzneN"
      },
      "execution_count": 53,
      "outputs": []
    },
    {
      "cell_type": "code",
      "source": [
        "val"
      ],
      "metadata": {
        "colab": {
          "base_uri": "https://localhost:8080/",
          "height": 35
        },
        "id": "6yM-gRT_zqC7",
        "outputId": "d7852bbb-7c57-41b5-9253-363bf40fb780"
      },
      "execution_count": 54,
      "outputs": [
        {
          "output_type": "execute_result",
          "data": {
            "text/plain": [
              "'espanol'"
            ],
            "application/vnd.google.colaboratory.intrinsic+json": {
              "type": "string"
            }
          },
          "metadata": {},
          "execution_count": 54
        }
      ]
    },
    {
      "cell_type": "code",
      "source": [
        "# encode 메서드를 사용해서 위 유니코드 문자열을 UTF-8 바이트 표현으로 변환할 수 있다."
      ],
      "metadata": {
        "id": "uwwcVvsGzqnf"
      },
      "execution_count": 55,
      "outputs": []
    },
    {
      "cell_type": "code",
      "source": [
        "val_utf8 = val.encode(\"utf-8\")"
      ],
      "metadata": {
        "id": "6TpbjCk-z0Lh"
      },
      "execution_count": 56,
      "outputs": []
    },
    {
      "cell_type": "code",
      "source": [
        "val_utf8"
      ],
      "metadata": {
        "colab": {
          "base_uri": "https://localhost:8080/"
        },
        "id": "WQAzKwP7z5Fs",
        "outputId": "370a4c45-b187-4860-edd3-69250bd2c212"
      },
      "execution_count": 57,
      "outputs": [
        {
          "output_type": "execute_result",
          "data": {
            "text/plain": [
              "b'espanol'"
            ]
          },
          "metadata": {},
          "execution_count": 57
        }
      ]
    },
    {
      "cell_type": "code",
      "source": [
        "type(val_utf8)"
      ],
      "metadata": {
        "colab": {
          "base_uri": "https://localhost:8080/"
        },
        "id": "89rSRSYJz7RE",
        "outputId": "ff04a435-ed1f-4b61-c2e0-05286c2b2810"
      },
      "execution_count": 58,
      "outputs": [
        {
          "output_type": "execute_result",
          "data": {
            "text/plain": [
              "bytes"
            ]
          },
          "metadata": {},
          "execution_count": 58
        }
      ]
    },
    {
      "cell_type": "code",
      "source": [
        "# bytes 객체의 유니코드 인코딩을 알고 있다면 decode 메서드를 이용해서 다시 거꾸로 되돌릴 수 있다. "
      ],
      "metadata": {
        "id": "ka_SX9VP0c5R"
      },
      "execution_count": 59,
      "outputs": []
    },
    {
      "cell_type": "code",
      "source": [
        "val_utf8.decode(\"utf-8\")"
      ],
      "metadata": {
        "colab": {
          "base_uri": "https://localhost:8080/",
          "height": 35
        },
        "id": "kvwY7jvc1nM5",
        "outputId": "4bcb05be-09b6-42a1-e714-c1556e1393e4"
      },
      "execution_count": 60,
      "outputs": [
        {
          "output_type": "execute_result",
          "data": {
            "text/plain": [
              "'espanol'"
            ],
            "application/vnd.google.colaboratory.intrinsic+json": {
              "type": "string"
            }
          },
          "metadata": {},
          "execution_count": 60
        }
      ]
    },
    {
      "cell_type": "code",
      "source": [
        "# 모든 인코딩에 UTF-8을 사용하는 것이 선호되는 추세이긴 하지만, 여러 가지 다른 인코딩을 사용하는 데이터를 만나게 될 수도 있다."
      ],
      "metadata": {
        "id": "B-QXvh4p1sJv"
      },
      "execution_count": 61,
      "outputs": []
    },
    {
      "cell_type": "code",
      "source": [
        "val.encode(\"latin1\")"
      ],
      "metadata": {
        "colab": {
          "base_uri": "https://localhost:8080/"
        },
        "id": "WKUKBcdR16Gz",
        "outputId": "151780d5-ba5c-4f2e-ea62-8099155ea151"
      },
      "execution_count": 62,
      "outputs": [
        {
          "output_type": "execute_result",
          "data": {
            "text/plain": [
              "b'espanol'"
            ]
          },
          "metadata": {},
          "execution_count": 62
        }
      ]
    },
    {
      "cell_type": "code",
      "source": [
        "val.encode(\"utf-16\")"
      ],
      "metadata": {
        "colab": {
          "base_uri": "https://localhost:8080/"
        },
        "id": "iGvd2oZE1-Gr",
        "outputId": "f13b187c-5f39-458f-a9f2-901027e8ed28"
      },
      "execution_count": 64,
      "outputs": [
        {
          "output_type": "execute_result",
          "data": {
            "text/plain": [
              "b'\\xff\\xfee\\x00s\\x00p\\x00a\\x00n\\x00o\\x00l\\x00'"
            ]
          },
          "metadata": {},
          "execution_count": 64
        }
      ]
    },
    {
      "cell_type": "code",
      "source": [
        "val.encode(\"utf-16le\")"
      ],
      "metadata": {
        "colab": {
          "base_uri": "https://localhost:8080/"
        },
        "id": "1wUWE1Xx2goS",
        "outputId": "4d5c86f8-4de7-4b5f-f642-ef9462fd2f4e"
      },
      "execution_count": 65,
      "outputs": [
        {
          "output_type": "execute_result",
          "data": {
            "text/plain": [
              "b'e\\x00s\\x00p\\x00a\\x00n\\x00o\\x00l\\x00'"
            ]
          },
          "metadata": {},
          "execution_count": 65
        }
      ]
    },
    {
      "cell_type": "code",
      "source": [
        "# 파일을 다룬다면 bytes 객체를 만나게 되는 일은 흔하다.\n",
        "# 이렇게 하는 경우는 흔하지 않지만 다음과 같이 문자열 앞에 b를 붙여서 바이트 표현임을 나타낼 수도 있다. "
      ],
      "metadata": {
        "id": "kfw3gg7-2qhj"
      },
      "execution_count": 67,
      "outputs": []
    },
    {
      "cell_type": "code",
      "source": [
        "bytes_val = b\"this is bytes\""
      ],
      "metadata": {
        "id": "_EWCa_aH2u16"
      },
      "execution_count": 69,
      "outputs": []
    },
    {
      "cell_type": "code",
      "source": [
        "bytes_val"
      ],
      "metadata": {
        "colab": {
          "base_uri": "https://localhost:8080/"
        },
        "id": "sYmLo2KF4NvM",
        "outputId": "b2fc050a-3ef7-4bc2-cc10-018f596e150c"
      },
      "execution_count": 70,
      "outputs": [
        {
          "output_type": "execute_result",
          "data": {
            "text/plain": [
              "b'this is bytes'"
            ]
          },
          "metadata": {},
          "execution_count": 70
        }
      ]
    },
    {
      "cell_type": "code",
      "source": [
        "decoded = bytes_val.decode(\"utf8\")"
      ],
      "metadata": {
        "id": "2ujmzwvS4RSH"
      },
      "execution_count": 71,
      "outputs": []
    },
    {
      "cell_type": "code",
      "source": [
        "decoded"
      ],
      "metadata": {
        "colab": {
          "base_uri": "https://localhost:8080/",
          "height": 35
        },
        "id": "bR33rxuo4V-M",
        "outputId": "0e0cc81a-2294-41e7-84d8-541984f6bd60"
      },
      "execution_count": 72,
      "outputs": [
        {
          "output_type": "execute_result",
          "data": {
            "text/plain": [
              "'this is bytes'"
            ],
            "application/vnd.google.colaboratory.intrinsic+json": {
              "type": "string"
            }
          },
          "metadata": {},
          "execution_count": 72
        }
      ]
    },
    {
      "cell_type": "code",
      "source": [
        "# 불리언"
      ],
      "metadata": {
        "id": "VH73cNqo4pYJ"
      },
      "execution_count": 73,
      "outputs": []
    },
    {
      "cell_type": "code",
      "source": [
        "# 파이썬에서 불리언값은 True와 False다. 비교와 조건식은 True 아니면 False로 해석된다. 불리언값은 and와 or 예약어로 조합할 수 있다. "
      ],
      "metadata": {
        "id": "Ot2zl_JR4qwp"
      },
      "execution_count": 74,
      "outputs": []
    },
    {
      "cell_type": "code",
      "source": [
        "True and True"
      ],
      "metadata": {
        "colab": {
          "base_uri": "https://localhost:8080/"
        },
        "id": "BZ-KE_JS43Cq",
        "outputId": "3288533f-2e4e-4ec2-f202-4b8b9b049193"
      },
      "execution_count": 76,
      "outputs": [
        {
          "output_type": "execute_result",
          "data": {
            "text/plain": [
              "True"
            ]
          },
          "metadata": {},
          "execution_count": 76
        }
      ]
    },
    {
      "cell_type": "code",
      "source": [
        "False or True"
      ],
      "metadata": {
        "colab": {
          "base_uri": "https://localhost:8080/"
        },
        "id": "NgCSZZaV44hV",
        "outputId": "a4180fdc-ff16-44f1-af0b-0b8f6d8a0cbd"
      },
      "execution_count": 77,
      "outputs": [
        {
          "output_type": "execute_result",
          "data": {
            "text/plain": [
              "True"
            ]
          },
          "metadata": {},
          "execution_count": 77
        }
      ]
    },
    {
      "cell_type": "code",
      "source": [
        "# 형변환"
      ],
      "metadata": {
        "id": "9Lokgzjq48gr"
      },
      "execution_count": 78,
      "outputs": []
    },
    {
      "cell_type": "code",
      "source": [
        "# str, bool, int, float 자료형은 형변환을 위한 함수로 쓰인다. "
      ],
      "metadata": {
        "id": "E3-RjUz65CYV"
      },
      "execution_count": 79,
      "outputs": []
    },
    {
      "cell_type": "code",
      "source": [
        "s = \"3.14159\""
      ],
      "metadata": {
        "id": "H3F3K7cb5JK1"
      },
      "execution_count": 80,
      "outputs": []
    },
    {
      "cell_type": "code",
      "source": [
        "fval = float(s)"
      ],
      "metadata": {
        "id": "zSSOwo_X5LPb"
      },
      "execution_count": 81,
      "outputs": []
    },
    {
      "cell_type": "code",
      "source": [
        "type(fval)"
      ],
      "metadata": {
        "colab": {
          "base_uri": "https://localhost:8080/"
        },
        "id": "rdLhf_N-5NiH",
        "outputId": "19580549-6b6a-45a0-a0d4-e6019ed8207d"
      },
      "execution_count": 82,
      "outputs": [
        {
          "output_type": "execute_result",
          "data": {
            "text/plain": [
              "float"
            ]
          },
          "metadata": {},
          "execution_count": 82
        }
      ]
    },
    {
      "cell_type": "code",
      "source": [
        "int(fval)"
      ],
      "metadata": {
        "colab": {
          "base_uri": "https://localhost:8080/"
        },
        "id": "ySquA34t5O6Z",
        "outputId": "afa4c1bb-60de-4ac1-dd01-c80d749f9145"
      },
      "execution_count": 83,
      "outputs": [
        {
          "output_type": "execute_result",
          "data": {
            "text/plain": [
              "3"
            ]
          },
          "metadata": {},
          "execution_count": 83
        }
      ]
    },
    {
      "cell_type": "code",
      "source": [
        "bool(fval)"
      ],
      "metadata": {
        "colab": {
          "base_uri": "https://localhost:8080/"
        },
        "id": "n3Vh-ZEq5Q_q",
        "outputId": "7f7a7cbf-b4c0-4f81-e793-da92872cf8a2"
      },
      "execution_count": 84,
      "outputs": [
        {
          "output_type": "execute_result",
          "data": {
            "text/plain": [
              "True"
            ]
          },
          "metadata": {},
          "execution_count": 84
        }
      ]
    },
    {
      "cell_type": "code",
      "source": [
        "bool(0)"
      ],
      "metadata": {
        "colab": {
          "base_uri": "https://localhost:8080/"
        },
        "id": "OpmsurON5Scs",
        "outputId": "59652528-a0cd-42b3-cdb5-71aa22ee175e"
      },
      "execution_count": 85,
      "outputs": [
        {
          "output_type": "execute_result",
          "data": {
            "text/plain": [
              "False"
            ]
          },
          "metadata": {},
          "execution_count": 85
        }
      ]
    },
    {
      "cell_type": "code",
      "source": [
        "# None"
      ],
      "metadata": {
        "id": "MJvXfgFE5TY1"
      },
      "execution_count": 86,
      "outputs": []
    },
    {
      "cell_type": "code",
      "source": [
        "# None은 파이썬에서 사용하는 null 값이다. 만약 어떤 함수에서 명시적으로 값을 반환하지 않으면 묵시적으로 None을 반환한다. "
      ],
      "metadata": {
        "id": "sOtIBJLi5VhB"
      },
      "execution_count": 87,
      "outputs": []
    },
    {
      "cell_type": "code",
      "source": [
        "a = None"
      ],
      "metadata": {
        "id": "yzPT-ESW5egU"
      },
      "execution_count": 88,
      "outputs": []
    },
    {
      "cell_type": "code",
      "source": [
        "a is None"
      ],
      "metadata": {
        "colab": {
          "base_uri": "https://localhost:8080/"
        },
        "id": "9hOAhi1O5f1y",
        "outputId": "8372473a-9de1-41ed-c795-a6d6f71b1b73"
      },
      "execution_count": 89,
      "outputs": [
        {
          "output_type": "execute_result",
          "data": {
            "text/plain": [
              "True"
            ]
          },
          "metadata": {},
          "execution_count": 89
        }
      ]
    },
    {
      "cell_type": "code",
      "source": [
        "b = 5"
      ],
      "metadata": {
        "id": "rl4xyrRH5hKy"
      },
      "execution_count": 90,
      "outputs": []
    },
    {
      "cell_type": "code",
      "source": [
        "b is not None"
      ],
      "metadata": {
        "colab": {
          "base_uri": "https://localhost:8080/"
        },
        "id": "_KiirySr5iIV",
        "outputId": "f008437c-4509-4644-dd9b-5169c0b73ec6"
      },
      "execution_count": 91,
      "outputs": [
        {
          "output_type": "execute_result",
          "data": {
            "text/plain": [
              "True"
            ]
          },
          "metadata": {},
          "execution_count": 91
        }
      ]
    },
    {
      "cell_type": "code",
      "source": [
        "# 또한 None은 함수 인자의 기본값으로 흔히 사용되기도 한다."
      ],
      "metadata": {
        "id": "jpQXX_Uy5jgI"
      },
      "execution_count": 92,
      "outputs": []
    },
    {
      "cell_type": "code",
      "source": [
        "def add_and_maybe_multiply(a, b, c = None):\n",
        "  result = a + b\n",
        "\n",
        "  if c is not None:\n",
        "    result = result * c\n",
        "  \n",
        "  return result"
      ],
      "metadata": {
        "id": "8ss6ZsVV5pO9"
      },
      "execution_count": 96,
      "outputs": []
    },
    {
      "cell_type": "code",
      "source": [
        "# 기술적인 측면에서 None은 예약어가 아니라 NoneType의 유일한 인스턴스임을 기억하자."
      ],
      "metadata": {
        "id": "8kAe9x_l6pGR"
      },
      "execution_count": null,
      "outputs": []
    },
    {
      "cell_type": "code",
      "source": [
        "type(None)"
      ],
      "metadata": {
        "colab": {
          "base_uri": "https://localhost:8080/"
        },
        "id": "-Y_Xm20z5wht",
        "outputId": "a330145a-5db5-49a9-db7f-0ba0de484469"
      },
      "execution_count": 97,
      "outputs": [
        {
          "output_type": "execute_result",
          "data": {
            "text/plain": [
              "NoneType"
            ]
          },
          "metadata": {},
          "execution_count": 97
        }
      ]
    },
    {
      "cell_type": "code",
      "source": [
        ""
      ],
      "metadata": {
        "id": "lSoeFBjF58zy"
      },
      "execution_count": null,
      "outputs": []
    }
  ]
}
