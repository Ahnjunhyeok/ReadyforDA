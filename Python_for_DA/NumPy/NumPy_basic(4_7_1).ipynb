{
  "nbformat": 4,
  "nbformat_minor": 0,
  "metadata": {
    "colab": {
      "provenance": []
    },
    "kernelspec": {
      "name": "python3",
      "display_name": "Python 3"
    },
    "language_info": {
      "name": "python"
    }
  },
  "cells": [
    {
      "cell_type": "code",
      "source": [
        "# Chapter 4 Numpy 기본: 배열과 벡터 연산"
      ],
      "metadata": {
        "id": "9XdvTYzLhUIw"
      },
      "execution_count": 1,
      "outputs": []
    },
    {
      "cell_type": "code",
      "execution_count": 2,
      "metadata": {
        "id": "f1M24nIbgt2P"
      },
      "outputs": [],
      "source": [
        "# NumPy는 Numerical Python의 줄임말로, 파이썬에서 산술 계산을 위한 가장 중요한 필수 패키지 중 하나다. "
      ]
    },
    {
      "cell_type": "code",
      "source": [
        "# 과학 계산을 위한 대부분의 패키지는 NumPy의 배열 객체를 데이터 교환을 위한 공통 언어처럼 사용한다."
      ],
      "metadata": {
        "id": "tF9lqBc9hfhc"
      },
      "execution_count": 3,
      "outputs": []
    },
    {
      "cell_type": "code",
      "source": [
        "# NumPy에서 제공하는 것들은 다음과 같다.\n",
        "# 효율적인 다차원 배열인 ndarray는 빠른 배열 계산과 유연한 브로드캐스팅 기능을 제공한다.\n",
        "# 반복문을 작성할 필요 없이 전체 데이터 배열을 빠르게 계산할 수 있는 표준 수학 함수\n",
        "# 배열 데이터를 디스크에 쓰거나 읽을 수 있는 도구와 메모리에 적재된 파일을 다루는 도구\n",
        "# 선형대수, 난수 생성기, 푸리에 변환 기능\n",
        "# C, C++, 포트란으로 작성한 코드를 연결할 수 있는 C API"
      ],
      "metadata": {
        "id": "lcFBri6rhnh1"
      },
      "execution_count": 4,
      "outputs": []
    },
    {
      "cell_type": "code",
      "source": [
        "# NumPy 자체는 모델링이나 과학 계산을 위한 기능을 제공하지 않으므로 먼저 NumPy 배열과 배열 기반 연산에 대한 이해를 한 다음 pandas 같은 배열 기반 도구를 사용하면 훨씬 더 효율적이다. "
      ],
      "metadata": {
        "id": "I6tT_GnShtKd"
      },
      "execution_count": 5,
      "outputs": []
    },
    {
      "cell_type": "code",
      "source": [
        "# NumPy는 일반적인 산술 데이터 처리를 위한 기반 라이브러리를 제공하기 때문에 많은 독자가 통계나 분석, 특히 표 형식의 데이터를 처리하기 위해 pandas를 사용하기 원할 것이다. \n",
        "# 또한 pandas는 NumPy에는 없는 시계열 처리 같은 다양한 도메인 특화 기능을 제공한다."
      ],
      "metadata": {
        "id": "8K0SjGw5i1Oz"
      },
      "execution_count": 6,
      "outputs": []
    },
    {
      "cell_type": "code",
      "source": [
        "# NumPy가 파이썬 산술 계산 영역에서 중요한 위치를 차지하는 이유 중 하나는 대용량 데이터 배열을 효율적으로 다룰 수 있도록 설계되었다는 점이다. "
      ],
      "metadata": {
        "id": "62GcfYrolPaw"
      },
      "execution_count": 7,
      "outputs": []
    },
    {
      "cell_type": "code",
      "source": [
        "# 성능 차이를 확인하기 위해 백만 개의 정수를 저장하는 NumPy 배열과 파이썬 리스트를 비교해보자."
      ],
      "metadata": {
        "id": "Vn8loiF8DBl5"
      },
      "execution_count": 8,
      "outputs": []
    },
    {
      "cell_type": "code",
      "source": [
        "import numpy as np"
      ],
      "metadata": {
        "id": "rP4eubxxDHin"
      },
      "execution_count": 9,
      "outputs": []
    },
    {
      "cell_type": "code",
      "source": [
        "my_arr = np.arange(1000000)"
      ],
      "metadata": {
        "id": "vnM6NbI1DJgI"
      },
      "execution_count": 10,
      "outputs": []
    },
    {
      "cell_type": "code",
      "source": [
        "my_list = list(range(1000000))"
      ],
      "metadata": {
        "id": "JPcXD6WCDOK1"
      },
      "execution_count": 11,
      "outputs": []
    },
    {
      "cell_type": "code",
      "source": [
        "# 이제 각각의 배열과 리스트 원소에 2를 곱해보자"
      ],
      "metadata": {
        "id": "Cg1T-vosDUil"
      },
      "execution_count": 12,
      "outputs": []
    },
    {
      "cell_type": "code",
      "source": [
        "%time for _ in range(10): my_arr2 = my_arr * 2"
      ],
      "metadata": {
        "colab": {
          "base_uri": "https://localhost:8080/"
        },
        "id": "1J9J4NJwG5_a",
        "outputId": "821aba8e-c239-49d3-849a-686937a72c05"
      },
      "execution_count": 13,
      "outputs": [
        {
          "output_type": "stream",
          "name": "stdout",
          "text": [
            "CPU times: user 12.9 ms, sys: 10.1 ms, total: 23 ms\n",
            "Wall time: 24.8 ms\n"
          ]
        }
      ]
    },
    {
      "cell_type": "code",
      "source": [
        "%time for _ in range(10): my_list2 = [x * 2 for x in my_list]"
      ],
      "metadata": {
        "colab": {
          "base_uri": "https://localhost:8080/"
        },
        "id": "2nu2gfYOG_ia",
        "outputId": "c22fd673-0d60-4de5-af0b-6d3e32f58b60"
      },
      "execution_count": 14,
      "outputs": [
        {
          "output_type": "stream",
          "name": "stdout",
          "text": [
            "CPU times: user 1 s, sys: 195 ms, total: 1.2 s\n",
            "Wall time: 1.31 s\n"
          ]
        }
      ]
    },
    {
      "cell_type": "code",
      "source": [
        "# NumPy를 사용한 코드가 순수 파이썬으로 작성한 코드보다 열 배에서 백 배 이상 빠르고 메모리도 더 적게 사용하는 것을 확인할 수 있다."
      ],
      "metadata": {
        "id": "1QXClumRH6wY"
      },
      "execution_count": 15,
      "outputs": []
    },
    {
      "cell_type": "code",
      "source": [
        "# 4.1 NumPy ndarray: 다차원 배열 객체"
      ],
      "metadata": {
        "id": "kz_Jn8rkIFAX"
      },
      "execution_count": 16,
      "outputs": []
    },
    {
      "cell_type": "code",
      "source": [
        "# NumPy의 핵심 기능 중 하나는 ndarray라고 하는 N차원의 배열 객체인데 파이썬에서 사용할 수 있는 대규모 데이터 집합을 담을 수 있는 빠르고 유연한 자료구조다.\n",
        "# 배열은 스칼라 원소 간의 연산에 사용하는 문법과 비슷한 방식을 사용해서 전체 데이터 블록에 수학적인 연산을 수행할 수 있도록 해준다. "
      ],
      "metadata": {
        "id": "4APGRQlZIKuO"
      },
      "execution_count": 17,
      "outputs": []
    },
    {
      "cell_type": "code",
      "source": [
        "# 파이썬 내장 객체의 스칼라 값을 다루는 것과 유사한 방법으로 에서 배치 계산을 처리하는 방법을 알아보기 위해 우선 NumPy 패키지를 임포트하고 임의의 값이 들어 있는 작은 배열을 만들어보겠다."
      ],
      "metadata": {
        "id": "bAQ9p0BwIda1"
      },
      "execution_count": 18,
      "outputs": []
    },
    {
      "cell_type": "code",
      "source": [
        "import numpy as np"
      ],
      "metadata": {
        "id": "rvJRl2oMI6y9"
      },
      "execution_count": 19,
      "outputs": []
    },
    {
      "cell_type": "code",
      "source": [
        "data = np.random.randn(2, 3)"
      ],
      "metadata": {
        "id": "-RfqyQIOaqQF"
      },
      "execution_count": 20,
      "outputs": []
    },
    {
      "cell_type": "code",
      "source": [
        "data"
      ],
      "metadata": {
        "colab": {
          "base_uri": "https://localhost:8080/"
        },
        "id": "IELfI8Y9as_h",
        "outputId": "51accab8-4496-40eb-9444-404d4c646625"
      },
      "execution_count": 21,
      "outputs": [
        {
          "output_type": "execute_result",
          "data": {
            "text/plain": [
              "array([[ 1.3973288 ,  0.30897689,  0.00435102],\n",
              "       [ 0.36502742, -0.74885908,  0.80733259]])"
            ]
          },
          "metadata": {},
          "execution_count": 21
        }
      ]
    },
    {
      "cell_type": "code",
      "source": [
        "# 그리고 그 값에 산술 연산을 해보자. "
      ],
      "metadata": {
        "id": "CK0z67KdaukE"
      },
      "execution_count": 22,
      "outputs": []
    },
    {
      "cell_type": "code",
      "source": [
        "data * 10"
      ],
      "metadata": {
        "colab": {
          "base_uri": "https://localhost:8080/"
        },
        "id": "iiIFI0iAa0i1",
        "outputId": "a7157366-efbf-4588-88e7-201f02145511"
      },
      "execution_count": 23,
      "outputs": [
        {
          "output_type": "execute_result",
          "data": {
            "text/plain": [
              "array([[13.97328804,  3.0897689 ,  0.04351017],\n",
              "       [ 3.65027418, -7.48859077,  8.07332592]])"
            ]
          },
          "metadata": {},
          "execution_count": 23
        }
      ]
    },
    {
      "cell_type": "code",
      "source": [
        "data + data"
      ],
      "metadata": {
        "colab": {
          "base_uri": "https://localhost:8080/"
        },
        "id": "JCn_QuvFa1sa",
        "outputId": "8026fcaf-f7e5-4715-f6d7-f96e29a48369"
      },
      "execution_count": 24,
      "outputs": [
        {
          "output_type": "execute_result",
          "data": {
            "text/plain": [
              "array([[ 2.79465761,  0.61795378,  0.00870203],\n",
              "       [ 0.73005484, -1.49771815,  1.61466518]])"
            ]
          },
          "metadata": {},
          "execution_count": 24
        }
      ]
    },
    {
      "cell_type": "code",
      "source": [
        "# 첫 번째 예제는 모든 원소의 값에 10을 곱했다. 두 번째 예제는 data 배열에서 같은 위치의 값끼리 서로 더했다."
      ],
      "metadata": {
        "id": "cP2iy15ea41f"
      },
      "execution_count": 25,
      "outputs": []
    },
    {
      "cell_type": "code",
      "source": [
        "# ndarray는 같은 종류의 데이터를 담을 수 있는 포괄적인 다차원 배옇이다.\n",
        "# ndarray의 모든 원소는 같은 자료형이어야 한다. \n",
        "# 모든 배열은 각 차원의 크기를 알려주는 shape라는 튜플과 배열에 저장된 자료형을 알려주는 dtype이라는 객체를 가지고 있다."
      ],
      "metadata": {
        "id": "U_i-p2ffbKXt"
      },
      "execution_count": 26,
      "outputs": []
    },
    {
      "cell_type": "code",
      "source": [
        "data.shape"
      ],
      "metadata": {
        "id": "ew3OunaudAj1",
        "colab": {
          "base_uri": "https://localhost:8080/"
        },
        "outputId": "af6e5842-ceac-49ed-d372-3830c1aaaeff"
      },
      "execution_count": 27,
      "outputs": [
        {
          "output_type": "execute_result",
          "data": {
            "text/plain": [
              "(2, 3)"
            ]
          },
          "metadata": {},
          "execution_count": 27
        }
      ]
    },
    {
      "cell_type": "code",
      "source": [
        "data.dtype"
      ],
      "metadata": {
        "id": "i8lWj3DsdSwJ",
        "colab": {
          "base_uri": "https://localhost:8080/"
        },
        "outputId": "05025840-83f6-4a4e-e982-5b45be6446b6"
      },
      "execution_count": 28,
      "outputs": [
        {
          "output_type": "execute_result",
          "data": {
            "text/plain": [
              "dtype('float64')"
            ]
          },
          "metadata": {},
          "execution_count": 28
        }
      ]
    },
    {
      "cell_type": "code",
      "source": [
        "# 4.1.1 ndarray 생성하기"
      ],
      "metadata": {
        "id": "x1cIAZgQdbzm"
      },
      "execution_count": 29,
      "outputs": []
    },
    {
      "cell_type": "code",
      "source": [
        "# 배열을 생성하는 가장 쉬운 방법은 array 함수를 이용하는 것이다. 순차적인 객체(다른 배열도 포함하여)를 넘겨받고, 넘겨받은 데이터가 들어 있는 새로운 NumPy 배열을 생성한다. "
      ],
      "metadata": {
        "id": "jxxCvCB3WsjG"
      },
      "execution_count": 30,
      "outputs": []
    },
    {
      "cell_type": "code",
      "source": [
        "# 예를 들어 파이썬의 리스트는 변환하기 좋은 예다."
      ],
      "metadata": {
        "id": "RinTHBn3W8G9"
      },
      "execution_count": 31,
      "outputs": []
    },
    {
      "cell_type": "code",
      "source": [
        "data1 = [6, 7.5, 8, 0, 1]"
      ],
      "metadata": {
        "id": "mtJ4JpLBXBD5"
      },
      "execution_count": 32,
      "outputs": []
    },
    {
      "cell_type": "code",
      "source": [
        "arr1 = np.array(data1)"
      ],
      "metadata": {
        "id": "8vo51p6cXJOv"
      },
      "execution_count": 33,
      "outputs": []
    },
    {
      "cell_type": "code",
      "source": [
        "arr1"
      ],
      "metadata": {
        "colab": {
          "base_uri": "https://localhost:8080/"
        },
        "id": "Qm1KEaIzXNyh",
        "outputId": "2cdb81a8-ba84-41de-99c7-2dd90dadbd62"
      },
      "execution_count": 34,
      "outputs": [
        {
          "output_type": "execute_result",
          "data": {
            "text/plain": [
              "array([6. , 7.5, 8. , 0. , 1. ])"
            ]
          },
          "metadata": {},
          "execution_count": 34
        }
      ]
    },
    {
      "cell_type": "code",
      "source": [
        "# 같은 길이를 가지는 리스트를 내포하고 있는 순차 데이터는 다차원 배열로 변환 가능하다."
      ],
      "metadata": {
        "id": "5X-0fKGvXV6t"
      },
      "execution_count": 35,
      "outputs": []
    },
    {
      "cell_type": "code",
      "source": [
        "data2 = [[1, 2, 3, 4], [5, 6, 7, 8]]"
      ],
      "metadata": {
        "id": "3Ah0nIMYXbG3"
      },
      "execution_count": 36,
      "outputs": []
    },
    {
      "cell_type": "code",
      "source": [
        "arr2 = np.array(data2)"
      ],
      "metadata": {
        "id": "vqQsQ_4EXgcm"
      },
      "execution_count": 37,
      "outputs": []
    },
    {
      "cell_type": "code",
      "source": [
        "arr2"
      ],
      "metadata": {
        "colab": {
          "base_uri": "https://localhost:8080/"
        },
        "id": "YXwYkVWlXiuA",
        "outputId": "f5ac2cf6-ebcb-40df-c719-200cf82aacd9"
      },
      "execution_count": 38,
      "outputs": [
        {
          "output_type": "execute_result",
          "data": {
            "text/plain": [
              "array([[1, 2, 3, 4],\n",
              "       [5, 6, 7, 8]])"
            ]
          },
          "metadata": {},
          "execution_count": 38
        }
      ]
    },
    {
      "cell_type": "code",
      "source": [
        "# data2는 리스트를 담고 있는 리스트이므로 NumPy 배열인 arr2는 해당 데이터로부터 형태를 추론하여 2차원 형태로 생성된다. ndim과 shape 속성을 검사해서 이를 확인할 수 있다."
      ],
      "metadata": {
        "id": "OLUobeI2XkMk"
      },
      "execution_count": 39,
      "outputs": []
    },
    {
      "cell_type": "code",
      "source": [
        "arr2.ndim"
      ],
      "metadata": {
        "colab": {
          "base_uri": "https://localhost:8080/"
        },
        "id": "h3g2cTK3X9O6",
        "outputId": "9ed8bc49-f14f-4806-ccf7-7e5b8ab430e6"
      },
      "execution_count": 40,
      "outputs": [
        {
          "output_type": "execute_result",
          "data": {
            "text/plain": [
              "2"
            ]
          },
          "metadata": {},
          "execution_count": 40
        }
      ]
    },
    {
      "cell_type": "code",
      "source": [
        "arr2.shape"
      ],
      "metadata": {
        "colab": {
          "base_uri": "https://localhost:8080/"
        },
        "id": "ny5e6GoyYAot",
        "outputId": "c17112c4-8eb2-4891-c194-e129be6516c8"
      },
      "execution_count": 41,
      "outputs": [
        {
          "output_type": "execute_result",
          "data": {
            "text/plain": [
              "(2, 4)"
            ]
          },
          "metadata": {},
          "execution_count": 41
        }
      ]
    },
    {
      "cell_type": "code",
      "source": [
        "# 명시적으로 지정하지 않는 한 np.array는 생성될 때 적절한 자료형을 추론한다. 그렇게 추론된 자료형은 dtype 객체에 저장되는데 앞서 살펴본 예제에서 확인해보면 다음과 같다."
      ],
      "metadata": {
        "id": "Ah1xflbhYB79"
      },
      "execution_count": 42,
      "outputs": []
    },
    {
      "cell_type": "code",
      "source": [
        "arr1.dtype  "
      ],
      "metadata": {
        "colab": {
          "base_uri": "https://localhost:8080/"
        },
        "id": "AoWMr7B7dGuY",
        "outputId": "8dd226ec-ab74-445a-811f-0cbf00c02a26"
      },
      "execution_count": 43,
      "outputs": [
        {
          "output_type": "execute_result",
          "data": {
            "text/plain": [
              "dtype('float64')"
            ]
          },
          "metadata": {},
          "execution_count": 43
        }
      ]
    },
    {
      "cell_type": "code",
      "source": [
        "arr2.dtype"
      ],
      "metadata": {
        "colab": {
          "base_uri": "https://localhost:8080/"
        },
        "id": "WrHVkdv_dK4m",
        "outputId": "5c0e889a-77e6-4e7c-b29a-c8be98800983"
      },
      "execution_count": 44,
      "outputs": [
        {
          "output_type": "execute_result",
          "data": {
            "text/plain": [
              "dtype('int64')"
            ]
          },
          "metadata": {},
          "execution_count": 44
        }
      ]
    },
    {
      "cell_type": "code",
      "source": [
        "# 또한 np.array는 새로운 배열을 생성하기 위한 여러 함수를 가지고 있는데, 예를 들어 zeros와 ones는 주어진 길이나 모양에 각각 0과 1이 들어있는 배열을 생성한다. "
      ],
      "metadata": {
        "id": "KyeMrigzjo2O"
      },
      "execution_count": 45,
      "outputs": []
    },
    {
      "cell_type": "code",
      "source": [
        "# empty 함수는 초기화되지 않은 배열을 생성한다. 이런 메서드를 사용해서 다차원 배열을 생성하려면 원하는 형태의 튜플을 넘기면 된다."
      ],
      "metadata": {
        "id": "DkSDs86cj-B7"
      },
      "execution_count": 46,
      "outputs": []
    },
    {
      "cell_type": "code",
      "source": [
        "np.zeros(10)"
      ],
      "metadata": {
        "colab": {
          "base_uri": "https://localhost:8080/"
        },
        "id": "3Okf9XE9kHsR",
        "outputId": "c56a1af1-2884-476a-d5b5-da1e28d644e3"
      },
      "execution_count": 47,
      "outputs": [
        {
          "output_type": "execute_result",
          "data": {
            "text/plain": [
              "array([0., 0., 0., 0., 0., 0., 0., 0., 0., 0.])"
            ]
          },
          "metadata": {},
          "execution_count": 47
        }
      ]
    },
    {
      "cell_type": "code",
      "source": [
        "np.zeros((3, 6))"
      ],
      "metadata": {
        "colab": {
          "base_uri": "https://localhost:8080/"
        },
        "id": "aCmhuZpakK36",
        "outputId": "3bd226a9-7c15-4961-854a-9f710efe6c67"
      },
      "execution_count": 48,
      "outputs": [
        {
          "output_type": "execute_result",
          "data": {
            "text/plain": [
              "array([[0., 0., 0., 0., 0., 0.],\n",
              "       [0., 0., 0., 0., 0., 0.],\n",
              "       [0., 0., 0., 0., 0., 0.]])"
            ]
          },
          "metadata": {},
          "execution_count": 48
        }
      ]
    },
    {
      "cell_type": "code",
      "source": [
        "np.zeros((2, 3, 2))"
      ],
      "metadata": {
        "colab": {
          "base_uri": "https://localhost:8080/"
        },
        "id": "PSBfqFOTkOtH",
        "outputId": "90dbdeac-c9c5-45bc-c318-4b61ff22dea4"
      },
      "execution_count": 49,
      "outputs": [
        {
          "output_type": "execute_result",
          "data": {
            "text/plain": [
              "array([[[0., 0.],\n",
              "        [0., 0.],\n",
              "        [0., 0.]],\n",
              "\n",
              "       [[0., 0.],\n",
              "        [0., 0.],\n",
              "        [0., 0.]]])"
            ]
          },
          "metadata": {},
          "execution_count": 49
        }
      ]
    },
    {
      "cell_type": "code",
      "source": [
        "# np.empty는 0으로 초기화된 배열을 반환하지 않는다. 앞서 살펴본 바와 같이 대부분의 경우 np.empty는 초기화되지 않은 \"가비지\"값으로 채워진 배열을 반환한다."
      ],
      "metadata": {
        "id": "3iA6Zt3bkZMD"
      },
      "execution_count": 50,
      "outputs": []
    },
    {
      "cell_type": "code",
      "source": [
        "# arange는 파이썬의 range 함수의 배열 버전이다."
      ],
      "metadata": {
        "id": "Nl_o2vXtktOE"
      },
      "execution_count": 51,
      "outputs": []
    },
    {
      "cell_type": "code",
      "source": [
        "np.arange(15)"
      ],
      "metadata": {
        "colab": {
          "base_uri": "https://localhost:8080/"
        },
        "id": "ocr2p2XMkyYQ",
        "outputId": "4bf63855-0545-41ba-92b7-61b08696c9ce"
      },
      "execution_count": 52,
      "outputs": [
        {
          "output_type": "execute_result",
          "data": {
            "text/plain": [
              "array([ 0,  1,  2,  3,  4,  5,  6,  7,  8,  9, 10, 11, 12, 13, 14])"
            ]
          },
          "metadata": {},
          "execution_count": 52
        }
      ]
    },
    {
      "cell_type": "code",
      "source": [
        "# 표 4-1은 표준 배열 생성 함수의 목록이다. NumPy는 산술 연산에 초점이 맞춰져 있기 때문에 만약 자료형을 명시하지 않으면 float64(부동소수점)가 될 것이다. 페이지 139쪽"
      ],
      "metadata": {
        "id": "bYIh7fJbk1Z3"
      },
      "execution_count": 53,
      "outputs": []
    },
    {
      "cell_type": "code",
      "source": [
        "# 4.1.2 ndarray의 dtype"
      ],
      "metadata": {
        "id": "WRcpX30NlXOP"
      },
      "execution_count": 54,
      "outputs": []
    },
    {
      "cell_type": "code",
      "source": [
        "# dtype은 ndarray가 메모리에 있는 특정 데이터를 해석하기 위해 필요한 정보(또는 메타데이터)를 담고 있는 특수한 객체다. "
      ],
      "metadata": {
        "id": "8E2MvbELnNCW"
      },
      "execution_count": 55,
      "outputs": []
    },
    {
      "cell_type": "code",
      "source": [
        "arr1 = np.array([1, 2, 3], dtype=np.float64)"
      ],
      "metadata": {
        "id": "YJsp7bC9n7I8"
      },
      "execution_count": 56,
      "outputs": []
    },
    {
      "cell_type": "code",
      "source": [
        "arr2 = np.array([1, 2, 3], dtype=np.int32)"
      ],
      "metadata": {
        "id": "R2VgDySsoCQ9"
      },
      "execution_count": 57,
      "outputs": []
    },
    {
      "cell_type": "code",
      "source": [
        "arr1.dtype"
      ],
      "metadata": {
        "colab": {
          "base_uri": "https://localhost:8080/"
        },
        "id": "9QtTUF6LoJdx",
        "outputId": "73f207d3-7db9-41ad-87b0-31bebe84bff4"
      },
      "execution_count": 58,
      "outputs": [
        {
          "output_type": "execute_result",
          "data": {
            "text/plain": [
              "dtype('float64')"
            ]
          },
          "metadata": {},
          "execution_count": 58
        }
      ]
    },
    {
      "cell_type": "code",
      "source": [
        "arr2.dtype"
      ],
      "metadata": {
        "colab": {
          "base_uri": "https://localhost:8080/"
        },
        "id": "g9MfMscyoLan",
        "outputId": "2bbc56b5-54fc-4e93-af7b-07bd38b31383"
      },
      "execution_count": 59,
      "outputs": [
        {
          "output_type": "execute_result",
          "data": {
            "text/plain": [
              "dtype('int32')"
            ]
          },
          "metadata": {},
          "execution_count": 59
        }
      ]
    },
    {
      "cell_type": "code",
      "source": [
        "# dtype이 있기에 NumPy가 강력하면서도 유연한 도구가 될 수 있었는데, 대부분의 경우 데이터는 디스크에서 데이터를 읽고 쓰기 편하도록 하위 레벨의 표현에 직접적으로 맞춰져 있다.\n",
        "# 따라서 C나 포트란 같은 저수준 언어로 작성된 코드와 쉽게 연동이 가능하다. "
      ],
      "metadata": {
        "id": "NcC8EA7yoNZi"
      },
      "execution_count": 60,
      "outputs": []
    },
    {
      "cell_type": "code",
      "source": [
        "# 산술 데이터의 dtype은 float나 int 같은 자료형의 이름과 하나의 원소가 차지하는 비트 수로 이루어진다.\n",
        "# 파이썬의 float 객체에서 사용되는 표준 배정밀도 부동소수점 값은 8바이트 혹은 64비트로 이루어지는데 이 자료형은 NumPy에서 float64로 표현된다."
      ],
      "metadata": {
        "id": "cG3jWRhKTEhl"
      },
      "execution_count": 61,
      "outputs": []
    },
    {
      "cell_type": "code",
      "source": [
        "# 표 4-2는 NumPy가 지원하는 모든 자료형의 목록이다. 페이지 140쪽 NumPy 자료형"
      ],
      "metadata": {
        "id": "4LzVPS6vTVH3"
      },
      "execution_count": 62,
      "outputs": []
    },
    {
      "cell_type": "code",
      "source": [
        "# ndarray의 astype 메서드를 사용해서 배열의 dtype을 다른 형으로 명시적으로 변환(또는 캐스팅) 가능하다. "
      ],
      "metadata": {
        "id": "jdq1PhXNTakr"
      },
      "execution_count": 63,
      "outputs": []
    },
    {
      "cell_type": "code",
      "source": [
        "arr = np.array([1, 2, 3, 4, 5])"
      ],
      "metadata": {
        "id": "H5hTwOlaUQap"
      },
      "execution_count": 64,
      "outputs": []
    },
    {
      "cell_type": "code",
      "source": [
        "arr.dtype"
      ],
      "metadata": {
        "colab": {
          "base_uri": "https://localhost:8080/"
        },
        "id": "FUiPiC0-UTF8",
        "outputId": "8c745976-3f4e-4ce1-f876-cb64053a8ad2"
      },
      "execution_count": 65,
      "outputs": [
        {
          "output_type": "execute_result",
          "data": {
            "text/plain": [
              "dtype('int64')"
            ]
          },
          "metadata": {},
          "execution_count": 65
        }
      ]
    },
    {
      "cell_type": "code",
      "source": [
        "float_arr = arr.astype(np.float64)"
      ],
      "metadata": {
        "id": "aV6oDfVqUT6t"
      },
      "execution_count": 66,
      "outputs": []
    },
    {
      "cell_type": "code",
      "source": [
        "float_arr.dtype"
      ],
      "metadata": {
        "colab": {
          "base_uri": "https://localhost:8080/"
        },
        "id": "7x58A5bTUYfM",
        "outputId": "2382fed9-2d89-4553-b8a4-c00d6609932c"
      },
      "execution_count": 67,
      "outputs": [
        {
          "output_type": "execute_result",
          "data": {
            "text/plain": [
              "dtype('float64')"
            ]
          },
          "metadata": {},
          "execution_count": 67
        }
      ]
    },
    {
      "cell_type": "code",
      "source": [
        "# 위 예제에서는 정수형을 부동소수점으로 변환했다. 만약 부동소수점수를 정수형 dtype으로 변환하면 소수점 아래 자리는 버려진다."
      ],
      "metadata": {
        "id": "88HzBydvUaFV"
      },
      "execution_count": 68,
      "outputs": []
    },
    {
      "cell_type": "code",
      "source": [
        "arr = np.array([3.7, -1.2, -2.6, 0.5, 12.9, 10.1])"
      ],
      "metadata": {
        "id": "r22usvVQVVjS"
      },
      "execution_count": 69,
      "outputs": []
    },
    {
      "cell_type": "code",
      "source": [
        "arr"
      ],
      "metadata": {
        "colab": {
          "base_uri": "https://localhost:8080/"
        },
        "id": "6Fgy8zr5Vb4_",
        "outputId": "8d77ed86-4cd9-42c4-b25e-42c3043b96f4"
      },
      "execution_count": 70,
      "outputs": [
        {
          "output_type": "execute_result",
          "data": {
            "text/plain": [
              "array([ 3.7, -1.2, -2.6,  0.5, 12.9, 10.1])"
            ]
          },
          "metadata": {},
          "execution_count": 70
        }
      ]
    },
    {
      "cell_type": "code",
      "source": [
        "arr.astype(np.int32)"
      ],
      "metadata": {
        "colab": {
          "base_uri": "https://localhost:8080/"
        },
        "id": "iYbMC6fYVcrO",
        "outputId": "73f49f78-80b5-470c-df47-7923b2361a5f"
      },
      "execution_count": 71,
      "outputs": [
        {
          "output_type": "execute_result",
          "data": {
            "text/plain": [
              "array([ 3, -1, -2,  0, 12, 10], dtype=int32)"
            ]
          },
          "metadata": {},
          "execution_count": 71
        }
      ]
    },
    {
      "cell_type": "code",
      "source": [
        "# 숫자 형식의 문자열을 담고 있는 배열이 있다면 astype을 사용하여 숫자로 변환할 수 있다. "
      ],
      "metadata": {
        "id": "w07eQdlNVfTZ"
      },
      "execution_count": 72,
      "outputs": []
    },
    {
      "cell_type": "code",
      "source": [
        "numeric_strings = np.array([\"1.25\", \"-9.6\", \"42\"], dtype = np.string_)"
      ],
      "metadata": {
        "id": "crx3xHiWVlXI"
      },
      "execution_count": 73,
      "outputs": []
    },
    {
      "cell_type": "code",
      "source": [
        "numeric_strings.astype(float)"
      ],
      "metadata": {
        "colab": {
          "base_uri": "https://localhost:8080/"
        },
        "id": "LS2tUpjNVwsF",
        "outputId": "ca40b7c0-1448-4ee4-efac-2da5cb3bea50"
      },
      "execution_count": 74,
      "outputs": [
        {
          "output_type": "execute_result",
          "data": {
            "text/plain": [
              "array([ 1.25, -9.6 , 42.  ])"
            ]
          },
          "metadata": {},
          "execution_count": 74
        }
      ]
    },
    {
      "cell_type": "code",
      "source": [
        "# 주의! NumPy에서 문자열 데이터는 고정 크기를 가지며 별다른 경고를 출력하지 않고 입력을 임의로 잘라낼 수 있으므로 numpy.string_형을 이용할 때는 주의하는 것이 좋다. \n",
        "# pandas는 숫자 형식이 아닌 경우에 좀 더 직관적인 사용성을 제공한다."
      ],
      "metadata": {
        "id": "jehUr_1HV3MT"
      },
      "execution_count": 75,
      "outputs": []
    },
    {
      "cell_type": "code",
      "source": [
        "# 만일 어떤 이유(문자열이 float64형으로 변환되지 않는 경우와 같은)로 형변환이 실패하면 ValueError 예외가 발생한다. \n",
        "# 위 예에서 나는 귀찮아서 np.float64 대신 float라고 입력했는데 똑똑한 NumPy는 파이썬 자료형을 알맞은 dtype으로 맞춰준다."
      ],
      "metadata": {
        "id": "0mkO8lhaWer0"
      },
      "execution_count": 76,
      "outputs": []
    },
    {
      "cell_type": "code",
      "source": [
        "# 다른 배열의 dtype 속성을 이용하는 것도 가능하다."
      ],
      "metadata": {
        "id": "ojJj92Y7Xpc5"
      },
      "execution_count": 77,
      "outputs": []
    },
    {
      "cell_type": "code",
      "source": [
        "int_array = np.arange(10)"
      ],
      "metadata": {
        "id": "4ENF32Y3X9WM"
      },
      "execution_count": 78,
      "outputs": []
    },
    {
      "cell_type": "code",
      "source": [
        "calibers = np.array([.22, .270, .357, .380, .44, .50], dtype = np.float64)"
      ],
      "metadata": {
        "id": "5JQpNwxGYAV1"
      },
      "execution_count": 79,
      "outputs": []
    },
    {
      "cell_type": "code",
      "source": [
        "int_array.astype(calibers.dtype)"
      ],
      "metadata": {
        "colab": {
          "base_uri": "https://localhost:8080/"
        },
        "id": "QKbbsz3tYpNk",
        "outputId": "2409b8da-e1c5-4045-f788-21bad09d7e19"
      },
      "execution_count": 80,
      "outputs": [
        {
          "output_type": "execute_result",
          "data": {
            "text/plain": [
              "array([0., 1., 2., 3., 4., 5., 6., 7., 8., 9.])"
            ]
          },
          "metadata": {},
          "execution_count": 80
        }
      ]
    },
    {
      "cell_type": "code",
      "source": [
        "# dtype으로 사용할 수 있는 축약 코드도 있다. "
      ],
      "metadata": {
        "id": "3XTnTk12YuUb"
      },
      "execution_count": 81,
      "outputs": []
    },
    {
      "cell_type": "code",
      "source": [
        "empty_uint32 = np.empty(8, dtype = \"u4\")"
      ],
      "metadata": {
        "id": "aVkdEvDiY0Sz"
      },
      "execution_count": 82,
      "outputs": []
    },
    {
      "cell_type": "code",
      "source": [
        "empty_uint32"
      ],
      "metadata": {
        "colab": {
          "base_uri": "https://localhost:8080/"
        },
        "id": "TOuy4XeZY9AK",
        "outputId": "8f092aa9-8715-469a-a65a-47986ef48e66"
      },
      "execution_count": 83,
      "outputs": [
        {
          "output_type": "execute_result",
          "data": {
            "text/plain": [
              "array([         0, 1075314688,          0, 1075707904,          0,\n",
              "       1075838976,          0, 1072693248], dtype=uint32)"
            ]
          },
          "metadata": {},
          "execution_count": 83
        }
      ]
    },
    {
      "cell_type": "code",
      "source": [
        "# Note! astype을 호출하면 새로운 dtype이 이전 dtype과 동일해도 항상 새로운 배열을 생성(데이터를 복사)한다."
      ],
      "metadata": {
        "id": "QQilFK4oY-yU"
      },
      "execution_count": 84,
      "outputs": []
    },
    {
      "cell_type": "code",
      "source": [
        "# 4.1.3 NumPy 배열의 산술 연산"
      ],
      "metadata": {
        "id": "g-NfWB01ZKIB"
      },
      "execution_count": 85,
      "outputs": []
    },
    {
      "cell_type": "code",
      "source": [
        "# 배열의 중요한 특징은 for 문을 작성하지 않고 데이터를 일괄 처리할 수 있다는 것이다. 이를 벡터화라고 하는데, 같은 크기의 배열 간의 산술 연산은 배열의 각 원소 단위로 적용된다."
      ],
      "metadata": {
        "id": "Rlt9G7fEZN1j"
      },
      "execution_count": 86,
      "outputs": []
    },
    {
      "cell_type": "code",
      "source": [
        "arr = np.array([[1, 2, 3], [4, 5, 6]])"
      ],
      "metadata": {
        "id": "gO2InvpKeGa0"
      },
      "execution_count": 87,
      "outputs": []
    },
    {
      "cell_type": "code",
      "source": [
        "arr"
      ],
      "metadata": {
        "colab": {
          "base_uri": "https://localhost:8080/"
        },
        "id": "X6yfPRUceLKp",
        "outputId": "b04146e5-eeec-492c-dae4-c1ceddff498a"
      },
      "execution_count": 88,
      "outputs": [
        {
          "output_type": "execute_result",
          "data": {
            "text/plain": [
              "array([[1, 2, 3],\n",
              "       [4, 5, 6]])"
            ]
          },
          "metadata": {},
          "execution_count": 88
        }
      ]
    },
    {
      "cell_type": "code",
      "source": [
        "arr * arr"
      ],
      "metadata": {
        "colab": {
          "base_uri": "https://localhost:8080/"
        },
        "id": "_l0pw0jneLe1",
        "outputId": "6bbbfd63-4659-490c-f494-d0f7eb0e78bf"
      },
      "execution_count": 89,
      "outputs": [
        {
          "output_type": "execute_result",
          "data": {
            "text/plain": [
              "array([[ 1,  4,  9],\n",
              "       [16, 25, 36]])"
            ]
          },
          "metadata": {},
          "execution_count": 89
        }
      ]
    },
    {
      "cell_type": "code",
      "source": [
        "arr - arr"
      ],
      "metadata": {
        "colab": {
          "base_uri": "https://localhost:8080/"
        },
        "id": "mVKQ4O7veNQF",
        "outputId": "d1413c3d-cf55-4d73-de99-0dddc12ab01e"
      },
      "execution_count": 90,
      "outputs": [
        {
          "output_type": "execute_result",
          "data": {
            "text/plain": [
              "array([[0, 0, 0],\n",
              "       [0, 0, 0]])"
            ]
          },
          "metadata": {},
          "execution_count": 90
        }
      ]
    },
    {
      "cell_type": "code",
      "source": [
        "# 스칼라 인자가 포함된 산술 연산의 경우 배열 내의 모든 원소에 스칼라 인자가 적용된다."
      ],
      "metadata": {
        "id": "4pDEpt8BeOS3"
      },
      "execution_count": 91,
      "outputs": []
    },
    {
      "cell_type": "code",
      "source": [
        "1 / arr"
      ],
      "metadata": {
        "colab": {
          "base_uri": "https://localhost:8080/"
        },
        "id": "WBpY_4J9eT_z",
        "outputId": "f463f460-bc8d-40a1-f44b-397fe25c847c"
      },
      "execution_count": 92,
      "outputs": [
        {
          "output_type": "execute_result",
          "data": {
            "text/plain": [
              "array([[1.        , 0.5       , 0.33333333],\n",
              "       [0.25      , 0.2       , 0.16666667]])"
            ]
          },
          "metadata": {},
          "execution_count": 92
        }
      ]
    },
    {
      "cell_type": "code",
      "source": [
        "arr ** 0.5"
      ],
      "metadata": {
        "colab": {
          "base_uri": "https://localhost:8080/"
        },
        "id": "GCJtUaM2ec_x",
        "outputId": "bf513027-fef8-4398-bdeb-f3e9b12426c2"
      },
      "execution_count": 93,
      "outputs": [
        {
          "output_type": "execute_result",
          "data": {
            "text/plain": [
              "array([[1.        , 1.41421356, 1.73205081],\n",
              "       [2.        , 2.23606798, 2.44948974]])"
            ]
          },
          "metadata": {},
          "execution_count": 93
        }
      ]
    },
    {
      "cell_type": "code",
      "source": [
        "# 같은 크기를 가지는 배열 간의 비교 연산은 불리언 배열을 반환한다."
      ],
      "metadata": {
        "id": "isd2W0ZwefD9"
      },
      "execution_count": 94,
      "outputs": []
    },
    {
      "cell_type": "code",
      "source": [
        "arr2 = np.array([[0., 4., 1.], [7., 2., 12.]])"
      ],
      "metadata": {
        "id": "R6vpk-r0eiso"
      },
      "execution_count": 95,
      "outputs": []
    },
    {
      "cell_type": "code",
      "source": [
        "arr2"
      ],
      "metadata": {
        "colab": {
          "base_uri": "https://localhost:8080/"
        },
        "id": "mJpgnyTEer5Q",
        "outputId": "86f5e909-ee1c-4303-bed2-5003669afbe9"
      },
      "execution_count": 96,
      "outputs": [
        {
          "output_type": "execute_result",
          "data": {
            "text/plain": [
              "array([[ 0.,  4.,  1.],\n",
              "       [ 7.,  2., 12.]])"
            ]
          },
          "metadata": {},
          "execution_count": 96
        }
      ]
    },
    {
      "cell_type": "code",
      "source": [
        "arr2 > arr"
      ],
      "metadata": {
        "colab": {
          "base_uri": "https://localhost:8080/"
        },
        "id": "-mmRXogGeshV",
        "outputId": "63cbfe31-999d-4292-facf-8deb54f01fab"
      },
      "execution_count": 97,
      "outputs": [
        {
          "output_type": "execute_result",
          "data": {
            "text/plain": [
              "array([[False,  True, False],\n",
              "       [ True, False,  True]])"
            ]
          },
          "metadata": {},
          "execution_count": 97
        }
      ]
    },
    {
      "cell_type": "code",
      "source": [
        "# 크기가 다른 배열 간의 연산은 브로드캐스팅이라고 하는데 12장에서 자세히 다루자. 이 책을 이해하기 위해 브로드캐스팅을 깊이 알고 있을 필요는 없다."
      ],
      "metadata": {
        "id": "ZSoTTx_-et3z"
      },
      "execution_count": 98,
      "outputs": []
    },
    {
      "cell_type": "code",
      "source": [
        "# 4.1.4 색인과 슬라이싱 기초"
      ],
      "metadata": {
        "id": "C1gCnBfre2Pe"
      },
      "execution_count": 99,
      "outputs": []
    },
    {
      "cell_type": "code",
      "source": [
        "# NumPy 배열 색인에 대해서, 데이터의 부분집합이나 개별 요소를 선택하기 위한 수많은 방법이 존재한다. 1차원 배열은 단순한데, 표면적으로는 파이썬의 리스트와 유사하게 동작한다."
      ],
      "metadata": {
        "id": "zy071lLze7qd"
      },
      "execution_count": 100,
      "outputs": []
    },
    {
      "cell_type": "code",
      "source": [
        "arr = np.arange(10)"
      ],
      "metadata": {
        "id": "fMWg0V0qfrle"
      },
      "execution_count": 101,
      "outputs": []
    },
    {
      "cell_type": "code",
      "source": [
        "arr"
      ],
      "metadata": {
        "colab": {
          "base_uri": "https://localhost:8080/"
        },
        "id": "TnE2kdb8gNcD",
        "outputId": "35a707c7-d2f0-4cb2-a946-c505312d6f05"
      },
      "execution_count": 102,
      "outputs": [
        {
          "output_type": "execute_result",
          "data": {
            "text/plain": [
              "array([0, 1, 2, 3, 4, 5, 6, 7, 8, 9])"
            ]
          },
          "metadata": {},
          "execution_count": 102
        }
      ]
    },
    {
      "cell_type": "code",
      "source": [
        "arr[5]"
      ],
      "metadata": {
        "colab": {
          "base_uri": "https://localhost:8080/"
        },
        "id": "QbGxI2KvgN0M",
        "outputId": "0db5ebc9-d4aa-4a4c-98c4-41e2ef510d8b"
      },
      "execution_count": 103,
      "outputs": [
        {
          "output_type": "execute_result",
          "data": {
            "text/plain": [
              "5"
            ]
          },
          "metadata": {},
          "execution_count": 103
        }
      ]
    },
    {
      "cell_type": "code",
      "source": [
        "arr[5:8]"
      ],
      "metadata": {
        "colab": {
          "base_uri": "https://localhost:8080/"
        },
        "id": "8Y89HZBfgOxa",
        "outputId": "65da9d6e-5448-47f7-9333-2836c8cc1329"
      },
      "execution_count": 104,
      "outputs": [
        {
          "output_type": "execute_result",
          "data": {
            "text/plain": [
              "array([5, 6, 7])"
            ]
          },
          "metadata": {},
          "execution_count": 104
        }
      ]
    },
    {
      "cell_type": "code",
      "source": [
        "arr[5:8] = 12"
      ],
      "metadata": {
        "id": "hFkm230vgR5P"
      },
      "execution_count": 105,
      "outputs": []
    },
    {
      "cell_type": "code",
      "source": [
        "arr"
      ],
      "metadata": {
        "colab": {
          "base_uri": "https://localhost:8080/"
        },
        "id": "D9yBNb-dgVJU",
        "outputId": "cc75ca7a-1714-4e23-eb0e-30b11131b6c1"
      },
      "execution_count": 106,
      "outputs": [
        {
          "output_type": "execute_result",
          "data": {
            "text/plain": [
              "array([ 0,  1,  2,  3,  4, 12, 12, 12,  8,  9])"
            ]
          },
          "metadata": {},
          "execution_count": 106
        }
      ]
    },
    {
      "cell_type": "code",
      "source": [
        "# 위에서 볼 수 있듯이 arr[5:8] = 12처럼 배열 조각에 스칼라값을 대입하면 12가 선택 영역 전체로 전파(또는 브로드캐스팅)된다. \n",
        "# 리스트와의 차이점 중 중요한 점은 배열 조각은 원본 배열의 뷰라는 점이다. 즉, 데이터는 복사되지 않고 뷰에 대한 변경은 그대로 원본 배열에 반영된다. "
      ],
      "metadata": {
        "id": "Skkmw0CagVqN"
      },
      "execution_count": 107,
      "outputs": []
    },
    {
      "cell_type": "code",
      "source": [
        "# 이에 대한 예제로 먼저 arr 배열의 슬라이스를 생성해보자."
      ],
      "metadata": {
        "id": "hWWghacggu4e"
      },
      "execution_count": 108,
      "outputs": []
    },
    {
      "cell_type": "code",
      "source": [
        "arr_slice = arr[5:8]"
      ],
      "metadata": {
        "id": "IevFJVmVhJnC"
      },
      "execution_count": 109,
      "outputs": []
    },
    {
      "cell_type": "code",
      "source": [
        "arr_slice"
      ],
      "metadata": {
        "colab": {
          "base_uri": "https://localhost:8080/"
        },
        "id": "kHA5RBOchNlh",
        "outputId": "f4ac354f-2c70-4c38-edd6-aee537fe9e50"
      },
      "execution_count": 110,
      "outputs": [
        {
          "output_type": "execute_result",
          "data": {
            "text/plain": [
              "array([12, 12, 12])"
            ]
          },
          "metadata": {},
          "execution_count": 110
        }
      ]
    },
    {
      "cell_type": "code",
      "source": [
        "# 그리고 arr_slice의 값을 변경하면 원래 배열인 arr의 값도 바뀌어 있음을 확인할 수 있다."
      ],
      "metadata": {
        "id": "jIR3yFoehOVN"
      },
      "execution_count": 111,
      "outputs": []
    },
    {
      "cell_type": "code",
      "source": [
        "arr_slice[1] = 12345"
      ],
      "metadata": {
        "id": "CrAEfHLzhWLR"
      },
      "execution_count": 112,
      "outputs": []
    },
    {
      "cell_type": "code",
      "source": [
        "arr"
      ],
      "metadata": {
        "colab": {
          "base_uri": "https://localhost:8080/"
        },
        "id": "Rbujziy2hZdH",
        "outputId": "0eef7cbb-29bf-4bf7-b013-57295f4b1177"
      },
      "execution_count": 113,
      "outputs": [
        {
          "output_type": "execute_result",
          "data": {
            "text/plain": [
              "array([    0,     1,     2,     3,     4,    12, 12345,    12,     8,\n",
              "           9])"
            ]
          },
          "metadata": {},
          "execution_count": 113
        }
      ]
    },
    {
      "cell_type": "code",
      "source": [
        "# 단순히 [:]로 슬라이스를 하면 배열의 모든 값을 할당한다."
      ],
      "metadata": {
        "id": "HYlZhJdjhZwb"
      },
      "execution_count": 114,
      "outputs": []
    },
    {
      "cell_type": "code",
      "source": [
        "arr_slice[:] = 64"
      ],
      "metadata": {
        "id": "siUADupAhgQS"
      },
      "execution_count": 115,
      "outputs": []
    },
    {
      "cell_type": "code",
      "source": [
        "arr"
      ],
      "metadata": {
        "colab": {
          "base_uri": "https://localhost:8080/"
        },
        "id": "QHFe-VhvhivG",
        "outputId": "51f1fada-c8cb-4e80-e465-0cdedf205d3b"
      },
      "execution_count": 116,
      "outputs": [
        {
          "output_type": "execute_result",
          "data": {
            "text/plain": [
              "array([ 0,  1,  2,  3,  4, 64, 64, 64,  8,  9])"
            ]
          },
          "metadata": {},
          "execution_count": 116
        }
      ]
    },
    {
      "cell_type": "code",
      "source": [
        "# NumPy를 처음 접한다면, 특히 데이터 복사가 자주 일어나는 다른 배열 프로그래밍 언어를 사용해본 적이 있다면 데이터가 복사되지 않는다는 점은 놀랄 만한 사실이다. \n",
        "# NumPy는 대용량의 데이터 처리를 염두에 두고 설계되었기 때문에 만약 NumPy가 데이터 복사를 남발한다면 성능과 메모리 문제에 마주치게 될 것이다."
      ],
      "metadata": {
        "id": "ScL1OKTvhi_R"
      },
      "execution_count": 117,
      "outputs": []
    },
    {
      "cell_type": "code",
      "source": [
        "# 주의! 만약에 뷰 대신 ndarray 슬라이스의 복사본을 얻고 싶다면 arr[5:8].copy()를 사용해서 명시적으로 배열을 복사해야 한다."
      ],
      "metadata": {
        "id": "rYIiK2U6jB4P"
      },
      "execution_count": 118,
      "outputs": []
    },
    {
      "cell_type": "code",
      "source": [
        "# 다차원 배열을 다룰 때는 좀 더 많은 옵션이 있다. 2차원 배열에서 각 색인에 해당하는 요소는 스칼라값이 아니라 1차원 배열이다."
      ],
      "metadata": {
        "id": "IlORKYKXjK_5"
      },
      "execution_count": 119,
      "outputs": []
    },
    {
      "cell_type": "code",
      "source": [
        "arr2d = np.array([[1, 2, 3], [4, 5, 6], [7, 8, 9]])"
      ],
      "metadata": {
        "id": "Fgq7QqrHjTLA"
      },
      "execution_count": 120,
      "outputs": []
    },
    {
      "cell_type": "code",
      "source": [
        "arr2d[2]"
      ],
      "metadata": {
        "colab": {
          "base_uri": "https://localhost:8080/"
        },
        "id": "2hBXGMXfkHQP",
        "outputId": "a6939b53-3065-4fef-d031-7ef43b3f7580"
      },
      "execution_count": 121,
      "outputs": [
        {
          "output_type": "execute_result",
          "data": {
            "text/plain": [
              "array([7, 8, 9])"
            ]
          },
          "metadata": {},
          "execution_count": 121
        }
      ]
    },
    {
      "cell_type": "code",
      "source": [
        "# 따라서 개별 요소는 재귀적으로 접근해야 한다. 하지만 그렇게 하기는 귀찮기 때문에 콤마로 구분된 색인 리스트를 넘기면 된다. 그러므로 다음 두 표현은 동일하다."
      ],
      "metadata": {
        "id": "Sg7GDkAOkH-O"
      },
      "execution_count": 122,
      "outputs": []
    },
    {
      "cell_type": "code",
      "source": [
        "arr2d[0][2]"
      ],
      "metadata": {
        "colab": {
          "base_uri": "https://localhost:8080/"
        },
        "id": "yzrgoTbtkS9q",
        "outputId": "37f57e9b-5248-4d7d-f153-ea43ae4ea276"
      },
      "execution_count": 123,
      "outputs": [
        {
          "output_type": "execute_result",
          "data": {
            "text/plain": [
              "3"
            ]
          },
          "metadata": {},
          "execution_count": 123
        }
      ]
    },
    {
      "cell_type": "code",
      "source": [
        "arr2d[0, 2]"
      ],
      "metadata": {
        "colab": {
          "base_uri": "https://localhost:8080/"
        },
        "id": "5Fg02al8kWkv",
        "outputId": "f4025615-176b-4aac-988a-4f241b63eebb"
      },
      "execution_count": 124,
      "outputs": [
        {
          "output_type": "execute_result",
          "data": {
            "text/plain": [
              "3"
            ]
          },
          "metadata": {},
          "execution_count": 124
        }
      ]
    },
    {
      "cell_type": "code",
      "source": [
        "# 그림 [4-1](페이지 146)에 2차원 배열에 대한 색인을 나타냈다. 0번 축을 \"로우\"로 생각하고 1번 축을 \"컬럼\"으로 생각하면 이해하기 쉽다."
      ],
      "metadata": {
        "id": "0Djl13DtkX-t"
      },
      "execution_count": 125,
      "outputs": []
    },
    {
      "cell_type": "code",
      "source": [
        "# 다차원 배열에서 마지막 색인을 생략하면 반환되는 객체는 상위 차원의 데이터를 포함하고 있는 한 차원 낮은 ndarray가 된다. 2x2x3 크기의 배열 arr3d가 있다면"
      ],
      "metadata": {
        "id": "VgfhVDRSkm8h"
      },
      "execution_count": 126,
      "outputs": []
    },
    {
      "cell_type": "code",
      "source": [
        "arr3d = np.array([[[1, 2, 3], [4, 5, 6]], [[7, 8, 9], [10, 11, 12]]])"
      ],
      "metadata": {
        "id": "ep0xE3aRmOty"
      },
      "execution_count": 127,
      "outputs": []
    },
    {
      "cell_type": "code",
      "source": [
        "arr3d"
      ],
      "metadata": {
        "colab": {
          "base_uri": "https://localhost:8080/"
        },
        "id": "lu3L4eCImafX",
        "outputId": "10a3cea5-e31a-4014-9a31-d77c7af997b0"
      },
      "execution_count": 128,
      "outputs": [
        {
          "output_type": "execute_result",
          "data": {
            "text/plain": [
              "array([[[ 1,  2,  3],\n",
              "        [ 4,  5,  6]],\n",
              "\n",
              "       [[ 7,  8,  9],\n",
              "        [10, 11, 12]]])"
            ]
          },
          "metadata": {},
          "execution_count": 128
        }
      ]
    },
    {
      "cell_type": "code",
      "source": [
        "# arr3d[0]은 2 x 3 크기의 배열이다."
      ],
      "metadata": {
        "id": "M-JNvGXHmbli"
      },
      "execution_count": 129,
      "outputs": []
    },
    {
      "cell_type": "code",
      "source": [
        "arr3d[0]"
      ],
      "metadata": {
        "colab": {
          "base_uri": "https://localhost:8080/"
        },
        "id": "KEVqyatLmgAl",
        "outputId": "e24aaf25-7b82-4cda-a7b3-b75e5d4dfa41"
      },
      "execution_count": 130,
      "outputs": [
        {
          "output_type": "execute_result",
          "data": {
            "text/plain": [
              "array([[1, 2, 3],\n",
              "       [4, 5, 6]])"
            ]
          },
          "metadata": {},
          "execution_count": 130
        }
      ]
    },
    {
      "cell_type": "code",
      "source": [
        "# arr3d[0]에는 스칼라값과 배열 모두 대입할 수 있다. "
      ],
      "metadata": {
        "id": "72rIqLg9mhH-"
      },
      "execution_count": 131,
      "outputs": []
    },
    {
      "cell_type": "code",
      "source": [
        "old_values = arr3d[0].copy()"
      ],
      "metadata": {
        "id": "JwVCORKAmr7M"
      },
      "execution_count": 132,
      "outputs": []
    },
    {
      "cell_type": "code",
      "source": [
        "arr3d[0] = 42"
      ],
      "metadata": {
        "id": "WQ4Pduidmv6n"
      },
      "execution_count": 133,
      "outputs": []
    },
    {
      "cell_type": "code",
      "source": [
        "arr3d"
      ],
      "metadata": {
        "colab": {
          "base_uri": "https://localhost:8080/"
        },
        "id": "PXgLuiPkmzQG",
        "outputId": "b764c773-b35b-460a-c579-816c4fb14c94"
      },
      "execution_count": 134,
      "outputs": [
        {
          "output_type": "execute_result",
          "data": {
            "text/plain": [
              "array([[[42, 42, 42],\n",
              "        [42, 42, 42]],\n",
              "\n",
              "       [[ 7,  8,  9],\n",
              "        [10, 11, 12]]])"
            ]
          },
          "metadata": {},
          "execution_count": 134
        }
      ]
    },
    {
      "cell_type": "code",
      "source": [
        "arr3d[0] = old_values"
      ],
      "metadata": {
        "id": "iBl2RQgdm25k"
      },
      "execution_count": 135,
      "outputs": []
    },
    {
      "cell_type": "code",
      "source": [
        "arr3d"
      ],
      "metadata": {
        "colab": {
          "base_uri": "https://localhost:8080/"
        },
        "id": "W3Py2SN7m7BN",
        "outputId": "55c08e20-6467-4b2a-adbc-3822afd75d82"
      },
      "execution_count": 136,
      "outputs": [
        {
          "output_type": "execute_result",
          "data": {
            "text/plain": [
              "array([[[ 1,  2,  3],\n",
              "        [ 4,  5,  6]],\n",
              "\n",
              "       [[ 7,  8,  9],\n",
              "        [10, 11, 12]]])"
            ]
          },
          "metadata": {},
          "execution_count": 136
        }
      ]
    },
    {
      "cell_type": "code",
      "source": [
        "# 이런 식으로 arr3d[1, 0]은 (1, 0)으로 색인되는 1차원 배열과 그 값을 반환한다."
      ],
      "metadata": {
        "id": "Ri3tm-m3m7ev"
      },
      "execution_count": 137,
      "outputs": []
    },
    {
      "cell_type": "code",
      "source": [
        "arr3d[1, 0]"
      ],
      "metadata": {
        "colab": {
          "base_uri": "https://localhost:8080/"
        },
        "id": "rRMuDTp8nDGE",
        "outputId": "dba8af41-be69-4587-a5bc-fc179d907818"
      },
      "execution_count": 138,
      "outputs": [
        {
          "output_type": "execute_result",
          "data": {
            "text/plain": [
              "array([7, 8, 9])"
            ]
          },
          "metadata": {},
          "execution_count": 138
        }
      ]
    },
    {
      "cell_type": "code",
      "source": [
        "# 이 표현은 다음처럼 두 번에 걸쳐 인덱싱한 결과와 동일하다."
      ],
      "metadata": {
        "id": "m3mquWOrnEqr"
      },
      "execution_count": 139,
      "outputs": []
    },
    {
      "cell_type": "code",
      "source": [
        "x = arr3d[1]"
      ],
      "metadata": {
        "id": "XwV_4LX2nJIX"
      },
      "execution_count": 140,
      "outputs": []
    },
    {
      "cell_type": "code",
      "source": [
        "x"
      ],
      "metadata": {
        "colab": {
          "base_uri": "https://localhost:8080/"
        },
        "id": "TW9KKX7MnK-U",
        "outputId": "5ae2f507-f236-4e5c-ff1e-eae498d3ccf9"
      },
      "execution_count": 141,
      "outputs": [
        {
          "output_type": "execute_result",
          "data": {
            "text/plain": [
              "array([[ 7,  8,  9],\n",
              "       [10, 11, 12]])"
            ]
          },
          "metadata": {},
          "execution_count": 141
        }
      ]
    },
    {
      "cell_type": "code",
      "source": [
        "x[0]"
      ],
      "metadata": {
        "colab": {
          "base_uri": "https://localhost:8080/"
        },
        "id": "e5EIupQbnLUq",
        "outputId": "1fbcbc74-b8a4-476a-d446-f85b7a6f6490"
      },
      "execution_count": 142,
      "outputs": [
        {
          "output_type": "execute_result",
          "data": {
            "text/plain": [
              "array([7, 8, 9])"
            ]
          },
          "metadata": {},
          "execution_count": 142
        }
      ]
    },
    {
      "cell_type": "code",
      "source": [
        "# 여기서 살펴본 선택된 배열의 부분집합은 모두 배열의 뷰를 반환한다는 점이다. "
      ],
      "metadata": {
        "id": "FRzgrKxYnL5P"
      },
      "execution_count": 143,
      "outputs": []
    },
    {
      "cell_type": "code",
      "source": [
        "# 슬라이스로 선택하기"
      ],
      "metadata": {
        "id": "bq1kaHqnnRJb"
      },
      "execution_count": 144,
      "outputs": []
    },
    {
      "cell_type": "code",
      "source": [
        "# 파이썬의 리스트 같은 1차원 객체처럼 ndarray는 익숙한 문법으로 슬라이싱할 수 있다."
      ],
      "metadata": {
        "id": "Ea2q22PLnSqY"
      },
      "execution_count": 145,
      "outputs": []
    },
    {
      "cell_type": "code",
      "source": [
        "arr"
      ],
      "metadata": {
        "colab": {
          "base_uri": "https://localhost:8080/"
        },
        "id": "NgjDEnH2rMtp",
        "outputId": "b1897b38-f2f1-45ba-eb03-30536be371ee"
      },
      "execution_count": 146,
      "outputs": [
        {
          "output_type": "execute_result",
          "data": {
            "text/plain": [
              "array([ 0,  1,  2,  3,  4, 64, 64, 64,  8,  9])"
            ]
          },
          "metadata": {},
          "execution_count": 146
        }
      ]
    },
    {
      "cell_type": "code",
      "source": [
        "arr[1:6]"
      ],
      "metadata": {
        "colab": {
          "base_uri": "https://localhost:8080/"
        },
        "id": "jfDZLNiCrjw9",
        "outputId": "03f862a5-af5e-4883-a494-dabb28f8c82c"
      },
      "execution_count": 147,
      "outputs": [
        {
          "output_type": "execute_result",
          "data": {
            "text/plain": [
              "array([ 1,  2,  3,  4, 64])"
            ]
          },
          "metadata": {},
          "execution_count": 147
        }
      ]
    },
    {
      "cell_type": "code",
      "source": [
        "# 위에서 살펴본 arr2d를 생각해보자. 이 배열을 슬라이싱하는 방법은 조금 다르다."
      ],
      "metadata": {
        "id": "T-TyrWT2rmsj"
      },
      "execution_count": 148,
      "outputs": []
    },
    {
      "cell_type": "code",
      "source": [
        "arr2d"
      ],
      "metadata": {
        "colab": {
          "base_uri": "https://localhost:8080/"
        },
        "id": "u3JvFpBwrs4l",
        "outputId": "973e677f-64a2-42c9-909d-284a98b6e54f"
      },
      "execution_count": 149,
      "outputs": [
        {
          "output_type": "execute_result",
          "data": {
            "text/plain": [
              "array([[1, 2, 3],\n",
              "       [4, 5, 6],\n",
              "       [7, 8, 9]])"
            ]
          },
          "metadata": {},
          "execution_count": 149
        }
      ]
    },
    {
      "cell_type": "code",
      "source": [
        "arr2d[:2]"
      ],
      "metadata": {
        "colab": {
          "base_uri": "https://localhost:8080/"
        },
        "id": "8klJNgeiruKo",
        "outputId": "ffec2ba6-e6b2-4cdb-f8de-bce041c03463"
      },
      "execution_count": 150,
      "outputs": [
        {
          "output_type": "execute_result",
          "data": {
            "text/plain": [
              "array([[1, 2, 3],\n",
              "       [4, 5, 6]])"
            ]
          },
          "metadata": {},
          "execution_count": 150
        }
      ]
    },
    {
      "cell_type": "code",
      "source": [
        "# 확인한 것처럼 첫 번째 축인 0번 축을 기준으로 슬라이싱되었다. 따라서 슬라이스는 축을 따라 선택 영역 내의 요소를 선택한다. \n",
        "# 'arr2d의 시작부터 두 번째 로우까지의 선택'이라고 이해하면 쉽다. "
      ],
      "metadata": {
        "id": "Mi1pZZ9DrwBF"
      },
      "execution_count": 151,
      "outputs": []
    },
    {
      "cell_type": "code",
      "source": [
        "# 색인을 여러 개 넘겨서 다차원을 슬라이싱하는 것도 가능하다."
      ],
      "metadata": {
        "id": "dVQOh8PdsSOs"
      },
      "execution_count": 152,
      "outputs": []
    },
    {
      "cell_type": "code",
      "source": [
        "arr2d[:2, 1:]"
      ],
      "metadata": {
        "colab": {
          "base_uri": "https://localhost:8080/"
        },
        "id": "CZjos3JTsWPR",
        "outputId": "d8b8b46e-83d6-45fc-ceba-8d99da5207b0"
      },
      "execution_count": 153,
      "outputs": [
        {
          "output_type": "execute_result",
          "data": {
            "text/plain": [
              "array([[2, 3],\n",
              "       [5, 6]])"
            ]
          },
          "metadata": {},
          "execution_count": 153
        }
      ]
    },
    {
      "cell_type": "code",
      "source": [
        "# 이렇게 슬라이싱하면 항상 같은 차원의 배열에 대한 뷰를 얻게 된다. 정수 색인과 슬라이스를 함께 사용해서 한 차원 낮은 슬라이스를 얻을 수 있다. "
      ],
      "metadata": {
        "id": "PvwppW5YsZz2"
      },
      "execution_count": 154,
      "outputs": []
    },
    {
      "cell_type": "code",
      "source": [
        "# 예를 들어 두 번째 로우에서 처음 두 컬럼만 선택하고 싶다면 아래처럼 하면 된다. "
      ],
      "metadata": {
        "id": "BDl_slEOMQHq"
      },
      "execution_count": 155,
      "outputs": []
    },
    {
      "cell_type": "code",
      "source": [
        "arr2d[1, :2]"
      ],
      "metadata": {
        "colab": {
          "base_uri": "https://localhost:8080/"
        },
        "id": "w6mTpUCgMWRY",
        "outputId": "362e8ff7-43f2-493e-97f6-a022a1114fca"
      },
      "execution_count": 156,
      "outputs": [
        {
          "output_type": "execute_result",
          "data": {
            "text/plain": [
              "array([4, 5])"
            ]
          },
          "metadata": {},
          "execution_count": 156
        }
      ]
    },
    {
      "cell_type": "code",
      "source": [
        "# 이와 유사하게 처음 두 로우에서 세 번째 컬럼만 선택하고 싶다면 아래처럼 하면 된다."
      ],
      "metadata": {
        "id": "m6PpmE2UMuVA"
      },
      "execution_count": 157,
      "outputs": []
    },
    {
      "cell_type": "code",
      "source": [
        "arr2d[:2, 2]"
      ],
      "metadata": {
        "colab": {
          "base_uri": "https://localhost:8080/"
        },
        "id": "HmWxzD4DM239",
        "outputId": "ea70225f-b246-4610-dfdf-15641316279d"
      },
      "execution_count": 158,
      "outputs": [
        {
          "output_type": "execute_result",
          "data": {
            "text/plain": [
              "array([3, 6])"
            ]
          },
          "metadata": {},
          "execution_count": 158
        }
      ]
    },
    {
      "cell_type": "code",
      "source": [
        "# [그림 4-2] 참고(페이지 149), 그냥 콜론만 쓰면 전체 축을 선택한다는 의미이므로 이렇게 하면 원래 차원의 슬라이스를 얻게 된다."
      ],
      "metadata": {
        "id": "yBUw3pbBM4s8"
      },
      "execution_count": 159,
      "outputs": []
    },
    {
      "cell_type": "code",
      "source": [
        "arr2d[:, :1]"
      ],
      "metadata": {
        "colab": {
          "base_uri": "https://localhost:8080/"
        },
        "id": "rbmFP-XrNDUd",
        "outputId": "ccb49c00-d28a-4264-f440-e9b196c0ea83"
      },
      "execution_count": 160,
      "outputs": [
        {
          "output_type": "execute_result",
          "data": {
            "text/plain": [
              "array([[1],\n",
              "       [4],\n",
              "       [7]])"
            ]
          },
          "metadata": {},
          "execution_count": 160
        }
      ]
    },
    {
      "cell_type": "code",
      "source": [
        "# 물론 슬라이싱 구문에 값을 대입하면 선택 영역 전체에 값이 대입된다. "
      ],
      "metadata": {
        "id": "b9OTTHBWNFyp"
      },
      "execution_count": 161,
      "outputs": []
    },
    {
      "cell_type": "code",
      "source": [
        "arr2d[:2, 1:] = 0"
      ],
      "metadata": {
        "id": "ySFM_NImN5Rp"
      },
      "execution_count": 162,
      "outputs": []
    },
    {
      "cell_type": "code",
      "source": [
        "arr2d"
      ],
      "metadata": {
        "colab": {
          "base_uri": "https://localhost:8080/"
        },
        "id": "YbXdN-lCN_OD",
        "outputId": "1e555f17-d5ad-4ff7-dd13-2108bcd2f153"
      },
      "execution_count": 163,
      "outputs": [
        {
          "output_type": "execute_result",
          "data": {
            "text/plain": [
              "array([[1, 0, 0],\n",
              "       [4, 0, 0],\n",
              "       [7, 8, 9]])"
            ]
          },
          "metadata": {},
          "execution_count": 163
        }
      ]
    },
    {
      "cell_type": "code",
      "source": [
        "# 4.1.5 불리언값으로 선택하기"
      ],
      "metadata": {
        "id": "ZcMgKUlZN_n_"
      },
      "execution_count": 164,
      "outputs": []
    },
    {
      "cell_type": "code",
      "source": [
        "# 중복된 이름이 포함된 배열이 있다고 하자. 그리고 numpy.random 모듈에 있는 randn 함수를 사용해서 임의의 표준 정규 분포 데이터를 생성하자."
      ],
      "metadata": {
        "id": "jU8KUpAsOCrN"
      },
      "execution_count": 165,
      "outputs": []
    },
    {
      "cell_type": "code",
      "source": [
        "names = np.array([\"Bob\", \"Joe\", \"Will\", \"Bob\", \"Will\", \"Joe\", \"Joe\"])"
      ],
      "metadata": {
        "id": "7MZka7gTOE5p"
      },
      "execution_count": 166,
      "outputs": []
    },
    {
      "cell_type": "code",
      "source": [
        "data = np.random.randn(7, 4)"
      ],
      "metadata": {
        "id": "E8sa6I9wOf8N"
      },
      "execution_count": 167,
      "outputs": []
    },
    {
      "cell_type": "code",
      "source": [
        "names"
      ],
      "metadata": {
        "colab": {
          "base_uri": "https://localhost:8080/"
        },
        "id": "G9dFkEUdOqxr",
        "outputId": "76f61176-2c1a-4913-86d2-9cf157bb3827"
      },
      "execution_count": 168,
      "outputs": [
        {
          "output_type": "execute_result",
          "data": {
            "text/plain": [
              "array(['Bob', 'Joe', 'Will', 'Bob', 'Will', 'Joe', 'Joe'], dtype='<U4')"
            ]
          },
          "metadata": {},
          "execution_count": 168
        }
      ]
    },
    {
      "cell_type": "code",
      "source": [
        "data"
      ],
      "metadata": {
        "colab": {
          "base_uri": "https://localhost:8080/"
        },
        "id": "53YJni13Os50",
        "outputId": "b1aacabc-7c08-49d9-a4a4-4ef3c8042aea"
      },
      "execution_count": 169,
      "outputs": [
        {
          "output_type": "execute_result",
          "data": {
            "text/plain": [
              "array([[-0.3206372 ,  0.06573892,  0.14684214,  0.3387356 ],\n",
              "       [ 1.00798679,  2.36581036, -0.81130844,  0.503632  ],\n",
              "       [-0.57515322,  0.88005593, -0.2698587 , -0.78152822],\n",
              "       [-1.64212348, -0.20437534, -0.0030603 ,  2.28697151],\n",
              "       [-0.50642158, -1.85576192,  1.23978929,  0.14111518],\n",
              "       [-0.01555649,  1.16391328, -0.74295144,  0.11693327],\n",
              "       [-0.79717379,  0.01023123, -2.57889511,  0.0092322 ]])"
            ]
          },
          "metadata": {},
          "execution_count": 169
        }
      ]
    },
    {
      "cell_type": "code",
      "source": [
        "# 각각의 이름은 data 배열의 각 로우에 대응한다고 가정하자. \n",
        "# 만약에 전체 로우에서 \"Bob\"과 같은 이름을 선택하려면 산술 연산과 마찬가지로 배열에 대한 비교 연산(== 같은)도 벡터화되므로 names를 \"Bob\" 문자열과 비교하면 불리언 배열을 반환한다."
      ],
      "metadata": {
        "id": "3eKjjCseOt4R"
      },
      "execution_count": 170,
      "outputs": []
    },
    {
      "cell_type": "code",
      "source": [
        "names == \"Bob\""
      ],
      "metadata": {
        "colab": {
          "base_uri": "https://localhost:8080/"
        },
        "id": "0YkWCGNaQrxw",
        "outputId": "e111b9b5-2aaa-4828-e943-f9bd0bb4b825"
      },
      "execution_count": 171,
      "outputs": [
        {
          "output_type": "execute_result",
          "data": {
            "text/plain": [
              "array([ True, False, False,  True, False, False, False])"
            ]
          },
          "metadata": {},
          "execution_count": 171
        }
      ]
    },
    {
      "cell_type": "code",
      "source": [
        "# 이 불리언 배열은 배열의 색인으로 사용할 수 있다. "
      ],
      "metadata": {
        "id": "GDDYDSs3QuLa"
      },
      "execution_count": 172,
      "outputs": []
    },
    {
      "cell_type": "code",
      "source": [
        "data[names == \"Bob\"]"
      ],
      "metadata": {
        "colab": {
          "base_uri": "https://localhost:8080/"
        },
        "id": "3KWbmOuAQzCd",
        "outputId": "ab612d5a-0d24-478b-a626-d561734d3702"
      },
      "execution_count": 173,
      "outputs": [
        {
          "output_type": "execute_result",
          "data": {
            "text/plain": [
              "array([[-0.3206372 ,  0.06573892,  0.14684214,  0.3387356 ],\n",
              "       [-1.64212348, -0.20437534, -0.0030603 ,  2.28697151]])"
            ]
          },
          "metadata": {},
          "execution_count": 173
        }
      ]
    },
    {
      "cell_type": "code",
      "source": [
        "# 불리언 배열은 반드시 색인하려는 축의 길이와 동일한 길이를 가져야 한다. 불리언 배열 색인도 슬라이스나 요소를 선택하는 데 짜 맞출 수 있다. "
      ],
      "metadata": {
        "id": "TfNfObysQ1_B"
      },
      "execution_count": 174,
      "outputs": []
    },
    {
      "cell_type": "code",
      "source": [
        "# Caution! 불리언값으로 배열을 선택할 때는 불리언 배열의 크기가 다르더라도 실패하지 않는다. 불리언 배열 색인도 슬라이스나 요소를 선택하는 데 짜맞출 수 있다."
      ],
      "metadata": {
        "id": "vrC1iFAxRdPY"
      },
      "execution_count": 175,
      "outputs": []
    },
    {
      "cell_type": "code",
      "source": [
        "# 다음 예제에서는 names == \"Bob\"인 로우에서 2: 컬럼을 선택했다. "
      ],
      "metadata": {
        "id": "cluszp7qR9oS"
      },
      "execution_count": 176,
      "outputs": []
    },
    {
      "cell_type": "code",
      "source": [
        "data[names == \"Bob\", 2:]"
      ],
      "metadata": {
        "colab": {
          "base_uri": "https://localhost:8080/"
        },
        "id": "l_X3RAoTSDe4",
        "outputId": "b2abc231-7246-4a69-98af-4f9ce74a48ad"
      },
      "execution_count": 177,
      "outputs": [
        {
          "output_type": "execute_result",
          "data": {
            "text/plain": [
              "array([[ 0.14684214,  0.3387356 ],\n",
              "       [-0.0030603 ,  2.28697151]])"
            ]
          },
          "metadata": {},
          "execution_count": 177
        }
      ]
    },
    {
      "cell_type": "code",
      "source": [
        "data[names == \"Bob\", 3]"
      ],
      "metadata": {
        "colab": {
          "base_uri": "https://localhost:8080/"
        },
        "id": "Tjj03kurSHNW",
        "outputId": "1649e33d-81d0-4bf1-f676-7829791df59f"
      },
      "execution_count": 178,
      "outputs": [
        {
          "output_type": "execute_result",
          "data": {
            "text/plain": [
              "array([0.3387356 , 2.28697151])"
            ]
          },
          "metadata": {},
          "execution_count": 178
        }
      ]
    },
    {
      "cell_type": "code",
      "source": [
        "# \"Bob\"이 아닌 요소들을 선택하려는 != 연산자를 사용하거나 ~를 사용해서 조건절을 부인하면 된다."
      ],
      "metadata": {
        "id": "ETHSjTlkSMR3"
      },
      "execution_count": 179,
      "outputs": []
    },
    {
      "cell_type": "code",
      "source": [
        "names != \"Bob\""
      ],
      "metadata": {
        "colab": {
          "base_uri": "https://localhost:8080/"
        },
        "id": "_S9esC4xSVvk",
        "outputId": "1b44cc55-aadc-4a67-8043-d1de7ab7b87f"
      },
      "execution_count": 180,
      "outputs": [
        {
          "output_type": "execute_result",
          "data": {
            "text/plain": [
              "array([False,  True,  True, False,  True,  True,  True])"
            ]
          },
          "metadata": {},
          "execution_count": 180
        }
      ]
    },
    {
      "cell_type": "code",
      "source": [
        "data[~(names == \"Bob\")]"
      ],
      "metadata": {
        "colab": {
          "base_uri": "https://localhost:8080/"
        },
        "id": "tQjjCB6zSkNB",
        "outputId": "5cd4657b-10ce-4fe1-80b5-03a005e81f82"
      },
      "execution_count": 181,
      "outputs": [
        {
          "output_type": "execute_result",
          "data": {
            "text/plain": [
              "array([[ 1.00798679,  2.36581036, -0.81130844,  0.503632  ],\n",
              "       [-0.57515322,  0.88005593, -0.2698587 , -0.78152822],\n",
              "       [-0.50642158, -1.85576192,  1.23978929,  0.14111518],\n",
              "       [-0.01555649,  1.16391328, -0.74295144,  0.11693327],\n",
              "       [-0.79717379,  0.01023123, -2.57889511,  0.0092322 ]])"
            ]
          },
          "metadata": {},
          "execution_count": 181
        }
      ]
    },
    {
      "cell_type": "code",
      "source": [
        "# ~ 연산자는 일반적인 조건을 반대로 쓰고 싶을 때 유용하다."
      ],
      "metadata": {
        "id": "9un8KbrWSttG"
      },
      "execution_count": 182,
      "outputs": []
    },
    {
      "cell_type": "code",
      "source": [
        "cond = names == \"Bob\""
      ],
      "metadata": {
        "id": "hp7XVWXBT614"
      },
      "execution_count": 183,
      "outputs": []
    },
    {
      "cell_type": "code",
      "source": [
        "data[~cond]"
      ],
      "metadata": {
        "colab": {
          "base_uri": "https://localhost:8080/"
        },
        "id": "WFDcVHTKT9RV",
        "outputId": "37d85394-8d3e-4067-8f17-5f2167daa047"
      },
      "execution_count": 184,
      "outputs": [
        {
          "output_type": "execute_result",
          "data": {
            "text/plain": [
              "array([[ 1.00798679,  2.36581036, -0.81130844,  0.503632  ],\n",
              "       [-0.57515322,  0.88005593, -0.2698587 , -0.78152822],\n",
              "       [-0.50642158, -1.85576192,  1.23978929,  0.14111518],\n",
              "       [-0.01555649,  1.16391328, -0.74295144,  0.11693327],\n",
              "       [-0.79717379,  0.01023123, -2.57889511,  0.0092322 ]])"
            ]
          },
          "metadata": {},
          "execution_count": 184
        }
      ]
    },
    {
      "cell_type": "code",
      "source": [
        "# 세 가지 이름 중에서 두 가지 이름을 선택하려면 &(and)나 |(or) 같은 논리 연산자를 사용한 여러 개의 불리언 조건을 사용하면 된다."
      ],
      "metadata": {
        "id": "61Uo7HEhT-Wt"
      },
      "execution_count": 185,
      "outputs": []
    },
    {
      "cell_type": "code",
      "source": [
        "mask = (names == \"Bob\") | (names == \"Will\")"
      ],
      "metadata": {
        "id": "7lOa0B2cUHez"
      },
      "execution_count": 186,
      "outputs": []
    },
    {
      "cell_type": "code",
      "source": [
        "mask"
      ],
      "metadata": {
        "colab": {
          "base_uri": "https://localhost:8080/"
        },
        "id": "t-T45OujUNRT",
        "outputId": "c4900b2f-6a96-45fe-898e-57c4d897aa16"
      },
      "execution_count": 187,
      "outputs": [
        {
          "output_type": "execute_result",
          "data": {
            "text/plain": [
              "array([ True, False,  True,  True,  True, False, False])"
            ]
          },
          "metadata": {},
          "execution_count": 187
        }
      ]
    },
    {
      "cell_type": "code",
      "source": [
        "data[mask]"
      ],
      "metadata": {
        "colab": {
          "base_uri": "https://localhost:8080/"
        },
        "id": "M_5sbcwZUObR",
        "outputId": "667ddddb-11c2-4bd5-87a5-592d10ab7dbd"
      },
      "execution_count": 188,
      "outputs": [
        {
          "output_type": "execute_result",
          "data": {
            "text/plain": [
              "array([[-0.3206372 ,  0.06573892,  0.14684214,  0.3387356 ],\n",
              "       [-0.57515322,  0.88005593, -0.2698587 , -0.78152822],\n",
              "       [-1.64212348, -0.20437534, -0.0030603 ,  2.28697151],\n",
              "       [-0.50642158, -1.85576192,  1.23978929,  0.14111518]])"
            ]
          },
          "metadata": {},
          "execution_count": 188
        }
      ]
    },
    {
      "cell_type": "code",
      "source": [
        "# 배열에 불리언 색인을 이용해서 데이터를 선택하면 반환되는 배열의 내용이 바뀌지 않더라도 항상 데이터 복사가 발생한다."
      ],
      "metadata": {
        "id": "yAmkpIIaUPTm"
      },
      "execution_count": 189,
      "outputs": []
    },
    {
      "cell_type": "code",
      "source": [
        "# Caution! 파이썬 예약어인 and와 or은 불리언 배열에서는 사용할 수 없다. 대신 &(and)와 |(or)을 사용한다."
      ],
      "metadata": {
        "id": "8dt8gu2VUYhg"
      },
      "execution_count": 190,
      "outputs": []
    },
    {
      "cell_type": "code",
      "source": [
        "# 불리언 배열에 값을 대입하는 것은 상식적으로 이루어진다. data에 저장된 모든 음수를 0으로 대입하려면 다음과 같이 하면 된다."
      ],
      "metadata": {
        "id": "cK1BZ8sRVaN1"
      },
      "execution_count": 191,
      "outputs": []
    },
    {
      "cell_type": "code",
      "source": [
        "data[data < 0]"
      ],
      "metadata": {
        "colab": {
          "base_uri": "https://localhost:8080/"
        },
        "id": "bip1cpjOV1_o",
        "outputId": "4e4a0f9d-256d-4ba1-f70d-54ff03940504"
      },
      "execution_count": 192,
      "outputs": [
        {
          "output_type": "execute_result",
          "data": {
            "text/plain": [
              "array([-0.3206372 , -0.81130844, -0.57515322, -0.2698587 , -0.78152822,\n",
              "       -1.64212348, -0.20437534, -0.0030603 , -0.50642158, -1.85576192,\n",
              "       -0.01555649, -0.74295144, -0.79717379, -2.57889511])"
            ]
          },
          "metadata": {},
          "execution_count": 192
        }
      ]
    },
    {
      "cell_type": "code",
      "source": [
        "data"
      ],
      "metadata": {
        "colab": {
          "base_uri": "https://localhost:8080/"
        },
        "id": "YPuhLE1ZV5Fx",
        "outputId": "b7418921-5824-4ad9-9639-334f61c915b6"
      },
      "execution_count": 193,
      "outputs": [
        {
          "output_type": "execute_result",
          "data": {
            "text/plain": [
              "array([[-0.3206372 ,  0.06573892,  0.14684214,  0.3387356 ],\n",
              "       [ 1.00798679,  2.36581036, -0.81130844,  0.503632  ],\n",
              "       [-0.57515322,  0.88005593, -0.2698587 , -0.78152822],\n",
              "       [-1.64212348, -0.20437534, -0.0030603 ,  2.28697151],\n",
              "       [-0.50642158, -1.85576192,  1.23978929,  0.14111518],\n",
              "       [-0.01555649,  1.16391328, -0.74295144,  0.11693327],\n",
              "       [-0.79717379,  0.01023123, -2.57889511,  0.0092322 ]])"
            ]
          },
          "metadata": {},
          "execution_count": 193
        }
      ]
    },
    {
      "cell_type": "code",
      "source": [
        "# 1차원 불리언 배열을 사용해서 전체 로우나 컬럼을 선택하는 것은 쉽게 할 수 있다."
      ],
      "metadata": {
        "id": "85rHo3zVV5c7"
      },
      "execution_count": 194,
      "outputs": []
    },
    {
      "cell_type": "code",
      "source": [
        "data[names != \"Joe\"] = 7"
      ],
      "metadata": {
        "id": "p99Ph9c_V_0W"
      },
      "execution_count": 195,
      "outputs": []
    },
    {
      "cell_type": "code",
      "source": [
        "data"
      ],
      "metadata": {
        "colab": {
          "base_uri": "https://localhost:8080/"
        },
        "id": "1nwgih-rWCo1",
        "outputId": "361c3a65-5a8f-4425-e1a1-1c926a62a7e2"
      },
      "execution_count": 196,
      "outputs": [
        {
          "output_type": "execute_result",
          "data": {
            "text/plain": [
              "array([[ 7.        ,  7.        ,  7.        ,  7.        ],\n",
              "       [ 1.00798679,  2.36581036, -0.81130844,  0.503632  ],\n",
              "       [ 7.        ,  7.        ,  7.        ,  7.        ],\n",
              "       [ 7.        ,  7.        ,  7.        ,  7.        ],\n",
              "       [ 7.        ,  7.        ,  7.        ,  7.        ],\n",
              "       [-0.01555649,  1.16391328, -0.74295144,  0.11693327],\n",
              "       [-0.79717379,  0.01023123, -2.57889511,  0.0092322 ]])"
            ]
          },
          "metadata": {},
          "execution_count": 196
        }
      ]
    },
    {
      "cell_type": "code",
      "source": [
        "# 나중에 살펴보겠지만 2차원 데이터에 대한 이런 유형의 연산은 pandas를 이용해서 처리하는 것이 편리하다."
      ],
      "metadata": {
        "id": "XD6zsMjaWHO2"
      },
      "execution_count": 197,
      "outputs": []
    },
    {
      "cell_type": "code",
      "source": [
        "# 4.1.6 팬시 색인"
      ],
      "metadata": {
        "id": "5empOrgHWddb"
      },
      "execution_count": 198,
      "outputs": []
    },
    {
      "cell_type": "code",
      "source": [
        "# 팬시 색인은 정수 배열을 사용한 색인을 설명하기 위해 NumPy에서 차용한 단어다. 8 x 4 배열이 있다고 하자."
      ],
      "metadata": {
        "id": "VaxhzyUQJxlt"
      },
      "execution_count": 199,
      "outputs": []
    },
    {
      "cell_type": "code",
      "source": [
        "arr = np.empty((8, 4))"
      ],
      "metadata": {
        "id": "SY-7kKCbJ4fR"
      },
      "execution_count": 200,
      "outputs": []
    },
    {
      "cell_type": "code",
      "source": [
        "for i in range(8):\n",
        "  arr[i] = i"
      ],
      "metadata": {
        "id": "IcrupKfVKWE5"
      },
      "execution_count": 201,
      "outputs": []
    },
    {
      "cell_type": "code",
      "source": [
        "arr"
      ],
      "metadata": {
        "colab": {
          "base_uri": "https://localhost:8080/"
        },
        "id": "31gh9LwMKZ-C",
        "outputId": "97ece7ed-8f77-4028-a67f-f230f3a664de"
      },
      "execution_count": 202,
      "outputs": [
        {
          "output_type": "execute_result",
          "data": {
            "text/plain": [
              "array([[0., 0., 0., 0.],\n",
              "       [1., 1., 1., 1.],\n",
              "       [2., 2., 2., 2.],\n",
              "       [3., 3., 3., 3.],\n",
              "       [4., 4., 4., 4.],\n",
              "       [5., 5., 5., 5.],\n",
              "       [6., 6., 6., 6.],\n",
              "       [7., 7., 7., 7.]])"
            ]
          },
          "metadata": {},
          "execution_count": 202
        }
      ]
    },
    {
      "cell_type": "code",
      "source": [
        "# 특정한 순서로 로우를 선택하고 싶다면 그냥 원하는 순서가 명시된 정수가 담긴 ndarray나 리스트를 넘기면 된다."
      ],
      "metadata": {
        "id": "kJ6qDYuvKbFZ"
      },
      "execution_count": 203,
      "outputs": []
    },
    {
      "cell_type": "code",
      "source": [
        "arr[[4, 3, 0, 6]]"
      ],
      "metadata": {
        "colab": {
          "base_uri": "https://localhost:8080/"
        },
        "id": "-u0HFbLBKkBQ",
        "outputId": "25083160-8109-4fcf-d34a-902b8dd26ed2"
      },
      "execution_count": 204,
      "outputs": [
        {
          "output_type": "execute_result",
          "data": {
            "text/plain": [
              "array([[4., 4., 4., 4.],\n",
              "       [3., 3., 3., 3.],\n",
              "       [0., 0., 0., 0.],\n",
              "       [6., 6., 6., 6.]])"
            ]
          },
          "metadata": {},
          "execution_count": 204
        }
      ]
    },
    {
      "cell_type": "code",
      "source": [
        "# 다음 코드가 독자의 예상대로 실행되기 바란다. 색인으로 음수를 사용하면 끝에서부터 로우를 선택한다."
      ],
      "metadata": {
        "id": "KuepmQAlKlrh"
      },
      "execution_count": 205,
      "outputs": []
    },
    {
      "cell_type": "code",
      "source": [
        "arr[[-3, -5, -7]]"
      ],
      "metadata": {
        "colab": {
          "base_uri": "https://localhost:8080/"
        },
        "id": "w8LqYEsYKycV",
        "outputId": "6278cba5-c843-4942-8291-0ba3806b44af"
      },
      "execution_count": 206,
      "outputs": [
        {
          "output_type": "execute_result",
          "data": {
            "text/plain": [
              "array([[5., 5., 5., 5.],\n",
              "       [3., 3., 3., 3.],\n",
              "       [1., 1., 1., 1.]])"
            ]
          },
          "metadata": {},
          "execution_count": 206
        }
      ]
    },
    {
      "cell_type": "code",
      "source": [
        "# 다차원 색인 배열을 넘기는 것은 조금 다르게 동작하는데, 각각의 색인 튜플에 대응하는 1차원 배열이 선택된다."
      ],
      "metadata": {
        "id": "20vdcmuEK0cV"
      },
      "execution_count": 207,
      "outputs": []
    },
    {
      "cell_type": "code",
      "source": [
        "arr = np.arange(32).reshape((8, 4))"
      ],
      "metadata": {
        "id": "1NrIbsKwK6tF"
      },
      "execution_count": 208,
      "outputs": []
    },
    {
      "cell_type": "code",
      "source": [
        "arr"
      ],
      "metadata": {
        "colab": {
          "base_uri": "https://localhost:8080/"
        },
        "id": "KAIbRrJ5LZVm",
        "outputId": "a3ca368f-fcf9-4bf1-e318-71fede09686b"
      },
      "execution_count": 209,
      "outputs": [
        {
          "output_type": "execute_result",
          "data": {
            "text/plain": [
              "array([[ 0,  1,  2,  3],\n",
              "       [ 4,  5,  6,  7],\n",
              "       [ 8,  9, 10, 11],\n",
              "       [12, 13, 14, 15],\n",
              "       [16, 17, 18, 19],\n",
              "       [20, 21, 22, 23],\n",
              "       [24, 25, 26, 27],\n",
              "       [28, 29, 30, 31]])"
            ]
          },
          "metadata": {},
          "execution_count": 209
        }
      ]
    },
    {
      "cell_type": "code",
      "source": [
        "# reshape 메서드는 부록 A에서 더 자세히 살펴본다."
      ],
      "metadata": {
        "id": "4343NPn_LZmZ"
      },
      "execution_count": 210,
      "outputs": []
    },
    {
      "cell_type": "code",
      "source": [
        "arr[[1, 5, 7, 2], [0, 3, 1, 2]]"
      ],
      "metadata": {
        "colab": {
          "base_uri": "https://localhost:8080/"
        },
        "id": "0rKLF_aHLpm5",
        "outputId": "1891bd3f-2fcf-4ec0-facd-e130a8ef41a5"
      },
      "execution_count": 211,
      "outputs": [
        {
          "output_type": "execute_result",
          "data": {
            "text/plain": [
              "array([ 4, 23, 29, 10])"
            ]
          },
          "metadata": {},
          "execution_count": 211
        }
      ]
    },
    {
      "cell_type": "code",
      "source": [
        "# 여기서 결과를 보면 (1, 0), (5, 3), (7, 1), (2, 2)에 대응하는 원소들이 선택되었다. "
      ],
      "metadata": {
        "id": "HkmQTNZdLgLG"
      },
      "execution_count": 212,
      "outputs": []
    },
    {
      "cell_type": "code",
      "source": [
        "# 배열이 몇 차원이든지(여기서는 2차원) 팬시 색인의 결과는 항상 1차원이다. "
      ],
      "metadata": {
        "id": "4f75dzxJLvIx"
      },
      "execution_count": 213,
      "outputs": []
    },
    {
      "cell_type": "code",
      "source": [
        "# 이 예제에서 팬시 색인은 나를 포함한 사용자들이 기대하는 것과는 조금 다르게 동작했다. \n",
        "# 행렬의 행(로우)과 열(컬럼)에 대응하는 사각형 모양의 값이 선택되기를 기대했는데 그렇게 하려면 아래처럼 하면 된다."
      ],
      "metadata": {
        "id": "7aM-oe2YL-tI"
      },
      "execution_count": 214,
      "outputs": []
    },
    {
      "cell_type": "code",
      "source": [
        "arr[[1, 5, 7, 2]][:, [0, 3, 1, 2]]"
      ],
      "metadata": {
        "colab": {
          "base_uri": "https://localhost:8080/"
        },
        "id": "6fpwJBRjMPWP",
        "outputId": "c96656b2-02ea-4e25-8a59-bd05a857ea8d"
      },
      "execution_count": 215,
      "outputs": [
        {
          "output_type": "execute_result",
          "data": {
            "text/plain": [
              "array([[ 4,  7,  5,  6],\n",
              "       [20, 23, 21, 22],\n",
              "       [28, 31, 29, 30],\n",
              "       [ 8, 11,  9, 10]])"
            ]
          },
          "metadata": {},
          "execution_count": 215
        }
      ]
    },
    {
      "cell_type": "code",
      "source": [
        "# 4.1.7 배열 전치와 축 바꾸기"
      ],
      "metadata": {
        "id": "z_-aD15AMXGn"
      },
      "execution_count": 216,
      "outputs": []
    },
    {
      "cell_type": "code",
      "source": [
        "# 배열 전치는 데이터를 복사하지 않고 데이터의 모양이 바뀐 뷰를 반환하는 특별한 기능이다. \n",
        "# ndarray는 transpose 메서드와 T라는 이름의 특수한 속성을 가지고 있다. "
      ],
      "metadata": {
        "id": "2gtYkNKTMbis"
      },
      "execution_count": 217,
      "outputs": []
    },
    {
      "cell_type": "code",
      "source": [
        "arr = np.arange(15).reshape((3, 5))"
      ],
      "metadata": {
        "id": "4Pr-8hUSM1DQ"
      },
      "execution_count": 218,
      "outputs": []
    },
    {
      "cell_type": "code",
      "source": [
        "arr"
      ],
      "metadata": {
        "colab": {
          "base_uri": "https://localhost:8080/"
        },
        "id": "4iK0ZMZbM5gF",
        "outputId": "0ace3e44-cdea-4532-b260-3e4f92ef786f"
      },
      "execution_count": 219,
      "outputs": [
        {
          "output_type": "execute_result",
          "data": {
            "text/plain": [
              "array([[ 0,  1,  2,  3,  4],\n",
              "       [ 5,  6,  7,  8,  9],\n",
              "       [10, 11, 12, 13, 14]])"
            ]
          },
          "metadata": {},
          "execution_count": 219
        }
      ]
    },
    {
      "cell_type": "code",
      "source": [
        "arr.T"
      ],
      "metadata": {
        "colab": {
          "base_uri": "https://localhost:8080/"
        },
        "id": "ZohUpPWpM5-I",
        "outputId": "8b54ffe8-2683-4e87-8297-9bae695c4ff2"
      },
      "execution_count": 220,
      "outputs": [
        {
          "output_type": "execute_result",
          "data": {
            "text/plain": [
              "array([[ 0,  5, 10],\n",
              "       [ 1,  6, 11],\n",
              "       [ 2,  7, 12],\n",
              "       [ 3,  8, 13],\n",
              "       [ 4,  9, 14]])"
            ]
          },
          "metadata": {},
          "execution_count": 220
        }
      ]
    },
    {
      "cell_type": "code",
      "source": [
        "# 행렬 계산을 할 때 자주 사용하게 될 텐데, 예를 들어 행렬의 내적은 np.dot을 이용해서 구할 수 있다."
      ],
      "metadata": {
        "id": "QodHZMbUM79C"
      },
      "execution_count": 221,
      "outputs": []
    },
    {
      "cell_type": "code",
      "source": [
        "arr = np.random.randn(6, 3)"
      ],
      "metadata": {
        "id": "Zo9PV3WzNFT4"
      },
      "execution_count": 222,
      "outputs": []
    },
    {
      "cell_type": "code",
      "source": [
        "arr"
      ],
      "metadata": {
        "colab": {
          "base_uri": "https://localhost:8080/"
        },
        "id": "mOC4y5u-NKEV",
        "outputId": "37df1eda-3837-4bb7-a5f4-fdc9adaa056d"
      },
      "execution_count": 223,
      "outputs": [
        {
          "output_type": "execute_result",
          "data": {
            "text/plain": [
              "array([[-0.97205423,  0.79501995, -0.57875337],\n",
              "       [ 0.23684106,  0.48913665, -1.68345673],\n",
              "       [-2.04912698,  0.78930778, -0.25462881],\n",
              "       [-1.03380326, -0.22595688, -1.76936185],\n",
              "       [ 1.31120305,  2.29058151,  0.67247236],\n",
              "       [-3.59017688, -1.3383495 ,  1.06730282]])"
            ]
          },
          "metadata": {},
          "execution_count": 223
        }
      ]
    },
    {
      "cell_type": "code",
      "source": [
        "# 다차원의 배열의 경우 transpose 메서드는 튜플로 축 번호를 받아서 치환한다."
      ],
      "metadata": {
        "id": "A6IAz04dNK5z"
      },
      "execution_count": 224,
      "outputs": []
    },
    {
      "cell_type": "code",
      "source": [
        "arr = np.arange(16).reshape((2, 2, 4))"
      ],
      "metadata": {
        "id": "drJniIOzNQnY"
      },
      "execution_count": 225,
      "outputs": []
    },
    {
      "cell_type": "code",
      "source": [
        "arr"
      ],
      "metadata": {
        "colab": {
          "base_uri": "https://localhost:8080/"
        },
        "id": "SkCbhlUXNX1e",
        "outputId": "3670a6ff-412e-43ef-80e8-70c4b9ee8c6c"
      },
      "execution_count": 226,
      "outputs": [
        {
          "output_type": "execute_result",
          "data": {
            "text/plain": [
              "array([[[ 0,  1,  2,  3],\n",
              "        [ 4,  5,  6,  7]],\n",
              "\n",
              "       [[ 8,  9, 10, 11],\n",
              "        [12, 13, 14, 15]]])"
            ]
          },
          "metadata": {},
          "execution_count": 226
        }
      ]
    },
    {
      "cell_type": "code",
      "source": [
        "arr.transpose((1, 0, 2))"
      ],
      "metadata": {
        "colab": {
          "base_uri": "https://localhost:8080/"
        },
        "id": "wp_paRoFNYTg",
        "outputId": "48e9cb97-b8c7-4431-ddd8-1839906d1951"
      },
      "execution_count": 227,
      "outputs": [
        {
          "output_type": "execute_result",
          "data": {
            "text/plain": [
              "array([[[ 0,  1,  2,  3],\n",
              "        [ 8,  9, 10, 11]],\n",
              "\n",
              "       [[ 4,  5,  6,  7],\n",
              "        [12, 13, 14, 15]]])"
            ]
          },
          "metadata": {},
          "execution_count": 227
        }
      ]
    },
    {
      "cell_type": "code",
      "source": [
        "# 이 예제에서 첫 번째와 두 번째의 축 순서가 뒤바뀌었고 마지막 축은 그대로 남았다. "
      ],
      "metadata": {
        "id": "J-8TYwWTNjXE"
      },
      "execution_count": 228,
      "outputs": []
    },
    {
      "cell_type": "code",
      "source": [
        "# T 속성을 이용하는 간단한 전치는 축을 뒤바꾸는 특별한 경우다. ndarray에는 swapaxes라는 메서드가 있는데 두 개의 축 번호를 받아서 배열을 뒤바꾼다. "
      ],
      "metadata": {
        "id": "FXdgXKmUPPTT"
      },
      "execution_count": 229,
      "outputs": []
    },
    {
      "cell_type": "code",
      "source": [
        "arr"
      ],
      "metadata": {
        "colab": {
          "base_uri": "https://localhost:8080/"
        },
        "id": "TNBMFO20PakA",
        "outputId": "cf9b71df-8431-4189-fbea-e5e5d6857da1"
      },
      "execution_count": 230,
      "outputs": [
        {
          "output_type": "execute_result",
          "data": {
            "text/plain": [
              "array([[[ 0,  1,  2,  3],\n",
              "        [ 4,  5,  6,  7]],\n",
              "\n",
              "       [[ 8,  9, 10, 11],\n",
              "        [12, 13, 14, 15]]])"
            ]
          },
          "metadata": {},
          "execution_count": 230
        }
      ]
    },
    {
      "cell_type": "code",
      "source": [
        "arr.swapaxes(1, 2)"
      ],
      "metadata": {
        "colab": {
          "base_uri": "https://localhost:8080/"
        },
        "id": "4mMqzgzcPbfk",
        "outputId": "f6932d06-c458-4043-8678-dfe82abb9589"
      },
      "execution_count": 231,
      "outputs": [
        {
          "output_type": "execute_result",
          "data": {
            "text/plain": [
              "array([[[ 0,  4],\n",
              "        [ 1,  5],\n",
              "        [ 2,  6],\n",
              "        [ 3,  7]],\n",
              "\n",
              "       [[ 8, 12],\n",
              "        [ 9, 13],\n",
              "        [10, 14],\n",
              "        [11, 15]]])"
            ]
          },
          "metadata": {},
          "execution_count": 231
        }
      ]
    },
    {
      "cell_type": "code",
      "source": [
        "# swapaxes도 마찬가지로 데이터를 복사하지 않고 원래 데이터에 대한 뷰를 반환한다."
      ],
      "metadata": {
        "id": "LT7GRCNOPfbQ"
      },
      "execution_count": 232,
      "outputs": []
    },
    {
      "cell_type": "code",
      "source": [
        "# 4.2 유니버셜 함수: 배열의 각 원소를 빠르게 처리하는 함수"
      ],
      "metadata": {
        "id": "vO3n2Jq5Pl10"
      },
      "execution_count": 233,
      "outputs": []
    },
    {
      "cell_type": "code",
      "source": [
        "# ufunc라고 불리기도 하는 유니버셜 함수는 ndarray 안에 있는 데이터 원소별로 연산을 수행하는 함수다. \n",
        "# 유니버셜 함수는 하나 이상의 스칼라값을 받아서 하나 이상의 스칼라 결괏값을 반환하는 간단한 함수를 고속으로 수행할 수 있는 벡터화된 래퍼 함수라고 생각하면 된다."
      ],
      "metadata": {
        "id": "boIpp_8nwE79"
      },
      "execution_count": 234,
      "outputs": []
    },
    {
      "cell_type": "code",
      "source": [
        "# 많은 ufunc는 sqrt나 exp 같은 간단한 변형을 전체 원소에 적용할 수 있다."
      ],
      "metadata": {
        "id": "IVbn9FsMxDn3"
      },
      "execution_count": 235,
      "outputs": []
    },
    {
      "cell_type": "code",
      "source": [
        "arr = np.arange(10)"
      ],
      "metadata": {
        "id": "xR6NpiYHx1BK"
      },
      "execution_count": 236,
      "outputs": []
    },
    {
      "cell_type": "code",
      "source": [
        "arr"
      ],
      "metadata": {
        "colab": {
          "base_uri": "https://localhost:8080/"
        },
        "id": "-9qJgHHCx5fb",
        "outputId": "3957c6f5-2c7c-40a7-e358-54854c90d4b3"
      },
      "execution_count": 237,
      "outputs": [
        {
          "output_type": "execute_result",
          "data": {
            "text/plain": [
              "array([0, 1, 2, 3, 4, 5, 6, 7, 8, 9])"
            ]
          },
          "metadata": {},
          "execution_count": 237
        }
      ]
    },
    {
      "cell_type": "code",
      "source": [
        "np.sqrt(arr)"
      ],
      "metadata": {
        "colab": {
          "base_uri": "https://localhost:8080/"
        },
        "id": "I5obXPlXx6BB",
        "outputId": "28d5aebb-4b7f-4cd6-ab42-7a8773e80375"
      },
      "execution_count": 238,
      "outputs": [
        {
          "output_type": "execute_result",
          "data": {
            "text/plain": [
              "array([0.        , 1.        , 1.41421356, 1.73205081, 2.        ,\n",
              "       2.23606798, 2.44948974, 2.64575131, 2.82842712, 3.        ])"
            ]
          },
          "metadata": {},
          "execution_count": 238
        }
      ]
    },
    {
      "cell_type": "code",
      "source": [
        "np.exp(arr)"
      ],
      "metadata": {
        "colab": {
          "base_uri": "https://localhost:8080/"
        },
        "id": "wWugHad7x-VX",
        "outputId": "a0a1d77b-ead7-48db-8e8e-7acf50ed7710"
      },
      "execution_count": 239,
      "outputs": [
        {
          "output_type": "execute_result",
          "data": {
            "text/plain": [
              "array([1.00000000e+00, 2.71828183e+00, 7.38905610e+00, 2.00855369e+01,\n",
              "       5.45981500e+01, 1.48413159e+02, 4.03428793e+02, 1.09663316e+03,\n",
              "       2.98095799e+03, 8.10308393e+03])"
            ]
          },
          "metadata": {},
          "execution_count": 239
        }
      ]
    },
    {
      "cell_type": "code",
      "source": [
        "# 위 함수는 단항 유니버셜 함수라고 한다. add나 maximum처럼 2개의 인자를 취해서 단일 배열을 반환하는 함수는 이항 유니버셜 함수라고 한다. "
      ],
      "metadata": {
        "id": "HO67vICfyBY3"
      },
      "execution_count": 240,
      "outputs": []
    },
    {
      "cell_type": "code",
      "source": [
        "x = np.random.randn(8)"
      ],
      "metadata": {
        "id": "gCCtgc4pyKJ_"
      },
      "execution_count": 241,
      "outputs": []
    },
    {
      "cell_type": "code",
      "source": [
        "y = np.random.randn(8)"
      ],
      "metadata": {
        "id": "UAYU6GyYyeWh"
      },
      "execution_count": 242,
      "outputs": []
    },
    {
      "cell_type": "code",
      "source": [
        "x"
      ],
      "metadata": {
        "colab": {
          "base_uri": "https://localhost:8080/"
        },
        "id": "l-FFKVMZyhZO",
        "outputId": "6463b874-4c34-4e1e-ed2b-f4a7c66fe9a2"
      },
      "execution_count": 243,
      "outputs": [
        {
          "output_type": "execute_result",
          "data": {
            "text/plain": [
              "array([ 0.47647912, -0.70931898, -0.44063111, -0.36886094, -0.03884609,\n",
              "        0.70643467,  1.99718163,  1.38193856])"
            ]
          },
          "metadata": {},
          "execution_count": 243
        }
      ]
    },
    {
      "cell_type": "code",
      "source": [
        "y"
      ],
      "metadata": {
        "colab": {
          "base_uri": "https://localhost:8080/"
        },
        "id": "mlfwBkXWyhx0",
        "outputId": "1aa4535f-2eba-44f7-c8b3-15293b60b8f6"
      },
      "execution_count": 244,
      "outputs": [
        {
          "output_type": "execute_result",
          "data": {
            "text/plain": [
              "array([ 0.12498041, -0.49811794,  0.52358366, -0.37578277,  0.33877382,\n",
              "        0.51351488,  0.07295773, -0.61420829])"
            ]
          },
          "metadata": {},
          "execution_count": 244
        }
      ]
    },
    {
      "cell_type": "code",
      "source": [
        "np.maximum(x, y)"
      ],
      "metadata": {
        "colab": {
          "base_uri": "https://localhost:8080/"
        },
        "id": "RYvhEFj1yiRm",
        "outputId": "a05c5d99-06ab-433b-8ea1-6f348532902d"
      },
      "execution_count": 245,
      "outputs": [
        {
          "output_type": "execute_result",
          "data": {
            "text/plain": [
              "array([ 0.47647912, -0.49811794,  0.52358366, -0.36886094,  0.33877382,\n",
              "        0.70643467,  1.99718163,  1.38193856])"
            ]
          },
          "metadata": {},
          "execution_count": 245
        }
      ]
    },
    {
      "cell_type": "code",
      "source": [
        "# 여기서 numpy.maximum은 x와 y의 원소별로 가장 큰 값을 계산한다. "
      ],
      "metadata": {
        "id": "CKgxJ7Bvykeo"
      },
      "execution_count": 246,
      "outputs": []
    },
    {
      "cell_type": "code",
      "source": [
        "# 흔하지는 않지만 여러 개의 배열을 반환하는 유니버셜 함수도 있다. modf는 파이썬 내장 함수인 divmod의 벡터화 버전인데, 분수를 받아서 몫과 나머지를 함께 반환한다. "
      ],
      "metadata": {
        "id": "Wb7EvHA8y92c"
      },
      "execution_count": 247,
      "outputs": []
    },
    {
      "cell_type": "code",
      "source": [
        "arr = np.random.randn(7) * 5"
      ],
      "metadata": {
        "id": "FZPUPGpdzJmi"
      },
      "execution_count": 248,
      "outputs": []
    },
    {
      "cell_type": "code",
      "source": [
        "arr"
      ],
      "metadata": {
        "colab": {
          "base_uri": "https://localhost:8080/"
        },
        "id": "MzbtQQbszM1c",
        "outputId": "ab5a5409-4a8f-42fe-f2dd-ef686001a76f"
      },
      "execution_count": 249,
      "outputs": [
        {
          "output_type": "execute_result",
          "data": {
            "text/plain": [
              "array([-10.47731128,  -4.86060534,   0.14722948,   2.66484569,\n",
              "         6.06996491,  -2.71406932,  -6.98227326])"
            ]
          },
          "metadata": {},
          "execution_count": 249
        }
      ]
    },
    {
      "cell_type": "code",
      "source": [
        "remainder, whole_part = np.modf(arr)"
      ],
      "metadata": {
        "id": "h_7-xI3lzNWP"
      },
      "execution_count": 250,
      "outputs": []
    },
    {
      "cell_type": "code",
      "source": [
        "remainder"
      ],
      "metadata": {
        "colab": {
          "base_uri": "https://localhost:8080/"
        },
        "id": "TpHJdTUfzTiz",
        "outputId": "4381a211-e7b1-45d6-c475-b1fca5aa5509"
      },
      "execution_count": 251,
      "outputs": [
        {
          "output_type": "execute_result",
          "data": {
            "text/plain": [
              "array([-0.47731128, -0.86060534,  0.14722948,  0.66484569,  0.06996491,\n",
              "       -0.71406932, -0.98227326])"
            ]
          },
          "metadata": {},
          "execution_count": 251
        }
      ]
    },
    {
      "cell_type": "code",
      "source": [
        "whole_part"
      ],
      "metadata": {
        "colab": {
          "base_uri": "https://localhost:8080/"
        },
        "id": "3MJdNGalzVY-",
        "outputId": "3a953881-a51f-499a-9d3a-4c8d3facaaa7"
      },
      "execution_count": 252,
      "outputs": [
        {
          "output_type": "execute_result",
          "data": {
            "text/plain": [
              "array([-10.,  -4.,   0.,   2.,   6.,  -2.,  -6.])"
            ]
          },
          "metadata": {},
          "execution_count": 252
        }
      ]
    },
    {
      "cell_type": "code",
      "source": [
        "# 유니버셜 함수는 선택적으로 out 인자를 취해 계산 결과를 따로 저장할 수도 있다."
      ],
      "metadata": {
        "id": "nFMX0YGlzWtj"
      },
      "execution_count": 253,
      "outputs": []
    },
    {
      "cell_type": "code",
      "source": [
        "arr"
      ],
      "metadata": {
        "colab": {
          "base_uri": "https://localhost:8080/"
        },
        "id": "PG0To_swzcpu",
        "outputId": "21292aad-6b8d-470a-ffb9-721a0c786ca8"
      },
      "execution_count": 254,
      "outputs": [
        {
          "output_type": "execute_result",
          "data": {
            "text/plain": [
              "array([-10.47731128,  -4.86060534,   0.14722948,   2.66484569,\n",
              "         6.06996491,  -2.71406932,  -6.98227326])"
            ]
          },
          "metadata": {},
          "execution_count": 254
        }
      ]
    },
    {
      "cell_type": "code",
      "source": [
        "np.sqrt(arr)"
      ],
      "metadata": {
        "colab": {
          "base_uri": "https://localhost:8080/"
        },
        "id": "jLnsCcVpzdUn",
        "outputId": "ae1534c8-d049-43bb-c64b-2425eeb92932"
      },
      "execution_count": 255,
      "outputs": [
        {
          "output_type": "stream",
          "name": "stderr",
          "text": [
            "<ipython-input-255-b58949107b3d>:1: RuntimeWarning: invalid value encountered in sqrt\n",
            "  np.sqrt(arr)\n"
          ]
        },
        {
          "output_type": "execute_result",
          "data": {
            "text/plain": [
              "array([       nan,        nan, 0.38370494, 1.63243551, 2.46372988,\n",
              "              nan,        nan])"
            ]
          },
          "metadata": {},
          "execution_count": 255
        }
      ]
    },
    {
      "cell_type": "code",
      "source": [
        "np.sqrt(arr, arr)"
      ],
      "metadata": {
        "colab": {
          "base_uri": "https://localhost:8080/"
        },
        "id": "3MCWV-zLznTB",
        "outputId": "a6fd14b1-e403-4ec7-f120-0969fed44107"
      },
      "execution_count": 256,
      "outputs": [
        {
          "output_type": "stream",
          "name": "stderr",
          "text": [
            "<ipython-input-256-164954cb2c14>:1: RuntimeWarning: invalid value encountered in sqrt\n",
            "  np.sqrt(arr, arr)\n"
          ]
        },
        {
          "output_type": "execute_result",
          "data": {
            "text/plain": [
              "array([       nan,        nan, 0.38370494, 1.63243551, 2.46372988,\n",
              "              nan,        nan])"
            ]
          },
          "metadata": {},
          "execution_count": 256
        }
      ]
    },
    {
      "cell_type": "code",
      "source": [
        "arr"
      ],
      "metadata": {
        "colab": {
          "base_uri": "https://localhost:8080/"
        },
        "id": "nwEqdVLhzq4_",
        "outputId": "d087d494-6895-43a0-9a6e-7897da96e3bb"
      },
      "execution_count": 257,
      "outputs": [
        {
          "output_type": "execute_result",
          "data": {
            "text/plain": [
              "array([       nan,        nan, 0.38370494, 1.63243551, 2.46372988,\n",
              "              nan,        nan])"
            ]
          },
          "metadata": {},
          "execution_count": 257
        }
      ]
    },
    {
      "cell_type": "code",
      "source": [
        "# 표 4-3과 4-4에 사용가능한 유니버셜 함수를 나열해두었다. 페이지 160-161"
      ],
      "metadata": {
        "id": "l-ZaSxQ1zrtu"
      },
      "execution_count": 258,
      "outputs": []
    },
    {
      "cell_type": "code",
      "source": [
        "# 4.3 배열을 이용한 배열지향 프로그래밍"
      ],
      "metadata": {
        "id": "spotjHfzz0wP"
      },
      "execution_count": 259,
      "outputs": []
    },
    {
      "cell_type": "code",
      "source": [
        "# NumPy 배열을 사용하면 반복문을 작성하지 않고 간결한 배열 연산을 사용해 많은 종류의 데이터 처리 작업을 할 수 있다. 배열 연산을 사용해서 반복문을 명시적으로 제거하는 기법을 흔히 벡터화라고 부른다."
      ],
      "metadata": {
        "id": "5gKpeIdRtlTR"
      },
      "execution_count": 260,
      "outputs": []
    },
    {
      "cell_type": "code",
      "source": [
        "# 일반적으로 벡터화된 배열에 대한 산술 연산은 순수 파이썬 연산에 비해 2~3배에서 많게는 수십, 수백 배까지 빠르다. 부록 A에서 다룰 브로드캐스팅은 아주 좋은 벡터 연산 방법이다. "
      ],
      "metadata": {
        "id": "gn1HF2AFt4jU"
      },
      "execution_count": 261,
      "outputs": []
    },
    {
      "cell_type": "code",
      "source": [
        "# 간단한 예로 값이 놓여있는 그리드에서 sqrt(x^2 + y^2)을 계산한다고 하자. np.meshgrid 함수는 두 개의 1차원 배열을 받아서 가능한 모든 (x, y) 짝을 만들 수 있는 2차원 배열 두 개를 반환한다. "
      ],
      "metadata": {
        "id": "mIu3ksJFvdZU"
      },
      "execution_count": 262,
      "outputs": []
    },
    {
      "cell_type": "code",
      "source": [
        "points = np.arange(-5, 5, 0.01) # -5부터 4.99까지 0.01씩 증가하는 값들의 배열"
      ],
      "metadata": {
        "id": "izKMiTRivyQJ"
      },
      "execution_count": 263,
      "outputs": []
    },
    {
      "cell_type": "code",
      "source": [
        "from numpy.lib.function_base import meshgrid\n",
        "xs, ys = meshgrid(points, points)"
      ],
      "metadata": {
        "id": "6D1YHeAiv8Tt"
      },
      "execution_count": 264,
      "outputs": []
    },
    {
      "cell_type": "code",
      "source": [
        "ys"
      ],
      "metadata": {
        "colab": {
          "base_uri": "https://localhost:8080/"
        },
        "id": "cuClTmvXwEpA",
        "outputId": "b694aaa4-c4bd-4d80-b15c-5ea4871d1b9f"
      },
      "execution_count": 265,
      "outputs": [
        {
          "output_type": "execute_result",
          "data": {
            "text/plain": [
              "array([[-5.  , -5.  , -5.  , ..., -5.  , -5.  , -5.  ],\n",
              "       [-4.99, -4.99, -4.99, ..., -4.99, -4.99, -4.99],\n",
              "       [-4.98, -4.98, -4.98, ..., -4.98, -4.98, -4.98],\n",
              "       ...,\n",
              "       [ 4.97,  4.97,  4.97, ...,  4.97,  4.97,  4.97],\n",
              "       [ 4.98,  4.98,  4.98, ...,  4.98,  4.98,  4.98],\n",
              "       [ 4.99,  4.99,  4.99, ...,  4.99,  4.99,  4.99]])"
            ]
          },
          "metadata": {},
          "execution_count": 265
        }
      ]
    },
    {
      "cell_type": "code",
      "source": [
        "# 이제 그리드 상의 두 포인트로 간단하게 계산을 적용할 수 있다."
      ],
      "metadata": {
        "id": "Ap_EByWPwUzt"
      },
      "execution_count": 266,
      "outputs": []
    },
    {
      "cell_type": "code",
      "source": [
        "z = np.sqrt(xs ** 2 + ys ** 2)"
      ],
      "metadata": {
        "id": "cdeoPS3MwkAT"
      },
      "execution_count": 267,
      "outputs": []
    },
    {
      "cell_type": "code",
      "source": [
        "z"
      ],
      "metadata": {
        "colab": {
          "base_uri": "https://localhost:8080/"
        },
        "id": "l05MACFcwqas",
        "outputId": "cbad8076-9d7d-4911-dcac-e9c8fff96865"
      },
      "execution_count": 268,
      "outputs": [
        {
          "output_type": "execute_result",
          "data": {
            "text/plain": [
              "array([[7.07106781, 7.06400028, 7.05693985, ..., 7.04988652, 7.05693985,\n",
              "        7.06400028],\n",
              "       [7.06400028, 7.05692568, 7.04985815, ..., 7.04279774, 7.04985815,\n",
              "        7.05692568],\n",
              "       [7.05693985, 7.04985815, 7.04278354, ..., 7.03571603, 7.04278354,\n",
              "        7.04985815],\n",
              "       ...,\n",
              "       [7.04988652, 7.04279774, 7.03571603, ..., 7.0286414 , 7.03571603,\n",
              "        7.04279774],\n",
              "       [7.05693985, 7.04985815, 7.04278354, ..., 7.03571603, 7.04278354,\n",
              "        7.04985815],\n",
              "       [7.06400028, 7.05692568, 7.04985815, ..., 7.04279774, 7.04985815,\n",
              "        7.05692568]])"
            ]
          },
          "metadata": {},
          "execution_count": 268
        }
      ]
    },
    {
      "cell_type": "code",
      "source": [
        "# 9장에서 살펴보겠지만 여기서 matplotlib을 이용해서 2차원 배열을 시각화할 수 있다."
      ],
      "metadata": {
        "id": "P6-svEuIwrkt"
      },
      "execution_count": 269,
      "outputs": []
    },
    {
      "cell_type": "code",
      "source": [
        "import matplotlib.pyplot as plt"
      ],
      "metadata": {
        "id": "JIQLtl8Nw7Ra"
      },
      "execution_count": 270,
      "outputs": []
    },
    {
      "cell_type": "code",
      "source": [
        "plt.imshow(z, cmap=plt.cm.gray); plt.colorbar()"
      ],
      "metadata": {
        "colab": {
          "base_uri": "https://localhost:8080/",
          "height": 287
        },
        "id": "bggX97OZxCIR",
        "outputId": "5343de18-adfa-4bcc-a88b-423ff7063ae4"
      },
      "execution_count": 271,
      "outputs": [
        {
          "output_type": "execute_result",
          "data": {
            "text/plain": [
              "<matplotlib.colorbar.Colorbar at 0x7f1e6437c040>"
            ]
          },
          "metadata": {},
          "execution_count": 271
        },
        {
          "output_type": "display_data",
          "data": {
            "text/plain": [
              "<Figure size 432x288 with 2 Axes>"
            ],
            "image/png": "[encoded data removed]"
          },
          "metadata": {
            "needs_background": "light"
          }
        }
      ]
    },
    {
      "cell_type": "code",
      "source": [
        "plt.title(\"Image plot of $\\sqrt{x^2 + y^2}$ for a grid of values\")"
      ],
      "metadata": {
        "colab": {
          "base_uri": "https://localhost:8080/",
          "height": 306
        },
        "id": "mXkCYaNOxs25",
        "outputId": "4f3d7b7a-c0dd-4da0-c884-d47439ca78db"
      },
      "execution_count": 272,
      "outputs": [
        {
          "output_type": "execute_result",
          "data": {
            "text/plain": [
              "Text(0.5, 1.0, 'Image plot of $\\\\sqrt{x^2 + y^2}$ for a grid of values')"
            ]
          },
          "metadata": {},
          "execution_count": 272
        },
        {
          "output_type": "display_data",
          "data": {
            "text/plain": [
              "<Figure size 432x288 with 1 Axes>"
            ],
            "image/png": "[encoded data removed]"
          },
          "metadata": {
            "needs_background": "light"
          }
        }
      ]
    },
    {
      "cell_type": "code",
      "source": [
        "# 그림 4-3을 보면 계산된 값이 들어 있는 2차원 배열로부터 그래프 이미지를 생성하기 위해 matplotlib의 imshow 함수를 사용했다. "
      ],
      "metadata": {
        "id": "-V8ciHmCx_yc"
      },
      "execution_count": 273,
      "outputs": []
    },
    {
      "cell_type": "code",
      "source": [
        "# 4.3.1 배열 연산으로 조건절 표현하기"
      ],
      "metadata": {
        "id": "DHpmvzHRyXfc"
      },
      "execution_count": 274,
      "outputs": []
    },
    {
      "cell_type": "code",
      "source": [
        "# numpy.where 함수는 x if 조건 else y 같은 삼항식의 벡터화된 버전이다. 다음과 같은 불리언 배열 하나와 값이 들어 있는 두 개의 배열이 있다고 하자."
      ],
      "metadata": {
        "id": "8j-t3hWIzIQf"
      },
      "execution_count": 275,
      "outputs": []
    },
    {
      "cell_type": "code",
      "source": [
        "xarr = np.array([1.1, 1.2, 1.3, 1.4, 1.5])"
      ],
      "metadata": {
        "id": "Hsy-BJnvzZOU"
      },
      "execution_count": 276,
      "outputs": []
    },
    {
      "cell_type": "code",
      "source": [
        "yarr = np.array([2.1, 2.2, 2.3, 2.4, 2.5])"
      ],
      "metadata": {
        "id": "suA3X-pwzeuu"
      },
      "execution_count": 277,
      "outputs": []
    },
    {
      "cell_type": "code",
      "source": [
        "cond = np.array([True, False, True, True, False])"
      ],
      "metadata": {
        "id": "nuQwRV7Dzj60"
      },
      "execution_count": 278,
      "outputs": []
    },
    {
      "cell_type": "code",
      "source": [
        "# cond의 값이 True일 때는 xarr의 값을 취하고 아니면 yarr의 값을 취하고 싶다면 리스트 표기법을 이용해서 다음처럼 작성할 수 있다."
      ],
      "metadata": {
        "id": "IXrtqEqjzri-"
      },
      "execution_count": 279,
      "outputs": []
    },
    {
      "cell_type": "code",
      "source": [
        "result = [(x if c else y)\n",
        "          for x, y, c in zip(xarr, yarr, cond)]"
      ],
      "metadata": {
        "id": "yTn22tmLz5M5"
      },
      "execution_count": 280,
      "outputs": []
    },
    {
      "cell_type": "code",
      "source": [
        "result"
      ],
      "metadata": {
        "colab": {
          "base_uri": "https://localhost:8080/"
        },
        "id": "aQe0SqDO0AH8",
        "outputId": "a8b8f5ce-115c-4334-9a88-fa06e76d7a8c"
      },
      "execution_count": 281,
      "outputs": [
        {
          "output_type": "execute_result",
          "data": {
            "text/plain": [
              "[1.1, 2.2, 1.3, 1.4, 2.5]"
            ]
          },
          "metadata": {},
          "execution_count": 281
        }
      ]
    },
    {
      "cell_type": "code",
      "source": [
        "# 이 방법에는 몇 가지 문제가 있는데, 순수 파이썬으로 수행되기 때문에 큰 배열을 빠르게 처리하지 못한다. 또한 다차원 배열에서는 사용할 수 없는 문제가 있다."
      ],
      "metadata": {
        "id": "VQ-Z-zL-0PjD"
      },
      "execution_count": 282,
      "outputs": []
    },
    {
      "cell_type": "code",
      "source": [
        "# np.where를 사용하면 아주 간결하게 작성할 수 있다. "
      ],
      "metadata": {
        "id": "UYQll9KZ0h6I"
      },
      "execution_count": 283,
      "outputs": []
    },
    {
      "cell_type": "code",
      "source": [
        "result = np.where(cond, xarr, yarr)"
      ],
      "metadata": {
        "id": "2yp9HXcb0mN0"
      },
      "execution_count": 284,
      "outputs": []
    },
    {
      "cell_type": "code",
      "source": [
        "result"
      ],
      "metadata": {
        "colab": {
          "base_uri": "https://localhost:8080/"
        },
        "id": "vnf408QI0qVx",
        "outputId": "f0bb4864-30ce-411e-dca6-8794133429b4"
      },
      "execution_count": 285,
      "outputs": [
        {
          "output_type": "execute_result",
          "data": {
            "text/plain": [
              "array([1.1, 2.2, 1.3, 1.4, 2.5])"
            ]
          },
          "metadata": {},
          "execution_count": 285
        }
      ]
    },
    {
      "cell_type": "code",
      "source": [
        "# np.where의 두 번째와 세 번째 인자는 배열이 아니어도 상관없다. 둘 중 하나 혹은 둘 다 스칼라값이어도 동작한다. 데이터 분석에서 일반 where의 사용은 다른 배열에 기반한 새로운 배열을 생성한다."
      ],
      "metadata": {
        "id": "cli20q_60qty"
      },
      "execution_count": 286,
      "outputs": []
    },
    {
      "cell_type": "code",
      "source": [
        "# 임의로 생성된 데이터가 들어 있는 행렬이 있고 양수는 모두 2로, 음수는 모두 -2로 바꾸려면 np.where를 사용해서 쉽게 처리할 수 있다."
      ],
      "metadata": {
        "id": "xCIg1Xay28Ke"
      },
      "execution_count": 287,
      "outputs": []
    },
    {
      "cell_type": "code",
      "source": [
        "arr = np.random.randn(4, 4)"
      ],
      "metadata": {
        "id": "jsYaoaDD3Eia"
      },
      "execution_count": 288,
      "outputs": []
    },
    {
      "cell_type": "code",
      "source": [
        "arr"
      ],
      "metadata": {
        "colab": {
          "base_uri": "https://localhost:8080/"
        },
        "id": "kA1i-5EK3Iec",
        "outputId": "786d5e81-689e-413c-88a2-f605aa264407"
      },
      "execution_count": 289,
      "outputs": [
        {
          "output_type": "execute_result",
          "data": {
            "text/plain": [
              "array([[ 1.30819274,  2.11704785,  0.12734094,  0.24423766],\n",
              "       [ 0.06897005,  2.56088095,  0.07698631, -1.75874673],\n",
              "       [-0.01477159,  0.54037556, -0.51432943, -0.94851415],\n",
              "       [ 0.07386254, -0.44312316,  0.85768387, -0.31601962]])"
            ]
          },
          "metadata": {},
          "execution_count": 289
        }
      ]
    },
    {
      "cell_type": "code",
      "source": [
        "arr > 0"
      ],
      "metadata": {
        "colab": {
          "base_uri": "https://localhost:8080/"
        },
        "id": "lb--MvtE3Ixt",
        "outputId": "1dd0d5a2-9353-4ab1-83ac-db4f699ed56d"
      },
      "execution_count": 290,
      "outputs": [
        {
          "output_type": "execute_result",
          "data": {
            "text/plain": [
              "array([[ True,  True,  True,  True],\n",
              "       [ True,  True,  True, False],\n",
              "       [False,  True, False, False],\n",
              "       [ True, False,  True, False]])"
            ]
          },
          "metadata": {},
          "execution_count": 290
        }
      ]
    },
    {
      "cell_type": "code",
      "source": [
        "np.where(arr > 0, 2, -2)"
      ],
      "metadata": {
        "colab": {
          "base_uri": "https://localhost:8080/"
        },
        "id": "XEMwo6NH3J30",
        "outputId": "ac90f2f9-a143-4ca6-d958-8a59f2955509"
      },
      "execution_count": 291,
      "outputs": [
        {
          "output_type": "execute_result",
          "data": {
            "text/plain": [
              "array([[ 2,  2,  2,  2],\n",
              "       [ 2,  2,  2, -2],\n",
              "       [-2,  2, -2, -2],\n",
              "       [ 2, -2,  2, -2]])"
            ]
          },
          "metadata": {},
          "execution_count": 291
        }
      ]
    },
    {
      "cell_type": "code",
      "source": [
        "# np.where를 사용할 때 스칼라값과 배열을 조합할 수 있다. 예를 들어 arr의 모든 양수를 2로 바꿀 수 있다."
      ],
      "metadata": {
        "id": "_ZKPm6wB3NOD"
      },
      "execution_count": 292,
      "outputs": []
    },
    {
      "cell_type": "code",
      "source": [
        "np.where(arr > 0, 2, arr)"
      ],
      "metadata": {
        "colab": {
          "base_uri": "https://localhost:8080/"
        },
        "id": "OCd4wd1f3Td1",
        "outputId": "5bc5b581-5609-48b7-9c43-cb5addc50301"
      },
      "execution_count": 293,
      "outputs": [
        {
          "output_type": "execute_result",
          "data": {
            "text/plain": [
              "array([[ 2.        ,  2.        ,  2.        ,  2.        ],\n",
              "       [ 2.        ,  2.        ,  2.        , -1.75874673],\n",
              "       [-0.01477159,  2.        , -0.51432943, -0.94851415],\n",
              "       [ 2.        , -0.44312316,  2.        , -0.31601962]])"
            ]
          },
          "metadata": {},
          "execution_count": 293
        }
      ]
    },
    {
      "cell_type": "code",
      "source": [
        "# np.where로 넘기는 배열은 그냥 크기만 같은 배열이거나 스칼라 값이 될 수 있다."
      ],
      "metadata": {
        "id": "mi_Jg1Qn3WKM"
      },
      "execution_count": 294,
      "outputs": []
    },
    {
      "cell_type": "code",
      "source": [
        "# 4.3.2 수학 메서드와 통계 메서드"
      ],
      "metadata": {
        "id": "GXNrg1XH348S"
      },
      "execution_count": 295,
      "outputs": []
    },
    {
      "cell_type": "code",
      "source": [
        "# 배열 전체 혹은 배열에서 한 축을 따르는 자료에 대한 통계를 계산하는 수학 함수는 배열 메서드로 사용할 수 있다."
      ],
      "metadata": {
        "id": "R420wntF37q0"
      },
      "execution_count": 296,
      "outputs": []
    },
    {
      "cell_type": "code",
      "source": [
        "# 전체의 합(sum)이나 평균(mean), 표준편차(std)는 NumPy의 최상위 함수를 이용하거나 배열의 인스턴스 메서드를 사용해서 구할 수 있다."
      ],
      "metadata": {
        "id": "Ux5uxtCZ8TGz"
      },
      "execution_count": 297,
      "outputs": []
    },
    {
      "cell_type": "code",
      "source": [
        "# 임의의 정규 분포 데이터를 생성하고 집계해보자."
      ],
      "metadata": {
        "id": "rAuhR0hE8bEi"
      },
      "execution_count": 298,
      "outputs": []
    },
    {
      "cell_type": "code",
      "source": [
        "arr = np.random.randn(5, 4)"
      ],
      "metadata": {
        "id": "qPnSMuJe8d0N"
      },
      "execution_count": 299,
      "outputs": []
    },
    {
      "cell_type": "code",
      "source": [
        "arr"
      ],
      "metadata": {
        "colab": {
          "base_uri": "https://localhost:8080/"
        },
        "id": "HoBfGRex8hXU",
        "outputId": "168c4934-d534-4114-9dce-df0b0ee8d2ef"
      },
      "execution_count": 300,
      "outputs": [
        {
          "output_type": "execute_result",
          "data": {
            "text/plain": [
              "array([[ 0.64544886,  1.14675738, -1.22696139,  0.53216466],\n",
              "       [ 1.90623797, -0.6658758 , -0.42658674, -1.93224576],\n",
              "       [ 0.15135881,  0.11153659, -1.22472663,  1.10918663],\n",
              "       [ 1.17551847,  0.69384804,  0.53265864, -1.36317487],\n",
              "       [ 0.23215307, -2.03347664,  1.64010457, -1.12774681]])"
            ]
          },
          "metadata": {},
          "execution_count": 300
        }
      ]
    },
    {
      "cell_type": "code",
      "source": [
        "arr.mean()"
      ],
      "metadata": {
        "colab": {
          "base_uri": "https://localhost:8080/"
        },
        "id": "vzht9SpP8iNF",
        "outputId": "ee26864f-8d2f-4e02-ce84-bded9ac74021"
      },
      "execution_count": 301,
      "outputs": [
        {
          "output_type": "execute_result",
          "data": {
            "text/plain": [
              "-0.006191046306407333"
            ]
          },
          "metadata": {},
          "execution_count": 301
        }
      ]
    },
    {
      "cell_type": "code",
      "source": [
        "np.mean(arr)"
      ],
      "metadata": {
        "colab": {
          "base_uri": "https://localhost:8080/"
        },
        "id": "t_kolTXN823T",
        "outputId": "3c98e032-a071-493d-9729-637f0e32a412"
      },
      "execution_count": 302,
      "outputs": [
        {
          "output_type": "execute_result",
          "data": {
            "text/plain": [
              "-0.006191046306407333"
            ]
          },
          "metadata": {},
          "execution_count": 302
        }
      ]
    },
    {
      "cell_type": "code",
      "source": [
        "arr.sum()"
      ],
      "metadata": {
        "colab": {
          "base_uri": "https://localhost:8080/"
        },
        "id": "55EQct7N85TU",
        "outputId": "7e507f9d-70f5-4820-ae3e-f1c633109baa"
      },
      "execution_count": 303,
      "outputs": [
        {
          "output_type": "execute_result",
          "data": {
            "text/plain": [
              "-0.12382092612814666"
            ]
          },
          "metadata": {},
          "execution_count": 303
        }
      ]
    },
    {
      "cell_type": "code",
      "source": [
        "# mean이나 sum 같은 함수는 선택적으로 axis 인자를 받아서 해당 axis에 대한 통계를 계산하고 한 차수 낮은 배열을 반환한다."
      ],
      "metadata": {
        "id": "Hxlikg2j86eN"
      },
      "execution_count": 304,
      "outputs": []
    },
    {
      "cell_type": "code",
      "source": [
        "arr.mean(axis=1)"
      ],
      "metadata": {
        "colab": {
          "base_uri": "https://localhost:8080/"
        },
        "id": "aLmBkiP89Dd5",
        "outputId": "a9ac7809-29f7-410e-dd51-6e442011a90d"
      },
      "execution_count": 305,
      "outputs": [
        {
          "output_type": "execute_result",
          "data": {
            "text/plain": [
              "array([ 0.27435238, -0.27961758,  0.03683885,  0.25971257, -0.32224145])"
            ]
          },
          "metadata": {},
          "execution_count": 305
        }
      ]
    },
    {
      "cell_type": "code",
      "source": [
        "arr.sum(axis=0)"
      ],
      "metadata": {
        "colab": {
          "base_uri": "https://localhost:8080/"
        },
        "id": "ythE7YTe9FR-",
        "outputId": "22ecadbc-2bab-4d3b-ce8d-68e255d9f30e"
      },
      "execution_count": 306,
      "outputs": [
        {
          "output_type": "execute_result",
          "data": {
            "text/plain": [
              "array([ 4.11071718, -0.74721042, -0.70551155, -2.78181614])"
            ]
          },
          "metadata": {},
          "execution_count": 306
        }
      ]
    },
    {
      "cell_type": "code",
      "source": [
        "# 여기서 arr.sum(0)은 로우의 합을 구하라는 의미이며, arr.mean(1)은 모든 컬럼에서 평균을 구하라는 의미이다. "
      ],
      "metadata": {
        "id": "jvUyxS1p9HUX"
      },
      "execution_count": 307,
      "outputs": []
    },
    {
      "cell_type": "code",
      "source": [
        "# cumsum과 cumprod 메서드는 중간 계산값을 담고 있는 배열을 반환한다."
      ],
      "metadata": {
        "id": "ObWnr4RX9Rdb"
      },
      "execution_count": 308,
      "outputs": []
    },
    {
      "cell_type": "code",
      "source": [
        "arr = np.array([0, 1, 2, 3, 4, 5, 6, 7])"
      ],
      "metadata": {
        "id": "IwZF8v4w9W3e"
      },
      "execution_count": 309,
      "outputs": []
    },
    {
      "cell_type": "code",
      "source": [
        "arr.cumsum()"
      ],
      "metadata": {
        "colab": {
          "base_uri": "https://localhost:8080/"
        },
        "id": "IOn4Ecje9aZ7",
        "outputId": "c24eabc6-4691-4a29-9271-d29d1d53e257"
      },
      "execution_count": 310,
      "outputs": [
        {
          "output_type": "execute_result",
          "data": {
            "text/plain": [
              "array([ 0,  1,  3,  6, 10, 15, 21, 28])"
            ]
          },
          "metadata": {},
          "execution_count": 310
        }
      ]
    },
    {
      "cell_type": "code",
      "source": [
        "# 다차원 배열에서 cumsum 같은 누산 함수는 같은 크기의 배열을 반환한다. 하지만 축을 지정하여 부분적으로 계산하면 낮은 차수의 슬라이스를 반환한다."
      ],
      "metadata": {
        "id": "L4MamI-b9bm9"
      },
      "execution_count": 311,
      "outputs": []
    },
    {
      "cell_type": "code",
      "source": [
        "arr = np.array([[0, 1, 2], [3, 4, 5], [6, 7, 8]])"
      ],
      "metadata": {
        "id": "KHlxiFWf9m9E"
      },
      "execution_count": 312,
      "outputs": []
    },
    {
      "cell_type": "code",
      "source": [
        "arr"
      ],
      "metadata": {
        "colab": {
          "base_uri": "https://localhost:8080/"
        },
        "id": "bbtnAyXP9sbi",
        "outputId": "f76c0200-93ee-497e-90be-64a23180f847"
      },
      "execution_count": 313,
      "outputs": [
        {
          "output_type": "execute_result",
          "data": {
            "text/plain": [
              "array([[0, 1, 2],\n",
              "       [3, 4, 5],\n",
              "       [6, 7, 8]])"
            ]
          },
          "metadata": {},
          "execution_count": 313
        }
      ]
    },
    {
      "cell_type": "code",
      "source": [
        "arr.cumsum(axis=0) "
      ],
      "metadata": {
        "colab": {
          "base_uri": "https://localhost:8080/"
        },
        "id": "EiD2X3Ss9srd",
        "outputId": "424031d6-d41b-49b2-cc36-e681820b6726"
      },
      "execution_count": 314,
      "outputs": [
        {
          "output_type": "execute_result",
          "data": {
            "text/plain": [
              "array([[ 0,  1,  2],\n",
              "       [ 3,  5,  7],\n",
              "       [ 9, 12, 15]])"
            ]
          },
          "metadata": {},
          "execution_count": 314
        }
      ]
    },
    {
      "cell_type": "code",
      "source": [
        "arr.cumprod(axis=1)"
      ],
      "metadata": {
        "colab": {
          "base_uri": "https://localhost:8080/"
        },
        "id": "F93VRo8r91Qj",
        "outputId": "fd07d2d2-bdc0-4004-98f4-be98d12d59fb"
      },
      "execution_count": 315,
      "outputs": [
        {
          "output_type": "execute_result",
          "data": {
            "text/plain": [
              "array([[  0,   0,   0],\n",
              "       [  3,  12,  60],\n",
              "       [  6,  42, 336]])"
            ]
          },
          "metadata": {},
          "execution_count": 315
        }
      ]
    },
    {
      "cell_type": "code",
      "source": [
        "# 167페이지 표 4-5에서 지원하는 모든 함수를 확인할 수 있다. "
      ],
      "metadata": {
        "id": "5q3UXRxg93cW"
      },
      "execution_count": 316,
      "outputs": []
    },
    {
      "cell_type": "code",
      "source": [
        "# 4.3.3 불리언 배열을 위한 메서드"
      ],
      "metadata": {
        "id": "HUs-kr_X-F8t"
      },
      "execution_count": 317,
      "outputs": []
    },
    {
      "cell_type": "code",
      "source": [
        "# 이전 메서드의 불리언값을 1(True) 또는 0(False)으로 강제할 수 있다. 따라서 sum 메서드를 실행하면 불리언 배열에서 True인 원소의 개수를 셀 수 있다."
      ],
      "metadata": {
        "id": "bXt7X1GN-nm2"
      },
      "execution_count": 318,
      "outputs": []
    },
    {
      "cell_type": "code",
      "source": [
        "arr = np.random.randn(100)"
      ],
      "metadata": {
        "id": "Odbym5R2-8dn"
      },
      "execution_count": 319,
      "outputs": []
    },
    {
      "cell_type": "code",
      "source": [
        "(arr > 0).sum() # 양수인 원소의 개수"
      ],
      "metadata": {
        "colab": {
          "base_uri": "https://localhost:8080/"
        },
        "id": "9UppQPZB-_1j",
        "outputId": "7aff2d0d-290b-4c4e-855a-4bb0a4298787"
      },
      "execution_count": 320,
      "outputs": [
        {
          "output_type": "execute_result",
          "data": {
            "text/plain": [
              "46"
            ]
          },
          "metadata": {},
          "execution_count": 320
        }
      ]
    },
    {
      "cell_type": "code",
      "source": [
        "# any와 all 메서드는 불리언 배열에 특히 유용하다. any 메서드는 하나 이상 값이 True인지 검사하고, all 메서드는 모든 원소가 True인지 검사한다."
      ],
      "metadata": {
        "id": "8lB7rqSz_E4v"
      },
      "execution_count": 321,
      "outputs": []
    },
    {
      "cell_type": "code",
      "source": [
        "bools = np.array([False, False, True, False])"
      ],
      "metadata": {
        "id": "oqh7zOuTAJ_Y"
      },
      "execution_count": 322,
      "outputs": []
    },
    {
      "cell_type": "code",
      "source": [
        "bools.any()"
      ],
      "metadata": {
        "colab": {
          "base_uri": "https://localhost:8080/"
        },
        "id": "FfimUF5tAOH0",
        "outputId": "cd25150a-748d-4ba0-e110-9b247bb45ef9"
      },
      "execution_count": 323,
      "outputs": [
        {
          "output_type": "execute_result",
          "data": {
            "text/plain": [
              "True"
            ]
          },
          "metadata": {},
          "execution_count": 323
        }
      ]
    },
    {
      "cell_type": "code",
      "source": [
        "bools.all()"
      ],
      "metadata": {
        "colab": {
          "base_uri": "https://localhost:8080/"
        },
        "id": "FdL60x-3APVK",
        "outputId": "1cfa52a4-5dc1-4a89-a287-42ef5a20242c"
      },
      "execution_count": 324,
      "outputs": [
        {
          "output_type": "execute_result",
          "data": {
            "text/plain": [
              "False"
            ]
          },
          "metadata": {},
          "execution_count": 324
        }
      ]
    },
    {
      "cell_type": "code",
      "source": [
        "# 이들 메서드는 불리언 배열이 아니어도 동작하는데, 0이 아닌 원소는 모두 True로 간주한다."
      ],
      "metadata": {
        "id": "J8FMa2TeAShy"
      },
      "execution_count": 325,
      "outputs": []
    },
    {
      "cell_type": "code",
      "source": [
        "# 4.3.4 정렬"
      ],
      "metadata": {
        "id": "uxJDYDvpAcpf"
      },
      "execution_count": 326,
      "outputs": []
    },
    {
      "cell_type": "code",
      "source": [
        "# 파이썬의 내장 리스트형처럼 NumPy 배열 역시 sort 메서드를 이용해서 정렬할 수 있다."
      ],
      "metadata": {
        "id": "D2_rL8wWSlW-"
      },
      "execution_count": 327,
      "outputs": []
    },
    {
      "cell_type": "code",
      "source": [
        "arr = np.random.randn(6)"
      ],
      "metadata": {
        "id": "sIgeIEk8Sxrz"
      },
      "execution_count": 328,
      "outputs": []
    },
    {
      "cell_type": "code",
      "source": [
        "arr"
      ],
      "metadata": {
        "colab": {
          "base_uri": "https://localhost:8080/"
        },
        "id": "venKS1RoS1AJ",
        "outputId": "8ca2da2f-d6b6-4259-cf8b-09779555e593"
      },
      "execution_count": 329,
      "outputs": [
        {
          "output_type": "execute_result",
          "data": {
            "text/plain": [
              "array([ 0.56719412,  0.21360221,  0.79829098, -0.33605468, -1.30966873,\n",
              "       -0.00293822])"
            ]
          },
          "metadata": {},
          "execution_count": 329
        }
      ]
    },
    {
      "cell_type": "code",
      "source": [
        "arr.sort()"
      ],
      "metadata": {
        "id": "pNfTtiGfS3M7"
      },
      "execution_count": 330,
      "outputs": []
    },
    {
      "cell_type": "code",
      "source": [
        "arr"
      ],
      "metadata": {
        "colab": {
          "base_uri": "https://localhost:8080/"
        },
        "id": "WD68us8aS45N",
        "outputId": "c544c193-6041-41ca-9f20-86db9b494f13"
      },
      "execution_count": 331,
      "outputs": [
        {
          "output_type": "execute_result",
          "data": {
            "text/plain": [
              "array([-1.30966873, -0.33605468, -0.00293822,  0.21360221,  0.56719412,\n",
              "        0.79829098])"
            ]
          },
          "metadata": {},
          "execution_count": 331
        }
      ]
    },
    {
      "cell_type": "code",
      "source": [
        "# 다차원 배열의 정렬은 sort 메서드에 넘긴 축의 값에 따라 1차원 부분을 정렬한다."
      ],
      "metadata": {
        "id": "sqiClz0qS5V3"
      },
      "execution_count": 332,
      "outputs": []
    },
    {
      "cell_type": "code",
      "source": [
        "arr = np.random.randn(5, 3)"
      ],
      "metadata": {
        "id": "LGqkPmCRTA5c"
      },
      "execution_count": 333,
      "outputs": []
    },
    {
      "cell_type": "code",
      "source": [
        "arr"
      ],
      "metadata": {
        "colab": {
          "base_uri": "https://localhost:8080/"
        },
        "id": "L0DRT57GTDhu",
        "outputId": "574c3eaa-3401-49b5-8cc1-e4da71bd0e75"
      },
      "execution_count": 334,
      "outputs": [
        {
          "output_type": "execute_result",
          "data": {
            "text/plain": [
              "array([[-1.588459  , -0.41932529,  0.4243699 ],\n",
              "       [ 1.09475545,  2.10710125, -0.42691748],\n",
              "       [-1.66271988,  0.78203308,  0.14425249],\n",
              "       [ 0.88761713, -0.52028806, -0.90612725],\n",
              "       [ 1.51844406, -1.38572496, -0.64650389]])"
            ]
          },
          "metadata": {},
          "execution_count": 334
        }
      ]
    },
    {
      "cell_type": "code",
      "source": [
        "arr.sort(1)"
      ],
      "metadata": {
        "id": "_ReUIY9ATEU4"
      },
      "execution_count": 335,
      "outputs": []
    },
    {
      "cell_type": "code",
      "source": [
        "# np.sort 메서드는 배열을 직접 변경하지 않고 정렬된 결과를 가지고 있는 복사본을 반환한다."
      ],
      "metadata": {
        "id": "lA9xK7lWTFdh"
      },
      "execution_count": 336,
      "outputs": []
    },
    {
      "cell_type": "code",
      "source": [
        "# 배열의 분위수를 구하는 쉽고 빠른 방법은 우선 배열을 정렬한 후 특정 분위의 값을 선택하는 것이다."
      ],
      "metadata": {
        "id": "bcljD9-tTLn6"
      },
      "execution_count": 337,
      "outputs": []
    },
    {
      "cell_type": "code",
      "source": [
        "large_arr = np.random.randn(1000)"
      ],
      "metadata": {
        "id": "FFwQMG6oTRlP"
      },
      "execution_count": 338,
      "outputs": []
    },
    {
      "cell_type": "code",
      "source": [
        "large_arr.sort()"
      ],
      "metadata": {
        "id": "i_M5QIMnTUnD"
      },
      "execution_count": 339,
      "outputs": []
    },
    {
      "cell_type": "code",
      "source": [
        "large_arr[int(0.05 * len(large_arr))] # 5% 분위수"
      ],
      "metadata": {
        "colab": {
          "base_uri": "https://localhost:8080/"
        },
        "id": "EpCcre6fTWFR",
        "outputId": "50d2d12a-5800-40fa-8cc6-cf1478bffee6"
      },
      "execution_count": 340,
      "outputs": [
        {
          "output_type": "execute_result",
          "data": {
            "text/plain": [
              "-1.5852768057905586"
            ]
          },
          "metadata": {},
          "execution_count": 340
        }
      ]
    },
    {
      "cell_type": "code",
      "source": [
        "# NumPy의 정렬 메서드에 관한 자세한 내용과 간접 정렬 같은 고급 기법은 부록 A를 참조하자. "
      ],
      "metadata": {
        "id": "l-K3o8ReTg9Z"
      },
      "execution_count": 341,
      "outputs": []
    },
    {
      "cell_type": "code",
      "source": [
        "# 정렬과 관련된 다른 여러 가지 데이터 처리(표 형식의 데이터를 하나 이상의 열로 정렬하기 같은) 내용은 pandas에서 다룬다."
      ],
      "metadata": {
        "id": "WYkVff9ET_IK"
      },
      "execution_count": 342,
      "outputs": []
    },
    {
      "cell_type": "code",
      "source": [
        "# 4.3.5 집합 관련 함수"
      ],
      "metadata": {
        "id": "a-hIEUUxUAB3"
      },
      "execution_count": 343,
      "outputs": []
    },
    {
      "cell_type": "code",
      "source": [
        "# NumPy는 1차원 ndarray를 위한 몇 가지 기본적인 집합 연산을 제공한다. 아마도 가장 자주 사용하는 함수는 배열 내에서 중복된 원소를 제거하고 남은 원소를 정렬된 형태로 반환하는 np.unique일 것이다."
      ],
      "metadata": {
        "id": "v6OlQWqTVrmp"
      },
      "execution_count": 344,
      "outputs": []
    },
    {
      "cell_type": "code",
      "source": [
        "names = np.array([\"Bob\", \"Joe\", \"Will\", \"Bob\", \"Will\", \"Joe\", \"Joe\"])"
      ],
      "metadata": {
        "id": "Uopi35CiV6IS"
      },
      "execution_count": 345,
      "outputs": []
    },
    {
      "cell_type": "code",
      "source": [
        "np.unique(names)"
      ],
      "metadata": {
        "colab": {
          "base_uri": "https://localhost:8080/"
        },
        "id": "BbYogAQ7Xp_G",
        "outputId": "eb907865-2940-42f7-d5bf-e2945a977e5f"
      },
      "execution_count": 346,
      "outputs": [
        {
          "output_type": "execute_result",
          "data": {
            "text/plain": [
              "array(['Bob', 'Joe', 'Will'], dtype='<U4')"
            ]
          },
          "metadata": {},
          "execution_count": 346
        }
      ]
    },
    {
      "cell_type": "code",
      "source": [
        "ints = np.array([3, 3, 3, 2, 2, 1, 1, 4, 4])"
      ],
      "metadata": {
        "id": "-GSwlx8BYl7I"
      },
      "execution_count": 347,
      "outputs": []
    },
    {
      "cell_type": "code",
      "source": [
        "np.unique(ints)"
      ],
      "metadata": {
        "colab": {
          "base_uri": "https://localhost:8080/"
        },
        "id": "T_KWMNX1Ys3j",
        "outputId": "da12cdbb-7da8-44cc-97b5-9c445065e404"
      },
      "execution_count": 348,
      "outputs": [
        {
          "output_type": "execute_result",
          "data": {
            "text/plain": [
              "array([1, 2, 3, 4])"
            ]
          },
          "metadata": {},
          "execution_count": 348
        }
      ]
    },
    {
      "cell_type": "code",
      "source": [
        "# np.unique를 순수 파이썬만으로 구현하면 다음과 같다."
      ],
      "metadata": {
        "id": "fRpXMIOlYuY8"
      },
      "execution_count": 349,
      "outputs": []
    },
    {
      "cell_type": "code",
      "source": [
        "sorted(set(names))"
      ],
      "metadata": {
        "colab": {
          "base_uri": "https://localhost:8080/"
        },
        "id": "ZciVIT-hY5de",
        "outputId": "a86dec3b-b1fd-46ec-c471-8d6f0c9d4553"
      },
      "execution_count": 350,
      "outputs": [
        {
          "output_type": "execute_result",
          "data": {
            "text/plain": [
              "['Bob', 'Joe', 'Will']"
            ]
          },
          "metadata": {},
          "execution_count": 350
        }
      ]
    },
    {
      "cell_type": "code",
      "source": [
        "# np.in1d 함수는 두 개의 배열을 인자로 받아서 첫 번째 배열의 원소가 두 번째 배열의 원소를 포함하는지 나타내는 불리언 배열을 반환한다."
      ],
      "metadata": {
        "id": "v0py1G_MY-ok"
      },
      "execution_count": 351,
      "outputs": []
    },
    {
      "cell_type": "code",
      "source": [
        "values = np.array([6, 0, 0, 3, 2, 5, 6])"
      ],
      "metadata": {
        "id": "sn5rIgPIZHYY"
      },
      "execution_count": 352,
      "outputs": []
    },
    {
      "cell_type": "code",
      "source": [
        "np.in1d(values, [2, 3, 6])"
      ],
      "metadata": {
        "colab": {
          "base_uri": "https://localhost:8080/"
        },
        "id": "mh1ZW2TvZL-F",
        "outputId": "26062207-5ea4-487c-de9f-7b53c12770fb"
      },
      "execution_count": 353,
      "outputs": [
        {
          "output_type": "execute_result",
          "data": {
            "text/plain": [
              "array([ True, False, False,  True,  True, False,  True])"
            ]
          },
          "metadata": {},
          "execution_count": 353
        }
      ]
    },
    {
      "cell_type": "code",
      "source": [
        "# 표 4-6에 NumPy에서 제공하는 집합 함수를 나열해두었다."
      ],
      "metadata": {
        "id": "mdnHs8NHZQ00"
      },
      "execution_count": 354,
      "outputs": []
    },
    {
      "cell_type": "code",
      "source": [
        "# 표 4-6\n",
        "# unique(x) : 배열 x에서 중복된 원소를 제거한 뒤 정렬하여 반환한다.\n",
        "# intersect1d(x, y) : 배열 x와 y에 공통적으로 존재하는 원소를 정렬하여 반환한다. \n",
        "# union1d(x, y) : 두 배열의 합집합을 반환한다. \n",
        "# in1d(x, y) : x의 원소가 y의 원소에 포함되는지 나타내는 불리언 배열을 반환한다.\n",
        "# setdiff1d(x, y) : x와 y의 차집합을 반환한다. \n",
        "# setxor1d(x, y) : 한 배열에는 포함되지만 두 배열 모두에는 포함되지 않는 원소들의 집합인 대칭차집합을 반환한다."
      ],
      "metadata": {
        "id": "HCbIl-kcZrDE"
      },
      "execution_count": 355,
      "outputs": []
    },
    {
      "cell_type": "code",
      "source": [
        "# 배열 데이터의 파일 입출력"
      ],
      "metadata": {
        "id": "yuJvPb9QZ_UQ"
      },
      "execution_count": 356,
      "outputs": []
    },
    {
      "cell_type": "code",
      "source": [
        "# NumPy는 디스크에서 텍스트나 바이너리 형식의 데이터를 불러오거나 저장할 수 있다. 여기서는 NumPy의 내장 이진 형식만 살펴본다."
      ],
      "metadata": {
        "id": "4d8aqRYcqKFI"
      },
      "execution_count": 357,
      "outputs": []
    },
    {
      "cell_type": "code",
      "source": [
        "# 많은 사람이 텍스트나 표 형식의 데이터는 pandas나 다른 도구를 사용해서 처리하는 것을 선호하므로 6장에서 더 살펴보도록 하자."
      ],
      "metadata": {
        "id": "p9DQNVh5qZ9C"
      },
      "execution_count": 358,
      "outputs": []
    },
    {
      "cell_type": "code",
      "source": [
        "# np.save와 np.load는 배열 데이터를 효과적으로 디스크에 저장하고 불러오기 위한 함수다. "
      ],
      "metadata": {
        "id": "LkLbLlCyqkYe"
      },
      "execution_count": 359,
      "outputs": []
    },
    {
      "cell_type": "code",
      "source": [
        "# 배열은 기본적으로 압축되지 않은 원시 바이너리 형식의 .npy 파일로 저장된다. "
      ],
      "metadata": {
        "id": "IGJdNEK3qtjL"
      },
      "execution_count": 360,
      "outputs": []
    },
    {
      "cell_type": "code",
      "source": [
        "arr = np.arange(10)"
      ],
      "metadata": {
        "id": "owKfBz_Pqzyg"
      },
      "execution_count": 361,
      "outputs": []
    },
    {
      "cell_type": "code",
      "source": [
        "np.save(\"some_array\", arr)"
      ],
      "metadata": {
        "id": "QOYUbvPfq2nX"
      },
      "execution_count": 362,
      "outputs": []
    },
    {
      "cell_type": "code",
      "source": [
        "# 저장되는 파일 경로가 .npy로 끝나지 않으면 자동적으로 확장자가 추가된다. 이렇게 저장된 배열은 np.load를 이용해서 불러올 수 있다."
      ],
      "metadata": {
        "id": "CnwMuWQhq5QL"
      },
      "execution_count": 363,
      "outputs": []
    },
    {
      "cell_type": "code",
      "source": [
        "np.load(\"some_array.npy\")"
      ],
      "metadata": {
        "colab": {
          "base_uri": "https://localhost:8080/"
        },
        "id": "GrbG5I2TrJlC",
        "outputId": "93d869fb-1185-40a7-c1bd-0ee03799135f"
      },
      "execution_count": 364,
      "outputs": [
        {
          "output_type": "execute_result",
          "data": {
            "text/plain": [
              "array([0, 1, 2, 3, 4, 5, 6, 7, 8, 9])"
            ]
          },
          "metadata": {},
          "execution_count": 364
        }
      ]
    },
    {
      "cell_type": "code",
      "source": [
        "# np.savez 함수를 이용하면 여러 개의 배열을 압축된 형식으로 저장할 수 있는데, 저장하려는 배열을 키워드 인자 형태로 전달한다."
      ],
      "metadata": {
        "id": "9rvKt6S2rPJj"
      },
      "execution_count": 365,
      "outputs": []
    },
    {
      "cell_type": "code",
      "source": [
        "np.savez(\"array_archive.npz\", a=arr, b=arr)"
      ],
      "metadata": {
        "id": "_bT_V40TrYVZ"
      },
      "execution_count": 366,
      "outputs": []
    },
    {
      "cell_type": "code",
      "source": [
        "# npz 파일을 불러올 때는 각각의 배열을 필요할 때 불러올 수 있도록 사전 형식의 객체에 저장한다."
      ],
      "metadata": {
        "id": "OQh8jTC0rgEn"
      },
      "execution_count": 367,
      "outputs": []
    },
    {
      "cell_type": "code",
      "source": [
        "arch = np.load(\"array_archive.npz\")"
      ],
      "metadata": {
        "id": "B4w9k5qWrms8"
      },
      "execution_count": 368,
      "outputs": []
    },
    {
      "cell_type": "code",
      "source": [
        "arch[\"b\"]"
      ],
      "metadata": {
        "colab": {
          "base_uri": "https://localhost:8080/"
        },
        "id": "RN1TQNflrsTA",
        "outputId": "c2b5dc67-11d1-41ca-9369-e6aab98428c3"
      },
      "execution_count": 369,
      "outputs": [
        {
          "output_type": "execute_result",
          "data": {
            "text/plain": [
              "array([0, 1, 2, 3, 4, 5, 6, 7, 8, 9])"
            ]
          },
          "metadata": {},
          "execution_count": 369
        }
      ]
    },
    {
      "cell_type": "code",
      "source": [
        "# 압축이 잘 되는 형식의 데이터라면 대신 numpy.savez_compressed를 사용하자."
      ],
      "metadata": {
        "id": "SxP_7VKYrtGw"
      },
      "execution_count": 370,
      "outputs": []
    },
    {
      "cell_type": "code",
      "source": [
        "np.savez_compressed(\"arrays_compressed.npz\", a=arr, b=arr)"
      ],
      "metadata": {
        "id": "mGTZWlnbr2zA"
      },
      "execution_count": 371,
      "outputs": []
    },
    {
      "cell_type": "code",
      "source": [
        "# 4.5 선형대수"
      ],
      "metadata": {
        "id": "-nWXU6lOr_zm"
      },
      "execution_count": 372,
      "outputs": []
    },
    {
      "cell_type": "code",
      "source": [
        "# 행렬의 곱셉, 분할, 행렬식, 그리고 정사각 행렬 수학 같은 선형대수는 배열을 다루는 라이브러리에서 중요한 부분이다. "
      ],
      "metadata": {
        "id": "bKnRbK5LsdX7"
      },
      "execution_count": 373,
      "outputs": []
    },
    {
      "cell_type": "code",
      "source": [
        "# 매트랩 같은 언어와 다르게 두 개의 2차원 배열을 * 연산자로 곱하면 행렬 곱셈이 아니라 대응하는 각각의 원소의 곱을 계산한다. "
      ],
      "metadata": {
        "id": "rQoWrntbsqtu"
      },
      "execution_count": 374,
      "outputs": []
    },
    {
      "cell_type": "code",
      "source": [
        "# 행렬 곱셈은 배열 메서드이자 numpy 네임스페이스 안에 있는 dot 함수를 이용해서 계산한다."
      ],
      "metadata": {
        "id": "k61i5VGWsxNP"
      },
      "execution_count": 375,
      "outputs": []
    },
    {
      "cell_type": "code",
      "source": [
        "x = np.array([[1., 2., 3.],[4., 5., 6.]])"
      ],
      "metadata": {
        "id": "C7RLUEK9s5dT"
      },
      "execution_count": 376,
      "outputs": []
    },
    {
      "cell_type": "code",
      "source": [
        "y = np.array([[6., 23.], [-1, 7], [8, 9]])"
      ],
      "metadata": {
        "id": "AjMVfCeBtFIs"
      },
      "execution_count": 377,
      "outputs": []
    },
    {
      "cell_type": "code",
      "source": [
        "x"
      ],
      "metadata": {
        "colab": {
          "base_uri": "https://localhost:8080/"
        },
        "id": "tvwWdZg2tOTW",
        "outputId": "e0314949-18bd-4144-9f55-714051cf705a"
      },
      "execution_count": 378,
      "outputs": [
        {
          "output_type": "execute_result",
          "data": {
            "text/plain": [
              "array([[1., 2., 3.],\n",
              "       [4., 5., 6.]])"
            ]
          },
          "metadata": {},
          "execution_count": 378
        }
      ]
    },
    {
      "cell_type": "code",
      "source": [
        "y"
      ],
      "metadata": {
        "colab": {
          "base_uri": "https://localhost:8080/"
        },
        "id": "bgm6vV-0tPCj",
        "outputId": "536e4ee7-d11b-403c-80a7-6e6977c70149"
      },
      "execution_count": 379,
      "outputs": [
        {
          "output_type": "execute_result",
          "data": {
            "text/plain": [
              "array([[ 6., 23.],\n",
              "       [-1.,  7.],\n",
              "       [ 8.,  9.]])"
            ]
          },
          "metadata": {},
          "execution_count": 379
        }
      ]
    },
    {
      "cell_type": "code",
      "source": [
        "x.dot(y)"
      ],
      "metadata": {
        "colab": {
          "base_uri": "https://localhost:8080/"
        },
        "id": "6Cs2mh5-tPZF",
        "outputId": "53ed42e6-bb7e-4bfe-803a-1c326640d11e"
      },
      "execution_count": 380,
      "outputs": [
        {
          "output_type": "execute_result",
          "data": {
            "text/plain": [
              "array([[ 28.,  64.],\n",
              "       [ 67., 181.]])"
            ]
          },
          "metadata": {},
          "execution_count": 380
        }
      ]
    },
    {
      "cell_type": "code",
      "source": [
        "# x.dot(y)는 np.dot(x, y)와 동일하다. "
      ],
      "metadata": {
        "id": "aegYYcDQtRUn"
      },
      "execution_count": 381,
      "outputs": []
    },
    {
      "cell_type": "code",
      "source": [
        "np.dot(x, y)"
      ],
      "metadata": {
        "colab": {
          "base_uri": "https://localhost:8080/"
        },
        "id": "CVdlqbGytXYt",
        "outputId": "a420087b-d864-4216-86c2-4c0962080c71"
      },
      "execution_count": 382,
      "outputs": [
        {
          "output_type": "execute_result",
          "data": {
            "text/plain": [
              "array([[ 28.,  64.],\n",
              "       [ 67., 181.]])"
            ]
          },
          "metadata": {},
          "execution_count": 382
        }
      ]
    },
    {
      "cell_type": "code",
      "source": [
        "# 2차원 배열과 곱셈이 가능한 크기의 1차원 배열 간의 행렬 곱셈의 결과는 1차원 배열이다. "
      ],
      "metadata": {
        "id": "OG-o7sSit0ap"
      },
      "execution_count": 383,
      "outputs": []
    },
    {
      "cell_type": "code",
      "source": [
        "np.dot(x, np.ones(3))"
      ],
      "metadata": {
        "colab": {
          "base_uri": "https://localhost:8080/"
        },
        "id": "SU3_LlfHt9mB",
        "outputId": "f16c43be-5dad-41bd-f638-ab8d0debfe67"
      },
      "execution_count": 384,
      "outputs": [
        {
          "output_type": "execute_result",
          "data": {
            "text/plain": [
              "array([ 6., 15.])"
            ]
          },
          "metadata": {},
          "execution_count": 384
        }
      ]
    },
    {
      "cell_type": "code",
      "source": [
        "# 파이썬 3.5부터 사용할 수 있는 @ 기호는 행렬 곱셈을 수행하는 연산자다."
      ],
      "metadata": {
        "id": "T3nl5a5EusQa"
      },
      "execution_count": 385,
      "outputs": []
    },
    {
      "cell_type": "code",
      "source": [
        "x @ np.ones(3)"
      ],
      "metadata": {
        "colab": {
          "base_uri": "https://localhost:8080/"
        },
        "id": "hWJuqvHsu08N",
        "outputId": "b6562778-8647-48da-e6cc-d9bb2f50a774"
      },
      "execution_count": 386,
      "outputs": [
        {
          "output_type": "execute_result",
          "data": {
            "text/plain": [
              "array([ 6., 15.])"
            ]
          },
          "metadata": {},
          "execution_count": 386
        }
      ]
    },
    {
      "cell_type": "code",
      "source": [
        "# numpy.linalg는 행렬의 분할과 역행렬, 행렬식과 같은 것들을 포함하고 있다. 이는 매트랩, R 같은 언어에서 사용하는 표준 포트란 라이브러리인 BLAS, LAPACK 또는 Intel MKL을 사용해서 구현되었다."
      ],
      "metadata": {
        "id": "ixetvrS7u3ui"
      },
      "execution_count": 387,
      "outputs": []
    },
    {
      "cell_type": "code",
      "source": [
        "from numpy.linalg import inv, qr"
      ],
      "metadata": {
        "id": "BZgpqPvkvNN4"
      },
      "execution_count": 388,
      "outputs": []
    },
    {
      "cell_type": "code",
      "source": [
        "X = np.random.randn(5, 5)"
      ],
      "metadata": {
        "id": "HE2pNH4avTdD"
      },
      "execution_count": 389,
      "outputs": []
    },
    {
      "cell_type": "code",
      "source": [
        "mat = X.T.dot(X)"
      ],
      "metadata": {
        "id": "4_p97QluvWMn"
      },
      "execution_count": 390,
      "outputs": []
    },
    {
      "cell_type": "code",
      "source": [
        "inv(mat)"
      ],
      "metadata": {
        "colab": {
          "base_uri": "https://localhost:8080/"
        },
        "id": "LPa6yM5CvY5v",
        "outputId": "be8d7a51-d60d-4001-ef90-b83f50018332"
      },
      "execution_count": 391,
      "outputs": [
        {
          "output_type": "execute_result",
          "data": {
            "text/plain": [
              "array([[ 42.10212174, -44.7063901 ,  73.03309397, -22.44125638,\n",
              "         32.02130911],\n",
              "       [-44.7063901 ,  47.73682449, -77.58764206,  23.95441711,\n",
              "        -34.25010066],\n",
              "       [ 73.03309397, -77.58764206, 127.40704   , -38.98689939,\n",
              "         55.73833879],\n",
              "       [-22.44125638,  23.95441711, -38.98689939,  12.20869238,\n",
              "        -17.36467859],\n",
              "       [ 32.02130911, -34.25010066,  55.73833879, -17.36467859,\n",
              "         25.06536828]])"
            ]
          },
          "metadata": {},
          "execution_count": 391
        }
      ]
    },
    {
      "cell_type": "code",
      "source": [
        "mat.dot(inv(mat))"
      ],
      "metadata": {
        "colab": {
          "base_uri": "https://localhost:8080/"
        },
        "id": "SExjUr0wvclj",
        "outputId": "b9e2bff9-65a0-43e4-fc81-57b160a2a347"
      },
      "execution_count": 392,
      "outputs": [
        {
          "output_type": "execute_result",
          "data": {
            "text/plain": [
              "array([[ 1.00000000e+00,  2.01518386e-15, -4.24551870e-14,\n",
              "         3.23058045e-14, -2.02069031e-14],\n",
              "       [ 5.67014920e-14,  1.00000000e+00,  9.66119705e-14,\n",
              "        -4.98164024e-15,  2.96078365e-15],\n",
              "       [-3.06147009e-15,  2.49960359e-14,  1.00000000e+00,\n",
              "        -6.72670152e-15,  4.85663452e-15],\n",
              "       [ 1.60787743e-14, -1.96380458e-14,  5.28216121e-14,\n",
              "         1.00000000e+00,  1.27573252e-14],\n",
              "       [-7.51567621e-15,  8.58106145e-15, -1.81823636e-14,\n",
              "         9.12366781e-15,  1.00000000e+00]])"
            ]
          },
          "metadata": {},
          "execution_count": 392
        }
      ]
    },
    {
      "cell_type": "code",
      "source": [
        "q, r = qr(mat)"
      ],
      "metadata": {
        "id": "ngCpVlxsvhE8"
      },
      "execution_count": 393,
      "outputs": []
    },
    {
      "cell_type": "code",
      "source": [
        "r"
      ],
      "metadata": {
        "colab": {
          "base_uri": "https://localhost:8080/"
        },
        "id": "ORBVQ3ervjtO",
        "outputId": "cdc8b31e-7bfb-41e0-b6d9-c7bef014bd47"
      },
      "execution_count": 394,
      "outputs": [
        {
          "output_type": "execute_result",
          "data": {
            "text/plain": [
              "array([[-10.55225833,  -6.73419082,   2.72117061,  -2.38994331,\n",
              "         -3.43492852],\n",
              "       [  0.        ,  -3.72421489,  -1.03994826,   4.79824179,\n",
              "          0.5424777 ],\n",
              "       [  0.        ,   0.        ,  -0.8632416 ,  -4.85628183,\n",
              "         -1.43332622],\n",
              "       [  0.        ,   0.        ,   0.        ,  -5.47044259,\n",
              "         -3.82479671],\n",
              "       [  0.        ,   0.        ,   0.        ,   0.        ,\n",
              "          0.01266432]])"
            ]
          },
          "metadata": {},
          "execution_count": 394
        }
      ]
    },
    {
      "cell_type": "code",
      "source": [
        "# X.T.dot(X)는 X.T.의 전치행렬과 X의 곱을 계산한다."
      ],
      "metadata": {
        "id": "xj0_7MVxvkET"
      },
      "execution_count": 395,
      "outputs": []
    },
    {
      "cell_type": "code",
      "source": [
        "# 표 4-7에 자주 사용하는 선형대수 함수를 나열해두었다."
      ],
      "metadata": {
        "id": "-hODTLKrvtra"
      },
      "execution_count": 396,
      "outputs": []
    },
    {
      "cell_type": "code",
      "source": [
        "# 4.6 난수 생성"
      ],
      "metadata": {
        "id": "uNJc7-v2vzDa"
      },
      "execution_count": 397,
      "outputs": []
    },
    {
      "cell_type": "code",
      "source": [
        "# numpy.random 모듈은 파이썬 내장 random 함수를 보강하여 다양한 종류의 확률분포로부터 효과적으로 표본값을 생성하는 데 주로 사용된다."
      ],
      "metadata": {
        "id": "JnLC8Gtxvzxs"
      },
      "execution_count": 398,
      "outputs": []
    },
    {
      "cell_type": "code",
      "source": [
        "# 예를 들어 normal을 사용하여 표준정규분포로부터 4 * 4 크기의 표본을 생성할 수 있다."
      ],
      "metadata": {
        "id": "ppkpY6W49Sk-"
      },
      "execution_count": 399,
      "outputs": []
    },
    {
      "cell_type": "code",
      "source": [
        "samples = np.random.normal(size=(4, 4))"
      ],
      "metadata": {
        "id": "z9h5exI_9fRf"
      },
      "execution_count": 400,
      "outputs": []
    },
    {
      "cell_type": "code",
      "source": [
        "samples"
      ],
      "metadata": {
        "colab": {
          "base_uri": "https://localhost:8080/"
        },
        "id": "whgIbCIv9mxW",
        "outputId": "748160c7-e94b-4e09-c61d-34d7422e74ff"
      },
      "execution_count": 401,
      "outputs": [
        {
          "output_type": "execute_result",
          "data": {
            "text/plain": [
              "array([[-0.74301796, -0.33338558, -0.98762534, -0.74214425],\n",
              "       [ 0.1309822 , -1.47854116,  0.32961968,  0.37656288],\n",
              "       [-0.36713286, -0.96088541, -1.19261122,  0.85286095],\n",
              "       [ 0.38112061, -1.46517228,  2.2792451 , -0.93897907]])"
            ]
          },
          "metadata": {},
          "execution_count": 401
        }
      ]
    },
    {
      "cell_type": "code",
      "source": [
        "# 이에 비해 파이썬 내장 random 모듈은 한 번에 하나의 값만 생성할 수 있다. 다음 성능 비교에서 알 수 있듯이 numpy.random은 매우 큰 표본을 생성하는데 파이썬 내장 모듈보다 수십 배 이상 빠르다."
      ],
      "metadata": {
        "id": "yrBdVbbM9ohU"
      },
      "execution_count": 402,
      "outputs": []
    },
    {
      "cell_type": "code",
      "source": [
        "from random import normalvariate"
      ],
      "metadata": {
        "id": "1utligJq931w"
      },
      "execution_count": 403,
      "outputs": []
    },
    {
      "cell_type": "code",
      "source": [
        "N = 1000000"
      ],
      "metadata": {
        "id": "YsbNi1Fk9-x-"
      },
      "execution_count": 404,
      "outputs": []
    },
    {
      "cell_type": "code",
      "source": [
        "%timeit samples = [normalvariate(0, 1) for _ in range(N)]"
      ],
      "metadata": {
        "colab": {
          "base_uri": "https://localhost:8080/"
        },
        "id": "dA9balCT-A84",
        "outputId": "48a8ad2f-b084-4bd1-9c84-2ed00f1a9390"
      },
      "execution_count": 405,
      "outputs": [
        {
          "output_type": "stream",
          "name": "stdout",
          "text": [
            "2.03 s ± 428 ms per loop (mean ± std. dev. of 7 runs, 1 loop each)\n"
          ]
        }
      ]
    },
    {
      "cell_type": "code",
      "source": [
        "%timeit np.random.normal(size=N)"
      ],
      "metadata": {
        "colab": {
          "base_uri": "https://localhost:8080/"
        },
        "id": "PSb-P1bA-M4j",
        "outputId": "1b2699e4-c13d-47b5-b440-9c54a93edd13"
      },
      "execution_count": 406,
      "outputs": [
        {
          "output_type": "stream",
          "name": "stdout",
          "text": [
            "45.3 ms ± 933 µs per loop (mean ± std. dev. of 7 runs, 10 loops each)\n"
          ]
        }
      ]
    },
    {
      "cell_type": "code",
      "source": [
        "# 이를 엄밀하게는 유사 난수라고 부르는데, 난수 생성기의 시드값에 따라 정해진 난수를 알고리즘으로 생성하기 때문이다. NumPy 난수 생성기의 시드값을 np.random.seed를 이용해서 변경할 수 있다."
      ],
      "metadata": {
        "id": "t3gTo-7O_Hux"
      },
      "execution_count": 407,
      "outputs": []
    },
    {
      "cell_type": "code",
      "source": [
        "np.random.seed(1234)"
      ],
      "metadata": {
        "id": "paCg5yyM_n1Q"
      },
      "execution_count": 408,
      "outputs": []
    },
    {
      "cell_type": "code",
      "source": [
        "# numpy.random에서 제공하는 데이터를 생성할 수 있는 함수들은 전역 난수 시드값을 이용한다. numpy.random.RandomState를 이용해서 다른 난수 생성기로부터 격리된 난수 생성기를 만들 수 있다."
      ],
      "metadata": {
        "id": "PrRLX5K4_zCZ"
      },
      "execution_count": 409,
      "outputs": []
    },
    {
      "cell_type": "code",
      "source": [
        "rng = np.random.RandomState(1234)"
      ],
      "metadata": {
        "id": "LAbdy7e6AFUC"
      },
      "execution_count": 410,
      "outputs": []
    },
    {
      "cell_type": "code",
      "source": [
        "rng.randn(10)"
      ],
      "metadata": {
        "colab": {
          "base_uri": "https://localhost:8080/"
        },
        "id": "adV710QIAKfq",
        "outputId": "82c301af-2430-4830-ceef-1023f60cb34a"
      },
      "execution_count": 411,
      "outputs": [
        {
          "output_type": "execute_result",
          "data": {
            "text/plain": [
              "array([ 0.47143516, -1.19097569,  1.43270697, -0.3126519 , -0.72058873,\n",
              "        0.88716294,  0.85958841, -0.6365235 ,  0.01569637, -2.24268495])"
            ]
          },
          "metadata": {},
          "execution_count": 411
        }
      ]
    },
    {
      "cell_type": "code",
      "source": [
        "# 표 [4-8]은 numpy.random에 포함된 일부 함수다. 다음 절에서 큰 표본을 생성하기 위해 이 함수들의 기능을 이용하는 예를 살펴보겠다. 페이지 175-176"
      ],
      "metadata": {
        "id": "HAjeHwtNAMQr"
      },
      "execution_count": 412,
      "outputs": []
    },
    {
      "cell_type": "code",
      "source": [
        "# 4.7 계단 오르내리기 예제"
      ],
      "metadata": {
        "id": "27XBON00AZSK"
      },
      "execution_count": 413,
      "outputs": []
    },
    {
      "cell_type": "code",
      "source": [
        "# 계단 오르내리기 예제는 배열 연산의 활용을 보여줄 수 있는 간단한 애플리케이션이다. 계단 중간에서 같은 확률로 한 계단 올라가거나 내려간다고 가정하자."
      ],
      "metadata": {
        "id": "ZbBkQjZqqoly"
      },
      "execution_count": 414,
      "outputs": []
    },
    {
      "cell_type": "code",
      "source": [
        "# 순수 파이썬으로 내장 random 모듈을 사용하여 계단 오르내리기를 1,000번 수행하는 코드는 다음처럼 작성할 수 있다."
      ],
      "metadata": {
        "id": "CN3lfhwAqzWn"
      },
      "execution_count": 415,
      "outputs": []
    },
    {
      "cell_type": "code",
      "source": [
        "import random"
      ],
      "metadata": {
        "id": "AQSoIe3zq9e7"
      },
      "execution_count": 431,
      "outputs": []
    },
    {
      "cell_type": "code",
      "source": [
        "position = 0\n",
        "walk = [position]\n",
        "steps = 1000\n",
        "for i in range(steps):\n",
        "  step =  1 if random.randint(0, 1) else -1\n",
        "  position += step\n",
        "  walk.append(position)"
      ],
      "metadata": {
        "id": "oqpTSImGq_cI"
      },
      "execution_count": 432,
      "outputs": []
    },
    {
      "cell_type": "code",
      "source": [
        "# [그림 4-4]는 처음 100회의 계단 오르내리기를 그래프로 나타낸 것이다."
      ],
      "metadata": {
        "id": "5cuHuVfIrRjg"
      },
      "execution_count": 433,
      "outputs": []
    },
    {
      "cell_type": "code",
      "source": [
        "plt.plot(walk[:100])"
      ],
      "metadata": {
        "colab": {
          "base_uri": "https://localhost:8080/",
          "height": 283
        },
        "id": "hw-iOeRLr6AB",
        "outputId": "21b45b1f-e19d-4031-8a4e-8871cf130b19"
      },
      "execution_count": 434,
      "outputs": [
        {
          "output_type": "execute_result",
          "data": {
            "text/plain": [
              "[<matplotlib.lines.Line2D at 0x7f1e63d39dc0>]"
            ]
          },
          "metadata": {},
          "execution_count": 434
        },
        {
          "output_type": "display_data",
          "data": {
            "text/plain": [
              "<Figure size 432x288 with 1 Axes>"
            ],
            "image/png": "[encoded data removed]"
          },
          "metadata": {
            "needs_background": "light"
          }
        }
      ]
    },
    {
      "cell_type": "code",
      "source": [
        "# walk는 계단을 오르거나(+1) 내려간(-1) 값의 누적합이라는 사실을 알 수 있으며 배열식으로 나타낼 수 있다."
      ],
      "metadata": {
        "id": "Uopkz4nRr8lq"
      },
      "execution_count": 435,
      "outputs": []
    },
    {
      "cell_type": "code",
      "source": [
        "# 그래서 np.random 모듈을 사용해서 1,000번 수행한 결과 (1, -1)를 한번에 저장하고 누적합을 계산한다."
      ],
      "metadata": {
        "id": "5cycsxHVsWVt"
      },
      "execution_count": 436,
      "outputs": []
    },
    {
      "cell_type": "code",
      "source": [
        "nsteps = 1000"
      ],
      "metadata": {
        "id": "TaxvQIzCsYc3"
      },
      "execution_count": 437,
      "outputs": []
    },
    {
      "cell_type": "code",
      "source": [
        "draws = np.random.randint(0, 2, size=nsteps)"
      ],
      "metadata": {
        "id": "9t1JwcCssa2r"
      },
      "execution_count": 438,
      "outputs": []
    },
    {
      "cell_type": "code",
      "source": [
        "steps = np.where(draws > 0, 1, -1)"
      ],
      "metadata": {
        "id": "b2j3QyISsgNQ"
      },
      "execution_count": 439,
      "outputs": []
    },
    {
      "cell_type": "code",
      "source": [
        "walk = steps.cumsum()"
      ],
      "metadata": {
        "id": "AkwJcNzIslOb"
      },
      "execution_count": 440,
      "outputs": []
    },
    {
      "cell_type": "code",
      "source": [
        "# 이것으로 계단을 오르내린 위치의 최솟값과 최댓값 같은 간단한 통계를 구할 수 있다."
      ],
      "metadata": {
        "id": "QMsyTK_DsoIx"
      },
      "execution_count": 441,
      "outputs": []
    },
    {
      "cell_type": "code",
      "source": [
        "walk.min()"
      ],
      "metadata": {
        "colab": {
          "base_uri": "https://localhost:8080/"
        },
        "id": "46KDa9mrs4vN",
        "outputId": "030978ef-50be-45e5-b9c3-7a3bf4fbe01b"
      },
      "execution_count": 442,
      "outputs": [
        {
          "output_type": "execute_result",
          "data": {
            "text/plain": [
              "1"
            ]
          },
          "metadata": {},
          "execution_count": 442
        }
      ]
    },
    {
      "cell_type": "code",
      "source": [
        "walk.max()"
      ],
      "metadata": {
        "colab": {
          "base_uri": "https://localhost:8080/"
        },
        "id": "LuvZWjQ5s607",
        "outputId": "936e3042-b8af-4637-c135-355d7117ab96"
      },
      "execution_count": 443,
      "outputs": [
        {
          "output_type": "execute_result",
          "data": {
            "text/plain": [
              "47"
            ]
          },
          "metadata": {},
          "execution_count": 443
        }
      ]
    },
    {
      "cell_type": "code",
      "source": [
        "# 계단에서 특정 위치에 도달하기까지의 시간 같은 좀 더 복잡한 통계를 구할 수 있는데, 계단의 처음 위치에서 최초로 10칸 떨어지기까지 얼마나 걸렸는지 확인해보자."
      ],
      "metadata": {
        "id": "JdIjHeE2s8Zc"
      },
      "execution_count": 444,
      "outputs": []
    },
    {
      "cell_type": "code",
      "source": [
        "# np.abs(walk) >= 10으로 처음 위치에서 10칸 이상 떨어진 시점을 알려주는 불리언 배열을 얻을 수 있다. "
      ],
      "metadata": {
        "id": "zoP3rTE2uEPb"
      },
      "execution_count": 445,
      "outputs": []
    },
    {
      "cell_type": "code",
      "source": [
        "# 우리는 \"최초의\" 10 혹은 -10인 시점을 구해야 하므로 불리언 배열에서 최댓값의 처음 색인을 반환하는 argmax를 사용하자(True가 최댓값이다)."
      ],
      "metadata": {
        "id": "Fs4k_KwPuQu-"
      },
      "execution_count": 447,
      "outputs": []
    },
    {
      "cell_type": "code",
      "source": [
        "(np.abs(walk) >= 10).argmax()"
      ],
      "metadata": {
        "colab": {
          "base_uri": "https://localhost:8080/"
        },
        "id": "fL1zCYzcubvs",
        "outputId": "9c49c9ac-4c58-410f-e4e0-e08e5d96c3b4"
      },
      "execution_count": 448,
      "outputs": [
        {
          "output_type": "execute_result",
          "data": {
            "text/plain": [
              "21"
            ]
          },
          "metadata": {},
          "execution_count": 448
        }
      ]
    },
    {
      "cell_type": "code",
      "source": [
        "# 여기서 argmax를 사용했지만 argmax는 배열 전체를 모두 확인해야하기 때문에 효과적인 방법은 아니다. 또한 이 예제에서는 True가 최댓값임을 이미 알고 있었다."
      ],
      "metadata": {
        "id": "WZVWoBr_uohM"
      },
      "execution_count": 449,
      "outputs": []
    },
    {
      "cell_type": "code",
      "source": [
        "# 4.7.1 한번에 시뮬레이션하기"
      ],
      "metadata": {
        "id": "MNOowiIau2Ui"
      },
      "execution_count": 450,
      "outputs": []
    },
    {
      "cell_type": "code",
      "source": [
        "# 계단 오르내리기를 많은 횟수(5,000회 정도) 시뮬레이션하더라도 위 코드를 조금만 수정해서 해결할 수 있다."
      ],
      "metadata": {
        "id": "8dPg9vCcu7Bk"
      },
      "execution_count": 451,
      "outputs": []
    },
    {
      "cell_type": "code",
      "source": [
        "# numpy.random 함수에 크기가 2인 튜플을 넘기면 2차원 배열이 생성되고 각 컬럼에서 누적합을 구해서 5,000회의 시뮬레이션을 한 방에 처리할 수 있다."
      ],
      "metadata": {
        "id": "wZsXVu6gxKSm"
      },
      "execution_count": 452,
      "outputs": []
    },
    {
      "cell_type": "code",
      "source": [
        "nwalks = 5000"
      ],
      "metadata": {
        "id": "NO3Fr5dAxSap"
      },
      "execution_count": 453,
      "outputs": []
    },
    {
      "cell_type": "code",
      "source": [
        "nsteps = 1000"
      ],
      "metadata": {
        "id": "YScFcCXdxUxO"
      },
      "execution_count": 454,
      "outputs": []
    },
    {
      "cell_type": "code",
      "source": [
        "draws = np.random.randint(0, 2, size=(nwalks, nsteps)) # 0 또는 1"
      ],
      "metadata": {
        "id": "XKobT0HqxWc4"
      },
      "execution_count": 455,
      "outputs": []
    },
    {
      "cell_type": "code",
      "source": [
        "steps = np.where(draws > 0, 1, -1)"
      ],
      "metadata": {
        "id": "nluxt3yhxhGh"
      },
      "execution_count": 456,
      "outputs": []
    },
    {
      "cell_type": "code",
      "source": [
        "walks = steps.cumsum(1)"
      ],
      "metadata": {
        "id": "_iMIEPnQxlIK"
      },
      "execution_count": 457,
      "outputs": []
    },
    {
      "cell_type": "code",
      "source": [
        "walks"
      ],
      "metadata": {
        "colab": {
          "base_uri": "https://localhost:8080/"
        },
        "id": "A89ISg79xnLv",
        "outputId": "655d4393-d4d5-487a-93d2-ab1d718d5b76"
      },
      "execution_count": 458,
      "outputs": [
        {
          "output_type": "execute_result",
          "data": {
            "text/plain": [
              "array([[  1,   0,   1, ...,  40,  41,  42],\n",
              "       [  1,   2,   3, ..., -26, -27, -28],\n",
              "       [ -1,  -2,  -3, ..., -12, -13, -12],\n",
              "       ...,\n",
              "       [  1,   2,   1, ...,   2,   1,   0],\n",
              "       [ -1,  -2,  -3, ...,  32,  33,  34],\n",
              "       [ -1,   0,   1, ...,  -6,  -5,  -4]])"
            ]
          },
          "metadata": {},
          "execution_count": 458
        }
      ]
    },
    {
      "cell_type": "code",
      "source": [
        "# 이제 모든 시뮬레이션에 대해 최댓값과 최솟값을 구해보자."
      ],
      "metadata": {
        "id": "XdKZDLq4xoGT"
      },
      "execution_count": 459,
      "outputs": []
    },
    {
      "cell_type": "code",
      "source": [
        "walks.max()"
      ],
      "metadata": {
        "colab": {
          "base_uri": "https://localhost:8080/"
        },
        "id": "w6Q_43hSyMsf",
        "outputId": "0bb731de-08a3-4007-8503-d5165a51aee2"
      },
      "execution_count": 460,
      "outputs": [
        {
          "output_type": "execute_result",
          "data": {
            "text/plain": [
              "122"
            ]
          },
          "metadata": {},
          "execution_count": 460
        }
      ]
    },
    {
      "cell_type": "code",
      "source": [
        "walks.min()"
      ],
      "metadata": {
        "colab": {
          "base_uri": "https://localhost:8080/"
        },
        "id": "7TesAnz1yOT7",
        "outputId": "67927403-66a3-4f4e-ddc5-4f4c5c3c02ed"
      },
      "execution_count": 461,
      "outputs": [
        {
          "output_type": "execute_result",
          "data": {
            "text/plain": [
              "-128"
            ]
          },
          "metadata": {},
          "execution_count": 461
        }
      ]
    },
    {
      "cell_type": "code",
      "source": [
        "# 이 데이터에서 누적합이 30 혹은 -30이 되는 최소 시점을 계산해보자. 5,000회의 시뮬레이션 중 모든 경우가 30에 도달하지 않기 때문에 약간 까다로운데, any 메서드를 이용해서 해결할 수 있다."
      ],
      "metadata": {
        "id": "-Q25km5OyQCi"
      },
      "execution_count": 462,
      "outputs": []
    },
    {
      "cell_type": "code",
      "source": [
        "hits30 = (np.abs(walks) >= 30).any(1)"
      ],
      "metadata": {
        "id": "DpEkLYV0ydE-"
      },
      "execution_count": 464,
      "outputs": []
    },
    {
      "cell_type": "code",
      "source": [
        "hits30"
      ],
      "metadata": {
        "colab": {
          "base_uri": "https://localhost:8080/"
        },
        "id": "AH9K2eiczKyO",
        "outputId": "9b868ecf-7b0c-493a-e939-883b5adecf2f"
      },
      "execution_count": 465,
      "outputs": [
        {
          "output_type": "execute_result",
          "data": {
            "text/plain": [
              "array([ True,  True,  True, ..., False,  True, False])"
            ]
          },
          "metadata": {},
          "execution_count": 465
        }
      ]
    },
    {
      "cell_type": "code",
      "source": [
        "hits30.sum() # 누적합이 30 또는 -30이 되는 경우의 수"
      ],
      "metadata": {
        "colab": {
          "base_uri": "https://localhost:8080/"
        },
        "id": "ugGjksD6zNDi",
        "outputId": "b7e7faed-733f-421e-9574-b7938f8d631e"
      },
      "execution_count": 467,
      "outputs": [
        {
          "output_type": "execute_result",
          "data": {
            "text/plain": [
              "3367"
            ]
          },
          "metadata": {},
          "execution_count": 467
        }
      ]
    },
    {
      "cell_type": "code",
      "source": [
        "# 이 불리언 배열을 사용해서 walks에서 컬럼을 선택하고 절댓값이 30을 넘는 경우에 대해 축 1의 argmax 값을 구하면 처음 위치에서 30칸 이상 멀어지는 최소 횟수를 구할 수 있다."
      ],
      "metadata": {
        "id": "rQCk0ZMGzPPr"
      },
      "execution_count": 468,
      "outputs": []
    },
    {
      "cell_type": "code",
      "source": [
        "crossing_times = (np.abs(walks[hits30]) >= 30).argmax(1)"
      ],
      "metadata": {
        "id": "T6l2Fpk8zpJK"
      },
      "execution_count": 469,
      "outputs": []
    },
    {
      "cell_type": "code",
      "source": [
        "crossing_times.mean()"
      ],
      "metadata": {
        "colab": {
          "base_uri": "https://localhost:8080/"
        },
        "id": "RFm_ZDvLzxA2",
        "outputId": "ecf4d8d0-ed78-4c1f-b862-43ae5c286fae"
      },
      "execution_count": 470,
      "outputs": [
        {
          "output_type": "execute_result",
          "data": {
            "text/plain": [
              "510.1095931095931"
            ]
          },
          "metadata": {},
          "execution_count": 470
        }
      ]
    },
    {
      "cell_type": "code",
      "source": [
        "# 다른 분포를 사용해서 여러 가지 시도를 해보자. normal 함수에 표준편차와 평균값을 넣어서 정규분포에서 표본을 추출하는 것처럼 그냥 다른 난수 발생 함수를 사용하기만 하면 된다."
      ],
      "metadata": {
        "id": "ElzoR8Dwz0Ff"
      },
      "execution_count": 471,
      "outputs": []
    },
    {
      "cell_type": "code",
      "source": [
        "steps = np.random.normal(loc=0, scale=0.25, size=(nwalks, nsteps))"
      ],
      "metadata": {
        "id": "HY-Ip0GRz-Y1"
      },
      "execution_count": 472,
      "outputs": []
    },
    {
      "cell_type": "code",
      "source": [],
      "metadata": {
        "id": "Ole_ymYh0hMY"
      },
      "execution_count": null,
      "outputs": []
    }
  ]
}
