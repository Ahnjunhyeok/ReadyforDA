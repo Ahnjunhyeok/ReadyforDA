{
 "cells": [
  {
   "attachments": {},
   "cell_type": "markdown",
   "metadata": {},
   "source": [
    "# 12.3 메서드 연결 기법\n",
    "- 이번 챕터는 이론 위주의 내용이다."
   ]
  },
  {
   "cell_type": "code",
   "execution_count": 3,
   "metadata": {},
   "outputs": [],
   "source": [
    "# 데이터셋을 여러 차례 변형해야 하는 경우 분석에는 전혀 필요없는 임시 변수를 계속 생성하는 상황이 발생한다.\n",
    "# 다음 예제를 살펴보자."
   ]
  },
  {
   "cell_type": "code",
   "execution_count": 5,
   "metadata": {},
   "outputs": [],
   "source": [
    "# df = load_data()\n",
    "# df2 = df[df[\"col2\"] < 0]\n",
    "# df2[\"col1_demeaned\"] = df2[\"col1\"] - df2[\"col1\"].mean()\n",
    "# result = df2.groupby(\"key\").col1_demeaned.std()"
   ]
  },
  {
   "cell_type": "code",
   "execution_count": 6,
   "metadata": {},
   "outputs": [],
   "source": [
    "# 여기서 실제 데이터를 사용하지는 않지만 새로운 메서드 몇 가지를 만나게 되는데 그중 하나는 df[k] = v처럼 컬럼에 값을 대입하는 함수형 DataFrame.assign 메서드다.\n",
    "# 객체를 변경하는 대신 값 대입이 완료된 새로운 DataFrame을 반환한다.\n",
    "# 아래 두 코드는 동일하다."
   ]
  },
  {
   "cell_type": "code",
   "execution_count": 7,
   "metadata": {},
   "outputs": [],
   "source": [
    "# 실용적이지 않은 방법\n",
    "# df2 = df.copy()\n",
    "# df2[\"k\"] = v\n",
    "\n",
    "# 실용적인 방법\n",
    "# df2 = df.assign(k=v)"
   ]
  },
  {
   "cell_type": "code",
   "execution_count": 8,
   "metadata": {},
   "outputs": [],
   "source": [
    "# 값을 직접 대입하는 것이 assign을 사용하는 것보다 빠르게 수행되지만 assign을 이용하면 메서드를 연결해서 사용할 수 있다."
   ]
  },
  {
   "cell_type": "code",
   "execution_count": 9,
   "metadata": {},
   "outputs": [],
   "source": [
    "# result = (df2.assign(col1_demeaned=df2.col1 - df2.col2.mean())\n",
    "#           .groupby(\"key\")\n",
    "#           .col1_demeaned.std())"
   ]
  },
  {
   "cell_type": "code",
   "execution_count": 10,
   "metadata": {},
   "outputs": [],
   "source": [
    "# 여기서는 줄바꿈을 편리하게 하기 위해 위 코드를 괄호로 둘러쌌다."
   ]
  },
  {
   "cell_type": "code",
   "execution_count": 11,
   "metadata": {},
   "outputs": [],
   "source": [
    "# 메서드를 연결해서 사용할 때 주의해야 할 점은 임시 객체를 참조해야 할 경우가 있을 수도 있다는 것이다.\n",
    "# 앞선 예제에서 load_data의 반환값을 임시 변수인 df에 담기 전까지는 그 결과를 참조할 수 없었다.\n",
    "# 이런 경우 assign이나 호출이 가능한 객체 또는 함수를 인자로 받는 pandas의 다른 함수를 이용해서 잘 해결할 수 있다."
   ]
  },
  {
   "cell_type": "code",
   "execution_count": 12,
   "metadata": {},
   "outputs": [],
   "source": [
    "# 호출이 가능한 객체의 예시를 보기 위해 위 예제의 일부 코드를 다시 살펴보자."
   ]
  },
  {
   "cell_type": "code",
   "execution_count": 13,
   "metadata": {},
   "outputs": [],
   "source": [
    "# df = load_data()\n",
    "# df2 = df[df[\"col2\"] < 0]"
   ]
  },
  {
   "cell_type": "code",
   "execution_count": 14,
   "metadata": {},
   "outputs": [],
   "source": [
    "# 위 코드는 다음과 같이 고쳐 쓸 수 있다.\n",
    "\n",
    "# df = (load_data()\n",
    "#      [lambda x: x[\"col2\"] < 0])"
   ]
  },
  {
   "cell_type": "code",
   "execution_count": 15,
   "metadata": {},
   "outputs": [],
   "source": [
    "# 여기서 load_data의 결과를 변수에 저장하지 않았다.\n",
    "# 그래서 []에 함수를 전달해서 메서드 연결이 이어지도록 했다.\n",
    "\n",
    "# 계속해서 전체 코드를 하나의 메서드 연결 표현으로 작성할 수도 있다."
   ]
  },
  {
   "cell_type": "code",
   "execution_count": 16,
   "metadata": {},
   "outputs": [],
   "source": [
    "# result = (load_data()\n",
    "#           [lambda x: x.col2 < 0]\n",
    "#           .assign(col1_demeaned=lambda x: x.col1 - x.col1.mean())\n",
    "#           .groupby(\"key\")\n",
    "#           .col1_demeaned.std())"
   ]
  },
  {
   "cell_type": "code",
   "execution_count": 17,
   "metadata": {},
   "outputs": [],
   "source": [
    "# 어떤 스타일을 선호하는지는 개인의 취향이지만 코드를 적당히 끊어서 사용하는 것은 가독성 향상에 도움이 된다."
   ]
  },
  {
   "attachments": {},
   "cell_type": "markdown",
   "metadata": {},
   "source": [
    "- 12.3.1 pipe 메서드"
   ]
  },
  {
   "cell_type": "code",
   "execution_count": 18,
   "metadata": {},
   "outputs": [],
   "source": [
    "# pandas의 내장 함수와 방금 살펴본 메서드 연결을 통해 다양한 일을 할 수 있다.\n",
    "# 하지만 직접 작성한 함수나 다른 서드파티 라이브러리의 함수를 사용해야 하는 경우도 생긴다.\n",
    "# 이때 pipe 메서드를 사용할 수 있다.\n",
    "\n",
    "# 다음과 같은 일련의 함수 호출을 생각해보자."
   ]
  },
  {
   "cell_type": "code",
   "execution_count": 19,
   "metadata": {},
   "outputs": [],
   "source": [
    "# a = f(df, arg1=v1)\n",
    "# b = g(a, v2, arg3=v3)\n",
    "# c = h(b, arg4=v4)"
   ]
  },
  {
   "cell_type": "code",
   "execution_count": 20,
   "metadata": {},
   "outputs": [],
   "source": [
    "# Series나 DataFrame 객체를 인자로 취하고 반환하는 함수를 사용하는 경우 위 코드를 pipe를 이용해서 아래처럼 고쳐 쓸 수 있다."
   ]
  },
  {
   "cell_type": "code",
   "execution_count": 21,
   "metadata": {},
   "outputs": [],
   "source": [
    "# result = (df.pipe(f, arg1=v1)\n",
    "#           .pipe(g, v2, arg3=v3)\n",
    "#           .pipe(h, arg4=v4))"
   ]
  },
  {
   "cell_type": "code",
   "execution_count": 22,
   "metadata": {},
   "outputs": [],
   "source": [
    "# f(df)와 df.pipe(f)는 동일하다. 하지만 pipe는 메서드 연결을 좀 더 쉽게 쓸 수 있도록 해준다.\n",
    "\n",
    "# pipe를 이용한 유용한 패턴 중 하나는 일련의 연산을 재사용 가능한 함수로 일반화하는 것이다.\n",
    "# 컬럼에서 그룹 평균을 빼는 과정을 생각해보자."
   ]
  },
  {
   "cell_type": "code",
   "execution_count": 23,
   "metadata": {},
   "outputs": [],
   "source": [
    "# g = df.groupby([\"key1\", \"key2\"])\n",
    "# df[\"col1\"] = df[\"col1\"] - g.transform(\"mean\")"
   ]
  },
  {
   "cell_type": "code",
   "execution_count": 24,
   "metadata": {},
   "outputs": [],
   "source": [
    "# 한 컬럼이 아니라 여러 컬럼에 대해 그룹 평균을 뺄 수 있고 그룹의 키를 쉽게 변경할 수 있기를 바란다면, \n",
    "# 또 이 작업을 메서드 연결로도 수행할 수 있기 바란다면 아래 예제를 보자."
   ]
  },
  {
   "cell_type": "code",
   "execution_count": 25,
   "metadata": {},
   "outputs": [],
   "source": [
    "# def group_demean(df, by, cols):\n",
    "#   result = df.copy()\n",
    "#   g = df.groupby(by)\n",
    "#   for c in cols:\n",
    "#       result[c] = df[c] - g[c].transform(\"mean\")\n",
    "#   return result"
   ]
  },
  {
   "cell_type": "code",
   "execution_count": 26,
   "metadata": {},
   "outputs": [],
   "source": [
    "# 이제 group_demean 함수를 사용해서 아래처럼 작성할 수 있다."
   ]
  },
  {
   "cell_type": "code",
   "execution_count": 27,
   "metadata": {},
   "outputs": [],
   "source": [
    "# result = (df[df.col1 < 1]\n",
    "#           .pipe(group_demean, [\"key1\", \"key2\"], [\"col1\"]))"
   ]
  }
 ],
 "metadata": {
  "kernelspec": {
   "display_name": "Python 3",
   "language": "python",
   "name": "python3"
  },
  "language_info": {
   "codemirror_mode": {
    "name": "ipython",
    "version": 3
   },
   "file_extension": ".py",
   "mimetype": "text/x-python",
   "name": "python",
   "nbconvert_exporter": "python",
   "pygments_lexer": "ipython3",
   "version": "3.10.0"
  },
  "orig_nbformat": 4,
  "vscode": {
   "interpreter": {
    "hash": "369f2c481f4da34e4445cda3fffd2e751bd1c4d706f27375911949ba6bb62e1c"
   }
  }
 },
 "nbformat": 4,
 "nbformat_minor": 2
}
