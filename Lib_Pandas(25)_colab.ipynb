{
  "nbformat": 4,
  "nbformat_minor": 0,
  "metadata": {
    "colab": {
      "provenance": []
    },
    "kernelspec": {
      "name": "python3",
      "display_name": "Python 3"
    },
    "language_info": {
      "name": "python"
    }
  },
  "cells": [
    {
      "cell_type": "code",
      "execution_count": 1,
      "metadata": {
        "id": "O1fjcWk8r_RS"
      },
      "outputs": [],
      "source": [
        "import numpy as np\n",
        "import pandas as pd"
      ]
    },
    {
      "cell_type": "code",
      "source": [
        "# 6.2.2 마이크로소프트 엑셀 파일에서 데이터 읽어오기 "
      ],
      "metadata": {
        "id": "QcMRJ0pbsJwb"
      },
      "execution_count": 2,
      "outputs": []
    },
    {
      "cell_type": "code",
      "source": [
        "# pandas는 ExcelFile 클래스나 pandas.read_excel 함수를 사용해서 마이크로소프트 엑셀 2003 이후 버전의 데이터를 읽어올 수 있다. "
      ],
      "metadata": {
        "id": "ce8x1W6DsboJ"
      },
      "execution_count": 3,
      "outputs": []
    },
    {
      "cell_type": "code",
      "source": [
        "# 내부적으로 이들 도구는 XLS 파일과 XLSX 파일을 읽기 위해 각각 xlrd와 openpyxl 패키지를 이용하므로 사용하기 전에 pip나 conda 명령을 이용해서 두 패키지를 설치해야 한다."
      ],
      "metadata": {
        "id": "i4l1hSWqskqy"
      },
      "execution_count": 4,
      "outputs": []
    },
    {
      "cell_type": "code",
      "source": [
        "# pip install xlrd"
      ],
      "metadata": {
        "id": "wS5s3fROs1Qs"
      },
      "execution_count": 13,
      "outputs": []
    },
    {
      "cell_type": "code",
      "source": [
        "# pip install openpyxl"
      ],
      "metadata": {
        "id": "i8lHrb4vs4TL"
      },
      "execution_count": 14,
      "outputs": []
    },
    {
      "cell_type": "code",
      "source": [
        "# ExcelFile 클래스를 사용하려면 xls나 xlsx 파일의 경로를 지정하여 객체를 생성해야 한다."
      ],
      "metadata": {
        "id": "nD5xKkLPs8du"
      },
      "execution_count": 7,
      "outputs": []
    },
    {
      "cell_type": "code",
      "source": [
        "# xlsx = pd.ExcelFile(\"examples/ex1.xlsx\") - 코랩으로 진행해서 경로설정이 어렵다. vscode로 다시 작성해볼 것이다."
      ],
      "metadata": {
        "id": "_VTAaBUbtFbv"
      },
      "execution_count": 9,
      "outputs": []
    },
    {
      "cell_type": "code",
      "source": [
        "# 시트에 있는 데이터는 parse 함수를 이용해서 DataFrame으로 읽어올 수 있다."
      ],
      "metadata": {
        "id": "8FrNOJQotNwW"
      },
      "execution_count": 10,
      "outputs": []
    },
    {
      "cell_type": "code",
      "source": [
        "# pd.read_excel(xlsx, \"sheet1\")"
      ],
      "metadata": {
        "id": "bjNMDGuXtaVP"
      },
      "execution_count": 11,
      "outputs": []
    },
    {
      "cell_type": "code",
      "source": [
        "# 한 파일에서 여러 시트를 읽어오려면 ExcelFile을 생성하면 빠르지만 간단하게는 pandas.read_excel에 파일 이름만 남겨도 된다."
      ],
      "metadata": {
        "id": "1h12VpAuteIl"
      },
      "execution_count": 12,
      "outputs": []
    },
    {
      "cell_type": "code",
      "source": [
        "# frame = pd.read_excel(\"examples/ex1.xlsx\", \"sheet1\")"
      ],
      "metadata": {
        "id": "4_Y2kZiMtmmS"
      },
      "execution_count": 15,
      "outputs": []
    },
    {
      "cell_type": "code",
      "source": [
        "# frame"
      ],
      "metadata": {
        "id": "1RT8L-DVtyWu"
      },
      "execution_count": 16,
      "outputs": []
    },
    {
      "cell_type": "code",
      "source": [
        "# pandas 데이터를 엑셀 파일로 저장하고 싶다면 ExcelWrite를 생성하여 데이터를 기록하고 pandas 객체의 to_excel 메서드로 넘기면 된다. "
      ],
      "metadata": {
        "id": "WVR0hmLntyzc"
      },
      "execution_count": 17,
      "outputs": []
    },
    {
      "cell_type": "code",
      "source": [
        "# writer = pd.ExcelWriter(\"examples/ex2.xlsx\")"
      ],
      "metadata": {
        "id": "9TI0hrSSt-TG"
      },
      "execution_count": 18,
      "outputs": []
    },
    {
      "cell_type": "code",
      "source": [
        "# frame.to_excel(writer, \"sheet1\")"
      ],
      "metadata": {
        "id": "b69DhdfUuDde"
      },
      "execution_count": 19,
      "outputs": []
    },
    {
      "cell_type": "code",
      "source": [
        "# writer.save()"
      ],
      "metadata": {
        "id": "ZcQtF0ZduIO9"
      },
      "execution_count": 20,
      "outputs": []
    },
    {
      "cell_type": "code",
      "source": [
        "# ExcelWriter를 사용하지 않고 to_excel 메서드에 파일 경로만 넘겨도 된다. "
      ],
      "metadata": {
        "id": "-C39VUK4uKhZ"
      },
      "execution_count": 21,
      "outputs": []
    },
    {
      "cell_type": "code",
      "source": [
        "# frame.to_excel(\"examples/ex2.xlsx\")"
      ],
      "metadata": {
        "id": "SH-VpK2EuRiS"
      },
      "execution_count": 22,
      "outputs": []
    },
    {
      "cell_type": "code",
      "source": [],
      "metadata": {
        "id": "jWd6T5X9uXtt"
      },
      "execution_count": null,
      "outputs": []
    }
  ]
}