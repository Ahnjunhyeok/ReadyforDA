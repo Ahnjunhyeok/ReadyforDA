{
 "cells": [
  {
   "attachments": {},
   "cell_type": "markdown",
   "metadata": {},
   "source": [
    "* 점포 별 판매량의 추이를 그래프로 표현 !\n",
    "* 상품의 종류를 나누어 표현 ! \n",
    "* 가장 많이 팔린 점포만 확인 !"
   ]
  },
  {
   "cell_type": "code",
   "execution_count": 31,
   "metadata": {},
   "outputs": [],
   "source": [
    "import numpy as np\n",
    "import pandas as pd\n",
    "import seaborn as sns\n",
    "np.random.seed(12345)\n",
    "import matplotlib.pyplot as plt\n",
    "import matplotlib as mpl\n",
    "mpl.rc(\"font\", family=\"Malgun Gothic\")\n",
    "plt.rc(\"figure\", figsize=(10, 6))\n",
    "PREVIOUS_MAX_ROWS = pd.options.display.max_rows\n",
    "pd.options.display.max_columns = 20\n",
    "pd.options.display.max_rows = 20\n",
    "pd.options.display.max_colwidth = 80\n",
    "np.set_printoptions(precision=4, suppress=True)"
   ]
  },
  {
   "cell_type": "code",
   "execution_count": 32,
   "metadata": {},
   "outputs": [
    {
     "name": "stdout",
     "output_type": "stream",
     "text": [
      "(117, 646)\n"
     ]
    },
    {
     "data": {
      "text/html": [
       "<div>\n",
       "<style scoped>\n",
       "    .dataframe tbody tr th:only-of-type {\n",
       "        vertical-align: middle;\n",
       "    }\n",
       "\n",
       "    .dataframe tbody tr th {\n",
       "        vertical-align: top;\n",
       "    }\n",
       "\n",
       "    .dataframe thead th {\n",
       "        text-align: right;\n",
       "    }\n",
       "</style>\n",
       "<table border=\"1\" class=\"dataframe\">\n",
       "  <thead>\n",
       "    <tr style=\"text-align: right;\">\n",
       "      <th></th>\n",
       "      <th>순번</th>\n",
       "      <th>상품코드</th>\n",
       "      <th>상품명</th>\n",
       "      <th>합계</th>\n",
       "      <th>(1154)의정부점</th>\n",
       "      <th>(1155)별내점</th>\n",
       "      <th>(1156)풍산점</th>\n",
       "      <th>(1157)김포한강점</th>\n",
       "      <th>(1158)세종점</th>\n",
       "      <th>(1159)킨텍스점</th>\n",
       "      <th>...</th>\n",
       "      <th>(L21)위시티점</th>\n",
       "      <th>(L23)걸포동점</th>\n",
       "      <th>(L27)통일동산점</th>\n",
       "      <th>(L35)성대점</th>\n",
       "      <th>(L36)병점점</th>\n",
       "      <th>(L38)율전점</th>\n",
       "      <th>(L39)본오점</th>\n",
       "      <th>(L40)검암점</th>\n",
       "      <th>(L44)신길점</th>\n",
       "      <th>(L46)용호점</th>\n",
       "    </tr>\n",
       "  </thead>\n",
       "  <tbody>\n",
       "    <tr>\n",
       "      <th>0</th>\n",
       "      <td>NaN</td>\n",
       "      <td>NaN</td>\n",
       "      <td>NaN</td>\n",
       "      <td>수량</td>\n",
       "      <td>수량</td>\n",
       "      <td>수량</td>\n",
       "      <td>수량</td>\n",
       "      <td>수량</td>\n",
       "      <td>수량</td>\n",
       "      <td>수량</td>\n",
       "      <td>...</td>\n",
       "      <td>수량</td>\n",
       "      <td>수량</td>\n",
       "      <td>수량</td>\n",
       "      <td>수량</td>\n",
       "      <td>수량</td>\n",
       "      <td>수량</td>\n",
       "      <td>수량</td>\n",
       "      <td>수량</td>\n",
       "      <td>수량</td>\n",
       "      <td>수량</td>\n",
       "    </tr>\n",
       "    <tr>\n",
       "      <th>1</th>\n",
       "      <td>NaN</td>\n",
       "      <td>NaN</td>\n",
       "      <td>합 계</td>\n",
       "      <td>2,029,096</td>\n",
       "      <td>6,829</td>\n",
       "      <td>8,374</td>\n",
       "      <td>12,626</td>\n",
       "      <td>11,767</td>\n",
       "      <td>10,912</td>\n",
       "      <td>7,062</td>\n",
       "      <td>...</td>\n",
       "      <td>2,392</td>\n",
       "      <td>1,291</td>\n",
       "      <td>4,506</td>\n",
       "      <td>2,364</td>\n",
       "      <td>2,739</td>\n",
       "      <td>1,782</td>\n",
       "      <td>3,129</td>\n",
       "      <td>1,712</td>\n",
       "      <td>3,189</td>\n",
       "      <td>2,347</td>\n",
       "    </tr>\n",
       "    <tr>\n",
       "      <th>2</th>\n",
       "      <td>1.0</td>\n",
       "      <td>1.801828e+06</td>\n",
       "      <td>BW1 473ml캔(수입)</td>\n",
       "      <td>65,402</td>\n",
       "      <td>174</td>\n",
       "      <td>239</td>\n",
       "      <td>432</td>\n",
       "      <td>199</td>\n",
       "      <td>220</td>\n",
       "      <td>263</td>\n",
       "      <td>...</td>\n",
       "      <td>0</td>\n",
       "      <td>25</td>\n",
       "      <td>76</td>\n",
       "      <td>72</td>\n",
       "      <td>54</td>\n",
       "      <td>72</td>\n",
       "      <td>15</td>\n",
       "      <td>38</td>\n",
       "      <td>27</td>\n",
       "      <td>89</td>\n",
       "    </tr>\n",
       "    <tr>\n",
       "      <th>3</th>\n",
       "      <td>2.0</td>\n",
       "      <td>1.801859e+06</td>\n",
       "      <td>BW1 355ml (낱캔)</td>\n",
       "      <td>1</td>\n",
       "      <td>0</td>\n",
       "      <td>0</td>\n",
       "      <td>0</td>\n",
       "      <td>0</td>\n",
       "      <td>0</td>\n",
       "      <td>0</td>\n",
       "      <td>...</td>\n",
       "      <td>0</td>\n",
       "      <td>0</td>\n",
       "      <td>0</td>\n",
       "      <td>0</td>\n",
       "      <td>0</td>\n",
       "      <td>0</td>\n",
       "      <td>0</td>\n",
       "      <td>0</td>\n",
       "      <td>0</td>\n",
       "      <td>0</td>\n",
       "    </tr>\n",
       "    <tr>\n",
       "      <th>4</th>\n",
       "      <td>3.0</td>\n",
       "      <td>4.078618e+07</td>\n",
       "      <td>RB 500ml</td>\n",
       "      <td>2,158</td>\n",
       "      <td>4</td>\n",
       "      <td>9</td>\n",
       "      <td>10</td>\n",
       "      <td>27</td>\n",
       "      <td>0</td>\n",
       "      <td>11</td>\n",
       "      <td>...</td>\n",
       "      <td>0</td>\n",
       "      <td>0</td>\n",
       "      <td>0</td>\n",
       "      <td>0</td>\n",
       "      <td>0</td>\n",
       "      <td>0</td>\n",
       "      <td>0</td>\n",
       "      <td>0</td>\n",
       "      <td>0</td>\n",
       "      <td>0</td>\n",
       "    </tr>\n",
       "    <tr>\n",
       "      <th>5</th>\n",
       "      <td>4.0</td>\n",
       "      <td>4.100136e+07</td>\n",
       "      <td>VX 500ml</td>\n",
       "      <td>3,649</td>\n",
       "      <td>14</td>\n",
       "      <td>0</td>\n",
       "      <td>17</td>\n",
       "      <td>35</td>\n",
       "      <td>20</td>\n",
       "      <td>2</td>\n",
       "      <td>...</td>\n",
       "      <td>0</td>\n",
       "      <td>0</td>\n",
       "      <td>0</td>\n",
       "      <td>0</td>\n",
       "      <td>0</td>\n",
       "      <td>0</td>\n",
       "      <td>0</td>\n",
       "      <td>0</td>\n",
       "      <td>0</td>\n",
       "      <td>0</td>\n",
       "    </tr>\n",
       "    <tr>\n",
       "      <th>6</th>\n",
       "      <td>5.0</td>\n",
       "      <td>8.800532e+07</td>\n",
       "      <td>CAT2 500ml</td>\n",
       "      <td>1</td>\n",
       "      <td>0</td>\n",
       "      <td>0</td>\n",
       "      <td>0</td>\n",
       "      <td>0</td>\n",
       "      <td>0</td>\n",
       "      <td>0</td>\n",
       "      <td>...</td>\n",
       "      <td>0</td>\n",
       "      <td>0</td>\n",
       "      <td>0</td>\n",
       "      <td>0</td>\n",
       "      <td>0</td>\n",
       "      <td>0</td>\n",
       "      <td>0</td>\n",
       "      <td>0</td>\n",
       "      <td>0</td>\n",
       "      <td>0</td>\n",
       "    </tr>\n",
       "    <tr>\n",
       "      <th>7</th>\n",
       "      <td>6.0</td>\n",
       "      <td>1.820000e+10</td>\n",
       "      <td>BW1 473ml(알루미늄)_2018 Worldcup</td>\n",
       "      <td>47,934</td>\n",
       "      <td>258</td>\n",
       "      <td>42</td>\n",
       "      <td>664</td>\n",
       "      <td>700</td>\n",
       "      <td>810</td>\n",
       "      <td>743</td>\n",
       "      <td>...</td>\n",
       "      <td>0</td>\n",
       "      <td>0</td>\n",
       "      <td>0</td>\n",
       "      <td>0</td>\n",
       "      <td>0</td>\n",
       "      <td>0</td>\n",
       "      <td>0</td>\n",
       "      <td>0</td>\n",
       "      <td>0</td>\n",
       "      <td>0</td>\n",
       "    </tr>\n",
       "    <tr>\n",
       "      <th>8</th>\n",
       "      <td>7.0</td>\n",
       "      <td>1.820025e+10</td>\n",
       "      <td>BW1 740ml</td>\n",
       "      <td>40,381</td>\n",
       "      <td>651</td>\n",
       "      <td>202</td>\n",
       "      <td>220</td>\n",
       "      <td>145</td>\n",
       "      <td>530</td>\n",
       "      <td>73</td>\n",
       "      <td>...</td>\n",
       "      <td>0</td>\n",
       "      <td>11</td>\n",
       "      <td>103</td>\n",
       "      <td>36</td>\n",
       "      <td>15</td>\n",
       "      <td>21</td>\n",
       "      <td>26</td>\n",
       "      <td>10</td>\n",
       "      <td>29</td>\n",
       "      <td>123</td>\n",
       "    </tr>\n",
       "    <tr>\n",
       "      <th>9</th>\n",
       "      <td>8.0</td>\n",
       "      <td>1.820097e+10</td>\n",
       "      <td>BW1 473ml*24캔 ALU</td>\n",
       "      <td>55</td>\n",
       "      <td>0</td>\n",
       "      <td>0</td>\n",
       "      <td>0</td>\n",
       "      <td>4</td>\n",
       "      <td>0</td>\n",
       "      <td>0</td>\n",
       "      <td>...</td>\n",
       "      <td>0</td>\n",
       "      <td>0</td>\n",
       "      <td>0</td>\n",
       "      <td>0</td>\n",
       "      <td>0</td>\n",
       "      <td>0</td>\n",
       "      <td>0</td>\n",
       "      <td>0</td>\n",
       "      <td>0</td>\n",
       "      <td>0</td>\n",
       "    </tr>\n",
       "  </tbody>\n",
       "</table>\n",
       "<p>10 rows × 646 columns</p>\n",
       "</div>"
      ],
      "text/plain": [
       "    순번          상품코드                            상품명         합계 (1154)의정부점  \\\n",
       "0  NaN           NaN                            NaN         수량         수량   \n",
       "1  NaN           NaN                            합 계  2,029,096      6,829   \n",
       "2  1.0  1.801828e+06                 BW1 473ml캔(수입)     65,402        174   \n",
       "3  2.0  1.801859e+06                 BW1 355ml (낱캔)          1          0   \n",
       "4  3.0  4.078618e+07                       RB 500ml      2,158          4   \n",
       "5  4.0  4.100136e+07                       VX 500ml      3,649         14   \n",
       "6  5.0  8.800532e+07                     CAT2 500ml          1          0   \n",
       "7  6.0  1.820000e+10  BW1 473ml(알루미늄)_2018 Worldcup     47,934        258   \n",
       "8  7.0  1.820025e+10                      BW1 740ml     40,381        651   \n",
       "9  8.0  1.820097e+10              BW1 473ml*24캔 ALU         55          0   \n",
       "\n",
       "  (1155)별내점 (1156)풍산점 (1157)김포한강점 (1158)세종점 (1159)킨텍스점  ... (L21)위시티점  \\\n",
       "0        수량        수량          수량        수량         수량  ...        수량   \n",
       "1     8,374    12,626      11,767    10,912      7,062  ...     2,392   \n",
       "2       239       432         199       220        263  ...         0   \n",
       "3         0         0           0         0          0  ...         0   \n",
       "4         9        10          27         0         11  ...         0   \n",
       "5         0        17          35        20          2  ...         0   \n",
       "6         0         0           0         0          0  ...         0   \n",
       "7        42       664         700       810        743  ...         0   \n",
       "8       202       220         145       530         73  ...         0   \n",
       "9         0         0           4         0          0  ...         0   \n",
       "\n",
       "  (L23)걸포동점 (L27)통일동산점 (L35)성대점 (L36)병점점 (L38)율전점 (L39)본오점 (L40)검암점 (L44)신길점  \\\n",
       "0        수량         수량       수량       수량       수량       수량       수량       수량   \n",
       "1     1,291      4,506    2,364    2,739    1,782    3,129    1,712    3,189   \n",
       "2        25         76       72       54       72       15       38       27   \n",
       "3         0          0        0        0        0        0        0        0   \n",
       "4         0          0        0        0        0        0        0        0   \n",
       "5         0          0        0        0        0        0        0        0   \n",
       "6         0          0        0        0        0        0        0        0   \n",
       "7         0          0        0        0        0        0        0        0   \n",
       "8        11        103       36       15       21       26       10       29   \n",
       "9         0          0        0        0        0        0        0        0   \n",
       "\n",
       "  (L46)용호점  \n",
       "0       수량  \n",
       "1    2,347  \n",
       "2       89  \n",
       "3        0  \n",
       "4        0  \n",
       "5        0  \n",
       "6        0  \n",
       "7        0  \n",
       "8      123  \n",
       "9        0  \n",
       "\n",
       "[10 rows x 646 columns]"
      ]
     },
     "execution_count": 32,
     "metadata": {},
     "output_type": "execute_result"
    }
   ],
   "source": [
    "df1 = pd.read_csv(\"examples/Data09.csv\", encoding=\"cp949\")\n",
    "print(df1.shape)\n",
    "df1.head(10)"
   ]
  },
  {
   "cell_type": "code",
   "execution_count": 33,
   "metadata": {},
   "outputs": [
    {
     "data": {
      "text/plain": [
       "Index(['순번', '상품코드', '상품명', ' 합계', '(1154)의정부점', '(1155)별내점', '(1156)풍산점',\n",
       "       '(1157)김포한강점', '(1158)세종점', '(1159)킨텍스점',\n",
       "       ...\n",
       "       '(L21)위시티점', '(L23)걸포동점', '(L27)통일동산점', '(L35)성대점', '(L36)병점점',\n",
       "       '(L38)율전점', '(L39)본오점', '(L40)검암점', '(L44)신길점', '(L46)용호점'],\n",
       "      dtype='object', length=646)"
      ]
     },
     "execution_count": 33,
     "metadata": {},
     "output_type": "execute_result"
    }
   ],
   "source": [
    "df1.columns"
   ]
  },
  {
   "cell_type": "code",
   "execution_count": 34,
   "metadata": {},
   "outputs": [
    {
     "data": {
      "text/html": [
       "<div>\n",
       "<style scoped>\n",
       "    .dataframe tbody tr th:only-of-type {\n",
       "        vertical-align: middle;\n",
       "    }\n",
       "\n",
       "    .dataframe tbody tr th {\n",
       "        vertical-align: top;\n",
       "    }\n",
       "\n",
       "    .dataframe thead th {\n",
       "        text-align: right;\n",
       "    }\n",
       "</style>\n",
       "<table border=\"1\" class=\"dataframe\">\n",
       "  <thead>\n",
       "    <tr style=\"text-align: right;\">\n",
       "      <th></th>\n",
       "      <th>순번</th>\n",
       "      <th>상품코드</th>\n",
       "      <th>상품명</th>\n",
       "      <th>합계</th>\n",
       "      <th>(1154)의정부점</th>\n",
       "      <th>(1155)별내점</th>\n",
       "      <th>(1156)풍산점</th>\n",
       "      <th>(1157)김포한강점</th>\n",
       "      <th>(1158)세종점</th>\n",
       "      <th>(1159)킨텍스점</th>\n",
       "      <th>...</th>\n",
       "      <th>(L21)위시티점</th>\n",
       "      <th>(L23)걸포동점</th>\n",
       "      <th>(L27)통일동산점</th>\n",
       "      <th>(L35)성대점</th>\n",
       "      <th>(L36)병점점</th>\n",
       "      <th>(L38)율전점</th>\n",
       "      <th>(L39)본오점</th>\n",
       "      <th>(L40)검암점</th>\n",
       "      <th>(L44)신길점</th>\n",
       "      <th>(L46)용호점</th>\n",
       "    </tr>\n",
       "  </thead>\n",
       "  <tbody>\n",
       "    <tr>\n",
       "      <th>0</th>\n",
       "      <td>NaN</td>\n",
       "      <td>NaN</td>\n",
       "      <td>NaN</td>\n",
       "      <td>수량</td>\n",
       "      <td>수량</td>\n",
       "      <td>수량</td>\n",
       "      <td>수량</td>\n",
       "      <td>수량</td>\n",
       "      <td>수량</td>\n",
       "      <td>수량</td>\n",
       "      <td>...</td>\n",
       "      <td>수량</td>\n",
       "      <td>수량</td>\n",
       "      <td>수량</td>\n",
       "      <td>수량</td>\n",
       "      <td>수량</td>\n",
       "      <td>수량</td>\n",
       "      <td>수량</td>\n",
       "      <td>수량</td>\n",
       "      <td>수량</td>\n",
       "      <td>수량</td>\n",
       "    </tr>\n",
       "    <tr>\n",
       "      <th>1</th>\n",
       "      <td>NaN</td>\n",
       "      <td>NaN</td>\n",
       "      <td>합 계</td>\n",
       "      <td>2,029,096</td>\n",
       "      <td>6,829</td>\n",
       "      <td>8,374</td>\n",
       "      <td>12,626</td>\n",
       "      <td>11,767</td>\n",
       "      <td>10,912</td>\n",
       "      <td>7,062</td>\n",
       "      <td>...</td>\n",
       "      <td>2,392</td>\n",
       "      <td>1,291</td>\n",
       "      <td>4,506</td>\n",
       "      <td>2,364</td>\n",
       "      <td>2,739</td>\n",
       "      <td>1,782</td>\n",
       "      <td>3,129</td>\n",
       "      <td>1,712</td>\n",
       "      <td>3,189</td>\n",
       "      <td>2,347</td>\n",
       "    </tr>\n",
       "    <tr>\n",
       "      <th>2</th>\n",
       "      <td>1.0</td>\n",
       "      <td>1801828.0</td>\n",
       "      <td>BW1 473ml캔(수입)</td>\n",
       "      <td>65,402</td>\n",
       "      <td>174</td>\n",
       "      <td>239</td>\n",
       "      <td>432</td>\n",
       "      <td>199</td>\n",
       "      <td>220</td>\n",
       "      <td>263</td>\n",
       "      <td>...</td>\n",
       "      <td>0</td>\n",
       "      <td>25</td>\n",
       "      <td>76</td>\n",
       "      <td>72</td>\n",
       "      <td>54</td>\n",
       "      <td>72</td>\n",
       "      <td>15</td>\n",
       "      <td>38</td>\n",
       "      <td>27</td>\n",
       "      <td>89</td>\n",
       "    </tr>\n",
       "    <tr>\n",
       "      <th>3</th>\n",
       "      <td>2.0</td>\n",
       "      <td>1801859.0</td>\n",
       "      <td>BW1 355ml (낱캔)</td>\n",
       "      <td>1</td>\n",
       "      <td>0</td>\n",
       "      <td>0</td>\n",
       "      <td>0</td>\n",
       "      <td>0</td>\n",
       "      <td>0</td>\n",
       "      <td>0</td>\n",
       "      <td>...</td>\n",
       "      <td>0</td>\n",
       "      <td>0</td>\n",
       "      <td>0</td>\n",
       "      <td>0</td>\n",
       "      <td>0</td>\n",
       "      <td>0</td>\n",
       "      <td>0</td>\n",
       "      <td>0</td>\n",
       "      <td>0</td>\n",
       "      <td>0</td>\n",
       "    </tr>\n",
       "    <tr>\n",
       "      <th>4</th>\n",
       "      <td>3.0</td>\n",
       "      <td>40786179.0</td>\n",
       "      <td>RB 500ml</td>\n",
       "      <td>2,158</td>\n",
       "      <td>4</td>\n",
       "      <td>9</td>\n",
       "      <td>10</td>\n",
       "      <td>27</td>\n",
       "      <td>0</td>\n",
       "      <td>11</td>\n",
       "      <td>...</td>\n",
       "      <td>0</td>\n",
       "      <td>0</td>\n",
       "      <td>0</td>\n",
       "      <td>0</td>\n",
       "      <td>0</td>\n",
       "      <td>0</td>\n",
       "      <td>0</td>\n",
       "      <td>0</td>\n",
       "      <td>0</td>\n",
       "      <td>0</td>\n",
       "    </tr>\n",
       "  </tbody>\n",
       "</table>\n",
       "<p>5 rows × 646 columns</p>\n",
       "</div>"
      ],
      "text/plain": [
       "    순번        상품코드             상품명         합계 (1154)의정부점 (1155)별내점 (1156)풍산점  \\\n",
       "0  NaN         NaN             NaN         수량         수량        수량        수량   \n",
       "1  NaN         NaN             합 계  2,029,096      6,829     8,374    12,626   \n",
       "2  1.0   1801828.0  BW1 473ml캔(수입)     65,402        174       239       432   \n",
       "3  2.0   1801859.0  BW1 355ml (낱캔)          1          0         0         0   \n",
       "4  3.0  40786179.0        RB 500ml      2,158          4         9        10   \n",
       "\n",
       "  (1157)김포한강점 (1158)세종점 (1159)킨텍스점  ... (L21)위시티점 (L23)걸포동점 (L27)통일동산점  \\\n",
       "0          수량        수량         수량  ...        수량        수량         수량   \n",
       "1      11,767    10,912      7,062  ...     2,392     1,291      4,506   \n",
       "2         199       220        263  ...         0        25         76   \n",
       "3           0         0          0  ...         0         0          0   \n",
       "4          27         0         11  ...         0         0          0   \n",
       "\n",
       "  (L35)성대점 (L36)병점점 (L38)율전점 (L39)본오점 (L40)검암점 (L44)신길점 (L46)용호점  \n",
       "0       수량       수량       수량       수량       수량       수량       수량  \n",
       "1    2,364    2,739    1,782    3,129    1,712    3,189    2,347  \n",
       "2       72       54       72       15       38       27       89  \n",
       "3        0        0        0        0        0        0        0  \n",
       "4        0        0        0        0        0        0        0  \n",
       "\n",
       "[5 rows x 646 columns]"
      ]
     },
     "execution_count": 34,
     "metadata": {},
     "output_type": "execute_result"
    }
   ],
   "source": [
    "df1.head()"
   ]
  },
  {
   "cell_type": "code",
   "execution_count": 35,
   "metadata": {},
   "outputs": [
    {
     "data": {
      "text/html": [
       "<div>\n",
       "<style scoped>\n",
       "    .dataframe tbody tr th:only-of-type {\n",
       "        vertical-align: middle;\n",
       "    }\n",
       "\n",
       "    .dataframe tbody tr th {\n",
       "        vertical-align: top;\n",
       "    }\n",
       "\n",
       "    .dataframe thead th {\n",
       "        text-align: right;\n",
       "    }\n",
       "</style>\n",
       "<table border=\"1\" class=\"dataframe\">\n",
       "  <thead>\n",
       "    <tr style=\"text-align: right;\">\n",
       "      <th></th>\n",
       "      <th>상품명</th>\n",
       "      <th>합계</th>\n",
       "      <th>(1154)의정부점</th>\n",
       "      <th>(1155)별내점</th>\n",
       "      <th>(1156)풍산점</th>\n",
       "      <th>(1157)김포한강점</th>\n",
       "      <th>(1158)세종점</th>\n",
       "      <th>(1159)킨텍스점</th>\n",
       "      <th>(1160)광교점</th>\n",
       "      <th>(1161)과천점</th>\n",
       "      <th>...</th>\n",
       "      <th>(L21)위시티점</th>\n",
       "      <th>(L23)걸포동점</th>\n",
       "      <th>(L27)통일동산점</th>\n",
       "      <th>(L35)성대점</th>\n",
       "      <th>(L36)병점점</th>\n",
       "      <th>(L38)율전점</th>\n",
       "      <th>(L39)본오점</th>\n",
       "      <th>(L40)검암점</th>\n",
       "      <th>(L44)신길점</th>\n",
       "      <th>(L46)용호점</th>\n",
       "    </tr>\n",
       "  </thead>\n",
       "  <tbody>\n",
       "    <tr>\n",
       "      <th>0</th>\n",
       "      <td>NaN</td>\n",
       "      <td>수량</td>\n",
       "      <td>수량</td>\n",
       "      <td>수량</td>\n",
       "      <td>수량</td>\n",
       "      <td>수량</td>\n",
       "      <td>수량</td>\n",
       "      <td>수량</td>\n",
       "      <td>수량</td>\n",
       "      <td>수량</td>\n",
       "      <td>...</td>\n",
       "      <td>수량</td>\n",
       "      <td>수량</td>\n",
       "      <td>수량</td>\n",
       "      <td>수량</td>\n",
       "      <td>수량</td>\n",
       "      <td>수량</td>\n",
       "      <td>수량</td>\n",
       "      <td>수량</td>\n",
       "      <td>수량</td>\n",
       "      <td>수량</td>\n",
       "    </tr>\n",
       "    <tr>\n",
       "      <th>1</th>\n",
       "      <td>합 계</td>\n",
       "      <td>2,029,096</td>\n",
       "      <td>6,829</td>\n",
       "      <td>8,374</td>\n",
       "      <td>12,626</td>\n",
       "      <td>11,767</td>\n",
       "      <td>10,912</td>\n",
       "      <td>7,062</td>\n",
       "      <td>11,666</td>\n",
       "      <td>2,928</td>\n",
       "      <td>...</td>\n",
       "      <td>2,392</td>\n",
       "      <td>1,291</td>\n",
       "      <td>4,506</td>\n",
       "      <td>2,364</td>\n",
       "      <td>2,739</td>\n",
       "      <td>1,782</td>\n",
       "      <td>3,129</td>\n",
       "      <td>1,712</td>\n",
       "      <td>3,189</td>\n",
       "      <td>2,347</td>\n",
       "    </tr>\n",
       "    <tr>\n",
       "      <th>2</th>\n",
       "      <td>BW1 473ml캔(수입)</td>\n",
       "      <td>65,402</td>\n",
       "      <td>174</td>\n",
       "      <td>239</td>\n",
       "      <td>432</td>\n",
       "      <td>199</td>\n",
       "      <td>220</td>\n",
       "      <td>263</td>\n",
       "      <td>234</td>\n",
       "      <td>78</td>\n",
       "      <td>...</td>\n",
       "      <td>0</td>\n",
       "      <td>25</td>\n",
       "      <td>76</td>\n",
       "      <td>72</td>\n",
       "      <td>54</td>\n",
       "      <td>72</td>\n",
       "      <td>15</td>\n",
       "      <td>38</td>\n",
       "      <td>27</td>\n",
       "      <td>89</td>\n",
       "    </tr>\n",
       "    <tr>\n",
       "      <th>3</th>\n",
       "      <td>BW1 355ml (낱캔)</td>\n",
       "      <td>1</td>\n",
       "      <td>0</td>\n",
       "      <td>0</td>\n",
       "      <td>0</td>\n",
       "      <td>0</td>\n",
       "      <td>0</td>\n",
       "      <td>0</td>\n",
       "      <td>0</td>\n",
       "      <td>0</td>\n",
       "      <td>...</td>\n",
       "      <td>0</td>\n",
       "      <td>0</td>\n",
       "      <td>0</td>\n",
       "      <td>0</td>\n",
       "      <td>0</td>\n",
       "      <td>0</td>\n",
       "      <td>0</td>\n",
       "      <td>0</td>\n",
       "      <td>0</td>\n",
       "      <td>0</td>\n",
       "    </tr>\n",
       "    <tr>\n",
       "      <th>4</th>\n",
       "      <td>RB 500ml</td>\n",
       "      <td>2,158</td>\n",
       "      <td>4</td>\n",
       "      <td>9</td>\n",
       "      <td>10</td>\n",
       "      <td>27</td>\n",
       "      <td>0</td>\n",
       "      <td>11</td>\n",
       "      <td>14</td>\n",
       "      <td>13</td>\n",
       "      <td>...</td>\n",
       "      <td>0</td>\n",
       "      <td>0</td>\n",
       "      <td>0</td>\n",
       "      <td>0</td>\n",
       "      <td>0</td>\n",
       "      <td>0</td>\n",
       "      <td>0</td>\n",
       "      <td>0</td>\n",
       "      <td>0</td>\n",
       "      <td>0</td>\n",
       "    </tr>\n",
       "    <tr>\n",
       "      <th>...</th>\n",
       "      <td>...</td>\n",
       "      <td>...</td>\n",
       "      <td>...</td>\n",
       "      <td>...</td>\n",
       "      <td>...</td>\n",
       "      <td>...</td>\n",
       "      <td>...</td>\n",
       "      <td>...</td>\n",
       "      <td>...</td>\n",
       "      <td>...</td>\n",
       "      <td>...</td>\n",
       "      <td>...</td>\n",
       "      <td>...</td>\n",
       "      <td>...</td>\n",
       "      <td>...</td>\n",
       "      <td>...</td>\n",
       "      <td>...</td>\n",
       "      <td>...</td>\n",
       "      <td>...</td>\n",
       "      <td>...</td>\n",
       "      <td>...</td>\n",
       "    </tr>\n",
       "    <tr>\n",
       "      <th>112</th>\n",
       "      <td>CAT1 355ml*12캔+카카오 에코백+치</td>\n",
       "      <td>179</td>\n",
       "      <td>0</td>\n",
       "      <td>9</td>\n",
       "      <td>0</td>\n",
       "      <td>0</td>\n",
       "      <td>0</td>\n",
       "      <td>0</td>\n",
       "      <td>0</td>\n",
       "      <td>0</td>\n",
       "      <td>...</td>\n",
       "      <td>0</td>\n",
       "      <td>0</td>\n",
       "      <td>0</td>\n",
       "      <td>0</td>\n",
       "      <td>0</td>\n",
       "      <td>0</td>\n",
       "      <td>0</td>\n",
       "      <td>0</td>\n",
       "      <td>0</td>\n",
       "      <td>0</td>\n",
       "    </tr>\n",
       "    <tr>\n",
       "      <th>113</th>\n",
       "      <td>CAT2 355*24캔 + 진라면 6캔</td>\n",
       "      <td>212</td>\n",
       "      <td>0</td>\n",
       "      <td>0</td>\n",
       "      <td>0</td>\n",
       "      <td>0</td>\n",
       "      <td>0</td>\n",
       "      <td>0</td>\n",
       "      <td>0</td>\n",
       "      <td>2</td>\n",
       "      <td>...</td>\n",
       "      <td>0</td>\n",
       "      <td>0</td>\n",
       "      <td>0</td>\n",
       "      <td>0</td>\n",
       "      <td>0</td>\n",
       "      <td>0</td>\n",
       "      <td>0</td>\n",
       "      <td>0</td>\n",
       "      <td>0</td>\n",
       "      <td>0</td>\n",
       "    </tr>\n",
       "    <tr>\n",
       "      <th>114</th>\n",
       "      <td>CAT2 1.6L*6</td>\n",
       "      <td>6,564</td>\n",
       "      <td>0</td>\n",
       "      <td>0</td>\n",
       "      <td>0</td>\n",
       "      <td>0</td>\n",
       "      <td>0</td>\n",
       "      <td>0</td>\n",
       "      <td>0</td>\n",
       "      <td>0</td>\n",
       "      <td>...</td>\n",
       "      <td>0</td>\n",
       "      <td>0</td>\n",
       "      <td>0</td>\n",
       "      <td>0</td>\n",
       "      <td>0</td>\n",
       "      <td>0</td>\n",
       "      <td>0</td>\n",
       "      <td>0</td>\n",
       "      <td>0</td>\n",
       "      <td>0</td>\n",
       "    </tr>\n",
       "    <tr>\n",
       "      <th>115</th>\n",
       "      <td>CAT2 1.6L</td>\n",
       "      <td>125,144</td>\n",
       "      <td>365</td>\n",
       "      <td>564</td>\n",
       "      <td>796</td>\n",
       "      <td>948</td>\n",
       "      <td>594</td>\n",
       "      <td>283</td>\n",
       "      <td>401</td>\n",
       "      <td>280</td>\n",
       "      <td>...</td>\n",
       "      <td>241</td>\n",
       "      <td>196</td>\n",
       "      <td>379</td>\n",
       "      <td>120</td>\n",
       "      <td>273</td>\n",
       "      <td>128</td>\n",
       "      <td>354</td>\n",
       "      <td>106</td>\n",
       "      <td>242</td>\n",
       "      <td>122</td>\n",
       "    </tr>\n",
       "    <tr>\n",
       "      <th>116</th>\n",
       "      <td>CAT1 1.6L</td>\n",
       "      <td>22,796</td>\n",
       "      <td>113</td>\n",
       "      <td>101</td>\n",
       "      <td>168</td>\n",
       "      <td>93</td>\n",
       "      <td>107</td>\n",
       "      <td>50</td>\n",
       "      <td>256</td>\n",
       "      <td>78</td>\n",
       "      <td>...</td>\n",
       "      <td>36</td>\n",
       "      <td>14</td>\n",
       "      <td>80</td>\n",
       "      <td>29</td>\n",
       "      <td>42</td>\n",
       "      <td>54</td>\n",
       "      <td>28</td>\n",
       "      <td>9</td>\n",
       "      <td>28</td>\n",
       "      <td>24</td>\n",
       "    </tr>\n",
       "  </tbody>\n",
       "</table>\n",
       "<p>117 rows × 644 columns</p>\n",
       "</div>"
      ],
      "text/plain": [
       "                          상품명         합계 (1154)의정부점 (1155)별내점 (1156)풍산점  \\\n",
       "0                         NaN         수량         수량        수량        수량   \n",
       "1                         합 계  2,029,096      6,829     8,374    12,626   \n",
       "2              BW1 473ml캔(수입)     65,402        174       239       432   \n",
       "3              BW1 355ml (낱캔)          1          0         0         0   \n",
       "4                    RB 500ml      2,158          4         9        10   \n",
       "..                        ...        ...        ...       ...       ...   \n",
       "112  CAT1 355ml*12캔+카카오 에코백+치        179          0         9         0   \n",
       "113     CAT2 355*24캔 + 진라면 6캔        212          0         0         0   \n",
       "114               CAT2 1.6L*6      6,564          0         0         0   \n",
       "115                 CAT2 1.6L    125,144        365       564       796   \n",
       "116                 CAT1 1.6L     22,796        113       101       168   \n",
       "\n",
       "    (1157)김포한강점 (1158)세종점 (1159)킨텍스점 (1160)광교점 (1161)과천점  ... (L21)위시티점  \\\n",
       "0            수량        수량         수량        수량        수량  ...        수량   \n",
       "1        11,767    10,912      7,062    11,666     2,928  ...     2,392   \n",
       "2           199       220        263       234        78  ...         0   \n",
       "3             0         0          0         0         0  ...         0   \n",
       "4            27         0         11        14        13  ...         0   \n",
       "..          ...       ...        ...       ...       ...  ...       ...   \n",
       "112           0         0          0         0         0  ...         0   \n",
       "113           0         0          0         0         2  ...         0   \n",
       "114           0         0          0         0         0  ...         0   \n",
       "115         948       594        283       401       280  ...       241   \n",
       "116          93       107         50       256        78  ...        36   \n",
       "\n",
       "    (L23)걸포동점 (L27)통일동산점 (L35)성대점 (L36)병점점 (L38)율전점 (L39)본오점 (L40)검암점  \\\n",
       "0          수량         수량       수량       수량       수량       수량       수량   \n",
       "1       1,291      4,506    2,364    2,739    1,782    3,129    1,712   \n",
       "2          25         76       72       54       72       15       38   \n",
       "3           0          0        0        0        0        0        0   \n",
       "4           0          0        0        0        0        0        0   \n",
       "..        ...        ...      ...      ...      ...      ...      ...   \n",
       "112         0          0        0        0        0        0        0   \n",
       "113         0          0        0        0        0        0        0   \n",
       "114         0          0        0        0        0        0        0   \n",
       "115       196        379      120      273      128      354      106   \n",
       "116        14         80       29       42       54       28        9   \n",
       "\n",
       "    (L44)신길점 (L46)용호점  \n",
       "0         수량       수량  \n",
       "1      3,189    2,347  \n",
       "2         27       89  \n",
       "3          0        0  \n",
       "4          0        0  \n",
       "..       ...      ...  \n",
       "112        0        0  \n",
       "113        0        0  \n",
       "114        0        0  \n",
       "115      242      122  \n",
       "116       28       24  \n",
       "\n",
       "[117 rows x 644 columns]"
      ]
     },
     "execution_count": 35,
     "metadata": {},
     "output_type": "execute_result"
    }
   ],
   "source": [
    "df1.drop(columns=['순번','상품코드'])"
   ]
  },
  {
   "cell_type": "code",
   "execution_count": 36,
   "metadata": {},
   "outputs": [
    {
     "data": {
      "text/html": [
       "<div>\n",
       "<style scoped>\n",
       "    .dataframe tbody tr th:only-of-type {\n",
       "        vertical-align: middle;\n",
       "    }\n",
       "\n",
       "    .dataframe tbody tr th {\n",
       "        vertical-align: top;\n",
       "    }\n",
       "\n",
       "    .dataframe thead th {\n",
       "        text-align: right;\n",
       "    }\n",
       "</style>\n",
       "<table border=\"1\" class=\"dataframe\">\n",
       "  <thead>\n",
       "    <tr style=\"text-align: right;\">\n",
       "      <th></th>\n",
       "      <th>합계</th>\n",
       "      <th>(1154)의정부점</th>\n",
       "      <th>(1155)별내점</th>\n",
       "      <th>(1156)풍산점</th>\n",
       "      <th>(1157)김포한강점</th>\n",
       "      <th>(1158)세종점</th>\n",
       "      <th>(1159)킨텍스점</th>\n",
       "      <th>(1160)광교점</th>\n",
       "      <th>(1161)과천점</th>\n",
       "      <th>(1162)김해터미널점</th>\n",
       "      <th>...</th>\n",
       "      <th>(L21)위시티점</th>\n",
       "      <th>(L23)걸포동점</th>\n",
       "      <th>(L27)통일동산점</th>\n",
       "      <th>(L35)성대점</th>\n",
       "      <th>(L36)병점점</th>\n",
       "      <th>(L38)율전점</th>\n",
       "      <th>(L39)본오점</th>\n",
       "      <th>(L40)검암점</th>\n",
       "      <th>(L44)신길점</th>\n",
       "      <th>(L46)용호점</th>\n",
       "    </tr>\n",
       "    <tr>\n",
       "      <th>상품명</th>\n",
       "      <th></th>\n",
       "      <th></th>\n",
       "      <th></th>\n",
       "      <th></th>\n",
       "      <th></th>\n",
       "      <th></th>\n",
       "      <th></th>\n",
       "      <th></th>\n",
       "      <th></th>\n",
       "      <th></th>\n",
       "      <th></th>\n",
       "      <th></th>\n",
       "      <th></th>\n",
       "      <th></th>\n",
       "      <th></th>\n",
       "      <th></th>\n",
       "      <th></th>\n",
       "      <th></th>\n",
       "      <th></th>\n",
       "      <th></th>\n",
       "      <th></th>\n",
       "    </tr>\n",
       "  </thead>\n",
       "  <tbody>\n",
       "    <tr>\n",
       "      <th>NaN</th>\n",
       "      <td>수량</td>\n",
       "      <td>수량</td>\n",
       "      <td>수량</td>\n",
       "      <td>수량</td>\n",
       "      <td>수량</td>\n",
       "      <td>수량</td>\n",
       "      <td>수량</td>\n",
       "      <td>수량</td>\n",
       "      <td>수량</td>\n",
       "      <td>수량</td>\n",
       "      <td>...</td>\n",
       "      <td>수량</td>\n",
       "      <td>수량</td>\n",
       "      <td>수량</td>\n",
       "      <td>수량</td>\n",
       "      <td>수량</td>\n",
       "      <td>수량</td>\n",
       "      <td>수량</td>\n",
       "      <td>수량</td>\n",
       "      <td>수량</td>\n",
       "      <td>수량</td>\n",
       "    </tr>\n",
       "    <tr>\n",
       "      <th>합 계</th>\n",
       "      <td>2,029,096</td>\n",
       "      <td>6,829</td>\n",
       "      <td>8,374</td>\n",
       "      <td>12,626</td>\n",
       "      <td>11,767</td>\n",
       "      <td>10,912</td>\n",
       "      <td>7,062</td>\n",
       "      <td>11,666</td>\n",
       "      <td>2,928</td>\n",
       "      <td>7,712</td>\n",
       "      <td>...</td>\n",
       "      <td>2,392</td>\n",
       "      <td>1,291</td>\n",
       "      <td>4,506</td>\n",
       "      <td>2,364</td>\n",
       "      <td>2,739</td>\n",
       "      <td>1,782</td>\n",
       "      <td>3,129</td>\n",
       "      <td>1,712</td>\n",
       "      <td>3,189</td>\n",
       "      <td>2,347</td>\n",
       "    </tr>\n",
       "    <tr>\n",
       "      <th>BW1 473ml캔(수입)</th>\n",
       "      <td>65,402</td>\n",
       "      <td>174</td>\n",
       "      <td>239</td>\n",
       "      <td>432</td>\n",
       "      <td>199</td>\n",
       "      <td>220</td>\n",
       "      <td>263</td>\n",
       "      <td>234</td>\n",
       "      <td>78</td>\n",
       "      <td>1</td>\n",
       "      <td>...</td>\n",
       "      <td>0</td>\n",
       "      <td>25</td>\n",
       "      <td>76</td>\n",
       "      <td>72</td>\n",
       "      <td>54</td>\n",
       "      <td>72</td>\n",
       "      <td>15</td>\n",
       "      <td>38</td>\n",
       "      <td>27</td>\n",
       "      <td>89</td>\n",
       "    </tr>\n",
       "    <tr>\n",
       "      <th>BW1 355ml (낱캔)</th>\n",
       "      <td>1</td>\n",
       "      <td>0</td>\n",
       "      <td>0</td>\n",
       "      <td>0</td>\n",
       "      <td>0</td>\n",
       "      <td>0</td>\n",
       "      <td>0</td>\n",
       "      <td>0</td>\n",
       "      <td>0</td>\n",
       "      <td>0</td>\n",
       "      <td>...</td>\n",
       "      <td>0</td>\n",
       "      <td>0</td>\n",
       "      <td>0</td>\n",
       "      <td>0</td>\n",
       "      <td>0</td>\n",
       "      <td>0</td>\n",
       "      <td>0</td>\n",
       "      <td>0</td>\n",
       "      <td>0</td>\n",
       "      <td>0</td>\n",
       "    </tr>\n",
       "    <tr>\n",
       "      <th>RB 500ml</th>\n",
       "      <td>2,158</td>\n",
       "      <td>4</td>\n",
       "      <td>9</td>\n",
       "      <td>10</td>\n",
       "      <td>27</td>\n",
       "      <td>0</td>\n",
       "      <td>11</td>\n",
       "      <td>14</td>\n",
       "      <td>13</td>\n",
       "      <td>3</td>\n",
       "      <td>...</td>\n",
       "      <td>0</td>\n",
       "      <td>0</td>\n",
       "      <td>0</td>\n",
       "      <td>0</td>\n",
       "      <td>0</td>\n",
       "      <td>0</td>\n",
       "      <td>0</td>\n",
       "      <td>0</td>\n",
       "      <td>0</td>\n",
       "      <td>0</td>\n",
       "    </tr>\n",
       "    <tr>\n",
       "      <th>...</th>\n",
       "      <td>...</td>\n",
       "      <td>...</td>\n",
       "      <td>...</td>\n",
       "      <td>...</td>\n",
       "      <td>...</td>\n",
       "      <td>...</td>\n",
       "      <td>...</td>\n",
       "      <td>...</td>\n",
       "      <td>...</td>\n",
       "      <td>...</td>\n",
       "      <td>...</td>\n",
       "      <td>...</td>\n",
       "      <td>...</td>\n",
       "      <td>...</td>\n",
       "      <td>...</td>\n",
       "      <td>...</td>\n",
       "      <td>...</td>\n",
       "      <td>...</td>\n",
       "      <td>...</td>\n",
       "      <td>...</td>\n",
       "      <td>...</td>\n",
       "    </tr>\n",
       "    <tr>\n",
       "      <th>CAT1 355ml*12캔+카카오 에코백+치</th>\n",
       "      <td>179</td>\n",
       "      <td>0</td>\n",
       "      <td>9</td>\n",
       "      <td>0</td>\n",
       "      <td>0</td>\n",
       "      <td>0</td>\n",
       "      <td>0</td>\n",
       "      <td>0</td>\n",
       "      <td>0</td>\n",
       "      <td>0</td>\n",
       "      <td>...</td>\n",
       "      <td>0</td>\n",
       "      <td>0</td>\n",
       "      <td>0</td>\n",
       "      <td>0</td>\n",
       "      <td>0</td>\n",
       "      <td>0</td>\n",
       "      <td>0</td>\n",
       "      <td>0</td>\n",
       "      <td>0</td>\n",
       "      <td>0</td>\n",
       "    </tr>\n",
       "    <tr>\n",
       "      <th>CAT2 355*24캔 + 진라면 6캔</th>\n",
       "      <td>212</td>\n",
       "      <td>0</td>\n",
       "      <td>0</td>\n",
       "      <td>0</td>\n",
       "      <td>0</td>\n",
       "      <td>0</td>\n",
       "      <td>0</td>\n",
       "      <td>0</td>\n",
       "      <td>2</td>\n",
       "      <td>0</td>\n",
       "      <td>...</td>\n",
       "      <td>0</td>\n",
       "      <td>0</td>\n",
       "      <td>0</td>\n",
       "      <td>0</td>\n",
       "      <td>0</td>\n",
       "      <td>0</td>\n",
       "      <td>0</td>\n",
       "      <td>0</td>\n",
       "      <td>0</td>\n",
       "      <td>0</td>\n",
       "    </tr>\n",
       "    <tr>\n",
       "      <th>CAT2 1.6L*6</th>\n",
       "      <td>6,564</td>\n",
       "      <td>0</td>\n",
       "      <td>0</td>\n",
       "      <td>0</td>\n",
       "      <td>0</td>\n",
       "      <td>0</td>\n",
       "      <td>0</td>\n",
       "      <td>0</td>\n",
       "      <td>0</td>\n",
       "      <td>0</td>\n",
       "      <td>...</td>\n",
       "      <td>0</td>\n",
       "      <td>0</td>\n",
       "      <td>0</td>\n",
       "      <td>0</td>\n",
       "      <td>0</td>\n",
       "      <td>0</td>\n",
       "      <td>0</td>\n",
       "      <td>0</td>\n",
       "      <td>0</td>\n",
       "      <td>0</td>\n",
       "    </tr>\n",
       "    <tr>\n",
       "      <th>CAT2 1.6L</th>\n",
       "      <td>125,144</td>\n",
       "      <td>365</td>\n",
       "      <td>564</td>\n",
       "      <td>796</td>\n",
       "      <td>948</td>\n",
       "      <td>594</td>\n",
       "      <td>283</td>\n",
       "      <td>401</td>\n",
       "      <td>280</td>\n",
       "      <td>426</td>\n",
       "      <td>...</td>\n",
       "      <td>241</td>\n",
       "      <td>196</td>\n",
       "      <td>379</td>\n",
       "      <td>120</td>\n",
       "      <td>273</td>\n",
       "      <td>128</td>\n",
       "      <td>354</td>\n",
       "      <td>106</td>\n",
       "      <td>242</td>\n",
       "      <td>122</td>\n",
       "    </tr>\n",
       "    <tr>\n",
       "      <th>CAT1 1.6L</th>\n",
       "      <td>22,796</td>\n",
       "      <td>113</td>\n",
       "      <td>101</td>\n",
       "      <td>168</td>\n",
       "      <td>93</td>\n",
       "      <td>107</td>\n",
       "      <td>50</td>\n",
       "      <td>256</td>\n",
       "      <td>78</td>\n",
       "      <td>99</td>\n",
       "      <td>...</td>\n",
       "      <td>36</td>\n",
       "      <td>14</td>\n",
       "      <td>80</td>\n",
       "      <td>29</td>\n",
       "      <td>42</td>\n",
       "      <td>54</td>\n",
       "      <td>28</td>\n",
       "      <td>9</td>\n",
       "      <td>28</td>\n",
       "      <td>24</td>\n",
       "    </tr>\n",
       "  </tbody>\n",
       "</table>\n",
       "<p>117 rows × 643 columns</p>\n",
       "</div>"
      ],
      "text/plain": [
       "                                 합계 (1154)의정부점 (1155)별내점 (1156)풍산점  \\\n",
       "상품명                                                                  \n",
       "NaN                              수량         수량        수량        수량   \n",
       "합 계                       2,029,096      6,829     8,374    12,626   \n",
       "BW1 473ml캔(수입)               65,402        174       239       432   \n",
       "BW1 355ml (낱캔)                    1          0         0         0   \n",
       "RB 500ml                      2,158          4         9        10   \n",
       "...                             ...        ...       ...       ...   \n",
       "CAT1 355ml*12캔+카카오 에코백+치        179          0         9         0   \n",
       "CAT2 355*24캔 + 진라면 6캔           212          0         0         0   \n",
       "CAT2 1.6L*6                   6,564          0         0         0   \n",
       "CAT2 1.6L                   125,144        365       564       796   \n",
       "CAT1 1.6L                    22,796        113       101       168   \n",
       "\n",
       "                         (1157)김포한강점 (1158)세종점 (1159)킨텍스점 (1160)광교점 (1161)과천점  \\\n",
       "상품명                                                                             \n",
       "NaN                               수량        수량         수량        수량        수량   \n",
       "합 계                           11,767    10,912      7,062    11,666     2,928   \n",
       "BW1 473ml캔(수입)                   199       220        263       234        78   \n",
       "BW1 355ml (낱캔)                     0         0          0         0         0   \n",
       "RB 500ml                          27         0         11        14        13   \n",
       "...                              ...       ...        ...       ...       ...   \n",
       "CAT1 355ml*12캔+카카오 에코백+치           0         0          0         0         0   \n",
       "CAT2 355*24캔 + 진라면 6캔              0         0          0         0         2   \n",
       "CAT2 1.6L*6                        0         0          0         0         0   \n",
       "CAT2 1.6L                        948       594        283       401       280   \n",
       "CAT1 1.6L                         93       107         50       256        78   \n",
       "\n",
       "                         (1162)김해터미널점  ... (L21)위시티점 (L23)걸포동점 (L27)통일동산점  \\\n",
       "상품명                                    ...                                  \n",
       "NaN                                수량  ...        수량        수량         수량   \n",
       "합 계                             7,712  ...     2,392     1,291      4,506   \n",
       "BW1 473ml캔(수입)                      1  ...         0        25         76   \n",
       "BW1 355ml (낱캔)                      0  ...         0         0          0   \n",
       "RB 500ml                            3  ...         0         0          0   \n",
       "...                               ...  ...       ...       ...        ...   \n",
       "CAT1 355ml*12캔+카카오 에코백+치            0  ...         0         0          0   \n",
       "CAT2 355*24캔 + 진라면 6캔               0  ...         0         0          0   \n",
       "CAT2 1.6L*6                         0  ...         0         0          0   \n",
       "CAT2 1.6L                         426  ...       241       196        379   \n",
       "CAT1 1.6L                          99  ...        36        14         80   \n",
       "\n",
       "                         (L35)성대점 (L36)병점점 (L38)율전점 (L39)본오점 (L40)검암점  \\\n",
       "상품명                                                                     \n",
       "NaN                            수량       수량       수량       수량       수량   \n",
       "합 계                         2,364    2,739    1,782    3,129    1,712   \n",
       "BW1 473ml캔(수입)                 72       54       72       15       38   \n",
       "BW1 355ml (낱캔)                  0        0        0        0        0   \n",
       "RB 500ml                        0        0        0        0        0   \n",
       "...                           ...      ...      ...      ...      ...   \n",
       "CAT1 355ml*12캔+카카오 에코백+치        0        0        0        0        0   \n",
       "CAT2 355*24캔 + 진라면 6캔           0        0        0        0        0   \n",
       "CAT2 1.6L*6                     0        0        0        0        0   \n",
       "CAT2 1.6L                     120      273      128      354      106   \n",
       "CAT1 1.6L                      29       42       54       28        9   \n",
       "\n",
       "                         (L44)신길점 (L46)용호점  \n",
       "상품명                                         \n",
       "NaN                            수량       수량  \n",
       "합 계                         3,189    2,347  \n",
       "BW1 473ml캔(수입)                 27       89  \n",
       "BW1 355ml (낱캔)                  0        0  \n",
       "RB 500ml                        0        0  \n",
       "...                           ...      ...  \n",
       "CAT1 355ml*12캔+카카오 에코백+치        0        0  \n",
       "CAT2 355*24캔 + 진라면 6캔           0        0  \n",
       "CAT2 1.6L*6                     0        0  \n",
       "CAT2 1.6L                     242      122  \n",
       "CAT1 1.6L                      28       24  \n",
       "\n",
       "[117 rows x 643 columns]"
      ]
     },
     "execution_count": 36,
     "metadata": {},
     "output_type": "execute_result"
    }
   ],
   "source": [
    "df1.drop(columns=[\"순번\", \"상품코드\"]).set_index(\"상품명\")"
   ]
  },
  {
   "cell_type": "code",
   "execution_count": 37,
   "metadata": {},
   "outputs": [
    {
     "data": {
      "text/plain": [
       "상품명                   \n",
       "NaN         합계            수량\n",
       "           (1154)의정부점     수량\n",
       "           (1155)별내점      수량\n",
       "           (1156)풍산점      수량\n",
       "           (1157)김포한강점    수량\n",
       "                          ..\n",
       "CAT1 1.6L  (L38)율전점       54\n",
       "           (L39)본오점       28\n",
       "           (L40)검암점        9\n",
       "           (L44)신길점       28\n",
       "           (L46)용호점       24\n",
       "Length: 75231, dtype: object"
      ]
     },
     "execution_count": 37,
     "metadata": {},
     "output_type": "execute_result"
    }
   ],
   "source": [
    "df1.drop(columns=[\"순번\", \"상품코드\"]).set_index(\"상품명\").stack()"
   ]
  },
  {
   "cell_type": "code",
   "execution_count": 38,
   "metadata": {},
   "outputs": [
    {
     "data": {
      "text/html": [
       "<div>\n",
       "<style scoped>\n",
       "    .dataframe tbody tr th:only-of-type {\n",
       "        vertical-align: middle;\n",
       "    }\n",
       "\n",
       "    .dataframe tbody tr th {\n",
       "        vertical-align: top;\n",
       "    }\n",
       "\n",
       "    .dataframe thead th {\n",
       "        text-align: right;\n",
       "    }\n",
       "</style>\n",
       "<table border=\"1\" class=\"dataframe\">\n",
       "  <thead>\n",
       "    <tr style=\"text-align: right;\">\n",
       "      <th></th>\n",
       "      <th></th>\n",
       "      <th>0</th>\n",
       "    </tr>\n",
       "    <tr>\n",
       "      <th>상품명</th>\n",
       "      <th></th>\n",
       "      <th></th>\n",
       "    </tr>\n",
       "  </thead>\n",
       "  <tbody>\n",
       "    <tr>\n",
       "      <th rowspan=\"5\" valign=\"top\">NaN</th>\n",
       "      <th>합계</th>\n",
       "      <td>수량</td>\n",
       "    </tr>\n",
       "    <tr>\n",
       "      <th>(1154)의정부점</th>\n",
       "      <td>수량</td>\n",
       "    </tr>\n",
       "    <tr>\n",
       "      <th>(1155)별내점</th>\n",
       "      <td>수량</td>\n",
       "    </tr>\n",
       "    <tr>\n",
       "      <th>(1156)풍산점</th>\n",
       "      <td>수량</td>\n",
       "    </tr>\n",
       "    <tr>\n",
       "      <th>(1157)김포한강점</th>\n",
       "      <td>수량</td>\n",
       "    </tr>\n",
       "    <tr>\n",
       "      <th>...</th>\n",
       "      <th>...</th>\n",
       "      <td>...</td>\n",
       "    </tr>\n",
       "    <tr>\n",
       "      <th rowspan=\"5\" valign=\"top\">CAT1 1.6L</th>\n",
       "      <th>(L38)율전점</th>\n",
       "      <td>54</td>\n",
       "    </tr>\n",
       "    <tr>\n",
       "      <th>(L39)본오점</th>\n",
       "      <td>28</td>\n",
       "    </tr>\n",
       "    <tr>\n",
       "      <th>(L40)검암점</th>\n",
       "      <td>9</td>\n",
       "    </tr>\n",
       "    <tr>\n",
       "      <th>(L44)신길점</th>\n",
       "      <td>28</td>\n",
       "    </tr>\n",
       "    <tr>\n",
       "      <th>(L46)용호점</th>\n",
       "      <td>24</td>\n",
       "    </tr>\n",
       "  </tbody>\n",
       "</table>\n",
       "<p>75231 rows × 1 columns</p>\n",
       "</div>"
      ],
      "text/plain": [
       "                        0\n",
       "상품명                      \n",
       "NaN        합계          수량\n",
       "          (1154)의정부점   수량\n",
       "          (1155)별내점    수량\n",
       "          (1156)풍산점    수량\n",
       "          (1157)김포한강점  수량\n",
       "...                    ..\n",
       "CAT1 1.6L (L38)율전점     54\n",
       "          (L39)본오점     28\n",
       "          (L40)검암점      9\n",
       "          (L44)신길점     28\n",
       "          (L46)용호점     24\n",
       "\n",
       "[75231 rows x 1 columns]"
      ]
     },
     "execution_count": 38,
     "metadata": {},
     "output_type": "execute_result"
    }
   ],
   "source": [
    "pd.DataFrame(df1.drop(columns=[\"순번\", \"상품코드\"]).set_index(\"상품명\").stack())"
   ]
  },
  {
   "cell_type": "code",
   "execution_count": 39,
   "metadata": {},
   "outputs": [
    {
     "data": {
      "text/html": [
       "<div>\n",
       "<style scoped>\n",
       "    .dataframe tbody tr th:only-of-type {\n",
       "        vertical-align: middle;\n",
       "    }\n",
       "\n",
       "    .dataframe tbody tr th {\n",
       "        vertical-align: top;\n",
       "    }\n",
       "\n",
       "    .dataframe thead th {\n",
       "        text-align: right;\n",
       "    }\n",
       "</style>\n",
       "<table border=\"1\" class=\"dataframe\">\n",
       "  <thead>\n",
       "    <tr style=\"text-align: right;\">\n",
       "      <th></th>\n",
       "      <th>상품명</th>\n",
       "      <th>level_1</th>\n",
       "      <th>0</th>\n",
       "    </tr>\n",
       "  </thead>\n",
       "  <tbody>\n",
       "    <tr>\n",
       "      <th>0</th>\n",
       "      <td>NaN</td>\n",
       "      <td>합계</td>\n",
       "      <td>수량</td>\n",
       "    </tr>\n",
       "    <tr>\n",
       "      <th>1</th>\n",
       "      <td>NaN</td>\n",
       "      <td>(1154)의정부점</td>\n",
       "      <td>수량</td>\n",
       "    </tr>\n",
       "    <tr>\n",
       "      <th>2</th>\n",
       "      <td>NaN</td>\n",
       "      <td>(1155)별내점</td>\n",
       "      <td>수량</td>\n",
       "    </tr>\n",
       "    <tr>\n",
       "      <th>3</th>\n",
       "      <td>NaN</td>\n",
       "      <td>(1156)풍산점</td>\n",
       "      <td>수량</td>\n",
       "    </tr>\n",
       "    <tr>\n",
       "      <th>4</th>\n",
       "      <td>NaN</td>\n",
       "      <td>(1157)김포한강점</td>\n",
       "      <td>수량</td>\n",
       "    </tr>\n",
       "    <tr>\n",
       "      <th>...</th>\n",
       "      <td>...</td>\n",
       "      <td>...</td>\n",
       "      <td>...</td>\n",
       "    </tr>\n",
       "    <tr>\n",
       "      <th>75226</th>\n",
       "      <td>CAT1 1.6L</td>\n",
       "      <td>(L38)율전점</td>\n",
       "      <td>54</td>\n",
       "    </tr>\n",
       "    <tr>\n",
       "      <th>75227</th>\n",
       "      <td>CAT1 1.6L</td>\n",
       "      <td>(L39)본오점</td>\n",
       "      <td>28</td>\n",
       "    </tr>\n",
       "    <tr>\n",
       "      <th>75228</th>\n",
       "      <td>CAT1 1.6L</td>\n",
       "      <td>(L40)검암점</td>\n",
       "      <td>9</td>\n",
       "    </tr>\n",
       "    <tr>\n",
       "      <th>75229</th>\n",
       "      <td>CAT1 1.6L</td>\n",
       "      <td>(L44)신길점</td>\n",
       "      <td>28</td>\n",
       "    </tr>\n",
       "    <tr>\n",
       "      <th>75230</th>\n",
       "      <td>CAT1 1.6L</td>\n",
       "      <td>(L46)용호점</td>\n",
       "      <td>24</td>\n",
       "    </tr>\n",
       "  </tbody>\n",
       "</table>\n",
       "<p>75231 rows × 3 columns</p>\n",
       "</div>"
      ],
      "text/plain": [
       "             상품명      level_1   0\n",
       "0            NaN           합계  수량\n",
       "1            NaN   (1154)의정부점  수량\n",
       "2            NaN    (1155)별내점  수량\n",
       "3            NaN    (1156)풍산점  수량\n",
       "4            NaN  (1157)김포한강점  수량\n",
       "...          ...          ...  ..\n",
       "75226  CAT1 1.6L     (L38)율전점  54\n",
       "75227  CAT1 1.6L     (L39)본오점  28\n",
       "75228  CAT1 1.6L     (L40)검암점   9\n",
       "75229  CAT1 1.6L     (L44)신길점  28\n",
       "75230  CAT1 1.6L     (L46)용호점  24\n",
       "\n",
       "[75231 rows x 3 columns]"
      ]
     },
     "execution_count": 39,
     "metadata": {},
     "output_type": "execute_result"
    }
   ],
   "source": [
    "pd.DataFrame(df1.drop(columns=[\"순번\", \"상품코드\"]).set_index(\"상품명\").stack()).reset_index()"
   ]
  },
  {
   "cell_type": "code",
   "execution_count": 40,
   "metadata": {},
   "outputs": [
    {
     "data": {
      "text/html": [
       "<div>\n",
       "<style scoped>\n",
       "    .dataframe tbody tr th:only-of-type {\n",
       "        vertical-align: middle;\n",
       "    }\n",
       "\n",
       "    .dataframe tbody tr th {\n",
       "        vertical-align: top;\n",
       "    }\n",
       "\n",
       "    .dataframe thead th {\n",
       "        text-align: right;\n",
       "    }\n",
       "</style>\n",
       "<table border=\"1\" class=\"dataframe\">\n",
       "  <thead>\n",
       "    <tr style=\"text-align: right;\">\n",
       "      <th></th>\n",
       "      <th>상품명</th>\n",
       "      <th>level_1</th>\n",
       "      <th>0</th>\n",
       "    </tr>\n",
       "  </thead>\n",
       "  <tbody>\n",
       "    <tr>\n",
       "      <th>0</th>\n",
       "      <td>NaN</td>\n",
       "      <td>합계</td>\n",
       "      <td>수량</td>\n",
       "    </tr>\n",
       "    <tr>\n",
       "      <th>1</th>\n",
       "      <td>NaN</td>\n",
       "      <td>(1154)의정부점</td>\n",
       "      <td>수량</td>\n",
       "    </tr>\n",
       "    <tr>\n",
       "      <th>2</th>\n",
       "      <td>NaN</td>\n",
       "      <td>(1155)별내점</td>\n",
       "      <td>수량</td>\n",
       "    </tr>\n",
       "    <tr>\n",
       "      <th>3</th>\n",
       "      <td>NaN</td>\n",
       "      <td>(1156)풍산점</td>\n",
       "      <td>수량</td>\n",
       "    </tr>\n",
       "    <tr>\n",
       "      <th>4</th>\n",
       "      <td>NaN</td>\n",
       "      <td>(1157)김포한강점</td>\n",
       "      <td>수량</td>\n",
       "    </tr>\n",
       "  </tbody>\n",
       "</table>\n",
       "</div>"
      ],
      "text/plain": [
       "   상품명      level_1   0\n",
       "0  NaN           합계  수량\n",
       "1  NaN   (1154)의정부점  수량\n",
       "2  NaN    (1155)별내점  수량\n",
       "3  NaN    (1156)풍산점  수량\n",
       "4  NaN  (1157)김포한강점  수량"
      ]
     },
     "execution_count": 40,
     "metadata": {},
     "output_type": "execute_result"
    }
   ],
   "source": [
    "df2 = pd.DataFrame(df1.drop(columns=[\"순번\", \"상품코드\"]).set_index(\"상품명\").stack()).reset_index()\n",
    "df2.head()"
   ]
  },
  {
   "cell_type": "code",
   "execution_count": 41,
   "metadata": {},
   "outputs": [
    {
     "data": {
      "text/html": [
       "<div>\n",
       "<style scoped>\n",
       "    .dataframe tbody tr th:only-of-type {\n",
       "        vertical-align: middle;\n",
       "    }\n",
       "\n",
       "    .dataframe tbody tr th {\n",
       "        vertical-align: top;\n",
       "    }\n",
       "\n",
       "    .dataframe thead th {\n",
       "        text-align: right;\n",
       "    }\n",
       "</style>\n",
       "<table border=\"1\" class=\"dataframe\">\n",
       "  <thead>\n",
       "    <tr style=\"text-align: right;\">\n",
       "      <th></th>\n",
       "      <th>상품명</th>\n",
       "      <th>level_1</th>\n",
       "      <th>0</th>\n",
       "    </tr>\n",
       "  </thead>\n",
       "  <tbody>\n",
       "    <tr>\n",
       "      <th>1286</th>\n",
       "      <td>BW1 473ml캔(수입)</td>\n",
       "      <td>합계</td>\n",
       "      <td>65,402</td>\n",
       "    </tr>\n",
       "    <tr>\n",
       "      <th>1287</th>\n",
       "      <td>BW1 473ml캔(수입)</td>\n",
       "      <td>(1154)의정부점</td>\n",
       "      <td>174</td>\n",
       "    </tr>\n",
       "    <tr>\n",
       "      <th>1288</th>\n",
       "      <td>BW1 473ml캔(수입)</td>\n",
       "      <td>(1155)별내점</td>\n",
       "      <td>239</td>\n",
       "    </tr>\n",
       "    <tr>\n",
       "      <th>1289</th>\n",
       "      <td>BW1 473ml캔(수입)</td>\n",
       "      <td>(1156)풍산점</td>\n",
       "      <td>432</td>\n",
       "    </tr>\n",
       "    <tr>\n",
       "      <th>1290</th>\n",
       "      <td>BW1 473ml캔(수입)</td>\n",
       "      <td>(1157)김포한강점</td>\n",
       "      <td>199</td>\n",
       "    </tr>\n",
       "    <tr>\n",
       "      <th>...</th>\n",
       "      <td>...</td>\n",
       "      <td>...</td>\n",
       "      <td>...</td>\n",
       "    </tr>\n",
       "    <tr>\n",
       "      <th>75226</th>\n",
       "      <td>CAT1 1.6L</td>\n",
       "      <td>(L38)율전점</td>\n",
       "      <td>54</td>\n",
       "    </tr>\n",
       "    <tr>\n",
       "      <th>75227</th>\n",
       "      <td>CAT1 1.6L</td>\n",
       "      <td>(L39)본오점</td>\n",
       "      <td>28</td>\n",
       "    </tr>\n",
       "    <tr>\n",
       "      <th>75228</th>\n",
       "      <td>CAT1 1.6L</td>\n",
       "      <td>(L40)검암점</td>\n",
       "      <td>9</td>\n",
       "    </tr>\n",
       "    <tr>\n",
       "      <th>75229</th>\n",
       "      <td>CAT1 1.6L</td>\n",
       "      <td>(L44)신길점</td>\n",
       "      <td>28</td>\n",
       "    </tr>\n",
       "    <tr>\n",
       "      <th>75230</th>\n",
       "      <td>CAT1 1.6L</td>\n",
       "      <td>(L46)용호점</td>\n",
       "      <td>24</td>\n",
       "    </tr>\n",
       "  </tbody>\n",
       "</table>\n",
       "<p>73945 rows × 3 columns</p>\n",
       "</div>"
      ],
      "text/plain": [
       "                  상품명      level_1       0\n",
       "1286   BW1 473ml캔(수입)           합계  65,402\n",
       "1287   BW1 473ml캔(수입)   (1154)의정부점     174\n",
       "1288   BW1 473ml캔(수입)    (1155)별내점     239\n",
       "1289   BW1 473ml캔(수입)    (1156)풍산점     432\n",
       "1290   BW1 473ml캔(수입)  (1157)김포한강점     199\n",
       "...               ...          ...     ...\n",
       "75226       CAT1 1.6L     (L38)율전점      54\n",
       "75227       CAT1 1.6L     (L39)본오점      28\n",
       "75228       CAT1 1.6L     (L40)검암점       9\n",
       "75229       CAT1 1.6L     (L44)신길점      28\n",
       "75230       CAT1 1.6L     (L46)용호점      24\n",
       "\n",
       "[73945 rows x 3 columns]"
      ]
     },
     "execution_count": 41,
     "metadata": {},
     "output_type": "execute_result"
    }
   ],
   "source": [
    "cond1 = (~(df2['상품명'].isnull()))&(df2['상품명']!='합 계')\n",
    "df2.loc[cond1]"
   ]
  },
  {
   "cell_type": "code",
   "execution_count": 42,
   "metadata": {},
   "outputs": [],
   "source": [
    "df3 = df2.loc[cond1]"
   ]
  },
  {
   "cell_type": "code",
   "execution_count": 43,
   "metadata": {},
   "outputs": [
    {
     "data": {
      "text/html": [
       "<div>\n",
       "<style scoped>\n",
       "    .dataframe tbody tr th:only-of-type {\n",
       "        vertical-align: middle;\n",
       "    }\n",
       "\n",
       "    .dataframe tbody tr th {\n",
       "        vertical-align: top;\n",
       "    }\n",
       "\n",
       "    .dataframe thead th {\n",
       "        text-align: right;\n",
       "    }\n",
       "</style>\n",
       "<table border=\"1\" class=\"dataframe\">\n",
       "  <thead>\n",
       "    <tr style=\"text-align: right;\">\n",
       "      <th></th>\n",
       "      <th>상품명</th>\n",
       "      <th>level_1</th>\n",
       "      <th>0</th>\n",
       "    </tr>\n",
       "  </thead>\n",
       "  <tbody>\n",
       "    <tr>\n",
       "      <th>1286</th>\n",
       "      <td>BW1 473ml캔(수입)</td>\n",
       "      <td>합계</td>\n",
       "      <td>65,402</td>\n",
       "    </tr>\n",
       "    <tr>\n",
       "      <th>1287</th>\n",
       "      <td>BW1 473ml캔(수입)</td>\n",
       "      <td>(1154)의정부점</td>\n",
       "      <td>174</td>\n",
       "    </tr>\n",
       "    <tr>\n",
       "      <th>1288</th>\n",
       "      <td>BW1 473ml캔(수입)</td>\n",
       "      <td>(1155)별내점</td>\n",
       "      <td>239</td>\n",
       "    </tr>\n",
       "    <tr>\n",
       "      <th>1289</th>\n",
       "      <td>BW1 473ml캔(수입)</td>\n",
       "      <td>(1156)풍산점</td>\n",
       "      <td>432</td>\n",
       "    </tr>\n",
       "    <tr>\n",
       "      <th>1290</th>\n",
       "      <td>BW1 473ml캔(수입)</td>\n",
       "      <td>(1157)김포한강점</td>\n",
       "      <td>199</td>\n",
       "    </tr>\n",
       "    <tr>\n",
       "      <th>...</th>\n",
       "      <td>...</td>\n",
       "      <td>...</td>\n",
       "      <td>...</td>\n",
       "    </tr>\n",
       "    <tr>\n",
       "      <th>75226</th>\n",
       "      <td>CAT1 1.6L</td>\n",
       "      <td>(L38)율전점</td>\n",
       "      <td>54</td>\n",
       "    </tr>\n",
       "    <tr>\n",
       "      <th>75227</th>\n",
       "      <td>CAT1 1.6L</td>\n",
       "      <td>(L39)본오점</td>\n",
       "      <td>28</td>\n",
       "    </tr>\n",
       "    <tr>\n",
       "      <th>75228</th>\n",
       "      <td>CAT1 1.6L</td>\n",
       "      <td>(L40)검암점</td>\n",
       "      <td>9</td>\n",
       "    </tr>\n",
       "    <tr>\n",
       "      <th>75229</th>\n",
       "      <td>CAT1 1.6L</td>\n",
       "      <td>(L44)신길점</td>\n",
       "      <td>28</td>\n",
       "    </tr>\n",
       "    <tr>\n",
       "      <th>75230</th>\n",
       "      <td>CAT1 1.6L</td>\n",
       "      <td>(L46)용호점</td>\n",
       "      <td>24</td>\n",
       "    </tr>\n",
       "  </tbody>\n",
       "</table>\n",
       "<p>73945 rows × 3 columns</p>\n",
       "</div>"
      ],
      "text/plain": [
       "                  상품명      level_1       0\n",
       "1286   BW1 473ml캔(수입)           합계  65,402\n",
       "1287   BW1 473ml캔(수입)   (1154)의정부점     174\n",
       "1288   BW1 473ml캔(수입)    (1155)별내점     239\n",
       "1289   BW1 473ml캔(수입)    (1156)풍산점     432\n",
       "1290   BW1 473ml캔(수입)  (1157)김포한강점     199\n",
       "...               ...          ...     ...\n",
       "75226       CAT1 1.6L     (L38)율전점      54\n",
       "75227       CAT1 1.6L     (L39)본오점      28\n",
       "75228       CAT1 1.6L     (L40)검암점       9\n",
       "75229       CAT1 1.6L     (L44)신길점      28\n",
       "75230       CAT1 1.6L     (L46)용호점      24\n",
       "\n",
       "[73945 rows x 3 columns]"
      ]
     },
     "execution_count": 43,
     "metadata": {},
     "output_type": "execute_result"
    }
   ],
   "source": [
    "df3"
   ]
  },
  {
   "cell_type": "code",
   "execution_count": 44,
   "metadata": {},
   "outputs": [
    {
     "data": {
      "text/plain": [
       "array(['BW1 473ml캔(수입)', 'BW1 355ml (낱캔)', 'RB 500ml', 'VX 500ml',\n",
       "       'CAT2 500ml', 'BW1 473ml(알루미늄)_2018 Worldcup', 'BW1 740ml',\n",
       "       'BW1 473ml*24캔 ALU', 'G1아일랜드 IPA 355ml',\n",
       "       'G1 아일랜드 312 Wheat Ale 355ml', 'G1아일랜드 Sopie 355ml', 'GL LOLITA',\n",
       "       'Juliet', 'GL Gillian', 'GL HALIA', 'STL 500ml', 'B1 Grigio 250ml',\n",
       "       'BR 250ml', 'PRC 500ml', 'STLA 330*6캔(new code)', 'STL 330ml',\n",
       "       'RPB 330ml', 'RB1 500ml', 'HGD2 750ml', 'HGD 500캔 (수입)',\n",
       "       'HGD 330*6캔 (수입)', 'HGD3 500ml', 'HRB 500ml', 'HRB 500ml(신코드)',\n",
       "       'PTG 473ml캔', 'CFR 355ml*6', 'CFR 355ml', 'CFR 330ml(신)',\n",
       "       'OLB 355ml', 'OLB 355ml*6', 'OLB 500ml', 'FG 355ml', 'FG 355ml*6',\n",
       "       'FG 500ml', 'FG 500ml*24캔[Traders]', 'FG 1.6L', 'FG 355ml*12캔 쿠폰팩',\n",
       "       'OLB 355ml*6캔 PKG [골든크라운]', 'OLB 500ml캔 [골든크라운]',\n",
       "       'OLB 500ml병 [골든크라운]', 'OLB 1.6L [골든크라운]', 'OLB 355ml*12캔 + 전용잔2',\n",
       "       'OLB 355ml*12캔 + 쿨러백 (202006)', 'HGD 330ml', 'HGD 355ml*6',\n",
       "       'STL 500ml*4', 'CRN 355ml', 'HGD2 250ml', 'BW1 330ml(신)',\n",
       "       'BW1 740ml*3캔_Traders', 'BW1 355ml*6캔(수입)', 'STL 500ml*6캔_Traders',\n",
       "       'HGD 500ml*6캔_Traders', 'STL 330ml*12캔_Multi', 'CRN 355ml*6캔',\n",
       "       'G1 IPA 473ml캔', 'G1 312 473ml캔', 'BW1 237ml*8캔',\n",
       "       'BW1 237ml*12캔 PKG', 'MC1 500ml캔', 'RR 355ml*6캔',\n",
       "       'RR 355ml*24캔 [Traders]', 'CRN (2019)', 'HGD2 330ml*6캔',\n",
       "       'RR 355*6캔 + 전용잔 기획', 'G1 473ml*8캔 [Traders]',\n",
       "       'G1 IPA 473ml*4캔+전용잔', 'G1 IPA 473ml*6캔 [Traders]',\n",
       "       'HGD 750ml*3캔+50cl 전용잔', 'MC1 500ml*4캔+전용잔 [2020,03]',\n",
       "       'STL 500ml*6캔+스페셜 전용잔(2020 로맨틱)', 'PTG 473ml*6캔 [Traders]',\n",
       "       'STL 500ml*6캔+전용잔 [2020여성의날]', 'G1IPA 473ml*4캔+기획잔 [2020/03]',\n",
       "       'G1 312 473ml*4캔 + 전용잔 기획[2020.03]', 'HGD 500ml*6캔 + 레시피 노트',\n",
       "       'HGD3 500ml*4캔+', 'HGD3 500ml 캔 (202006)',\n",
       "       'STL *4캔+전용잔1(202006 2차)', 'G1 IPA 473ml*8캔 쿨러백',\n",
       "       'HGD 495ml*4 + 전용잔 [2020.07_국산]',\n",
       "       'G1 IPA 473ml*12캔 + 쿨러박스 [Traders]', 'CAT2 355ml', 'CAT1 355ml',\n",
       "       'CAT2 355ml*6', 'CAT2 355ml*24', 'CAT1 355ml*6', 'CAT1 1.0L',\n",
       "       'CAT1 500ml', 'CAT1 355ml*12', 'CAT2 355ml*24+쿨러백',\n",
       "       'CAT2 355ml*8 절약팩', 'CAT2 640ml(신)', 'CAT2 500ml(신)',\n",
       "       'CAT2 355ml*10캔(냉장패키지)', 'CAT2 250ml*10캔 냉장패키지',\n",
       "       'CAT1 250ml*10*2 [Traders]', 'CAT2 250ml',\n",
       "       'CAT1 48캔+신라면 멀티 [Traders]', 'CAT2 355ml*24캔+진라면',\n",
       "       'CAT1 355*12캔 카카오쿨러백', 'CAT1 355ml*12캔+카카오 에코백+치',\n",
       "       'CAT2 355*24캔 + 진라면 6캔', 'CAT2 1.6L*6', 'CAT2 1.6L', 'CAT1 1.6L'],\n",
       "      dtype=object)"
      ]
     },
     "execution_count": 44,
     "metadata": {},
     "output_type": "execute_result"
    }
   ],
   "source": [
    "df3[\"상품명\"].unique()"
   ]
  },
  {
   "cell_type": "code",
   "execution_count": 45,
   "metadata": {},
   "outputs": [
    {
     "data": {
      "text/plain": [
       "Normal Type    44367\n",
       "C Type         17361\n",
       "B Type          6430\n",
       "S Type          5787\n",
       "Name: 상품명, dtype: int64"
      ]
     },
     "execution_count": 45,
     "metadata": {},
     "output_type": "execute_result"
    }
   ],
   "source": [
    "def func1(row):\n",
    "    if \"CAT\" in row:\n",
    "        return \"C Type\"\n",
    "    elif \"STL\" in row:\n",
    "        return \"S Type\"\n",
    "    elif \"BW\" in row:\n",
    "        return \"B Type\"\n",
    "    else: \n",
    "        return \"Normal Type\"\n",
    "    \n",
    "df3[\"상품명\"].apply(func1).value_counts()"
   ]
  },
  {
   "cell_type": "code",
   "execution_count": 46,
   "metadata": {},
   "outputs": [
    {
     "name": "stderr",
     "output_type": "stream",
     "text": [
      "C:\\Users\\ahnjh\\AppData\\Local\\Temp\\ipykernel_28192\\3328243323.py:1: SettingWithCopyWarning:\n",
      "\n",
      "\n",
      "A value is trying to be set on a copy of a slice from a DataFrame.\n",
      "Try using .loc[row_indexer,col_indexer] = value instead\n",
      "\n",
      "See the caveats in the documentation: https://pandas.pydata.org/pandas-docs/stable/user_guide/indexing.html#returning-a-view-versus-a-copy\n",
      "\n"
     ]
    },
    {
     "data": {
      "text/html": [
       "<div>\n",
       "<style scoped>\n",
       "    .dataframe tbody tr th:only-of-type {\n",
       "        vertical-align: middle;\n",
       "    }\n",
       "\n",
       "    .dataframe tbody tr th {\n",
       "        vertical-align: top;\n",
       "    }\n",
       "\n",
       "    .dataframe thead th {\n",
       "        text-align: right;\n",
       "    }\n",
       "</style>\n",
       "<table border=\"1\" class=\"dataframe\">\n",
       "  <thead>\n",
       "    <tr style=\"text-align: right;\">\n",
       "      <th></th>\n",
       "      <th>상품명</th>\n",
       "      <th>level_1</th>\n",
       "      <th>0</th>\n",
       "      <th>제품타입</th>\n",
       "    </tr>\n",
       "  </thead>\n",
       "  <tbody>\n",
       "    <tr>\n",
       "      <th>1286</th>\n",
       "      <td>BW1 473ml캔(수입)</td>\n",
       "      <td>합계</td>\n",
       "      <td>65,402</td>\n",
       "      <td>B Type</td>\n",
       "    </tr>\n",
       "    <tr>\n",
       "      <th>1287</th>\n",
       "      <td>BW1 473ml캔(수입)</td>\n",
       "      <td>(1154)의정부점</td>\n",
       "      <td>174</td>\n",
       "      <td>B Type</td>\n",
       "    </tr>\n",
       "    <tr>\n",
       "      <th>1288</th>\n",
       "      <td>BW1 473ml캔(수입)</td>\n",
       "      <td>(1155)별내점</td>\n",
       "      <td>239</td>\n",
       "      <td>B Type</td>\n",
       "    </tr>\n",
       "    <tr>\n",
       "      <th>1289</th>\n",
       "      <td>BW1 473ml캔(수입)</td>\n",
       "      <td>(1156)풍산점</td>\n",
       "      <td>432</td>\n",
       "      <td>B Type</td>\n",
       "    </tr>\n",
       "    <tr>\n",
       "      <th>1290</th>\n",
       "      <td>BW1 473ml캔(수입)</td>\n",
       "      <td>(1157)김포한강점</td>\n",
       "      <td>199</td>\n",
       "      <td>B Type</td>\n",
       "    </tr>\n",
       "    <tr>\n",
       "      <th>...</th>\n",
       "      <td>...</td>\n",
       "      <td>...</td>\n",
       "      <td>...</td>\n",
       "      <td>...</td>\n",
       "    </tr>\n",
       "    <tr>\n",
       "      <th>75226</th>\n",
       "      <td>CAT1 1.6L</td>\n",
       "      <td>(L38)율전점</td>\n",
       "      <td>54</td>\n",
       "      <td>C Type</td>\n",
       "    </tr>\n",
       "    <tr>\n",
       "      <th>75227</th>\n",
       "      <td>CAT1 1.6L</td>\n",
       "      <td>(L39)본오점</td>\n",
       "      <td>28</td>\n",
       "      <td>C Type</td>\n",
       "    </tr>\n",
       "    <tr>\n",
       "      <th>75228</th>\n",
       "      <td>CAT1 1.6L</td>\n",
       "      <td>(L40)검암점</td>\n",
       "      <td>9</td>\n",
       "      <td>C Type</td>\n",
       "    </tr>\n",
       "    <tr>\n",
       "      <th>75229</th>\n",
       "      <td>CAT1 1.6L</td>\n",
       "      <td>(L44)신길점</td>\n",
       "      <td>28</td>\n",
       "      <td>C Type</td>\n",
       "    </tr>\n",
       "    <tr>\n",
       "      <th>75230</th>\n",
       "      <td>CAT1 1.6L</td>\n",
       "      <td>(L46)용호점</td>\n",
       "      <td>24</td>\n",
       "      <td>C Type</td>\n",
       "    </tr>\n",
       "  </tbody>\n",
       "</table>\n",
       "<p>73945 rows × 4 columns</p>\n",
       "</div>"
      ],
      "text/plain": [
       "                  상품명      level_1       0    제품타입\n",
       "1286   BW1 473ml캔(수입)           합계  65,402  B Type\n",
       "1287   BW1 473ml캔(수입)   (1154)의정부점     174  B Type\n",
       "1288   BW1 473ml캔(수입)    (1155)별내점     239  B Type\n",
       "1289   BW1 473ml캔(수입)    (1156)풍산점     432  B Type\n",
       "1290   BW1 473ml캔(수입)  (1157)김포한강점     199  B Type\n",
       "...               ...          ...     ...     ...\n",
       "75226       CAT1 1.6L     (L38)율전점      54  C Type\n",
       "75227       CAT1 1.6L     (L39)본오점      28  C Type\n",
       "75228       CAT1 1.6L     (L40)검암점       9  C Type\n",
       "75229       CAT1 1.6L     (L44)신길점      28  C Type\n",
       "75230       CAT1 1.6L     (L46)용호점      24  C Type\n",
       "\n",
       "[73945 rows x 4 columns]"
      ]
     },
     "execution_count": 46,
     "metadata": {},
     "output_type": "execute_result"
    }
   ],
   "source": [
    "df3[\"제품타입\"] = df3[\"상품명\"].apply(func1)\n",
    "df3"
   ]
  },
  {
   "cell_type": "code",
   "execution_count": 47,
   "metadata": {},
   "outputs": [
    {
     "data": {
      "text/html": [
       "<div>\n",
       "<style scoped>\n",
       "    .dataframe tbody tr th:only-of-type {\n",
       "        vertical-align: middle;\n",
       "    }\n",
       "\n",
       "    .dataframe tbody tr th {\n",
       "        vertical-align: top;\n",
       "    }\n",
       "\n",
       "    .dataframe thead th {\n",
       "        text-align: right;\n",
       "    }\n",
       "</style>\n",
       "<table border=\"1\" class=\"dataframe\">\n",
       "  <thead>\n",
       "    <tr style=\"text-align: right;\">\n",
       "      <th></th>\n",
       "      <th>상품명</th>\n",
       "      <th>level_1</th>\n",
       "      <th>0</th>\n",
       "      <th>제품타입</th>\n",
       "    </tr>\n",
       "  </thead>\n",
       "  <tbody>\n",
       "    <tr>\n",
       "      <th>1287</th>\n",
       "      <td>BW1 473ml캔(수입)</td>\n",
       "      <td>(1154)의정부점</td>\n",
       "      <td>174</td>\n",
       "      <td>B Type</td>\n",
       "    </tr>\n",
       "    <tr>\n",
       "      <th>1288</th>\n",
       "      <td>BW1 473ml캔(수입)</td>\n",
       "      <td>(1155)별내점</td>\n",
       "      <td>239</td>\n",
       "      <td>B Type</td>\n",
       "    </tr>\n",
       "    <tr>\n",
       "      <th>1289</th>\n",
       "      <td>BW1 473ml캔(수입)</td>\n",
       "      <td>(1156)풍산점</td>\n",
       "      <td>432</td>\n",
       "      <td>B Type</td>\n",
       "    </tr>\n",
       "    <tr>\n",
       "      <th>1290</th>\n",
       "      <td>BW1 473ml캔(수입)</td>\n",
       "      <td>(1157)김포한강점</td>\n",
       "      <td>199</td>\n",
       "      <td>B Type</td>\n",
       "    </tr>\n",
       "    <tr>\n",
       "      <th>1291</th>\n",
       "      <td>BW1 473ml캔(수입)</td>\n",
       "      <td>(1158)세종점</td>\n",
       "      <td>220</td>\n",
       "      <td>B Type</td>\n",
       "    </tr>\n",
       "    <tr>\n",
       "      <th>...</th>\n",
       "      <td>...</td>\n",
       "      <td>...</td>\n",
       "      <td>...</td>\n",
       "      <td>...</td>\n",
       "    </tr>\n",
       "    <tr>\n",
       "      <th>75226</th>\n",
       "      <td>CAT1 1.6L</td>\n",
       "      <td>(L38)율전점</td>\n",
       "      <td>54</td>\n",
       "      <td>C Type</td>\n",
       "    </tr>\n",
       "    <tr>\n",
       "      <th>75227</th>\n",
       "      <td>CAT1 1.6L</td>\n",
       "      <td>(L39)본오점</td>\n",
       "      <td>28</td>\n",
       "      <td>C Type</td>\n",
       "    </tr>\n",
       "    <tr>\n",
       "      <th>75228</th>\n",
       "      <td>CAT1 1.6L</td>\n",
       "      <td>(L40)검암점</td>\n",
       "      <td>9</td>\n",
       "      <td>C Type</td>\n",
       "    </tr>\n",
       "    <tr>\n",
       "      <th>75229</th>\n",
       "      <td>CAT1 1.6L</td>\n",
       "      <td>(L44)신길점</td>\n",
       "      <td>28</td>\n",
       "      <td>C Type</td>\n",
       "    </tr>\n",
       "    <tr>\n",
       "      <th>75230</th>\n",
       "      <td>CAT1 1.6L</td>\n",
       "      <td>(L46)용호점</td>\n",
       "      <td>24</td>\n",
       "      <td>C Type</td>\n",
       "    </tr>\n",
       "  </tbody>\n",
       "</table>\n",
       "<p>29532 rows × 4 columns</p>\n",
       "</div>"
      ],
      "text/plain": [
       "                  상품명      level_1    0    제품타입\n",
       "1287   BW1 473ml캔(수입)   (1154)의정부점  174  B Type\n",
       "1288   BW1 473ml캔(수입)    (1155)별내점  239  B Type\n",
       "1289   BW1 473ml캔(수입)    (1156)풍산점  432  B Type\n",
       "1290   BW1 473ml캔(수입)  (1157)김포한강점  199  B Type\n",
       "1291   BW1 473ml캔(수입)    (1158)세종점  220  B Type\n",
       "...               ...          ...  ...     ...\n",
       "75226       CAT1 1.6L     (L38)율전점   54  C Type\n",
       "75227       CAT1 1.6L     (L39)본오점   28  C Type\n",
       "75228       CAT1 1.6L     (L40)검암점    9  C Type\n",
       "75229       CAT1 1.6L     (L44)신길점   28  C Type\n",
       "75230       CAT1 1.6L     (L46)용호점   24  C Type\n",
       "\n",
       "[29532 rows x 4 columns]"
      ]
     },
     "execution_count": 47,
     "metadata": {},
     "output_type": "execute_result"
    }
   ],
   "source": [
    "df3.loc[(df3[\"제품타입\"]!=\"Normal Type\")&(df3[\"level_1\"]!=\" 합계\")]"
   ]
  },
  {
   "cell_type": "code",
   "execution_count": 48,
   "metadata": {},
   "outputs": [],
   "source": [
    "df4 = df3.loc[(df3[\"제품타입\"]!=\"Normal Type\")&(df3[\"level_1\"]!=\" 합계\")]"
   ]
  },
  {
   "cell_type": "code",
   "execution_count": 49,
   "metadata": {},
   "outputs": [
    {
     "data": {
      "text/html": [
       "<div>\n",
       "<style scoped>\n",
       "    .dataframe tbody tr th:only-of-type {\n",
       "        vertical-align: middle;\n",
       "    }\n",
       "\n",
       "    .dataframe tbody tr th {\n",
       "        vertical-align: top;\n",
       "    }\n",
       "\n",
       "    .dataframe thead th {\n",
       "        text-align: right;\n",
       "    }\n",
       "</style>\n",
       "<table border=\"1\" class=\"dataframe\">\n",
       "  <thead>\n",
       "    <tr style=\"text-align: right;\">\n",
       "      <th></th>\n",
       "      <th>상품명</th>\n",
       "      <th>지점</th>\n",
       "      <th>수량</th>\n",
       "      <th>제품타입</th>\n",
       "    </tr>\n",
       "  </thead>\n",
       "  <tbody>\n",
       "    <tr>\n",
       "      <th>1287</th>\n",
       "      <td>BW1 473ml캔(수입)</td>\n",
       "      <td>(1154)의정부점</td>\n",
       "      <td>174</td>\n",
       "      <td>B Type</td>\n",
       "    </tr>\n",
       "    <tr>\n",
       "      <th>1288</th>\n",
       "      <td>BW1 473ml캔(수입)</td>\n",
       "      <td>(1155)별내점</td>\n",
       "      <td>239</td>\n",
       "      <td>B Type</td>\n",
       "    </tr>\n",
       "    <tr>\n",
       "      <th>1289</th>\n",
       "      <td>BW1 473ml캔(수입)</td>\n",
       "      <td>(1156)풍산점</td>\n",
       "      <td>432</td>\n",
       "      <td>B Type</td>\n",
       "    </tr>\n",
       "    <tr>\n",
       "      <th>1290</th>\n",
       "      <td>BW1 473ml캔(수입)</td>\n",
       "      <td>(1157)김포한강점</td>\n",
       "      <td>199</td>\n",
       "      <td>B Type</td>\n",
       "    </tr>\n",
       "    <tr>\n",
       "      <th>1291</th>\n",
       "      <td>BW1 473ml캔(수입)</td>\n",
       "      <td>(1158)세종점</td>\n",
       "      <td>220</td>\n",
       "      <td>B Type</td>\n",
       "    </tr>\n",
       "    <tr>\n",
       "      <th>...</th>\n",
       "      <td>...</td>\n",
       "      <td>...</td>\n",
       "      <td>...</td>\n",
       "      <td>...</td>\n",
       "    </tr>\n",
       "    <tr>\n",
       "      <th>75226</th>\n",
       "      <td>CAT1 1.6L</td>\n",
       "      <td>(L38)율전점</td>\n",
       "      <td>54</td>\n",
       "      <td>C Type</td>\n",
       "    </tr>\n",
       "    <tr>\n",
       "      <th>75227</th>\n",
       "      <td>CAT1 1.6L</td>\n",
       "      <td>(L39)본오점</td>\n",
       "      <td>28</td>\n",
       "      <td>C Type</td>\n",
       "    </tr>\n",
       "    <tr>\n",
       "      <th>75228</th>\n",
       "      <td>CAT1 1.6L</td>\n",
       "      <td>(L40)검암점</td>\n",
       "      <td>9</td>\n",
       "      <td>C Type</td>\n",
       "    </tr>\n",
       "    <tr>\n",
       "      <th>75229</th>\n",
       "      <td>CAT1 1.6L</td>\n",
       "      <td>(L44)신길점</td>\n",
       "      <td>28</td>\n",
       "      <td>C Type</td>\n",
       "    </tr>\n",
       "    <tr>\n",
       "      <th>75230</th>\n",
       "      <td>CAT1 1.6L</td>\n",
       "      <td>(L46)용호점</td>\n",
       "      <td>24</td>\n",
       "      <td>C Type</td>\n",
       "    </tr>\n",
       "  </tbody>\n",
       "</table>\n",
       "<p>29532 rows × 4 columns</p>\n",
       "</div>"
      ],
      "text/plain": [
       "                  상품명           지점   수량    제품타입\n",
       "1287   BW1 473ml캔(수입)   (1154)의정부점  174  B Type\n",
       "1288   BW1 473ml캔(수입)    (1155)별내점  239  B Type\n",
       "1289   BW1 473ml캔(수입)    (1156)풍산점  432  B Type\n",
       "1290   BW1 473ml캔(수입)  (1157)김포한강점  199  B Type\n",
       "1291   BW1 473ml캔(수입)    (1158)세종점  220  B Type\n",
       "...               ...          ...  ...     ...\n",
       "75226       CAT1 1.6L     (L38)율전점   54  C Type\n",
       "75227       CAT1 1.6L     (L39)본오점   28  C Type\n",
       "75228       CAT1 1.6L     (L40)검암점    9  C Type\n",
       "75229       CAT1 1.6L     (L44)신길점   28  C Type\n",
       "75230       CAT1 1.6L     (L46)용호점   24  C Type\n",
       "\n",
       "[29532 rows x 4 columns]"
      ]
     },
     "execution_count": 49,
     "metadata": {},
     "output_type": "execute_result"
    }
   ],
   "source": [
    "df4.rename(columns={\"level_1\":\"지점\", 0:\"수량\"})"
   ]
  },
  {
   "cell_type": "code",
   "execution_count": 50,
   "metadata": {},
   "outputs": [
    {
     "data": {
      "text/plain": [
       "1287     174\n",
       "1288     239\n",
       "1289     432\n",
       "1290     199\n",
       "1291     220\n",
       "        ... \n",
       "75226     54\n",
       "75227     28\n",
       "75228      9\n",
       "75229     28\n",
       "75230     24\n",
       "Name: 수량, Length: 29532, dtype: object"
      ]
     },
     "execution_count": 50,
     "metadata": {},
     "output_type": "execute_result"
    }
   ],
   "source": [
    "df5 = df4.rename(columns={\"level_1\":\"지점\", 0:\"수량\"})\n",
    "df5[\"수량\"]"
   ]
  },
  {
   "cell_type": "code",
   "execution_count": 51,
   "metadata": {},
   "outputs": [
    {
     "data": {
      "text/plain": [
       "1287     174\n",
       "1288     239\n",
       "1289     432\n",
       "1290     199\n",
       "1291     220\n",
       "        ... \n",
       "75226     54\n",
       "75227     28\n",
       "75228      9\n",
       "75229     28\n",
       "75230     24\n",
       "Name: 수량, Length: 29532, dtype: int32"
      ]
     },
     "execution_count": 51,
     "metadata": {},
     "output_type": "execute_result"
    }
   ],
   "source": [
    "def func2(row):\n",
    "    if len(row)>=4:\n",
    "        result = row.split(\",\")\n",
    "        return result[0]+result[1]\n",
    "    else:\n",
    "        return row\n",
    "\n",
    "(df5[\"수량\"].apply(func2)).astype(int)"
   ]
  },
  {
   "cell_type": "code",
   "execution_count": 52,
   "metadata": {},
   "outputs": [],
   "source": [
    "df5[\"수량(int)\"] = (df5[\"수량\"].apply(func2)).astype(int)"
   ]
  },
  {
   "cell_type": "code",
   "execution_count": 53,
   "metadata": {},
   "outputs": [
    {
     "data": {
      "text/html": [
       "<div>\n",
       "<style scoped>\n",
       "    .dataframe tbody tr th:only-of-type {\n",
       "        vertical-align: middle;\n",
       "    }\n",
       "\n",
       "    .dataframe tbody tr th {\n",
       "        vertical-align: top;\n",
       "    }\n",
       "\n",
       "    .dataframe thead th {\n",
       "        text-align: right;\n",
       "    }\n",
       "</style>\n",
       "<table border=\"1\" class=\"dataframe\">\n",
       "  <thead>\n",
       "    <tr style=\"text-align: right;\">\n",
       "      <th></th>\n",
       "      <th>상품명</th>\n",
       "      <th>지점</th>\n",
       "      <th>수량</th>\n",
       "      <th>제품타입</th>\n",
       "      <th>수량(int)</th>\n",
       "    </tr>\n",
       "  </thead>\n",
       "  <tbody>\n",
       "    <tr>\n",
       "      <th>1287</th>\n",
       "      <td>BW1 473ml캔(수입)</td>\n",
       "      <td>(1154)의정부점</td>\n",
       "      <td>174</td>\n",
       "      <td>B Type</td>\n",
       "      <td>174</td>\n",
       "    </tr>\n",
       "    <tr>\n",
       "      <th>1288</th>\n",
       "      <td>BW1 473ml캔(수입)</td>\n",
       "      <td>(1155)별내점</td>\n",
       "      <td>239</td>\n",
       "      <td>B Type</td>\n",
       "      <td>239</td>\n",
       "    </tr>\n",
       "    <tr>\n",
       "      <th>1289</th>\n",
       "      <td>BW1 473ml캔(수입)</td>\n",
       "      <td>(1156)풍산점</td>\n",
       "      <td>432</td>\n",
       "      <td>B Type</td>\n",
       "      <td>432</td>\n",
       "    </tr>\n",
       "    <tr>\n",
       "      <th>1290</th>\n",
       "      <td>BW1 473ml캔(수입)</td>\n",
       "      <td>(1157)김포한강점</td>\n",
       "      <td>199</td>\n",
       "      <td>B Type</td>\n",
       "      <td>199</td>\n",
       "    </tr>\n",
       "    <tr>\n",
       "      <th>1291</th>\n",
       "      <td>BW1 473ml캔(수입)</td>\n",
       "      <td>(1158)세종점</td>\n",
       "      <td>220</td>\n",
       "      <td>B Type</td>\n",
       "      <td>220</td>\n",
       "    </tr>\n",
       "    <tr>\n",
       "      <th>...</th>\n",
       "      <td>...</td>\n",
       "      <td>...</td>\n",
       "      <td>...</td>\n",
       "      <td>...</td>\n",
       "      <td>...</td>\n",
       "    </tr>\n",
       "    <tr>\n",
       "      <th>75226</th>\n",
       "      <td>CAT1 1.6L</td>\n",
       "      <td>(L38)율전점</td>\n",
       "      <td>54</td>\n",
       "      <td>C Type</td>\n",
       "      <td>54</td>\n",
       "    </tr>\n",
       "    <tr>\n",
       "      <th>75227</th>\n",
       "      <td>CAT1 1.6L</td>\n",
       "      <td>(L39)본오점</td>\n",
       "      <td>28</td>\n",
       "      <td>C Type</td>\n",
       "      <td>28</td>\n",
       "    </tr>\n",
       "    <tr>\n",
       "      <th>75228</th>\n",
       "      <td>CAT1 1.6L</td>\n",
       "      <td>(L40)검암점</td>\n",
       "      <td>9</td>\n",
       "      <td>C Type</td>\n",
       "      <td>9</td>\n",
       "    </tr>\n",
       "    <tr>\n",
       "      <th>75229</th>\n",
       "      <td>CAT1 1.6L</td>\n",
       "      <td>(L44)신길점</td>\n",
       "      <td>28</td>\n",
       "      <td>C Type</td>\n",
       "      <td>28</td>\n",
       "    </tr>\n",
       "    <tr>\n",
       "      <th>75230</th>\n",
       "      <td>CAT1 1.6L</td>\n",
       "      <td>(L46)용호점</td>\n",
       "      <td>24</td>\n",
       "      <td>C Type</td>\n",
       "      <td>24</td>\n",
       "    </tr>\n",
       "  </tbody>\n",
       "</table>\n",
       "<p>29532 rows × 5 columns</p>\n",
       "</div>"
      ],
      "text/plain": [
       "                  상품명           지점   수량    제품타입  수량(int)\n",
       "1287   BW1 473ml캔(수입)   (1154)의정부점  174  B Type      174\n",
       "1288   BW1 473ml캔(수입)    (1155)별내점  239  B Type      239\n",
       "1289   BW1 473ml캔(수입)    (1156)풍산점  432  B Type      432\n",
       "1290   BW1 473ml캔(수입)  (1157)김포한강점  199  B Type      199\n",
       "1291   BW1 473ml캔(수입)    (1158)세종점  220  B Type      220\n",
       "...               ...          ...  ...     ...      ...\n",
       "75226       CAT1 1.6L     (L38)율전점   54  C Type       54\n",
       "75227       CAT1 1.6L     (L39)본오점   28  C Type       28\n",
       "75228       CAT1 1.6L     (L40)검암점    9  C Type        9\n",
       "75229       CAT1 1.6L     (L44)신길점   28  C Type       28\n",
       "75230       CAT1 1.6L     (L46)용호점   24  C Type       24\n",
       "\n",
       "[29532 rows x 5 columns]"
      ]
     },
     "execution_count": 53,
     "metadata": {},
     "output_type": "execute_result"
    }
   ],
   "source": [
    "df5"
   ]
  },
  {
   "cell_type": "code",
   "execution_count": 54,
   "metadata": {},
   "outputs": [
    {
     "data": {
      "text/html": [
       "<div>\n",
       "<style scoped>\n",
       "    .dataframe tbody tr th:only-of-type {\n",
       "        vertical-align: middle;\n",
       "    }\n",
       "\n",
       "    .dataframe tbody tr th {\n",
       "        vertical-align: top;\n",
       "    }\n",
       "\n",
       "    .dataframe thead th {\n",
       "        text-align: right;\n",
       "    }\n",
       "</style>\n",
       "<table border=\"1\" class=\"dataframe\">\n",
       "  <thead>\n",
       "    <tr style=\"text-align: right;\">\n",
       "      <th></th>\n",
       "      <th>수량(int)</th>\n",
       "    </tr>\n",
       "    <tr>\n",
       "      <th>지점</th>\n",
       "      <th></th>\n",
       "    </tr>\n",
       "  </thead>\n",
       "  <tbody>\n",
       "    <tr>\n",
       "      <th>(610)부천점</th>\n",
       "      <td>16879</td>\n",
       "    </tr>\n",
       "    <tr>\n",
       "      <th>(600)안양점</th>\n",
       "      <td>15181</td>\n",
       "    </tr>\n",
       "    <tr>\n",
       "      <th>(966)성남점</th>\n",
       "      <td>13804</td>\n",
       "    </tr>\n",
       "    <tr>\n",
       "      <th>(550)은평점</th>\n",
       "      <td>13242</td>\n",
       "    </tr>\n",
       "    <tr>\n",
       "      <th>(380)가양점</th>\n",
       "      <td>11946</td>\n",
       "    </tr>\n",
       "    <tr>\n",
       "      <th>(470)성수점</th>\n",
       "      <td>11520</td>\n",
       "    </tr>\n",
       "    <tr>\n",
       "      <th>(660)연수점</th>\n",
       "      <td>10901</td>\n",
       "    </tr>\n",
       "    <tr>\n",
       "      <th>(962)경기광주점</th>\n",
       "      <td>10891</td>\n",
       "    </tr>\n",
       "    <tr>\n",
       "      <th>(840)월계점</th>\n",
       "      <td>10830</td>\n",
       "    </tr>\n",
       "    <tr>\n",
       "      <th>(690)고잔점</th>\n",
       "      <td>10812</td>\n",
       "    </tr>\n",
       "  </tbody>\n",
       "</table>\n",
       "</div>"
      ],
      "text/plain": [
       "            수량(int)\n",
       "지점                 \n",
       "(610)부천점      16879\n",
       "(600)안양점      15181\n",
       "(966)성남점      13804\n",
       "(550)은평점      13242\n",
       "(380)가양점      11946\n",
       "(470)성수점      11520\n",
       "(660)연수점      10901\n",
       "(962)경기광주점    10891\n",
       "(840)월계점      10830\n",
       "(690)고잔점      10812"
      ]
     },
     "execution_count": 54,
     "metadata": {},
     "output_type": "execute_result"
    }
   ],
   "source": [
    "pd.pivot_table(data=df5, index=\"지점\", values=\"수량(int)\", aggfunc=\"sum\").sort_values(by=\"수량(int)\", ascending=False).head(10)"
   ]
  },
  {
   "cell_type": "code",
   "execution_count": 55,
   "metadata": {},
   "outputs": [
    {
     "data": {
      "text/html": [
       "<div>\n",
       "<style scoped>\n",
       "    .dataframe tbody tr th:only-of-type {\n",
       "        vertical-align: middle;\n",
       "    }\n",
       "\n",
       "    .dataframe tbody tr th {\n",
       "        vertical-align: top;\n",
       "    }\n",
       "\n",
       "    .dataframe thead th {\n",
       "        text-align: right;\n",
       "    }\n",
       "</style>\n",
       "<table border=\"1\" class=\"dataframe\">\n",
       "  <thead>\n",
       "    <tr style=\"text-align: right;\">\n",
       "      <th></th>\n",
       "      <th>지점</th>\n",
       "      <th>상품명</th>\n",
       "      <th>제품타입</th>\n",
       "      <th>수량(int)</th>\n",
       "    </tr>\n",
       "  </thead>\n",
       "  <tbody>\n",
       "    <tr>\n",
       "      <th>0</th>\n",
       "      <td>(610)부천점</td>\n",
       "      <td>CAT2 500ml(신)</td>\n",
       "      <td>C Type</td>\n",
       "      <td>3984</td>\n",
       "    </tr>\n",
       "    <tr>\n",
       "      <th>1</th>\n",
       "      <td>(700)문현점</td>\n",
       "      <td>CAT2 500ml(신)</td>\n",
       "      <td>C Type</td>\n",
       "      <td>3586</td>\n",
       "    </tr>\n",
       "    <tr>\n",
       "      <th>2</th>\n",
       "      <td>(750)사상점</td>\n",
       "      <td>CAT2 500ml(신)</td>\n",
       "      <td>C Type</td>\n",
       "      <td>3410</td>\n",
       "    </tr>\n",
       "    <tr>\n",
       "      <th>3</th>\n",
       "      <td>(900)순천점</td>\n",
       "      <td>CAT2 500ml(신)</td>\n",
       "      <td>C Type</td>\n",
       "      <td>3235</td>\n",
       "    </tr>\n",
       "    <tr>\n",
       "      <th>4</th>\n",
       "      <td>(601)시화점</td>\n",
       "      <td>CAT2 500ml</td>\n",
       "      <td>C Type</td>\n",
       "      <td>3054</td>\n",
       "    </tr>\n",
       "    <tr>\n",
       "      <th>5</th>\n",
       "      <td>(966)성남점</td>\n",
       "      <td>CAT2 500ml(신)</td>\n",
       "      <td>C Type</td>\n",
       "      <td>2952</td>\n",
       "    </tr>\n",
       "    <tr>\n",
       "      <th>6</th>\n",
       "      <td>(560)여수점</td>\n",
       "      <td>CAT2 500ml(신)</td>\n",
       "      <td>C Type</td>\n",
       "      <td>2885</td>\n",
       "    </tr>\n",
       "    <tr>\n",
       "      <th>7</th>\n",
       "      <td>(959)목동점</td>\n",
       "      <td>BW1 740ml</td>\n",
       "      <td>B Type</td>\n",
       "      <td>2837</td>\n",
       "    </tr>\n",
       "    <tr>\n",
       "      <th>8</th>\n",
       "      <td>(580)연제점</td>\n",
       "      <td>CAT2 500ml(신)</td>\n",
       "      <td>C Type</td>\n",
       "      <td>2639</td>\n",
       "    </tr>\n",
       "    <tr>\n",
       "      <th>9</th>\n",
       "      <td>(600)안양점</td>\n",
       "      <td>CAT1 1.0L</td>\n",
       "      <td>C Type</td>\n",
       "      <td>2637</td>\n",
       "    </tr>\n",
       "  </tbody>\n",
       "</table>\n",
       "</div>"
      ],
      "text/plain": [
       "         지점            상품명    제품타입  수량(int)\n",
       "0  (610)부천점  CAT2 500ml(신)  C Type     3984\n",
       "1  (700)문현점  CAT2 500ml(신)  C Type     3586\n",
       "2  (750)사상점  CAT2 500ml(신)  C Type     3410\n",
       "3  (900)순천점  CAT2 500ml(신)  C Type     3235\n",
       "4  (601)시화점     CAT2 500ml  C Type     3054\n",
       "5  (966)성남점  CAT2 500ml(신)  C Type     2952\n",
       "6  (560)여수점  CAT2 500ml(신)  C Type     2885\n",
       "7  (959)목동점      BW1 740ml  B Type     2837\n",
       "8  (580)연제점  CAT2 500ml(신)  C Type     2639\n",
       "9  (600)안양점      CAT1 1.0L  C Type     2637"
      ]
     },
     "execution_count": 55,
     "metadata": {},
     "output_type": "execute_result"
    }
   ],
   "source": [
    "pd.pivot_table(data=df5, index=[\"지점\",\"상품명\",\"제품타입\"], values=\"수량(int)\", aggfunc=\"sum\").sort_values(by=\"수량(int)\", ascending=False).head(10).reset_index()"
   ]
  },
  {
   "cell_type": "code",
   "execution_count": 56,
   "metadata": {},
   "outputs": [
    {
     "data": {
      "text/html": [
       "<div>\n",
       "<style scoped>\n",
       "    .dataframe tbody tr th:only-of-type {\n",
       "        vertical-align: middle;\n",
       "    }\n",
       "\n",
       "    .dataframe tbody tr th {\n",
       "        vertical-align: top;\n",
       "    }\n",
       "\n",
       "    .dataframe thead th {\n",
       "        text-align: right;\n",
       "    }\n",
       "</style>\n",
       "<table border=\"1\" class=\"dataframe\">\n",
       "  <thead>\n",
       "    <tr style=\"text-align: right;\">\n",
       "      <th></th>\n",
       "      <th>지점</th>\n",
       "      <th>상품명</th>\n",
       "      <th>제품타입</th>\n",
       "      <th>수량(int)</th>\n",
       "    </tr>\n",
       "  </thead>\n",
       "  <tbody>\n",
       "    <tr>\n",
       "      <th>0</th>\n",
       "      <td>(610)부천점</td>\n",
       "      <td>CAT2 500ml(신)</td>\n",
       "      <td>C Type</td>\n",
       "      <td>3984</td>\n",
       "    </tr>\n",
       "    <tr>\n",
       "      <th>1</th>\n",
       "      <td>(700)문현점</td>\n",
       "      <td>CAT2 500ml(신)</td>\n",
       "      <td>C Type</td>\n",
       "      <td>3586</td>\n",
       "    </tr>\n",
       "    <tr>\n",
       "      <th>2</th>\n",
       "      <td>(750)사상점</td>\n",
       "      <td>CAT2 500ml(신)</td>\n",
       "      <td>C Type</td>\n",
       "      <td>3410</td>\n",
       "    </tr>\n",
       "    <tr>\n",
       "      <th>3</th>\n",
       "      <td>(900)순천점</td>\n",
       "      <td>CAT2 500ml(신)</td>\n",
       "      <td>C Type</td>\n",
       "      <td>3235</td>\n",
       "    </tr>\n",
       "    <tr>\n",
       "      <th>4</th>\n",
       "      <td>(601)시화점</td>\n",
       "      <td>CAT2 500ml</td>\n",
       "      <td>C Type</td>\n",
       "      <td>3054</td>\n",
       "    </tr>\n",
       "    <tr>\n",
       "      <th>5</th>\n",
       "      <td>(966)성남점</td>\n",
       "      <td>CAT2 500ml(신)</td>\n",
       "      <td>C Type</td>\n",
       "      <td>2952</td>\n",
       "    </tr>\n",
       "    <tr>\n",
       "      <th>6</th>\n",
       "      <td>(560)여수점</td>\n",
       "      <td>CAT2 500ml(신)</td>\n",
       "      <td>C Type</td>\n",
       "      <td>2885</td>\n",
       "    </tr>\n",
       "    <tr>\n",
       "      <th>7</th>\n",
       "      <td>(959)목동점</td>\n",
       "      <td>BW1 740ml</td>\n",
       "      <td>B Type</td>\n",
       "      <td>2837</td>\n",
       "    </tr>\n",
       "    <tr>\n",
       "      <th>8</th>\n",
       "      <td>(580)연제점</td>\n",
       "      <td>CAT2 500ml(신)</td>\n",
       "      <td>C Type</td>\n",
       "      <td>2639</td>\n",
       "    </tr>\n",
       "    <tr>\n",
       "      <th>9</th>\n",
       "      <td>(600)안양점</td>\n",
       "      <td>CAT1 1.0L</td>\n",
       "      <td>C Type</td>\n",
       "      <td>2637</td>\n",
       "    </tr>\n",
       "  </tbody>\n",
       "</table>\n",
       "</div>"
      ],
      "text/plain": [
       "         지점            상품명    제품타입  수량(int)\n",
       "0  (610)부천점  CAT2 500ml(신)  C Type     3984\n",
       "1  (700)문현점  CAT2 500ml(신)  C Type     3586\n",
       "2  (750)사상점  CAT2 500ml(신)  C Type     3410\n",
       "3  (900)순천점  CAT2 500ml(신)  C Type     3235\n",
       "4  (601)시화점     CAT2 500ml  C Type     3054\n",
       "5  (966)성남점  CAT2 500ml(신)  C Type     2952\n",
       "6  (560)여수점  CAT2 500ml(신)  C Type     2885\n",
       "7  (959)목동점      BW1 740ml  B Type     2837\n",
       "8  (580)연제점  CAT2 500ml(신)  C Type     2639\n",
       "9  (600)안양점      CAT1 1.0L  C Type     2637"
      ]
     },
     "execution_count": 56,
     "metadata": {},
     "output_type": "execute_result"
    }
   ],
   "source": [
    "df6 = pd.pivot_table(data=df5, index=[\"지점\",\"상품명\",\"제품타입\"], values=\"수량(int)\", aggfunc=\"sum\").sort_values(by=\"수량(int)\", ascending=False).head(10).reset_index()\n",
    "df6"
   ]
  },
  {
   "cell_type": "code",
   "execution_count": 57,
   "metadata": {},
   "outputs": [],
   "source": [
    "df6.to_csv(\"examples/Data09_result.csv\")"
   ]
  },
  {
   "attachments": {},
   "cell_type": "markdown",
   "metadata": {},
   "source": [
    "# Python Plotly / Dash \n",
    "\n",
    "* Dash  : https://dash.plotly.com/layout\n",
    "* Plotly : https://medium.com/plotly"
   ]
  },
  {
   "cell_type": "code",
   "execution_count": 58,
   "metadata": {},
   "outputs": [],
   "source": [
    "import plotly.express as px"
   ]
  },
  {
   "cell_type": "code",
   "execution_count": 59,
   "metadata": {},
   "outputs": [
    {
     "data": {
      "application/vnd.plotly.v1+json": {
       "config": {
        "plotlyServerURL": "https://plot.ly"
       },
       "data": [
        {
         "alignmentgroup": "True",
         "hovertemplate": "제품타입=C Type<br>지점=%{x}<br>수량(int)=%{y}<extra></extra>",
         "legendgroup": "C Type",
         "marker": {
          "color": "#636efa",
          "pattern": {
           "shape": ""
          }
         },
         "name": "C Type",
         "offsetgroup": "C Type",
         "orientation": "v",
         "showlegend": true,
         "textposition": "auto",
         "type": "bar",
         "x": [
          "(610)부천점",
          "(700)문현점",
          "(750)사상점",
          "(900)순천점",
          "(601)시화점",
          "(966)성남점",
          "(560)여수점",
          "(580)연제점",
          "(600)안양점"
         ],
         "xaxis": "x",
         "y": [
          3984,
          3586,
          3410,
          3235,
          3054,
          2952,
          2885,
          2639,
          2637
         ],
         "yaxis": "y"
        },
        {
         "alignmentgroup": "True",
         "hovertemplate": "제품타입=B Type<br>지점=%{x}<br>수량(int)=%{y}<extra></extra>",
         "legendgroup": "B Type",
         "marker": {
          "color": "#EF553B",
          "pattern": {
           "shape": ""
          }
         },
         "name": "B Type",
         "offsetgroup": "B Type",
         "orientation": "v",
         "showlegend": true,
         "textposition": "auto",
         "type": "bar",
         "x": [
          "(959)목동점"
         ],
         "xaxis": "x",
         "y": [
          2837
         ],
         "yaxis": "y"
        }
       ],
       "layout": {
        "barmode": "relative",
        "legend": {
         "title": {
          "text": "제품타입"
         },
         "tracegroupgap": 0
        },
        "margin": {
         "t": 60
        },
        "template": {
         "data": {
          "bar": [
           {
            "error_x": {
             "color": "#2a3f5f"
            },
            "error_y": {
             "color": "#2a3f5f"
            },
            "marker": {
             "line": {
              "color": "#E5ECF6",
              "width": 0.5
             },
             "pattern": {
              "fillmode": "overlay",
              "size": 10,
              "solidity": 0.2
             }
            },
            "type": "bar"
           }
          ],
          "barpolar": [
           {
            "marker": {
             "line": {
              "color": "#E5ECF6",
              "width": 0.5
             },
             "pattern": {
              "fillmode": "overlay",
              "size": 10,
              "solidity": 0.2
             }
            },
            "type": "barpolar"
           }
          ],
          "carpet": [
           {
            "aaxis": {
             "endlinecolor": "#2a3f5f",
             "gridcolor": "white",
             "linecolor": "white",
             "minorgridcolor": "white",
             "startlinecolor": "#2a3f5f"
            },
            "baxis": {
             "endlinecolor": "#2a3f5f",
             "gridcolor": "white",
             "linecolor": "white",
             "minorgridcolor": "white",
             "startlinecolor": "#2a3f5f"
            },
            "type": "carpet"
           }
          ],
          "choropleth": [
           {
            "colorbar": {
             "outlinewidth": 0,
             "ticks": ""
            },
            "type": "choropleth"
           }
          ],
          "contour": [
           {
            "colorbar": {
             "outlinewidth": 0,
             "ticks": ""
            },
            "colorscale": [
             [
              0,
              "#0d0887"
             ],
             [
              0.1111111111111111,
              "#46039f"
             ],
             [
              0.2222222222222222,
              "#7201a8"
             ],
             [
              0.3333333333333333,
              "#9c179e"
             ],
             [
              0.4444444444444444,
              "#bd3786"
             ],
             [
              0.5555555555555556,
              "#d8576b"
             ],
             [
              0.6666666666666666,
              "#ed7953"
             ],
             [
              0.7777777777777778,
              "#fb9f3a"
             ],
             [
              0.8888888888888888,
              "#fdca26"
             ],
             [
              1,
              "#f0f921"
             ]
            ],
            "type": "contour"
           }
          ],
          "contourcarpet": [
           {
            "colorbar": {
             "outlinewidth": 0,
             "ticks": ""
            },
            "type": "contourcarpet"
           }
          ],
          "heatmap": [
           {
            "colorbar": {
             "outlinewidth": 0,
             "ticks": ""
            },
            "colorscale": [
             [
              0,
              "#0d0887"
             ],
             [
              0.1111111111111111,
              "#46039f"
             ],
             [
              0.2222222222222222,
              "#7201a8"
             ],
             [
              0.3333333333333333,
              "#9c179e"
             ],
             [
              0.4444444444444444,
              "#bd3786"
             ],
             [
              0.5555555555555556,
              "#d8576b"
             ],
             [
              0.6666666666666666,
              "#ed7953"
             ],
             [
              0.7777777777777778,
              "#fb9f3a"
             ],
             [
              0.8888888888888888,
              "#fdca26"
             ],
             [
              1,
              "#f0f921"
             ]
            ],
            "type": "heatmap"
           }
          ],
          "heatmapgl": [
           {
            "colorbar": {
             "outlinewidth": 0,
             "ticks": ""
            },
            "colorscale": [
             [
              0,
              "#0d0887"
             ],
             [
              0.1111111111111111,
              "#46039f"
             ],
             [
              0.2222222222222222,
              "#7201a8"
             ],
             [
              0.3333333333333333,
              "#9c179e"
             ],
             [
              0.4444444444444444,
              "#bd3786"
             ],
             [
              0.5555555555555556,
              "#d8576b"
             ],
             [
              0.6666666666666666,
              "#ed7953"
             ],
             [
              0.7777777777777778,
              "#fb9f3a"
             ],
             [
              0.8888888888888888,
              "#fdca26"
             ],
             [
              1,
              "#f0f921"
             ]
            ],
            "type": "heatmapgl"
           }
          ],
          "histogram": [
           {
            "marker": {
             "pattern": {
              "fillmode": "overlay",
              "size": 10,
              "solidity": 0.2
             }
            },
            "type": "histogram"
           }
          ],
          "histogram2d": [
           {
            "colorbar": {
             "outlinewidth": 0,
             "ticks": ""
            },
            "colorscale": [
             [
              0,
              "#0d0887"
             ],
             [
              0.1111111111111111,
              "#46039f"
             ],
             [
              0.2222222222222222,
              "#7201a8"
             ],
             [
              0.3333333333333333,
              "#9c179e"
             ],
             [
              0.4444444444444444,
              "#bd3786"
             ],
             [
              0.5555555555555556,
              "#d8576b"
             ],
             [
              0.6666666666666666,
              "#ed7953"
             ],
             [
              0.7777777777777778,
              "#fb9f3a"
             ],
             [
              0.8888888888888888,
              "#fdca26"
             ],
             [
              1,
              "#f0f921"
             ]
            ],
            "type": "histogram2d"
           }
          ],
          "histogram2dcontour": [
           {
            "colorbar": {
             "outlinewidth": 0,
             "ticks": ""
            },
            "colorscale": [
             [
              0,
              "#0d0887"
             ],
             [
              0.1111111111111111,
              "#46039f"
             ],
             [
              0.2222222222222222,
              "#7201a8"
             ],
             [
              0.3333333333333333,
              "#9c179e"
             ],
             [
              0.4444444444444444,
              "#bd3786"
             ],
             [
              0.5555555555555556,
              "#d8576b"
             ],
             [
              0.6666666666666666,
              "#ed7953"
             ],
             [
              0.7777777777777778,
              "#fb9f3a"
             ],
             [
              0.8888888888888888,
              "#fdca26"
             ],
             [
              1,
              "#f0f921"
             ]
            ],
            "type": "histogram2dcontour"
           }
          ],
          "mesh3d": [
           {
            "colorbar": {
             "outlinewidth": 0,
             "ticks": ""
            },
            "type": "mesh3d"
           }
          ],
          "parcoords": [
           {
            "line": {
             "colorbar": {
              "outlinewidth": 0,
              "ticks": ""
             }
            },
            "type": "parcoords"
           }
          ],
          "pie": [
           {
            "automargin": true,
            "type": "pie"
           }
          ],
          "scatter": [
           {
            "fillpattern": {
             "fillmode": "overlay",
             "size": 10,
             "solidity": 0.2
            },
            "type": "scatter"
           }
          ],
          "scatter3d": [
           {
            "line": {
             "colorbar": {
              "outlinewidth": 0,
              "ticks": ""
             }
            },
            "marker": {
             "colorbar": {
              "outlinewidth": 0,
              "ticks": ""
             }
            },
            "type": "scatter3d"
           }
          ],
          "scattercarpet": [
           {
            "marker": {
             "colorbar": {
              "outlinewidth": 0,
              "ticks": ""
             }
            },
            "type": "scattercarpet"
           }
          ],
          "scattergeo": [
           {
            "marker": {
             "colorbar": {
              "outlinewidth": 0,
              "ticks": ""
             }
            },
            "type": "scattergeo"
           }
          ],
          "scattergl": [
           {
            "marker": {
             "colorbar": {
              "outlinewidth": 0,
              "ticks": ""
             }
            },
            "type": "scattergl"
           }
          ],
          "scattermapbox": [
           {
            "marker": {
             "colorbar": {
              "outlinewidth": 0,
              "ticks": ""
             }
            },
            "type": "scattermapbox"
           }
          ],
          "scatterpolar": [
           {
            "marker": {
             "colorbar": {
              "outlinewidth": 0,
              "ticks": ""
             }
            },
            "type": "scatterpolar"
           }
          ],
          "scatterpolargl": [
           {
            "marker": {
             "colorbar": {
              "outlinewidth": 0,
              "ticks": ""
             }
            },
            "type": "scatterpolargl"
           }
          ],
          "scatterternary": [
           {
            "marker": {
             "colorbar": {
              "outlinewidth": 0,
              "ticks": ""
             }
            },
            "type": "scatterternary"
           }
          ],
          "surface": [
           {
            "colorbar": {
             "outlinewidth": 0,
             "ticks": ""
            },
            "colorscale": [
             [
              0,
              "#0d0887"
             ],
             [
              0.1111111111111111,
              "#46039f"
             ],
             [
              0.2222222222222222,
              "#7201a8"
             ],
             [
              0.3333333333333333,
              "#9c179e"
             ],
             [
              0.4444444444444444,
              "#bd3786"
             ],
             [
              0.5555555555555556,
              "#d8576b"
             ],
             [
              0.6666666666666666,
              "#ed7953"
             ],
             [
              0.7777777777777778,
              "#fb9f3a"
             ],
             [
              0.8888888888888888,
              "#fdca26"
             ],
             [
              1,
              "#f0f921"
             ]
            ],
            "type": "surface"
           }
          ],
          "table": [
           {
            "cells": {
             "fill": {
              "color": "#EBF0F8"
             },
             "line": {
              "color": "white"
             }
            },
            "header": {
             "fill": {
              "color": "#C8D4E3"
             },
             "line": {
              "color": "white"
             }
            },
            "type": "table"
           }
          ]
         },
         "layout": {
          "annotationdefaults": {
           "arrowcolor": "#2a3f5f",
           "arrowhead": 0,
           "arrowwidth": 1
          },
          "autotypenumbers": "strict",
          "coloraxis": {
           "colorbar": {
            "outlinewidth": 0,
            "ticks": ""
           }
          },
          "colorscale": {
           "diverging": [
            [
             0,
             "#8e0152"
            ],
            [
             0.1,
             "#c51b7d"
            ],
            [
             0.2,
             "#de77ae"
            ],
            [
             0.3,
             "#f1b6da"
            ],
            [
             0.4,
             "#fde0ef"
            ],
            [
             0.5,
             "#f7f7f7"
            ],
            [
             0.6,
             "#e6f5d0"
            ],
            [
             0.7,
             "#b8e186"
            ],
            [
             0.8,
             "#7fbc41"
            ],
            [
             0.9,
             "#4d9221"
            ],
            [
             1,
             "#276419"
            ]
           ],
           "sequential": [
            [
             0,
             "#0d0887"
            ],
            [
             0.1111111111111111,
             "#46039f"
            ],
            [
             0.2222222222222222,
             "#7201a8"
            ],
            [
             0.3333333333333333,
             "#9c179e"
            ],
            [
             0.4444444444444444,
             "#bd3786"
            ],
            [
             0.5555555555555556,
             "#d8576b"
            ],
            [
             0.6666666666666666,
             "#ed7953"
            ],
            [
             0.7777777777777778,
             "#fb9f3a"
            ],
            [
             0.8888888888888888,
             "#fdca26"
            ],
            [
             1,
             "#f0f921"
            ]
           ],
           "sequentialminus": [
            [
             0,
             "#0d0887"
            ],
            [
             0.1111111111111111,
             "#46039f"
            ],
            [
             0.2222222222222222,
             "#7201a8"
            ],
            [
             0.3333333333333333,
             "#9c179e"
            ],
            [
             0.4444444444444444,
             "#bd3786"
            ],
            [
             0.5555555555555556,
             "#d8576b"
            ],
            [
             0.6666666666666666,
             "#ed7953"
            ],
            [
             0.7777777777777778,
             "#fb9f3a"
            ],
            [
             0.8888888888888888,
             "#fdca26"
            ],
            [
             1,
             "#f0f921"
            ]
           ]
          },
          "colorway": [
           "#636efa",
           "#EF553B",
           "#00cc96",
           "#ab63fa",
           "#FFA15A",
           "#19d3f3",
           "#FF6692",
           "#B6E880",
           "#FF97FF",
           "#FECB52"
          ],
          "font": {
           "color": "#2a3f5f"
          },
          "geo": {
           "bgcolor": "white",
           "lakecolor": "white",
           "landcolor": "#E5ECF6",
           "showlakes": true,
           "showland": true,
           "subunitcolor": "white"
          },
          "hoverlabel": {
           "align": "left"
          },
          "hovermode": "closest",
          "mapbox": {
           "style": "light"
          },
          "paper_bgcolor": "white",
          "plot_bgcolor": "#E5ECF6",
          "polar": {
           "angularaxis": {
            "gridcolor": "white",
            "linecolor": "white",
            "ticks": ""
           },
           "bgcolor": "#E5ECF6",
           "radialaxis": {
            "gridcolor": "white",
            "linecolor": "white",
            "ticks": ""
           }
          },
          "scene": {
           "xaxis": {
            "backgroundcolor": "#E5ECF6",
            "gridcolor": "white",
            "gridwidth": 2,
            "linecolor": "white",
            "showbackground": true,
            "ticks": "",
            "zerolinecolor": "white"
           },
           "yaxis": {
            "backgroundcolor": "#E5ECF6",
            "gridcolor": "white",
            "gridwidth": 2,
            "linecolor": "white",
            "showbackground": true,
            "ticks": "",
            "zerolinecolor": "white"
           },
           "zaxis": {
            "backgroundcolor": "#E5ECF6",
            "gridcolor": "white",
            "gridwidth": 2,
            "linecolor": "white",
            "showbackground": true,
            "ticks": "",
            "zerolinecolor": "white"
           }
          },
          "shapedefaults": {
           "line": {
            "color": "#2a3f5f"
           }
          },
          "ternary": {
           "aaxis": {
            "gridcolor": "white",
            "linecolor": "white",
            "ticks": ""
           },
           "baxis": {
            "gridcolor": "white",
            "linecolor": "white",
            "ticks": ""
           },
           "bgcolor": "#E5ECF6",
           "caxis": {
            "gridcolor": "white",
            "linecolor": "white",
            "ticks": ""
           }
          },
          "title": {
           "x": 0.05
          },
          "xaxis": {
           "automargin": true,
           "gridcolor": "white",
           "linecolor": "white",
           "ticks": "",
           "title": {
            "standoff": 15
           },
           "zerolinecolor": "white",
           "zerolinewidth": 2
          },
          "yaxis": {
           "automargin": true,
           "gridcolor": "white",
           "linecolor": "white",
           "ticks": "",
           "title": {
            "standoff": 15
           },
           "zerolinecolor": "white",
           "zerolinewidth": 2
          }
         }
        },
        "xaxis": {
         "anchor": "y",
         "domain": [
          0,
          1
         ],
         "title": {
          "text": "지점"
         }
        },
        "yaxis": {
         "anchor": "x",
         "domain": [
          0,
          1
         ],
         "title": {
          "text": "수량(int)"
         }
        }
       }
      }
     },
     "metadata": {},
     "output_type": "display_data"
    }
   ],
   "source": [
    "fig = px.bar(df6, x=\"지점\", y=\"수량(int)\", color=\"제품타입\")\n",
    "fig.show()"
   ]
  },
  {
   "cell_type": "code",
   "execution_count": null,
   "metadata": {},
   "outputs": [],
   "source": []
  },
  {
   "cell_type": "code",
   "execution_count": null,
   "metadata": {},
   "outputs": [],
   "source": []
  }
 ],
 "metadata": {
  "kernelspec": {
   "display_name": "Python 3",
   "language": "python",
   "name": "python3"
  },
  "language_info": {
   "codemirror_mode": {
    "name": "ipython",
    "version": 3
   },
   "file_extension": ".py",
   "mimetype": "text/x-python",
   "name": "python",
   "nbconvert_exporter": "python",
   "pygments_lexer": "ipython3",
   "version": "3.10.0 (tags/v3.10.0:b494f59, Oct  4 2021, 19:00:18) [MSC v.1929 64 bit (AMD64)]"
  },
  "orig_nbformat": 4,
  "vscode": {
   "interpreter": {
    "hash": "369f2c481f4da34e4445cda3fffd2e751bd1c4d706f27375911949ba6bb62e1c"
   }
  }
 },
 "nbformat": 4,
 "nbformat_minor": 2
}
