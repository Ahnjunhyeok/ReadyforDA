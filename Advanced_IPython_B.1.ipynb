{
 "cells": [
  {
   "attachments": {},
   "cell_type": "markdown",
   "metadata": {},
   "source": [
    "# IPython 시스템 더 알아보기"
   ]
  },
  {
   "cell_type": "code",
   "execution_count": 1,
   "metadata": {},
   "outputs": [],
   "source": [
    "# 2장에서는 IPython 셸과 주피터 노트북의 기본 사용법을 살펴보겠다.\n",
    "# 이 장에서는 주피터나 콘솔에서 사용할 수 있는 IPython 시스템의 상세 기능을 좀 더 살펴보도록 하겠다."
   ]
  },
  {
   "attachments": {},
   "cell_type": "markdown",
   "metadata": {},
   "source": [
    "-B.1 명령어 히스토리 사용하기"
   ]
  },
  {
   "cell_type": "code",
   "execution_count": 2,
   "metadata": {},
   "outputs": [],
   "source": [
    "# IPython은 이전에 실행했던 명령어를 디스크에 작은 데이터베이스 형식으로 보관하며, 다음 목적으로 사용한다\n",
    "    # 검색, 자동완성, 최소한의 입력으로 이전에 실행했던 명령 재실행\n",
    "    # 세션 간의 명령어 히스토리 유지\n",
    "    # 입출력 히스토리를 파일에 기록\n",
    "\n",
    "# 이 기능은 노트북보다 셸에서 더 유용한데, 노트북은 각각의 코드 셸에서 입력과 출력을 기록하도록 설계되었기 때문이다."
   ]
  },
  {
   "attachments": {},
   "cell_type": "markdown",
   "metadata": {},
   "source": [
    "    -B.1.1 명령어 검색과 재사용"
   ]
  },
  {
   "cell_type": "code",
   "execution_count": 3,
   "metadata": {},
   "outputs": [],
   "source": [
    "# IPython 셸에서는 이전에 실행했던 코드나 명령을 검색하고 실행할 수 있다.\n",
    "# 이 기능은 예를 들어 %run 명령어나 코드를 반복 사용하는 경우가 잦을 경우 무척 유용하다. \n",
    "# 다음과 같이 실행했다고 하자."
   ]
  },
  {
   "cell_type": "code",
   "execution_count": 5,
   "metadata": {},
   "outputs": [],
   "source": [
    "# %run first/second/third/data_script.py"
   ]
  },
  {
   "cell_type": "code",
   "execution_count": 6,
   "metadata": {},
   "outputs": [],
   "source": [
    "# 그리고 스크립트의 실행 결과를 보니 틀린 계산이 있었다고 하자.\n",
    "# 문제의 원인을 밝혀낸 다음 data_script.py를 수정하고 %run 명령어의 첫 일부를 입력한 다음 Ctrl-P를 누르거나 위 화살표 키를 누르면 방금 입력한 명령어와 맞아떨어지는\n",
    "# 가장 최근에 입력한 명령어 히스토리를 검색한다.\n",
    "# Ctrl-P나 위 화살표 키를 여러 번 누르면 계속해서 더 이전의 히스토리를 검색한다.\n",
    "# 만일 실행하려는 명령어를 지나쳤다면 Ctrl-N이나 아래 화살표 키를 눌러 다시 돌아올 수 있다.\n",
    "# 이 기능을 몇 번 사용해보면 어느 순간 의도하지 않고도 이 기능을 사용하게 될 것이다."
   ]
  },
  {
   "cell_type": "code",
   "execution_count": 7,
   "metadata": {},
   "outputs": [],
   "source": [
    "# Ctrl-R을 사용하면 bash 같은 유닉스 셸의 readline 명령어처럼 부분 순차 검색을 할 수 있다.\n",
    "# 윈도우에서는 IPython이 readline 기능을 흉내 내도록 한다.\n",
    "# Ctrl-R을 누르고 입력 줄에 검색하려는 몇 글자를 입력하면 이 기능을 사용할 수 있다."
   ]
  },
  {
   "cell_type": "code",
   "execution_count": 9,
   "metadata": {},
   "outputs": [],
   "source": [
    "# Ctrl-R을 누르면 방금 입력한 글자와 맞아떨어지는 줄을 계속해서 반복적으로 찾아준다."
   ]
  },
  {
   "attachments": {},
   "cell_type": "markdown",
   "metadata": {},
   "source": [
    "    -B.1.2 입출력 변수"
   ]
  },
  {
   "cell_type": "code",
   "execution_count": 12,
   "metadata": {},
   "outputs": [],
   "source": [
    "# 함수의 실행 결과를 변수에 저장하는 것을 잊으면 매우 귀찮아진다.\n",
    "# 다행히 IPython은 입력한 명령과 출력된 결과물인 반환된 객체를 특수한 변수에 저장한다.\n",
    "# 마지막 2개의 결과를 각각 _ 변수와 __ 변수에 저장한다."
   ]
  },
  {
   "cell_type": "code",
   "execution_count": 13,
   "metadata": {},
   "outputs": [
    {
     "data": {
      "text/plain": [
       "134217728"
      ]
     },
     "execution_count": 13,
     "metadata": {},
     "output_type": "execute_result"
    }
   ],
   "source": [
    "2 ** 27"
   ]
  },
  {
   "cell_type": "code",
   "execution_count": 14,
   "metadata": {},
   "outputs": [
    {
     "data": {
      "text/plain": [
       "134217728"
      ]
     },
     "execution_count": 14,
     "metadata": {},
     "output_type": "execute_result"
    }
   ],
   "source": [
    "_"
   ]
  },
  {
   "cell_type": "code",
   "execution_count": 15,
   "metadata": {},
   "outputs": [],
   "source": [
    "# 입력 변수는 _ix 변수(x는 입력 줄 번호)에 저장된다. 이와 유사하게 출력 변수는 _X 변수에 저장된다.\n",
    "# 그래서 27번 줄을 입력한 후에는 출력 결과를 저장하는 출력 변수 _27과 입력변수 _i27이 생겨난다."
   ]
  },
  {
   "cell_type": "code",
   "execution_count": 16,
   "metadata": {},
   "outputs": [],
   "source": [
    "foo = \"bar\""
   ]
  },
  {
   "cell_type": "code",
   "execution_count": 17,
   "metadata": {},
   "outputs": [
    {
     "data": {
      "text/plain": [
       "'bar'"
      ]
     },
     "execution_count": 17,
     "metadata": {},
     "output_type": "execute_result"
    }
   ],
   "source": [
    "foo"
   ]
  },
  {
   "cell_type": "code",
   "execution_count": 25,
   "metadata": {},
   "outputs": [
    {
     "data": {
      "text/plain": [
       "'foo'"
      ]
     },
     "execution_count": 25,
     "metadata": {},
     "output_type": "execute_result"
    }
   ],
   "source": [
    "_i17"
   ]
  },
  {
   "cell_type": "code",
   "execution_count": 26,
   "metadata": {},
   "outputs": [
    {
     "data": {
      "text/plain": [
       "'bar'"
      ]
     },
     "execution_count": 26,
     "metadata": {},
     "output_type": "execute_result"
    }
   ],
   "source": [
    "_17"
   ]
  },
  {
   "cell_type": "code",
   "execution_count": 23,
   "metadata": {},
   "outputs": [],
   "source": [
    "# 입력변수는 문자열이기 때문에 다음처럼 파이썬의 exec 예약어를 사용해서 실행한다."
   ]
  },
  {
   "cell_type": "code",
   "execution_count": 27,
   "metadata": {},
   "outputs": [],
   "source": [
    "exec(_i17)"
   ]
  },
  {
   "cell_type": "code",
   "execution_count": null,
   "metadata": {},
   "outputs": [],
   "source": [
    "# 여기서 _i17은 In[17]에 입력한 코드를 나타낸다.\n",
    "# 몇 가지 매직함수를 사용하면 입출력 히스토리를 사용한 작업을 할 수 있다.\n",
    "# %hist는 전체 혹은 일부 입력 히스토리를 줄 번호와 함께 혹은 줄 번호 없이 출력한다.\n",
    "# %reset은 인터렉티브 네임 스페이스와 추가적으로 입출력 캐시를 비운다.\n",
    "# %xdel은 IPython 내에서 특정 객체에 대한 참조를 삭제하여 그 객체가 사용한 메모리를 해제하는 함수다.\n",
    "# 이 매직함수에 대한 내용은 문서를 참조하자.(파이썬 공식문서)"
   ]
  }
 ],
 "metadata": {
  "kernelspec": {
   "display_name": "Python 3",
   "language": "python",
   "name": "python3"
  },
  "language_info": {
   "codemirror_mode": {
    "name": "ipython",
    "version": 3
   },
   "file_extension": ".py",
   "mimetype": "text/x-python",
   "name": "python",
   "nbconvert_exporter": "python",
   "pygments_lexer": "ipython3",
   "version": "3.10.0"
  },
  "orig_nbformat": 4,
  "vscode": {
   "interpreter": {
    "hash": "369f2c481f4da34e4445cda3fffd2e751bd1c4d706f27375911949ba6bb62e1c"
   }
  }
 },
 "nbformat": 4,
 "nbformat_minor": 2
}
