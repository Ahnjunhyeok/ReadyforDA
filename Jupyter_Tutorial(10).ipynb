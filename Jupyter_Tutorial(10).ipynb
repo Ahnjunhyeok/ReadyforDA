{
  "nbformat": 4,
  "nbformat_minor": 0,
  "metadata": {
    "colab": {
      "name": "Jupyter Tutorial(10).ipynb",
      "provenance": [],
      "collapsed_sections": []
    },
    "kernelspec": {
      "name": "python3",
      "display_name": "Python 3"
    },
    "language_info": {
      "name": "python"
    }
  },
  "cells": [
    {
      "cell_type": "code",
      "execution_count": null,
      "metadata": {
        "id": "WezKbEiFQYCN"
      },
      "outputs": [],
      "source": [
        "# 2.2.6 클립보드에 있는 코드 실행하기"
      ]
    },
    {
      "cell_type": "code",
      "source": [
        "# 주피터 노트북을 사용하고 있다면 아무 코드 셀에나 코드를 붙여넣기 해서 실행할 수 있다. IPython 셸에서도 클립보드의 내용을 실행하는 것이 가능하다. \n",
        "# 다른 애플리케이션에서 사용 중인 다음 코드가 있다고 하자. "
      ],
      "metadata": {
        "id": "_ds1GkpK-WSw"
      },
      "execution_count": null,
      "outputs": []
    },
    {
      "cell_type": "code",
      "source": [
        "x = 5\n",
        "y = 7\n",
        "if x > 5:\n",
        "  x += 1\n",
        "\n",
        "  y = 8"
      ],
      "metadata": {
        "id": "312I-jqLQiP3"
      },
      "execution_count": null,
      "outputs": []
    },
    {
      "cell_type": "code",
      "source": [
        "# 이 경우 %paste나 %cpaste 매직함수를 사용할 수 있다. %paste는 클립보드에 있는 텍스트를 단일 블록으로 실행한다. "
      ],
      "metadata": {
        "id": "yxDWglrE-1ue"
      },
      "execution_count": null,
      "outputs": []
    },
    {
      "cell_type": "code",
      "source": [
        "%paste\n",
        "x = 5\n",
        "y = 7\n",
        "if x > 5:\n",
        "  x += 1\n",
        "\n",
        "  y = 8\n",
        "\n",
        "## -- End pasted text -- "
      ],
      "metadata": {
        "colab": {
          "base_uri": "https://localhost:8080/"
        },
        "id": "_enSpzqP_FX0",
        "outputId": "2729bb20-da37-46ad-af24-0ac9c1ff3594"
      },
      "execution_count": null,
      "outputs": [
        {
          "output_type": "stream",
          "name": "stderr",
          "text": [
            "UsageError: Line magic function `%paste` not found.\n"
          ]
        }
      ]
    },
    {
      "cell_type": "code",
      "source": [
        "# %cpaste는 %paste와 유사하지만 코드를 붙여 넣을 때 특수한 프롬프트를 제공한다.  "
      ],
      "metadata": {
        "id": "wauLEfVqABNo"
      },
      "execution_count": null,
      "outputs": []
    },
    {
      "cell_type": "code",
      "source": [
        "%cpaste"
      ],
      "metadata": {
        "id": "hOhse2mYA7ro"
      },
      "execution_count": null,
      "outputs": []
    },
    {
      "cell_type": "code",
      "source": [
        "# 2.2.7 키보드 단축기\n",
        "# IPython은 이맥스 편집기나 유닉스 bash shell 사용자에게 친숙한 프롬프트 이동 단축키를 제공하며 이전에 입력한 셸의 명령어 히스토리를 사용할 수 있다. \n",
        "# 주피터 노트북은 편집과 이동에 관련된 단축키를 분리하여 제공한다. 단축키가 IPython보다 더 빠르게 진화하고 있으므로 주피터 노트북 메뉴에서 통합된 도움말을 살펴보기 권장한다."
      ],
      "metadata": {
        "id": "L1xhuYhCvBF2"
      },
      "execution_count": null,
      "outputs": []
    },
    {
      "cell_type": "code",
      "source": [
        "# 2.2.8 매직 명령어"
      ],
      "metadata": {
        "id": "yTYuC7fUxQwF"
      },
      "execution_count": null,
      "outputs": []
    },
    {
      "cell_type": "code",
      "source": [
        "# IPython은 파이썬 자체에는 존재하지 않는 \"매직\" 명령어라고 하는 여러 가지 특수한 명령어를 포함하고 있다. \n",
        "# 이 매직 명령어는 일반적인 작업이나 IPython 시스템의 동작을 쉽게 제어할 수 있도록 설계된 특수한 명령어다. 매직 명령어는 앞에 % 기호를 붙이는 형식이다. \n",
        "# 예를 들어 IPython에서 행령 곱셈 같은 코드가 실행된 시간을 측정하고 싶을 떄는 %timeit 매직함수를 이용해서 값을 얻어올 수 있다. "
      ],
      "metadata": {
        "id": "WQR1ofnAz_u0"
      },
      "execution_count": null,
      "outputs": []
    },
    {
      "cell_type": "code",
      "source": [
        "import numpy as np\n",
        "\n",
        "a = np.random.randn(100, 100)\n",
        "%timeit np.dot(a, a)"
      ],
      "metadata": {
        "colab": {
          "base_uri": "https://localhost:8080/"
        },
        "id": "EcpPSc5f3Hhw",
        "outputId": "27e0e527-69da-4d41-977d-9e65e6719002"
      },
      "execution_count": null,
      "outputs": [
        {
          "output_type": "stream",
          "name": "stdout",
          "text": [
            "The slowest run took 114.67 times longer than the fastest. This could mean that an intermediate result is being cached.\n",
            "10000 loops, best of 5: 106 µs per loop\n"
          ]
        }
      ]
    },
    {
      "cell_type": "code",
      "source": [
        "# 매직 명령어는 IPython 시스템 안에서 실행되는 명령행 프로그램으로 볼 수 있는데, 많은 매직 명령어는 추가적인 옵션을 필요로 하며 ?를 이용해서 전체 옵션을 살펴볼 수 있다. "
      ],
      "metadata": {
        "id": "4RuC9Ok43MdT"
      },
      "execution_count": null,
      "outputs": []
    },
    {
      "cell_type": "code",
      "source": [
        "%debug?"
      ],
      "metadata": {
        "id": "9tZ866zP31OF"
      },
      "execution_count": null,
      "outputs": []
    },
    {
      "cell_type": "code",
      "source": [
        "# 매직함수와 같은 이름의 변수가 선언되어 있지 않다면 기본적으로 % 기호 없이도 매직함수를 사용할 수 있다. 이를 오토매직이라고 하는데, %automagic을 이용해서 이 기능을 켜거나 끌 수 있다.\n",
        "# 일부 매직함수는 파이썬 함수처럼 동작하며 결과를 변수에 대입할 수도 있다."
      ],
      "metadata": {
        "id": "PUdyMU0E36Yd"
      },
      "execution_count": null,
      "outputs": []
    },
    {
      "cell_type": "code",
      "source": [
        "%pwd"
      ],
      "metadata": {
        "colab": {
          "base_uri": "https://localhost:8080/",
          "height": 35
        },
        "id": "rkfjzR8O4Um_",
        "outputId": "808facc7-892b-41a5-caad-97a9ed1e7028"
      },
      "execution_count": null,
      "outputs": [
        {
          "output_type": "execute_result",
          "data": {
            "text/plain": [
              "'/content'"
            ],
            "application/vnd.google.colaboratory.intrinsic+json": {
              "type": "string"
            }
          },
          "metadata": {},
          "execution_count": 13
        }
      ]
    },
    {
      "cell_type": "code",
      "source": [
        "foo = %pwd"
      ],
      "metadata": {
        "id": "ctwIV8Ww4V2X"
      },
      "execution_count": null,
      "outputs": []
    },
    {
      "cell_type": "code",
      "source": [
        "foo"
      ],
      "metadata": {
        "colab": {
          "base_uri": "https://localhost:8080/",
          "height": 35
        },
        "id": "GPI3kJVM4aUk",
        "outputId": "118861a6-881a-45c6-fdd3-7c8a5b29aeeb"
      },
      "execution_count": null,
      "outputs": [
        {
          "output_type": "execute_result",
          "data": {
            "text/plain": [
              "'/content'"
            ],
            "application/vnd.google.colaboratory.intrinsic+json": {
              "type": "string"
            }
          },
          "metadata": {},
          "execution_count": 15
        }
      ]
    },
    {
      "cell_type": "code",
      "source": [
        "# IPython 도움말은 시스템에서 쉽게 접근할 수 있으니 %quickref나 %magic 명령을 이용해서 사용 가능한 모든 특수 명령어를 살펴보는 것도 좋다.\n",
        "# IPython에서 파이썬 개발을 하거나 대화형 컴퓨팅 환경을 생산적으로 활용할 수 있는 중요한 몇 가지 명령어를 요약해두었다. 페이지 58쪽"
      ],
      "metadata": {
        "id": "eWnUlVM84bs2"
      },
      "execution_count": null,
      "outputs": []
    },
    {
      "cell_type": "code",
      "source": [
        "# 2.2.9 matplotlib 통합\n",
        "# IPython이 분석 컴퓨팅 환경에서 널리 사용되고 있는 이유는 데이터 시각화를 위한 matplotlib이나 다른 사용자 인터페이스 라이브러리와 잘 통합되어 있기 때문이다. \n",
        "# %matplotlib 매직함수는 IPython 셸이나 주피터 노트북과 matplotlib 통합을 설정한다. \n",
        "# 이 기능을 실행하지 않으면 노트북의 경우 그래프가 화면에 나타나지 않거나 셸의 경우 세션의 제어권을 뺏기게 되므로 중요하다.\n",
        "# IPython 셸에서 %matplotlib을 실행하면 콘솔 세션을 방해받지 않고 여러 플롯 윈도우를 생성할 수 있게 된다."
      ],
      "metadata": {
        "id": "cJ0hdRWD489R"
      },
      "execution_count": null,
      "outputs": []
    },
    {
      "cell_type": "code",
      "source": [
        "%matplotlib "
      ],
      "metadata": {
        "colab": {
          "base_uri": "https://localhost:8080/"
        },
        "id": "BXsCRCdx83ri",
        "outputId": "e6d663c5-8e2f-47d1-d4e1-a23fa81b7f11"
      },
      "execution_count": null,
      "outputs": [
        {
          "output_type": "stream",
          "name": "stdout",
          "text": [
            "Using matplotlib backend: agg\n"
          ]
        }
      ]
    },
    {
      "cell_type": "code",
      "source": [
        "# 주피터에서는 약간 다르다.\n",
        "%matplotlib inline"
      ],
      "metadata": {
        "id": "t4P7FNEj-hrH"
      },
      "execution_count": null,
      "outputs": []
    },
    {
      "cell_type": "code",
      "source": [
        "import matplotlib.pyplot as plt\n",
        "plt.plot(np.random.randn(50).cumsum())"
      ],
      "metadata": {
        "colab": {
          "base_uri": "https://localhost:8080/",
          "height": 283
        },
        "id": "XyX_TYSh-tc7",
        "outputId": "baf074ff-c6b1-419a-9689-7dd7914ea61f"
      },
      "execution_count": null,
      "outputs": [
        {
          "output_type": "execute_result",
          "data": {
            "text/plain": [
              "[<matplotlib.lines.Line2D at 0x7f47897ef310>]"
            ]
          },
          "metadata": {},
          "execution_count": 20
        },
        {
          "output_type": "display_data",
          "data": {
            "text/plain": [
              "<Figure size 432x288 with 1 Axes>"
            ],
            "image/png": "[encoded data removed]"
          },
          "metadata": {
            "needs_background": "light"
          }
        }
      ]
    },
    {
      "cell_type": "code",
      "source": [
        "# 2.3 파이썬 기초 - 파이썬 프로그래밍의 기초 개념과 원리"
      ],
      "metadata": {
        "id": "SWuzqwfj_Rkx"
      },
      "execution_count": null,
      "outputs": []
    },
    {
      "cell_type": "code",
      "source": [
        "# 2.3.1 시맨틱\n",
        "# 파이썬은 가독성과 명료성 그리고 명백함을 강조한다. 어떤 사람은 파이썬을 '실행 가능한 의사코드'라고 표현하기도 한다."
      ],
      "metadata": {
        "id": "m2XAP2_r4Pr3"
      },
      "execution_count": null,
      "outputs": []
    },
    {
      "cell_type": "code",
      "source": [
        "# 들여쓰기\n",
        "\n",
        "# 파이썬은 R, C++, 자바, 펄 같은 다른 많은 언어와는 다르게 중괄호대신 공백문자(탭이나 스페이스)를 사용해서 코드를 구조화한다.\n",
        "\n",
        "# for x in array:\n",
        "#  if x < pivot:\n",
        "#    less.append(x)\n",
        "#  else:\n",
        "#    greater.append(x)\n",
        "\n",
        "# 콜론은 코드 블록의 시작을 의미하며 블록이 끝날 때까지 블록 안에 있는 코드는 모두 같은 크기만큼 들여 써야 한다. "
      ],
      "metadata": {
        "id": "Lpq09Q394cCv"
      },
      "execution_count": null,
      "outputs": []
    },
    {
      "cell_type": "code",
      "source": [
        "# 또한 파이썬 문장은 세미콜론으로 끝낼 필요가 없다. 하지만 하나의 줄에서 여러 문장을 구분하기 위해서는 세미콜론을 사용한다. \n",
        "# a = 5; b = 6; c = 7\n",
        "# 한 줄에 여러 문장을 쓰는 것은 가독성을 해친다는 이유로 파이썬에서는 지양하는 습관이다. "
      ],
      "metadata": {
        "id": "SSjMGXmY6lBu"
      },
      "execution_count": null,
      "outputs": []
    },
    {
      "cell_type": "code",
      "source": [
        "# 모든 것은 객체!\n",
        "\n",
        "# 파이썬 언어의 중요한 특징 중 하나는 객체 모델의 일관성이다. 모든 숫자, 문자열, 자료구조, 함수, 클래스, 모듈 등은 파이썬 인터프리터에서 파이썬 객체라고 하는 어떤 '상자' 안에 저장된다.\n",
        "# 각 객체는 연관된 자료형(ex. 문자열, 함수 등)과 내부 데이터를 가지고 있다. 실제로 이 특징은 심지어는 함수마저도 하나의 객체로 간주함으로써 파이썬을 매우 유연한 언어로 만든다. "
      ],
      "metadata": {
        "id": "SBz5qxj979Sx"
      },
      "execution_count": null,
      "outputs": []
    },
    {
      "cell_type": "code",
      "source": [
        "# 주석\n",
        "# # 뒤에 오는 문자는 모두 파이썬 인터프리터에서 무시된다. 이를 이용해서 코드에 주석을 달 수 있다. 또한 코드를 지우지 않고 실행만 되지 않도록 남겨두고 싶을 때도 활용한다. "
      ],
      "metadata": {
        "id": "W_nIPC7x8PYv"
      },
      "execution_count": null,
      "outputs": []
    },
    {
      "cell_type": "code",
      "source": [
        "file_handle = \"foo\", \"bar\"\n",
        "results = []\n",
        "for line in file_handle:\n",
        "  # 아래 코드는 실행되지 않는다.\n",
        "  # if len(line) == 0:\n",
        "  #   continue\n",
        "  results.append(line.replace(\"foo\", \"bar\"))\n",
        "\n",
        "# 주석을 실행되는 코드 뒤에 두는 것을 선호하는 개발자들도 있는데 종종 유용한 경우가 있다.\n",
        "print(\"Reached this line\") # 여기까지 확인\n",
        " "
      ],
      "metadata": {
        "colab": {
          "base_uri": "https://localhost:8080/"
        },
        "id": "LkiocQYCEqyn",
        "outputId": "4863cc2a-8062-469e-b7d8-6ff4a65abee5"
      },
      "execution_count": null,
      "outputs": [
        {
          "output_type": "stream",
          "name": "stdout",
          "text": [
            "Reached this line\n"
          ]
        }
      ]
    },
    {
      "cell_type": "code",
      "source": [
        "# 함수와 객체 메서드 호출\n",
        "\n",
        "# 함수는 괄호와 0개 이상의 인자를 전달해서 호출할 수 있다. 반환되는 값은 선택적으로 변수에 대입할 수 있다. \n",
        "# result = f(x, y, z)\n",
        "# g()\n",
        "# 파이썬의 거의 모든 객체는 함수를 포함하고 있는데 이를 메서드라고 하며 객체의 내부 데이터에 접근할 수 있다. 메서드는 다음 문법으로 호출할 수 있다. \n",
        "# obj.some_method(x, y, z)\n",
        "# 함수는 순서별 인자와 키워드 인자를 동시에 받을 수 있다."
      ],
      "metadata": {
        "id": "dW-XgfbcGLtv"
      },
      "execution_count": null,
      "outputs": []
    },
    {
      "cell_type": "code",
      "source": [
        "# 변수와 인자 전달\n",
        "\n",
        "# 파이썬에서 변수(혹은 이름)에 값을 대입하면 대입 연산자 오른쪽에 있는 객체에 대한 참조를 생성하게 된다. 정수가 담긴 리스트를 생각해보자."
      ],
      "metadata": {
        "id": "SFw4BN2CG5D4"
      },
      "execution_count": null,
      "outputs": []
    },
    {
      "cell_type": "code",
      "source": [
        "a = [1, 2, 3]"
      ],
      "metadata": {
        "id": "UA7OfXX2MuaW"
      },
      "execution_count": null,
      "outputs": []
    },
    {
      "cell_type": "code",
      "source": [
        "b = a"
      ],
      "metadata": {
        "id": "EUeBbpfgM7az"
      },
      "execution_count": null,
      "outputs": []
    },
    {
      "cell_type": "code",
      "source": [
        "a.append(4)"
      ],
      "metadata": {
        "id": "o76FVQiiM9Q0"
      },
      "execution_count": null,
      "outputs": []
    },
    {
      "cell_type": "code",
      "source": [
        "b"
      ],
      "metadata": {
        "colab": {
          "base_uri": "https://localhost:8080/"
        },
        "id": "ifJu_hjcM_O5",
        "outputId": "2520fd9a-f2b0-4cd7-e161-bf611ee25b67"
      },
      "execution_count": null,
      "outputs": [
        {
          "output_type": "execute_result",
          "data": {
            "text/plain": [
              "[1, 2, 3, 4]"
            ]
          },
          "metadata": {},
          "execution_count": 33
        }
      ]
    },
    {
      "cell_type": "code",
      "source": [
        "# a를 b라는 변수에 대입한다고 가정하자. 어떤 언어에서는 이렇게 대입하면 [1, 2, 3]이라는 데이터가 복사된다. 파이썬에서는 a, b가 실제로는 같은 객체인 리스트 [1, 2, 3]을 가리키고 있다. \n",
        "# 이를 확인하기 위해 a에 원소를 추가한 다음 b를 확인하면 [1, 2, 3, 4] 리스트가 출력되는 것을 알 수 있다."
      ],
      "metadata": {
        "id": "Mryn3x57NAds"
      },
      "execution_count": null,
      "outputs": []
    },
    {
      "cell_type": "code",
      "source": [
        "# 파이썬에서 참조에 대한 의미와 언제, 어떻게, 왜 데이터가 복사되지지 이해하는 것은 대규모 데이터셋을 다룰 때 특히 중요하다. \n",
        "# 변수에 값을 할당하는 것은 이름을 객체에 연결하는 것이므로 바인딩이라고 부른다. 값이 할당된 변수 이름을 때때로 바운드 변수라고 부르기도 한다. \n",
        "# 함수에 객체를 인자로 넘기면 새로운 지역 변수가 생성되고 원래 객체를 복사하지 않고 참조만 하게 된다. \n",
        "# 만일 함수 안에 있는 어떤 변수에 새로운 객체를 연결한다면 함수 바깥에는 영향을 끼치지 않는다. 그러므로 함수에서 인자의 내부 값을 변경하는 것이 가능하다. "
      ],
      "metadata": {
        "id": "2IUywZdJON1c"
      },
      "execution_count": null,
      "outputs": []
    },
    {
      "cell_type": "code",
      "source": [
        "def append_element(some_list, element):\n",
        "  some_list.append(element)"
      ],
      "metadata": {
        "id": "HDk3IQMsDAk4"
      },
      "execution_count": null,
      "outputs": []
    },
    {
      "cell_type": "code",
      "source": [
        "data = [1, 2, 3]"
      ],
      "metadata": {
        "id": "8o1sVmZEDKza"
      },
      "execution_count": null,
      "outputs": []
    },
    {
      "cell_type": "code",
      "source": [
        "append_element(data, 4)"
      ],
      "metadata": {
        "id": "sgIY96IvDNrE"
      },
      "execution_count": null,
      "outputs": []
    },
    {
      "cell_type": "code",
      "source": [
        "data"
      ],
      "metadata": {
        "colab": {
          "base_uri": "https://localhost:8080/"
        },
        "id": "lN8iyBzXDP_5",
        "outputId": "9e1dc7b9-0d5b-4cd7-b183-873da1f4e500"
      },
      "execution_count": null,
      "outputs": [
        {
          "output_type": "execute_result",
          "data": {
            "text/plain": [
              "[1, 2, 3, 4]"
            ]
          },
          "metadata": {},
          "execution_count": 39
        }
      ]
    },
    {
      "cell_type": "code",
      "source": [
        "# 함수의 실행결과는 위와 같다."
      ],
      "metadata": {
        "id": "kbjOFjsrDQ5x"
      },
      "execution_count": null,
      "outputs": []
    },
    {
      "cell_type": "code",
      "source": [
        "# 동적 참조와 강한 타입\n",
        "# 자바나 C++ 같은 컴파일 언어와는 달리 파이썬에서는 객체 참조에 타입이 관여하지 않는다. 아래 코드는 전혀 문제되지 않는다. "
      ],
      "metadata": {
        "id": "xigV6tk-DWz7"
      },
      "execution_count": null,
      "outputs": []
    },
    {
      "cell_type": "code",
      "source": [
        "a = 5"
      ],
      "metadata": {
        "id": "CrWNnr99KvbZ"
      },
      "execution_count": null,
      "outputs": []
    },
    {
      "cell_type": "code",
      "source": [
        "type(a)"
      ],
      "metadata": {
        "colab": {
          "base_uri": "https://localhost:8080/"
        },
        "id": "ZSoRghkYKwbA",
        "outputId": "5f595444-aec4-4437-e642-4214f1bfc149"
      },
      "execution_count": null,
      "outputs": [
        {
          "output_type": "execute_result",
          "data": {
            "text/plain": [
              "int"
            ]
          },
          "metadata": {},
          "execution_count": 43
        }
      ]
    },
    {
      "cell_type": "code",
      "source": [
        "a = \"foo\""
      ],
      "metadata": {
        "id": "I9Xnot-VKxpH"
      },
      "execution_count": null,
      "outputs": []
    },
    {
      "cell_type": "code",
      "source": [
        "type(a)"
      ],
      "metadata": {
        "colab": {
          "base_uri": "https://localhost:8080/"
        },
        "id": "mFhHASUnK1rk",
        "outputId": "7437f1d7-ca1d-4b3d-99fe-9d9f358a4667"
      },
      "execution_count": null,
      "outputs": [
        {
          "output_type": "execute_result",
          "data": {
            "text/plain": [
              "str"
            ]
          },
          "metadata": {},
          "execution_count": 45
        }
      ]
    },
    {
      "cell_type": "code",
      "source": [
        "# 변수는 특정한 네임스페이스 안에 존재하는 객체에 대한 이름이며 자료형에 대한 정보는 객체 자체에 있다."
      ],
      "metadata": {
        "id": "6OdoIbeiLN9V"
      },
      "execution_count": null,
      "outputs": []
    },
    {
      "cell_type": "code",
      "source": [
        "\"5\" + 5"
      ],
      "metadata": {
        "colab": {
          "base_uri": "https://localhost:8080/",
          "height": 173
        },
        "id": "TLspBjEtLVFM",
        "outputId": "e11e5c6d-dc36-48ff-b228-b30842b8a0c9"
      },
      "execution_count": null,
      "outputs": [
        {
          "output_type": "error",
          "ename": "TypeError",
          "evalue": "ignored",
          "traceback": [
            "\u001b[0;31m---------------------------------------------------------------------------\u001b[0m",
            "\u001b[0;31mTypeError\u001b[0m                                 Traceback (most recent call last)",
            "\u001b[0;32m<ipython-input-47-7fe5aa79f268>\u001b[0m in \u001b[0;36m<module>\u001b[0;34m()\u001b[0m\n\u001b[0;32m----> 1\u001b[0;31m \u001b[0;34m\"5\"\u001b[0m \u001b[0;34m+\u001b[0m \u001b[0;36m5\u001b[0m\u001b[0;34m\u001b[0m\u001b[0;34m\u001b[0m\u001b[0m\n\u001b[0m",
            "\u001b[0;31mTypeError\u001b[0m: can only concatenate str (not \"int\") to str"
          ]
        }
      ]
    },
    {
      "cell_type": "code",
      "source": [
        "# 비주얼베이직 같은 언어에서는 문자열 \"5\"가 묵시적으로 정수형으로 변환(캐스팅)되어서 10이라는 결과를 낸다. 자바스크립트 같은 언어에서는 정수 5가 문자열로 변환되어 \"55\" 라는 문자열을 반환한다.\n",
        "# 이런 측면에서 볼 때 파이썬에서 모든 객체는 특정한 자료형(또는 클래스)을 가지며 다음과 같은 어떤 명백한 상황에서만 묵시적인 변환을 수행하는 자료형을 구분하는 강한 타입의 언어라고 하는 것이 맞다."
      ],
      "metadata": {
        "id": "MAFHRR9WLree"
      },
      "execution_count": null,
      "outputs": []
    },
    {
      "cell_type": "code",
      "source": [
        "a = 4.5"
      ],
      "metadata": {
        "id": "H2dKxyFCL8AV"
      },
      "execution_count": null,
      "outputs": []
    },
    {
      "cell_type": "code",
      "source": [
        "b = 2"
      ],
      "metadata": {
        "id": "opM4DOSgMu68"
      },
      "execution_count": null,
      "outputs": []
    },
    {
      "cell_type": "code",
      "source": [
        "print(\"a is {0}, b is {1}\".format(type(a), type(b)))"
      ],
      "metadata": {
        "id": "crxC2ap4Mv1Q"
      },
      "execution_count": null,
      "outputs": []
    },
    {
      "cell_type": "code",
      "source": [
        "a / b"
      ],
      "metadata": {
        "id": "P8vh4G2hNTQ9"
      },
      "execution_count": null,
      "outputs": []
    },
    {
      "cell_type": "code",
      "source": [
        "# 객체의 자료형을 아는 것은 중요하며 다양한 종류의 입력을 처리할 수 있는 함수를 작성할 때 유용하다. isinstance 함수를 이용하면 어떤 객체가 무슨 자료형인지 검사할 수 있다. "
      ],
      "metadata": {
        "id": "9Cz7bknKNmed"
      },
      "execution_count": null,
      "outputs": []
    },
    {
      "cell_type": "code",
      "source": [
        "a = 5"
      ],
      "metadata": {
        "id": "ogM_l0sqNyCw"
      },
      "execution_count": null,
      "outputs": []
    },
    {
      "cell_type": "code",
      "source": [
        "isinstance(a, int)"
      ],
      "metadata": {
        "id": "4YBZCyHRNzTF"
      },
      "execution_count": null,
      "outputs": []
    },
    {
      "cell_type": "code",
      "source": [
        "# isinstance는 튜플을 넘겨서 객체의 자료형이 주어진 튜플 중 하나인지 검사할 수도 있다."
      ],
      "metadata": {
        "id": "N3YPOddzN1_v"
      },
      "execution_count": null,
      "outputs": []
    },
    {
      "cell_type": "code",
      "source": [
        "a = 5; b = 4.5"
      ],
      "metadata": {
        "id": "Imeh__WNN8bG"
      },
      "execution_count": null,
      "outputs": []
    },
    {
      "cell_type": "code",
      "source": [
        "isinstance(a, (int, float))"
      ],
      "metadata": {
        "id": "lBnN1RCHOCEK"
      },
      "execution_count": null,
      "outputs": []
    },
    {
      "cell_type": "code",
      "source": [
        "isinstance(b, (int, float))"
      ],
      "metadata": {
        "id": "CVlRELFkOFBB"
      },
      "execution_count": null,
      "outputs": []
    },
    {
      "cell_type": "code",
      "source": [
        "# 속성과 메서드"
      ],
      "metadata": {
        "id": "qtWzEd90OIuL"
      },
      "execution_count": null,
      "outputs": []
    },
    {
      "cell_type": "code",
      "source": [
        "# 파이썬에서 객체는 일반적으로 속성(객체 내부에 저장되는 다른 파이썬 객체)과 메서드(객체의 내부 데이터에 접근할 수 있는 함수)를 가진다. 속성과 메서드는 obj.attribute_name 문법으로 접근할 수 있다."
      ],
      "metadata": {
        "id": "jBiKh5l-Ombi"
      },
      "execution_count": null,
      "outputs": []
    },
    {
      "cell_type": "code",
      "source": [
        "a = \"foo\""
      ],
      "metadata": {
        "id": "ezvxbpnbO-9k"
      },
      "execution_count": null,
      "outputs": []
    },
    {
      "cell_type": "code",
      "source": [
        "# a.<Tab> : 탭 키를 누르면 자동완성이 됨- 주피터에서 가능"
      ],
      "metadata": {
        "id": "YdZwsc66PAx7"
      },
      "execution_count": null,
      "outputs": []
    },
    {
      "cell_type": "code",
      "source": [
        "getattr(a, \"split\")"
      ],
      "metadata": {
        "id": "oP-PeSQoPB3R"
      },
      "execution_count": null,
      "outputs": []
    },
    {
      "cell_type": "code",
      "source": [
        "# 다른 언어에서는 이름으로 객체에 접근하는 것을 \"리플렉션\"이라고 한다. 이 책에서는 getattr 함수와 이와 관련 있는 hasattr와 setattr 함수를 그다지 사용하진 않는다.\n",
        "# 이 함수들은 범용적이고 재사용이 가능한 코드를 작성할 때 아주 유용하다. "
      ],
      "metadata": {
        "id": "saShSvhvPwan"
      },
      "execution_count": null,
      "outputs": []
    },
    {
      "cell_type": "code",
      "source": [
        "# 덕 타이핑"
      ],
      "metadata": {
        "id": "0vjm20YJXZ_Z"
      },
      "execution_count": null,
      "outputs": []
    },
    {
      "cell_type": "code",
      "source": [
        "# 객체의 자료형에는 관심이 없고 그 객체가 어떤 메서드나 행동을 지원하는지만 알고 싶은 경우가 있다. 이를 \"덕 타이핑\"이라고 부른다.\n",
        "# \"만일 오리처럼 걷고 오리처럼 꽥꽥 운다면 그것은 오리다\" 라는 의미로 지어진 이름이다. \n",
        "# 예를 들어 어떤 객체가 이터레이터를 구현했다면 순회가 가능한 객체인지 검증할 수 있다. 이는 대부분의 객체의 경우 __iter__라는 \"매직 메서드\"를 가지고 있는지 확인하면 된다. \n",
        "# 좀 더 나은 방법은 iter 함수를 이용해서 검사하는 것이다. "
      ],
      "metadata": {
        "id": "0d3BKW6kX1U4"
      },
      "execution_count": null,
      "outputs": []
    },
    {
      "cell_type": "code",
      "source": [
        "def isiterable(obj):\n",
        "  try:\n",
        "    iter(obj)\n",
        "    return True\n",
        "  except TypeError: # iterable 객체 아님\n",
        "    return False"
      ],
      "metadata": {
        "id": "ZOXN6ffbbVpx"
      },
      "execution_count": null,
      "outputs": []
    },
    {
      "cell_type": "code",
      "source": [
        "isiterable(\"a string\")"
      ],
      "metadata": {
        "colab": {
          "base_uri": "https://localhost:8080/"
        },
        "id": "31dt5sxjgA5d",
        "outputId": "58fbf8bc-6663-454e-f917-fa9df2e7025f"
      },
      "execution_count": null,
      "outputs": [
        {
          "output_type": "execute_result",
          "data": {
            "text/plain": [
              "True"
            ]
          },
          "metadata": {},
          "execution_count": 49
        }
      ]
    },
    {
      "cell_type": "code",
      "source": [
        "isiterable([1, 2, 3])"
      ],
      "metadata": {
        "colab": {
          "base_uri": "https://localhost:8080/"
        },
        "id": "rdFMH0r5gVtC",
        "outputId": "03891919-b228-4a89-f36b-f3533dadc06e"
      },
      "execution_count": null,
      "outputs": [
        {
          "output_type": "execute_result",
          "data": {
            "text/plain": [
              "True"
            ]
          },
          "metadata": {},
          "execution_count": 50
        }
      ]
    },
    {
      "cell_type": "code",
      "source": [
        "isiterable(5)"
      ],
      "metadata": {
        "colab": {
          "base_uri": "https://localhost:8080/"
        },
        "id": "ske9ieU0gZSo",
        "outputId": "7792f822-1fa2-476b-8bc6-9894bc389091"
      },
      "execution_count": null,
      "outputs": [
        {
          "output_type": "execute_result",
          "data": {
            "text/plain": [
              "False"
            ]
          },
          "metadata": {},
          "execution_count": 51
        }
      ]
    },
    {
      "cell_type": "code",
      "source": [
        "# 보통은 리스트나 튜플, ndarray처럼 순차적인 자료구조를 다루는 함수를 작성할 때 주로 사용하며 이터레이터를 처리할 때도 사용한다. \n",
        "# 먼저 객체가 리스트(또는 NumPy 배열)인지 검사해서 그렇지 않을 경우 인자를 변환해줄 수 있다."
      ],
      "metadata": {
        "id": "4_ogcl8mgbBI"
      },
      "execution_count": null,
      "outputs": []
    },
    {
      "cell_type": "code",
      "source": [
        "x = [1, 2, 3]\n",
        "\n",
        "if not isinstance(x, list) and isiterable(x):\n",
        "  x = list(x)"
      ],
      "metadata": {
        "id": "-scUHav-iM_7"
      },
      "execution_count": null,
      "outputs": []
    },
    {
      "cell_type": "code",
      "source": [
        "# 모듈 임포트"
      ],
      "metadata": {
        "id": "oy7V2TYiiWMV"
      },
      "execution_count": null,
      "outputs": []
    },
    {
      "cell_type": "code",
      "source": [
        "# 파이썬에서 모듈은 간단히 파이썬 코드가 담긴 .py 파일이다. 다음과 같은 모듈이 있다고 하자. "
      ],
      "metadata": {
        "id": "bb0mCV1PtBr4"
      },
      "execution_count": null,
      "outputs": []
    },
    {
      "cell_type": "code",
      "source": [
        "# some_module.py\n",
        "PI = 3.14159\n",
        "\n",
        "def f(x):\n",
        "  return x + 2\n",
        "\n",
        "def g(a, b):\n",
        "  return a + b"
      ],
      "metadata": {
        "id": "zeIBxIentJPV"
      },
      "execution_count": null,
      "outputs": []
    },
    {
      "cell_type": "code",
      "source": [
        "# some_module.py에 정의된 변수와 함수에 접근하려면 같은 디렉터리에 있는 파일에서 다음과 같이 작성한다."
      ],
      "metadata": {
        "id": "gs8Pl29AtMwD"
      },
      "execution_count": null,
      "outputs": []
    },
    {
      "cell_type": "code",
      "source": [
        "# 코랩에서 작업하기 때문에 코드 각주처리하겠다.\n",
        "# import some_module\n",
        "# result = some_module.f(5)\n",
        "# pi = some_module.PI"
      ],
      "metadata": {
        "id": "AFTIHtLKtkR1"
      },
      "execution_count": null,
      "outputs": []
    },
    {
      "cell_type": "code",
      "source": [
        "# 또는 다음과 같이 작성한다."
      ],
      "metadata": {
        "id": "xn5QwTf_u8XY"
      },
      "execution_count": null,
      "outputs": []
    },
    {
      "cell_type": "code",
      "source": [
        "# from some_module import f, g, PI\n",
        "# result = g(5, PI)"
      ],
      "metadata": {
        "id": "1VavV7egu-8g"
      },
      "execution_count": null,
      "outputs": []
    },
    {
      "cell_type": "code",
      "source": [
        "# as 예약어를 사용하면 모듈을 다른 이름으로 임포트할 수 있다."
      ],
      "metadata": {
        "id": "eWOo7B59wI6I"
      },
      "execution_count": null,
      "outputs": []
    },
    {
      "cell_type": "code",
      "source": [
        "# import some_module as sm\n",
        "# from some_module import PI as pi, g as gf\n",
        "# r1 = sm.f(pi)\n",
        "# r2 = gf(6, pi)"
      ],
      "metadata": {
        "id": "sffn0akaw5KM"
      },
      "execution_count": null,
      "outputs": []
    },
    {
      "cell_type": "code",
      "source": [
        "# 이항 연산자와 비교문"
      ],
      "metadata": {
        "id": "9ODX_XLLw71m"
      },
      "execution_count": null,
      "outputs": []
    },
    {
      "cell_type": "code",
      "source": [
        "# 이항 산술 연산자와 비교 연산자는 우리가 일반적으로 생각하는 것과 별로 다르지 않다."
      ],
      "metadata": {
        "id": "4VEkaiXV06-8"
      },
      "execution_count": null,
      "outputs": []
    },
    {
      "cell_type": "code",
      "source": [
        "5 - 7"
      ],
      "metadata": {
        "colab": {
          "base_uri": "https://localhost:8080/"
        },
        "id": "qb6jyLDl1XFc",
        "outputId": "6bb280f5-db33-44a1-ecfd-fb087aa82cd2"
      },
      "execution_count": null,
      "outputs": [
        {
          "output_type": "execute_result",
          "data": {
            "text/plain": [
              "-2"
            ]
          },
          "metadata": {},
          "execution_count": 65
        }
      ]
    },
    {
      "cell_type": "code",
      "source": [
        "12 + 21.5"
      ],
      "metadata": {
        "colab": {
          "base_uri": "https://localhost:8080/"
        },
        "id": "lQc-Z50R1YNg",
        "outputId": "9a6a0d07-14d3-4797-847e-f8d6dd28fc46"
      },
      "execution_count": null,
      "outputs": [
        {
          "output_type": "execute_result",
          "data": {
            "text/plain": [
              "33.5"
            ]
          },
          "metadata": {},
          "execution_count": 66
        }
      ]
    },
    {
      "cell_type": "code",
      "source": [
        "5 <= 2"
      ],
      "metadata": {
        "colab": {
          "base_uri": "https://localhost:8080/"
        },
        "id": "Z3fRpNAn1ZOD",
        "outputId": "69ddbd79-24bd-4c39-9cd0-1f52d926f9dd"
      },
      "execution_count": null,
      "outputs": [
        {
          "output_type": "execute_result",
          "data": {
            "text/plain": [
              "False"
            ]
          },
          "metadata": {},
          "execution_count": 67
        }
      ]
    },
    {
      "cell_type": "code",
      "source": [
        "# 파이썬에서 사용 가능한 이항 연산자는 p.69 [표 2-3]을 참조하자.\n",
        "# 두 참조 변수가 같은 객체를 가리키고 있는지 검사하려면 is 예약어를 사용한다. \n",
        "# is not 을 사용하면 두 객체가 같지 않은지 검사할 수 있다."
      ],
      "metadata": {
        "id": "LjiZSIzV1asG"
      },
      "execution_count": null,
      "outputs": []
    },
    {
      "cell_type": "code",
      "source": [
        "a = [1, 2, 3]"
      ],
      "metadata": {
        "id": "_UsuM7-65u3Y"
      },
      "execution_count": null,
      "outputs": []
    },
    {
      "cell_type": "code",
      "source": [
        "b = a"
      ],
      "metadata": {
        "id": "c2VQiWxh5wx3"
      },
      "execution_count": null,
      "outputs": []
    },
    {
      "cell_type": "code",
      "source": [
        "c = list(a)"
      ],
      "metadata": {
        "id": "1ImeDovg5xNM"
      },
      "execution_count": null,
      "outputs": []
    },
    {
      "cell_type": "code",
      "source": [
        "a is b"
      ],
      "metadata": {
        "colab": {
          "base_uri": "https://localhost:8080/"
        },
        "id": "sc5_mBBv5y42",
        "outputId": "c04198d6-3915-4ba4-e90e-bccc754309d7"
      },
      "execution_count": null,
      "outputs": [
        {
          "output_type": "execute_result",
          "data": {
            "text/plain": [
              "True"
            ]
          },
          "metadata": {},
          "execution_count": 72
        }
      ]
    },
    {
      "cell_type": "code",
      "source": [
        "a is not c"
      ],
      "metadata": {
        "colab": {
          "base_uri": "https://localhost:8080/"
        },
        "id": "tq9ECiPA50Wb",
        "outputId": "7160b4a4-11f2-44b5-fac8-da02a690a4cf"
      },
      "execution_count": null,
      "outputs": [
        {
          "output_type": "execute_result",
          "data": {
            "text/plain": [
              "True"
            ]
          },
          "metadata": {},
          "execution_count": 73
        }
      ]
    },
    {
      "cell_type": "code",
      "source": [
        "# list는 항상 새로운 파이썬 리스트를 생성하므로 c는 a와 구별된다는 점을 명심하자.\n",
        "# is로 비교하는 것과 == 연산자로 비교하는 것은 같지 않다. 이 경우 == 연산자의 결과는 다음과 같다. "
      ],
      "metadata": {
        "id": "NKqKm7Zr51mQ"
      },
      "execution_count": null,
      "outputs": []
    },
    {
      "cell_type": "code",
      "source": [
        "a == c"
      ],
      "metadata": {
        "colab": {
          "base_uri": "https://localhost:8080/"
        },
        "id": "qPSX1Qw757eq",
        "outputId": "ae3ada8f-7421-410a-eee0-7e4bb55d4fc2"
      },
      "execution_count": null,
      "outputs": [
        {
          "output_type": "execute_result",
          "data": {
            "text/plain": [
              "True"
            ]
          },
          "metadata": {},
          "execution_count": 75
        }
      ]
    },
    {
      "cell_type": "code",
      "source": [
        "# is와 is not은 변수가 None인지 검사하기 위해 흔히 사용하는데, None 인스턴스는 하나만 존재하기 때문이다."
      ],
      "metadata": {
        "id": "tTwLUs566Lzx"
      },
      "execution_count": null,
      "outputs": []
    },
    {
      "cell_type": "code",
      "source": [
        "a = None"
      ],
      "metadata": {
        "id": "lVfXS3YN6ofe"
      },
      "execution_count": null,
      "outputs": []
    },
    {
      "cell_type": "code",
      "source": [
        "a is None"
      ],
      "metadata": {
        "colab": {
          "base_uri": "https://localhost:8080/"
        },
        "id": "dV-UexZK6tBH",
        "outputId": "4f1f763d-e7d4-4d6f-ac9c-b976c3665c7d"
      },
      "execution_count": null,
      "outputs": [
        {
          "output_type": "execute_result",
          "data": {
            "text/plain": [
              "True"
            ]
          },
          "metadata": {},
          "execution_count": 78
        }
      ]
    },
    {
      "cell_type": "code",
      "source": [
        "# 뮤터블, 이뮤터블 객체"
      ],
      "metadata": {
        "id": "DPocS0O56ujn"
      },
      "execution_count": null,
      "outputs": []
    },
    {
      "cell_type": "code",
      "source": [
        "# 파이썬에서 리스트, 사전, NumPy 배열 또는 사용자 정의 클래스 같은 대부분의 객체는 변경 가능하다(뮤터블). 이 말은 객체나 값의 내용을 바꿀 수 있다는 뜻이다. "
      ],
      "metadata": {
        "id": "r8dXhTs89CLl"
      },
      "execution_count": null,
      "outputs": []
    },
    {
      "cell_type": "code",
      "source": [
        "a_list = [\"foo\", 2, [4, 5]]"
      ],
      "metadata": {
        "id": "QWU-idBr9bJ8"
      },
      "execution_count": null,
      "outputs": []
    },
    {
      "cell_type": "code",
      "source": [
        "a_list[2] = (3, 4)"
      ],
      "metadata": {
        "id": "XhYUasPW_I-I"
      },
      "execution_count": null,
      "outputs": []
    },
    {
      "cell_type": "code",
      "source": [
        "a_list"
      ],
      "metadata": {
        "colab": {
          "base_uri": "https://localhost:8080/"
        },
        "id": "iSXRlbOg_MNt",
        "outputId": "ba08662a-f46e-440e-a798-813a5ec1de4e"
      },
      "execution_count": null,
      "outputs": [
        {
          "output_type": "execute_result",
          "data": {
            "text/plain": [
              "['foo', 2, (3, 4)]"
            ]
          },
          "metadata": {},
          "execution_count": 83
        }
      ]
    },
    {
      "cell_type": "code",
      "source": [
        "# 문자열이나 튜플은 변경 불가능하다(이뮤터블)."
      ],
      "metadata": {
        "id": "wmFI4fCD_NQR"
      },
      "execution_count": null,
      "outputs": []
    },
    {
      "cell_type": "code",
      "source": [
        "a_tuple = (3, 5, (4, 5))"
      ],
      "metadata": {
        "id": "6fveG9aH_Ziv"
      },
      "execution_count": null,
      "outputs": []
    },
    {
      "cell_type": "code",
      "source": [
        "a_tuple[1] = \"four\""
      ],
      "metadata": {
        "colab": {
          "base_uri": "https://localhost:8080/",
          "height": 173
        },
        "id": "_IMnBdPXBdvo",
        "outputId": "e7f8cd59-1d54-4ad1-99db-fa02014fcfa7"
      },
      "execution_count": null,
      "outputs": [
        {
          "output_type": "error",
          "ename": "TypeError",
          "evalue": "ignored",
          "traceback": [
            "\u001b[0;31m---------------------------------------------------------------------------\u001b[0m",
            "\u001b[0;31mTypeError\u001b[0m                                 Traceback (most recent call last)",
            "\u001b[0;32m<ipython-input-86-cd2a018a7529>\u001b[0m in \u001b[0;36m<module>\u001b[0;34m()\u001b[0m\n\u001b[0;32m----> 1\u001b[0;31m \u001b[0ma_tuple\u001b[0m\u001b[0;34m[\u001b[0m\u001b[0;36m1\u001b[0m\u001b[0;34m]\u001b[0m \u001b[0;34m=\u001b[0m \u001b[0;34m\"four\"\u001b[0m\u001b[0;34m\u001b[0m\u001b[0;34m\u001b[0m\u001b[0m\n\u001b[0m",
            "\u001b[0;31mTypeError\u001b[0m: 'tuple' object does not support item assignment"
          ]
        }
      ]
    },
    {
      "cell_type": "code",
      "source": [
        "# 객체는 변경할 수 있으니 언제든지 변경해도 된다는 의미는 아님을 기억하자. \n",
        "# 그런 방식의 사용은 프로그래밍에서 부작용을 유발한다.\n",
        "# 어떤 함수를 작성할 때 발생할 수 있는 부작용에 대해 함수의 문서나 주석으로 명시적으로 남겨두어야 한다. \n",
        "# 가능하면 변경 가능한 객체를 많이 사용하더라도 부작용을 피하고 불역성을 잘 활용하기 추천한다."
      ],
      "metadata": {
        "id": "lE8MnDt8Bgol"
      },
      "execution_count": null,
      "outputs": []
    },
    {
      "cell_type": "code",
      "source": [
        "# 2.3.2 스칼라형"
      ],
      "metadata": {
        "id": "60E0EllLBpdJ"
      },
      "execution_count": null,
      "outputs": []
    },
    {
      "cell_type": "code",
      "source": [
        "# 파이썬은 숫자 데이터와 문자열, 불리언값(True or False) 그리고 날짜와 시간을 다룰 수 있는 몇몇 내장 자료형을 제공한다. 이런 '단일 값'을 담는 자료형을 스칼라 타입이라고 한다."
      ],
      "metadata": {
        "id": "-Pp0e7upwTPb"
      },
      "execution_count": null,
      "outputs": []
    },
    {
      "cell_type": "code",
      "source": [
        "# 표준 파이썬 스칼라 자료형\n",
        "# None : 파이썬의 null 값(하나의 유일한 None 인스턴스만 존재한다.)\n",
        "# str : 문자열 자료형, 유니코드(UTF-8 인코딩) 문자열\n",
        "# bytes : Raw ASCII 바이트(또는 바이트로 인코딩된 유니코드)\n",
        "# float : 배정밀도(64비트) 부동소수점수.double형이 따로 존재하지 않는다는 점을 기억하자.\n",
        "# bool : True or False\n",
        "# int : 부호가 있는(음수 표현이 가능한) 정수. 값의 범위는 플랫폼에 의존적이다."
      ],
      "metadata": {
        "id": "Yvc1fAOFwt2h"
      },
      "execution_count": null,
      "outputs": []
    },
    {
      "cell_type": "code",
      "source": [
        "# 숫자 자료형 \n",
        "# 숫자를 위한 파이썬의 주요 자료형은 int와 float다. int는 임의의 숫자를 저장할 수 있다.\n",
        "ival = 17239871"
      ],
      "metadata": {
        "id": "GmTBuEi6w4Vx"
      },
      "execution_count": null,
      "outputs": []
    },
    {
      "cell_type": "code",
      "source": [
        "ival ** 6"
      ],
      "metadata": {
        "id": "7cKBUWR1ydCh"
      },
      "execution_count": null,
      "outputs": []
    },
    {
      "cell_type": "code",
      "source": [
        "# 부동소수점수는 float형으로 나타낸다. 내부적으로 배정밀도(64비트)를 가지는 값이다. float는 과학 표기법으로 나타낼 수도 있다.  "
      ],
      "metadata": {
        "id": "5rBoWbikzWf7"
      },
      "execution_count": null,
      "outputs": []
    },
    {
      "cell_type": "code",
      "source": [
        "fval = 7.243"
      ],
      "metadata": {
        "id": "-1ML1f0yXjRh"
      },
      "execution_count": null,
      "outputs": []
    },
    {
      "cell_type": "code",
      "source": [
        "fval2 = 6.78e-5"
      ],
      "metadata": {
        "id": "ssYOr-uIXnFM"
      },
      "execution_count": null,
      "outputs": []
    },
    {
      "cell_type": "code",
      "source": [
        "# 정수 나눗셈은 정수를 반환하지 않고 부동소수점수를 반환한다. "
      ],
      "metadata": {
        "id": "NfqX1wW2XyrE"
      },
      "execution_count": null,
      "outputs": []
    },
    {
      "cell_type": "code",
      "source": [
        "3 / 2"
      ],
      "metadata": {
        "id": "bni4uPhfXr3f"
      },
      "execution_count": null,
      "outputs": []
    },
    {
      "cell_type": "code",
      "source": [
        "# 나눗셈의 결과가 정수가 아닐 경우 몫만을 돌려주는 C 형식의 정수 나눗셈은 // 연산자로 계산한다."
      ],
      "metadata": {
        "id": "aL1hPW2xXtYg"
      },
      "execution_count": null,
      "outputs": []
    },
    {
      "cell_type": "code",
      "source": [
        "3 // 2"
      ],
      "metadata": {
        "id": "NFJGKRFoYGqy"
      },
      "execution_count": null,
      "outputs": []
    },
    {
      "cell_type": "code",
      "source": [
        "# 문자열"
      ],
      "metadata": {
        "id": "wXRL6oLWYIbY"
      },
      "execution_count": null,
      "outputs": []
    },
    {
      "cell_type": "code",
      "source": [
        "# 문자열은 작은따옴표나 큰따옴표로 둘러싸서 표현할 수 있다. "
      ],
      "metadata": {
        "id": "TCi_aFvEYJ-C"
      },
      "execution_count": null,
      "outputs": []
    },
    {
      "cell_type": "code",
      "source": [
        "a = ' 문자열을 작은따옴표로 둘러싼다. '\n",
        "b = \"문자열을 처리하는 다른 방법\"\n",
        "c = \"\"\"\n",
        "여러 줄에 걸친 문자열은\n",
        "따옴표 세 개로 둘러싼다.\n",
        "\"\"\""
      ],
      "metadata": {
        "id": "CAM3aAAUZGJM"
      },
      "execution_count": null,
      "outputs": []
    },
    {
      "cell_type": "code",
      "source": [
        "# 문자열 c가 실제로 4줄의 텍스트를 담고 있다는 사실에 놀랄 수도 있다. \"\"\" 뒤에 오는 개행 문자도 c도 포함된다. 개행 문자의 수는 count 메서드를 이용해서 확인할 수 있다. "
      ],
      "metadata": {
        "id": "oOKtBXbTcK7K"
      },
      "execution_count": null,
      "outputs": []
    },
    {
      "cell_type": "code",
      "source": [
        "c.count(\"\\n\")"
      ],
      "metadata": {
        "colab": {
          "base_uri": "https://localhost:8080/"
        },
        "id": "jw2L8PknbaIw",
        "outputId": "0cd6dc0a-004e-45e3-94c5-1226485d29b4"
      },
      "execution_count": null,
      "outputs": [
        {
          "output_type": "execute_result",
          "data": {
            "text/plain": [
              "3"
            ]
          },
          "metadata": {},
          "execution_count": 89
        }
      ]
    },
    {
      "cell_type": "code",
      "source": [
        "# 파이썬의 문자열은 변경 불가능하다."
      ],
      "metadata": {
        "id": "fUbwaMuCcJE7"
      },
      "execution_count": null,
      "outputs": []
    },
    {
      "cell_type": "code",
      "source": [
        "a = \"this is a string\""
      ],
      "metadata": {
        "id": "FKTRnvijcEqZ"
      },
      "execution_count": null,
      "outputs": []
    },
    {
      "cell_type": "code",
      "source": [
        "a[10] = \"f\""
      ],
      "metadata": {
        "colab": {
          "base_uri": "https://localhost:8080/",
          "height": 173
        },
        "id": "iqkejAmTcjsT",
        "outputId": "515e27bf-f202-4f64-e9f7-d66f0089cce9"
      },
      "execution_count": null,
      "outputs": [
        {
          "output_type": "error",
          "ename": "TypeError",
          "evalue": "ignored",
          "traceback": [
            "\u001b[0;31m---------------------------------------------------------------------------\u001b[0m",
            "\u001b[0;31mTypeError\u001b[0m                                 Traceback (most recent call last)",
            "\u001b[0;32m<ipython-input-92-3b2d95f10db4>\u001b[0m in \u001b[0;36m<module>\u001b[0;34m()\u001b[0m\n\u001b[0;32m----> 1\u001b[0;31m \u001b[0ma\u001b[0m\u001b[0;34m[\u001b[0m\u001b[0;36m10\u001b[0m\u001b[0;34m]\u001b[0m \u001b[0;34m=\u001b[0m \u001b[0;34m\"f\"\u001b[0m\u001b[0;34m\u001b[0m\u001b[0;34m\u001b[0m\u001b[0m\n\u001b[0m",
            "\u001b[0;31mTypeError\u001b[0m: 'str' object does not support item assignment"
          ]
        }
      ]
    },
    {
      "cell_type": "code",
      "source": [
        "# 이 작업 이후 변수 a는 변경되지 않는다."
      ],
      "metadata": {
        "id": "RMPPu4FGclxL"
      },
      "execution_count": null,
      "outputs": []
    },
    {
      "cell_type": "code",
      "source": [
        "a"
      ],
      "metadata": {
        "id": "vU_3RnM8cqPG"
      },
      "execution_count": null,
      "outputs": []
    },
    {
      "cell_type": "code",
      "source": [
        "# 많은 파이썬 객체는 str 함수를 이용해서 문자열로 변환할 수 있다. "
      ],
      "metadata": {
        "id": "p64jq0g2crPK"
      },
      "execution_count": null,
      "outputs": []
    },
    {
      "cell_type": "code",
      "source": [
        "a = 5.6"
      ],
      "metadata": {
        "id": "UU0Ir9Vxcx_p"
      },
      "execution_count": null,
      "outputs": []
    },
    {
      "cell_type": "code",
      "source": [
        "s = str(a)"
      ],
      "metadata": {
        "id": "YqHm01zmczVg"
      },
      "execution_count": null,
      "outputs": []
    },
    {
      "cell_type": "code",
      "source": [
        "print(s)"
      ],
      "metadata": {
        "id": "9P4JWikWc1FV"
      },
      "execution_count": null,
      "outputs": []
    },
    {
      "cell_type": "code",
      "source": [
        "# 문자열은 일련의 유니코드 문자이며 따라서 리스트나 튜플 같은 다른 순차적인 자료형과 같이 취급된다"
      ],
      "metadata": {
        "id": "Kdu5cEd9c2IU"
      },
      "execution_count": null,
      "outputs": []
    },
    {
      "cell_type": "code",
      "source": [
        "s = \"python\""
      ],
      "metadata": {
        "id": "WoSi6vAhewEj"
      },
      "execution_count": null,
      "outputs": []
    },
    {
      "cell_type": "code",
      "source": [
        "list(s)"
      ],
      "metadata": {
        "id": "_JRdOSOkeyq3"
      },
      "execution_count": null,
      "outputs": []
    },
    {
      "cell_type": "code",
      "source": [
        "s[:3]"
      ],
      "metadata": {
        "id": "mgzjn8dSe0BM"
      },
      "execution_count": null,
      "outputs": []
    },
    {
      "cell_type": "code",
      "source": [
        "# 슬라이싱이라고 부르는 s[:3] 문법은 대부분의 파이썬 시퀀스 자료구조에 구현되어 있다.\n",
        "# 역슬래시(\\)는 이스케이프 문자로, 개행 문자(\\n)나 유니코드 문자 같은 특수한 목적의 문자를 나타내기 위해 사용한다. \n",
        "# 역슬래시를 나타내려면 다음처럼 역슬래시 자체를 이스케이프한다."
      ],
      "metadata": {
        "id": "wslq884ve2G0"
      },
      "execution_count": null,
      "outputs": []
    },
    {
      "cell_type": "code",
      "source": [
        "s = \"12\\\\34\""
      ],
      "metadata": {
        "id": "xd-_yvMogvGQ"
      },
      "execution_count": null,
      "outputs": []
    },
    {
      "cell_type": "code",
      "source": [
        "print(s)"
      ],
      "metadata": {
        "id": "6gJql2f2gxoo"
      },
      "execution_count": null,
      "outputs": []
    },
    {
      "cell_type": "code",
      "source": [
        "# 특수 문자 없이 역슬래시(\\)가 많이 포함된 문자열을 나타내려면 좀 귀찮을 수 있는데, 다행히도 문자열 앞에 r을 써서 문자열을 있는 그대로 해석하도록 할 수 있다."
      ],
      "metadata": {
        "id": "E90X-ZxCgyfj"
      },
      "execution_count": null,
      "outputs": []
    },
    {
      "cell_type": "code",
      "source": [
        "s = r\"this\\has\\no\\special\\characters\""
      ],
      "metadata": {
        "id": "EZ1Uohj-h1Mx"
      },
      "execution_count": null,
      "outputs": []
    },
    {
      "cell_type": "code",
      "source": [
        "s"
      ],
      "metadata": {
        "colab": {
          "base_uri": "https://localhost:8080/",
          "height": 35
        },
        "id": "pZFxJGzfh8MI",
        "outputId": "970cc3c3-f51a-4b92-a02c-fb6a620a81f7"
      },
      "execution_count": null,
      "outputs": [
        {
          "output_type": "execute_result",
          "data": {
            "text/plain": [
              "'this\\\\has\\\\no\\\\special\\\\characters'"
            ],
            "application/vnd.google.colaboratory.intrinsic+json": {
              "type": "string"
            }
          },
          "metadata": {},
          "execution_count": 95
        }
      ]
    },
    {
      "cell_type": "code",
      "source": [
        "# 여기서 r은 raw를 뜻한다. "
      ],
      "metadata": {
        "id": "eoAnGmA8h8x2"
      },
      "execution_count": null,
      "outputs": []
    },
    {
      "cell_type": "code",
      "source": [
        "# 두 문자열을 더하면 두 문자열을 이어붙인 새로운 문자열이 생성된다."
      ],
      "metadata": {
        "id": "qsvW7XdViAp9"
      },
      "execution_count": null,
      "outputs": []
    },
    {
      "cell_type": "code",
      "source": [
        "a = \"this is the first half \""
      ],
      "metadata": {
        "id": "L_Scil5DjDhm"
      },
      "execution_count": null,
      "outputs": []
    },
    {
      "cell_type": "code",
      "source": [
        "b = \"and this is the second half\""
      ],
      "metadata": {
        "id": "85yNxWK0kO2v"
      },
      "execution_count": null,
      "outputs": []
    },
    {
      "cell_type": "code",
      "source": [
        "a + b"
      ],
      "metadata": {
        "colab": {
          "base_uri": "https://localhost:8080/",
          "height": 35
        },
        "id": "LA9GdgOWkW7r",
        "outputId": "0167daeb-65a0-4cfa-fdd6-36754e8f2396"
      },
      "execution_count": null,
      "outputs": [
        {
          "output_type": "execute_result",
          "data": {
            "text/plain": [
              "'this is the first half and this is the second half'"
            ],
            "application/vnd.google.colaboratory.intrinsic+json": {
              "type": "string"
            }
          },
          "metadata": {},
          "execution_count": 100
        }
      ]
    },
    {
      "cell_type": "code",
      "source": [
        "# 문자열의 템플릿이나 형식을 지정하는 것은 중요한 주제다. 문자열 객체는 포맷에 따라 문자열을 대체하여 새로운 문자열을 반환하는 format 메서드를 가지고 있다."
      ],
      "metadata": {
        "id": "3iwjGaCTkX1u"
      },
      "execution_count": null,
      "outputs": []
    },
    {
      "cell_type": "code",
      "source": [
        "template = \"{0:.2f} {1:s} are worth US${2:d}\""
      ],
      "metadata": {
        "id": "xYu_fYjBmDi-"
      },
      "execution_count": null,
      "outputs": []
    },
    {
      "cell_type": "code",
      "source": [
        "# 위 문자열에서\n",
        "# {0:.2f}는 첫 번째 인자를 소수점 아래 2자리까지만 표시하는 부동소수점 형태로 출력하라는 의미이다.\n",
        "# {1:s}는 두 번째 인자가 문자열이라는 의미다. \n",
        "# {2:d}는 세 번째 인자가 정수라는 의미다. "
      ],
      "metadata": {
        "id": "SMCAyoR3mMpf"
      },
      "execution_count": null,
      "outputs": []
    },
    {
      "cell_type": "code",
      "source": [
        "# 인자를 이런 포맷 매개변수를 이용해 대치하려면 인자를 format 메서드에 전달해야 한다. "
      ],
      "metadata": {
        "id": "WuCFZPstmmi6"
      },
      "execution_count": null,
      "outputs": []
    },
    {
      "cell_type": "code",
      "source": [
        "template.format(4.5560, \"Argentie Pesos\", 1)"
      ],
      "metadata": {
        "colab": {
          "base_uri": "https://localhost:8080/",
          "height": 35
        },
        "id": "UPzxCcitm5CJ",
        "outputId": "db8e9f16-783c-4f17-8b33-fc3257d3509f"
      },
      "execution_count": null,
      "outputs": [
        {
          "output_type": "execute_result",
          "data": {
            "text/plain": [
              "'4.56 Argentie Pesos are worth US$1'"
            ],
            "application/vnd.google.colaboratory.intrinsic+json": {
              "type": "string"
            }
          },
          "metadata": {},
          "execution_count": 105
        }
      ]
    },
    {
      "cell_type": "code",
      "source": [
        "# 문자열 포맷은 광범위한 주제이며 결과 문자열에서 값을 어떻게 표시할 것인지에 대한 다양한 옵션과 메서드, 팁이 있다."
      ],
      "metadata": {
        "id": "9mPquH_5n6ol"
      },
      "execution_count": null,
      "outputs": []
    },
    {
      "cell_type": "code",
      "source": [
        "# 바이트와 유니코드"
      ],
      "metadata": {
        "id": "WvPOdyqtoDx0"
      },
      "execution_count": null,
      "outputs": []
    },
    {
      "cell_type": "code",
      "source": [
        "# 파이썬 3.0부터는 아스키와 아스키가 아닌 텍스트를 일관되게 다루기 위해 유니코드가 최상위 문자열 타입이 되었다. \n",
        "# 파이썬 구 버전에서 문자열은 유니코드 인코딩을 명시하지 않은 바이트였다. 문자 인코딩을 알고 있다는 가정 하에 유니코드로 변환할 수 있었다. "
      ],
      "metadata": {
        "id": "hZ9aRGzxoF3p"
      },
      "execution_count": null,
      "outputs": []
    },
    {
      "cell_type": "code",
      "source": [
        "val = \"espanol\""
      ],
      "metadata": {
        "id": "Qo19G-_QzneN"
      },
      "execution_count": null,
      "outputs": []
    },
    {
      "cell_type": "code",
      "source": [
        "val"
      ],
      "metadata": {
        "colab": {
          "base_uri": "https://localhost:8080/",
          "height": 35
        },
        "id": "6yM-gRT_zqC7",
        "outputId": "addd0c94-5921-4dae-9491-3695d9e4604e"
      },
      "execution_count": null,
      "outputs": [
        {
          "output_type": "execute_result",
          "data": {
            "text/plain": [
              "'espanol'"
            ],
            "application/vnd.google.colaboratory.intrinsic+json": {
              "type": "string"
            }
          },
          "metadata": {},
          "execution_count": 110
        }
      ]
    },
    {
      "cell_type": "code",
      "source": [
        "# encode 메서드를 사용해서 위 유니코드 문자열을 UTF-8 바이트 표현으로 변환할 수 있다."
      ],
      "metadata": {
        "id": "uwwcVvsGzqnf"
      },
      "execution_count": null,
      "outputs": []
    },
    {
      "cell_type": "code",
      "source": [
        "val_utf8 = val.encode(\"utf-8\")"
      ],
      "metadata": {
        "id": "6TpbjCk-z0Lh"
      },
      "execution_count": null,
      "outputs": []
    },
    {
      "cell_type": "code",
      "source": [
        "val_utf8"
      ],
      "metadata": {
        "colab": {
          "base_uri": "https://localhost:8080/"
        },
        "id": "WQAzKwP7z5Fs",
        "outputId": "ea970b59-dd7b-4522-f9bc-30e709540a60"
      },
      "execution_count": null,
      "outputs": [
        {
          "output_type": "execute_result",
          "data": {
            "text/plain": [
              "b'espanol'"
            ]
          },
          "metadata": {},
          "execution_count": 113
        }
      ]
    },
    {
      "cell_type": "code",
      "source": [
        "type(val_utf8)"
      ],
      "metadata": {
        "colab": {
          "base_uri": "https://localhost:8080/"
        },
        "id": "89rSRSYJz7RE",
        "outputId": "46d4d8ce-dd96-4281-f4c9-0b8cecba1032"
      },
      "execution_count": null,
      "outputs": [
        {
          "output_type": "execute_result",
          "data": {
            "text/plain": [
              "bytes"
            ]
          },
          "metadata": {},
          "execution_count": 114
        }
      ]
    },
    {
      "cell_type": "code",
      "source": [
        "# bytes 객체의 유니코드 인코딩을 알고 있다면 decode 메서드를 이용해서 다시 거꾸로 되돌릴 수 있다. "
      ],
      "metadata": {
        "id": "ka_SX9VP0c5R"
      },
      "execution_count": null,
      "outputs": []
    },
    {
      "cell_type": "code",
      "source": [
        "val_utf8.decode(\"utf-8\")"
      ],
      "metadata": {
        "colab": {
          "base_uri": "https://localhost:8080/",
          "height": 35
        },
        "id": "kvwY7jvc1nM5",
        "outputId": "cd6a8efe-7c3d-46b2-9417-2c391be0c218"
      },
      "execution_count": null,
      "outputs": [
        {
          "output_type": "execute_result",
          "data": {
            "text/plain": [
              "'espanol'"
            ],
            "application/vnd.google.colaboratory.intrinsic+json": {
              "type": "string"
            }
          },
          "metadata": {},
          "execution_count": 116
        }
      ]
    },
    {
      "cell_type": "code",
      "source": [
        "# 모든 인코딩에 UTF-8을 사용하는 것이 선호되는 추세이긴 하지만, 여러 가지 다른 인코딩을 사용하는 데이터를 만나게 될 수도 있다."
      ],
      "metadata": {
        "id": "B-QXvh4p1sJv"
      },
      "execution_count": null,
      "outputs": []
    },
    {
      "cell_type": "code",
      "source": [
        "val.encode(\"latin1\")"
      ],
      "metadata": {
        "colab": {
          "base_uri": "https://localhost:8080/"
        },
        "id": "WKUKBcdR16Gz",
        "outputId": "c563e97e-e30a-4a11-8138-38d3a5ab372b"
      },
      "execution_count": null,
      "outputs": [
        {
          "output_type": "execute_result",
          "data": {
            "text/plain": [
              "b'espanol'"
            ]
          },
          "metadata": {},
          "execution_count": 118
        }
      ]
    },
    {
      "cell_type": "code",
      "source": [
        "val.encode(\"utf-16\")"
      ],
      "metadata": {
        "colab": {
          "base_uri": "https://localhost:8080/"
        },
        "id": "iGvd2oZE1-Gr",
        "outputId": "c96e8001-32f1-46b9-a6cc-350a514c77e0"
      },
      "execution_count": null,
      "outputs": [
        {
          "output_type": "execute_result",
          "data": {
            "text/plain": [
              "b'\\xff\\xfee\\x00s\\x00p\\x00a\\x00n\\x00o\\x00l\\x00'"
            ]
          },
          "metadata": {},
          "execution_count": 119
        }
      ]
    },
    {
      "cell_type": "code",
      "source": [
        "val.encode(\"utf-16le\")"
      ],
      "metadata": {
        "colab": {
          "base_uri": "https://localhost:8080/"
        },
        "id": "1wUWE1Xx2goS",
        "outputId": "36f863ae-c807-43a4-f091-4b918c122945"
      },
      "execution_count": null,
      "outputs": [
        {
          "output_type": "execute_result",
          "data": {
            "text/plain": [
              "b'e\\x00s\\x00p\\x00a\\x00n\\x00o\\x00l\\x00'"
            ]
          },
          "metadata": {},
          "execution_count": 120
        }
      ]
    },
    {
      "cell_type": "code",
      "source": [
        "# 파일을 다룬다면 bytes 객체를 만나게 되는 일은 흔하다.\n",
        "# 이렇게 하는 경우는 흔하지 않지만 다음과 같이 문자열 앞에 b를 붙여서 바이트 표현임을 나타낼 수도 있다. "
      ],
      "metadata": {
        "id": "kfw3gg7-2qhj"
      },
      "execution_count": null,
      "outputs": []
    },
    {
      "cell_type": "code",
      "source": [
        "bytes_val = b\"this is bytes\""
      ],
      "metadata": {
        "id": "_EWCa_aH2u16"
      },
      "execution_count": null,
      "outputs": []
    },
    {
      "cell_type": "code",
      "source": [
        "bytes_val"
      ],
      "metadata": {
        "colab": {
          "base_uri": "https://localhost:8080/"
        },
        "id": "sYmLo2KF4NvM",
        "outputId": "95595f20-1de7-4688-da60-e7679cf4bc8a"
      },
      "execution_count": null,
      "outputs": [
        {
          "output_type": "execute_result",
          "data": {
            "text/plain": [
              "b'this is bytes'"
            ]
          },
          "metadata": {},
          "execution_count": 123
        }
      ]
    },
    {
      "cell_type": "code",
      "source": [
        "decoded = bytes_val.decode(\"utf8\")"
      ],
      "metadata": {
        "id": "2ujmzwvS4RSH"
      },
      "execution_count": null,
      "outputs": []
    },
    {
      "cell_type": "code",
      "source": [
        "decoded"
      ],
      "metadata": {
        "colab": {
          "base_uri": "https://localhost:8080/",
          "height": 35
        },
        "id": "bR33rxuo4V-M",
        "outputId": "60678711-6556-4a7f-be95-86f984250e90"
      },
      "execution_count": null,
      "outputs": [
        {
          "output_type": "execute_result",
          "data": {
            "text/plain": [
              "'this is bytes'"
            ],
            "application/vnd.google.colaboratory.intrinsic+json": {
              "type": "string"
            }
          },
          "metadata": {},
          "execution_count": 125
        }
      ]
    },
    {
      "cell_type": "code",
      "source": [
        "# 불리언"
      ],
      "metadata": {
        "id": "VH73cNqo4pYJ"
      },
      "execution_count": null,
      "outputs": []
    },
    {
      "cell_type": "code",
      "source": [
        "# 파이썬에서 불리언값은 True와 False다. 비교와 조건식은 True 아니면 False로 해석된다. 불리언값은 and와 or 예약어로 조합할 수 있다. "
      ],
      "metadata": {
        "id": "Ot2zl_JR4qwp"
      },
      "execution_count": null,
      "outputs": []
    },
    {
      "cell_type": "code",
      "source": [
        "True and True"
      ],
      "metadata": {
        "colab": {
          "base_uri": "https://localhost:8080/"
        },
        "id": "BZ-KE_JS43Cq",
        "outputId": "46136330-cdf1-4afb-ba51-97949343aab7"
      },
      "execution_count": null,
      "outputs": [
        {
          "output_type": "execute_result",
          "data": {
            "text/plain": [
              "True"
            ]
          },
          "metadata": {},
          "execution_count": 128
        }
      ]
    },
    {
      "cell_type": "code",
      "source": [
        "False or True"
      ],
      "metadata": {
        "colab": {
          "base_uri": "https://localhost:8080/"
        },
        "id": "NgCSZZaV44hV",
        "outputId": "55b4bc71-59aa-420f-c8c6-dc98ffdbbc26"
      },
      "execution_count": null,
      "outputs": [
        {
          "output_type": "execute_result",
          "data": {
            "text/plain": [
              "True"
            ]
          },
          "metadata": {},
          "execution_count": 129
        }
      ]
    },
    {
      "cell_type": "code",
      "source": [
        "# 형변환"
      ],
      "metadata": {
        "id": "9Lokgzjq48gr"
      },
      "execution_count": null,
      "outputs": []
    },
    {
      "cell_type": "code",
      "source": [
        "# str, bool, int, float 자료형은 형변환을 위한 함수로 쓰인다. "
      ],
      "metadata": {
        "id": "E3-RjUz65CYV"
      },
      "execution_count": null,
      "outputs": []
    },
    {
      "cell_type": "code",
      "source": [
        "s = \"3.14159\""
      ],
      "metadata": {
        "id": "H3F3K7cb5JK1"
      },
      "execution_count": null,
      "outputs": []
    },
    {
      "cell_type": "code",
      "source": [
        "fval = float(s)"
      ],
      "metadata": {
        "id": "zSSOwo_X5LPb"
      },
      "execution_count": null,
      "outputs": []
    },
    {
      "cell_type": "code",
      "source": [
        "type(fval)"
      ],
      "metadata": {
        "colab": {
          "base_uri": "https://localhost:8080/"
        },
        "id": "rdLhf_N-5NiH",
        "outputId": "90ef9cea-e097-4116-f363-bdfd1b0d2cea"
      },
      "execution_count": null,
      "outputs": [
        {
          "output_type": "execute_result",
          "data": {
            "text/plain": [
              "float"
            ]
          },
          "metadata": {},
          "execution_count": 134
        }
      ]
    },
    {
      "cell_type": "code",
      "source": [
        "int(fval)"
      ],
      "metadata": {
        "colab": {
          "base_uri": "https://localhost:8080/"
        },
        "id": "ySquA34t5O6Z",
        "outputId": "d93b795a-8d34-4e6a-f543-4d01a834e71d"
      },
      "execution_count": null,
      "outputs": [
        {
          "output_type": "execute_result",
          "data": {
            "text/plain": [
              "3"
            ]
          },
          "metadata": {},
          "execution_count": 135
        }
      ]
    },
    {
      "cell_type": "code",
      "source": [
        "bool(fval)"
      ],
      "metadata": {
        "colab": {
          "base_uri": "https://localhost:8080/"
        },
        "id": "n3Vh-ZEq5Q_q",
        "outputId": "81f3e2ab-5056-4508-95da-13d94db4a6a8"
      },
      "execution_count": null,
      "outputs": [
        {
          "output_type": "execute_result",
          "data": {
            "text/plain": [
              "True"
            ]
          },
          "metadata": {},
          "execution_count": 136
        }
      ]
    },
    {
      "cell_type": "code",
      "source": [
        "bool(0)"
      ],
      "metadata": {
        "colab": {
          "base_uri": "https://localhost:8080/"
        },
        "id": "OpmsurON5Scs",
        "outputId": "255521bb-0b16-4684-e9e3-436427a17aff"
      },
      "execution_count": null,
      "outputs": [
        {
          "output_type": "execute_result",
          "data": {
            "text/plain": [
              "False"
            ]
          },
          "metadata": {},
          "execution_count": 137
        }
      ]
    },
    {
      "cell_type": "code",
      "source": [
        "# None"
      ],
      "metadata": {
        "id": "MJvXfgFE5TY1"
      },
      "execution_count": null,
      "outputs": []
    },
    {
      "cell_type": "code",
      "source": [
        "# None은 파이썬에서 사용하는 null 값이다. 만약 어떤 함수에서 명시적으로 값을 반환하지 않으면 묵시적으로 None을 반환한다. "
      ],
      "metadata": {
        "id": "sOtIBJLi5VhB"
      },
      "execution_count": null,
      "outputs": []
    },
    {
      "cell_type": "code",
      "source": [
        "a = None"
      ],
      "metadata": {
        "id": "yzPT-ESW5egU"
      },
      "execution_count": null,
      "outputs": []
    },
    {
      "cell_type": "code",
      "source": [
        "a is None"
      ],
      "metadata": {
        "colab": {
          "base_uri": "https://localhost:8080/"
        },
        "id": "9hOAhi1O5f1y",
        "outputId": "c6954055-f649-4ebe-bf7c-b3fea858bfbc"
      },
      "execution_count": null,
      "outputs": [
        {
          "output_type": "execute_result",
          "data": {
            "text/plain": [
              "True"
            ]
          },
          "metadata": {},
          "execution_count": 141
        }
      ]
    },
    {
      "cell_type": "code",
      "source": [
        "b = 5"
      ],
      "metadata": {
        "id": "rl4xyrRH5hKy"
      },
      "execution_count": null,
      "outputs": []
    },
    {
      "cell_type": "code",
      "source": [
        "b is not None"
      ],
      "metadata": {
        "colab": {
          "base_uri": "https://localhost:8080/"
        },
        "id": "_KiirySr5iIV",
        "outputId": "d728cd1a-ace3-4e22-858e-f90ade23036c"
      },
      "execution_count": null,
      "outputs": [
        {
          "output_type": "execute_result",
          "data": {
            "text/plain": [
              "True"
            ]
          },
          "metadata": {},
          "execution_count": 143
        }
      ]
    },
    {
      "cell_type": "code",
      "source": [
        "# 또한 None은 함수 인자의 기본값으로 흔히 사용되기도 한다."
      ],
      "metadata": {
        "id": "jpQXX_Uy5jgI"
      },
      "execution_count": null,
      "outputs": []
    },
    {
      "cell_type": "code",
      "source": [
        "def add_and_maybe_multiply(a, b, c = None):\n",
        "  result = a + b\n",
        "\n",
        "  if c is not None:\n",
        "    result = result * c\n",
        "  \n",
        "  return result"
      ],
      "metadata": {
        "id": "8ss6ZsVV5pO9"
      },
      "execution_count": null,
      "outputs": []
    },
    {
      "cell_type": "code",
      "source": [
        "# 기술적인 측면에서 None은 예약어가 아니라 NoneType의 유일한 인스턴스임을 기억하자."
      ],
      "metadata": {
        "id": "8kAe9x_l6pGR"
      },
      "execution_count": null,
      "outputs": []
    },
    {
      "cell_type": "code",
      "source": [
        "type(None)"
      ],
      "metadata": {
        "colab": {
          "base_uri": "https://localhost:8080/"
        },
        "id": "-Y_Xm20z5wht",
        "outputId": "967855af-035b-4a84-8137-46b8d53f22d3"
      },
      "execution_count": null,
      "outputs": [
        {
          "output_type": "execute_result",
          "data": {
            "text/plain": [
              "NoneType"
            ]
          },
          "metadata": {},
          "execution_count": 147
        }
      ]
    },
    {
      "cell_type": "code",
      "source": [
        "# 날짜와 시간"
      ],
      "metadata": {
        "id": "lSoeFBjF58zy"
      },
      "execution_count": null,
      "outputs": []
    },
    {
      "cell_type": "code",
      "source": [
        "# 파이썬 내장 datetime 모듈은 datetime, date 그리고 time형을 지원한다. datetime형은 이름에서 알 수 있듯이 date와 time 정보를 함께 저장하며 주로 사용되는 자료형이다."
      ],
      "metadata": {
        "id": "y_64uEhDN_MA"
      },
      "execution_count": null,
      "outputs": []
    },
    {
      "cell_type": "code",
      "source": [
        "from datetime import datetime, date, time"
      ],
      "metadata": {
        "id": "qLBu1q_dPPVV"
      },
      "execution_count": null,
      "outputs": []
    },
    {
      "cell_type": "code",
      "source": [
        "dt = datetime(2011, 10, 29, 20, 30, 21)"
      ],
      "metadata": {
        "id": "xoQeqB6rPULF"
      },
      "execution_count": null,
      "outputs": []
    },
    {
      "cell_type": "code",
      "source": [
        "dt.day"
      ],
      "metadata": {
        "colab": {
          "base_uri": "https://localhost:8080/"
        },
        "id": "SelufM3mPX6w",
        "outputId": "21d7aed7-ba25-4a44-ce39-d9997db0ed20"
      },
      "execution_count": null,
      "outputs": [
        {
          "output_type": "execute_result",
          "data": {
            "text/plain": [
              "29"
            ]
          },
          "metadata": {},
          "execution_count": 152
        }
      ]
    },
    {
      "cell_type": "code",
      "source": [
        "dt.minute"
      ],
      "metadata": {
        "colab": {
          "base_uri": "https://localhost:8080/"
        },
        "id": "Et3HymqqPYu6",
        "outputId": "c2f3f808-1cdc-4d06-e7b5-c3c2ec34a20a"
      },
      "execution_count": null,
      "outputs": [
        {
          "output_type": "execute_result",
          "data": {
            "text/plain": [
              "30"
            ]
          },
          "metadata": {},
          "execution_count": 153
        }
      ]
    },
    {
      "cell_type": "code",
      "source": [
        "# datetime 인스턴스에서 date 메서드와 time 메서드를 사용해서 해당 datetime의 날짜와 시간을 추출할 수 있다. "
      ],
      "metadata": {
        "id": "PtUmvi_3Pajz"
      },
      "execution_count": null,
      "outputs": []
    },
    {
      "cell_type": "code",
      "source": [
        "dt.date()"
      ],
      "metadata": {
        "colab": {
          "base_uri": "https://localhost:8080/"
        },
        "id": "AfJuUeQJPkPA",
        "outputId": "20c6b6b0-d8f0-4247-eed2-7d9f151c213f"
      },
      "execution_count": null,
      "outputs": [
        {
          "output_type": "execute_result",
          "data": {
            "text/plain": [
              "datetime.date(2011, 10, 29)"
            ]
          },
          "metadata": {},
          "execution_count": 155
        }
      ]
    },
    {
      "cell_type": "code",
      "source": [
        "dt.time()"
      ],
      "metadata": {
        "colab": {
          "base_uri": "https://localhost:8080/"
        },
        "id": "j9I32RKXPp1O",
        "outputId": "3a5eedfd-9bf7-48bd-e661-5d4d78ff00ee"
      },
      "execution_count": null,
      "outputs": [
        {
          "output_type": "execute_result",
          "data": {
            "text/plain": [
              "datetime.time(20, 30, 21)"
            ]
          },
          "metadata": {},
          "execution_count": 156
        }
      ]
    },
    {
      "cell_type": "code",
      "source": [
        "# strftime 메서드는 datetime을 문자열로 만들어준다."
      ],
      "metadata": {
        "id": "KSJ-7Wj_Pqxr"
      },
      "execution_count": null,
      "outputs": []
    },
    {
      "cell_type": "code",
      "source": [
        "dt.strftime(\"%m%d%Y %H:%M\")"
      ],
      "metadata": {
        "colab": {
          "base_uri": "https://localhost:8080/",
          "height": 35
        },
        "id": "QJ1PKJcvQE-X",
        "outputId": "48e3c295-ec0a-4540-87f5-fd0ad1fea8df"
      },
      "execution_count": null,
      "outputs": [
        {
          "output_type": "execute_result",
          "data": {
            "text/plain": [
              "'10292011 20:30'"
            ],
            "application/vnd.google.colaboratory.intrinsic+json": {
              "type": "string"
            }
          },
          "metadata": {},
          "execution_count": 158
        }
      ]
    },
    {
      "cell_type": "code",
      "source": [
        "# strptime 함수를 이용하면 문자열을 해석하여 datetime 객체로 만들어준다. "
      ],
      "metadata": {
        "id": "a1M5sSYeQNIW"
      },
      "execution_count": null,
      "outputs": []
    },
    {
      "cell_type": "code",
      "source": [
        "datetime.strptime(\"20091031\", \"%Y%m%d\")"
      ],
      "metadata": {
        "colab": {
          "base_uri": "https://localhost:8080/"
        },
        "id": "24umzXPyRBhJ",
        "outputId": "9fe13511-8797-467c-cd31-e5fb8dc0b01d"
      },
      "execution_count": null,
      "outputs": [
        {
          "output_type": "execute_result",
          "data": {
            "text/plain": [
              "datetime.datetime(2009, 10, 31, 0, 0)"
            ]
          },
          "metadata": {},
          "execution_count": 160
        }
      ]
    },
    {
      "cell_type": "code",
      "source": [
        "# 79page 표 2-5에 모든 포맷 규칙을 정리해두었다.\n",
        "# 다른 방식으로 그룹핑된 시계열 데이터를 집계할 때 datetime의 필드를 치환하는 것이 유용한 경우가 종종 발생한다. \n",
        "# 예를 들어 분과 초 필드를 0으로 치환해서 새로운 객체를 생성할 수 있다."
      ],
      "metadata": {
        "id": "fsifx-2-RHQZ"
      },
      "execution_count": null,
      "outputs": []
    },
    {
      "cell_type": "code",
      "source": [
        "dt.replace(minute=0, second=0)"
      ],
      "metadata": {
        "colab": {
          "base_uri": "https://localhost:8080/"
        },
        "id": "PfvQLu6uRZ6t",
        "outputId": "b823c357-e73b-4c7e-a198-12b9aae84c46"
      },
      "execution_count": null,
      "outputs": [
        {
          "output_type": "execute_result",
          "data": {
            "text/plain": [
              "datetime.datetime(2011, 10, 29, 20, 0)"
            ]
          },
          "metadata": {},
          "execution_count": 162
        }
      ]
    },
    {
      "cell_type": "code",
      "source": [
        "# datetime.datetime은 변경 불가능하며, 이런 메서드들은 항상 새로운 객체를 반환한다."
      ],
      "metadata": {
        "id": "_zglAhHDS1fO"
      },
      "execution_count": null,
      "outputs": []
    },
    {
      "cell_type": "code",
      "source": [
        "# 두 datetime 객체의 차는 datetime.timedelta 객체를 반환한다. "
      ],
      "metadata": {
        "id": "3k-qKoc5S67Q"
      },
      "execution_count": null,
      "outputs": []
    },
    {
      "cell_type": "code",
      "source": [
        "dt2 = datetime(2011, 11, 15, 22, 30)"
      ],
      "metadata": {
        "id": "Qu0QmiJmTEYR"
      },
      "execution_count": null,
      "outputs": []
    },
    {
      "cell_type": "code",
      "source": [
        "delta = dt2 - dt"
      ],
      "metadata": {
        "id": "uDQxnXedTJKx"
      },
      "execution_count": null,
      "outputs": []
    },
    {
      "cell_type": "code",
      "source": [
        "delta"
      ],
      "metadata": {
        "colab": {
          "base_uri": "https://localhost:8080/"
        },
        "id": "IhNfwyqeTLFh",
        "outputId": "9f417d32-4987-457a-be6a-15ceb0a406c7"
      },
      "execution_count": null,
      "outputs": [
        {
          "output_type": "execute_result",
          "data": {
            "text/plain": [
              "datetime.timedelta(days=17, seconds=7179)"
            ]
          },
          "metadata": {},
          "execution_count": 167
        }
      ]
    },
    {
      "cell_type": "code",
      "source": [
        "type(delta)"
      ],
      "metadata": {
        "colab": {
          "base_uri": "https://localhost:8080/"
        },
        "id": "PXjseqPVTMn7",
        "outputId": "bc9dfa2c-8b0f-4f7c-a71f-bf94888072ce"
      },
      "execution_count": null,
      "outputs": [
        {
          "output_type": "execute_result",
          "data": {
            "text/plain": [
              "datetime.timedelta"
            ]
          },
          "metadata": {},
          "execution_count": 168
        }
      ]
    },
    {
      "cell_type": "code",
      "source": [
        "# timedelta(17, 7179)의 결과는 17일과 7179초만큼의 시간 차이를 나타낸다.\n",
        "# timedelta 객체를 datetime 객체에 더하면 그만큼 시간이 미뤄진 datetime 객체를 얻을 수 있다."
      ],
      "metadata": {
        "id": "NI4kUfiITPTp"
      },
      "execution_count": null,
      "outputs": []
    },
    {
      "cell_type": "code",
      "source": [
        "dt"
      ],
      "metadata": {
        "colab": {
          "base_uri": "https://localhost:8080/"
        },
        "id": "pPy-efCwVZwf",
        "outputId": "ac5e1df9-4cf9-4238-dec2-99fb7f243b7f"
      },
      "execution_count": null,
      "outputs": [
        {
          "output_type": "execute_result",
          "data": {
            "text/plain": [
              "datetime.datetime(2011, 10, 29, 20, 30, 21)"
            ]
          },
          "metadata": {},
          "execution_count": 170
        }
      ]
    },
    {
      "cell_type": "code",
      "source": [
        "dt + delta"
      ],
      "metadata": {
        "colab": {
          "base_uri": "https://localhost:8080/"
        },
        "id": "Z0X8l_eKVa1S",
        "outputId": "c79fd3cf-f6c9-48ea-8c2b-f0973ac5c78a"
      },
      "execution_count": null,
      "outputs": [
        {
          "output_type": "execute_result",
          "data": {
            "text/plain": [
              "datetime.datetime(2011, 11, 15, 22, 30)"
            ]
          },
          "metadata": {},
          "execution_count": 171
        }
      ]
    },
    {
      "cell_type": "code",
      "source": [
        "# 표 2-5 Datetime 포맷 규칙(ISO C89 호환)\n",
        "# %Y : 4자리 연도\n",
        "# %y : 2자리 연도\n",
        "# %m : 2자리 월[01, 12]\n",
        "# %d : 2자리 일[01, 31]\n",
        "# %H : 시간(24시간 형식) [00, 23]\n",
        "# %I : 시간(12시간 형식) [01, 12]\n",
        "# %M : 2자리 분[00, 59]\n",
        "# %S : 초 [00, 61] (60, 61은 윤초)\n",
        "# %w : 정수로 나타낸 요일[0(일요일), 6]\n",
        "# %U : 연중 주차 [00, 53]. 일요일을 그 주의 첫 번째 날로 간주하며, 그 해에서 첫 번째 일요일 앞에 있는 날은 0주차가 된다. \n",
        "# %W : 연중 주차 [00, 53]. 월요일을 그 주의 첫 번째 날로 간주하며, 그 해에서 첫 번째 월요일 앞에 있는 날은 0주차가 된다. \n",
        "# %z : UTC 시간대 오프셋을 +HHMM 또는 -HHMM으로 표현한다. 만약 시간대를 신경쓰지 않는다면 비워둔다.\n",
        "# %F : %Y-%m-%d 형식에 대한 축약(예: 2012-4-18)\n",
        "# %D : %m/%d/%y 형식에 대한 축약(예: 04/18/12)"
      ],
      "metadata": {
        "id": "fuBg7J2tVbvE"
      },
      "execution_count": null,
      "outputs": []
    },
    {
      "cell_type": "code",
      "source": [
        "# 2.3.3 흐름 제어"
      ],
      "metadata": {
        "id": "tEW8i5xJY5kE"
      },
      "execution_count": null,
      "outputs": []
    },
    {
      "cell_type": "code",
      "source": [
        "# 파이썬은 다른 프로그래밍 언어와 마찬가지로 조건절과 반복문 그리고 표준 흐름 제어를 위한 예약어를 가지고 있다."
      ],
      "metadata": {
        "id": "RtWI2NZnaMzl"
      },
      "execution_count": null,
      "outputs": []
    },
    {
      "cell_type": "code",
      "source": [
        "# if, elif, else"
      ],
      "metadata": {
        "id": "VU9r7WRacMYX"
      },
      "execution_count": null,
      "outputs": []
    },
    {
      "cell_type": "code",
      "source": [
        "# if 문은 아주 잘 알려진 흐름 제어문이다. if 문은 조건을 검사하여 그 조건이 True일 경우 if 블록 내의 코드를 수행한다. "
      ],
      "metadata": {
        "id": "8h8iV_SccOWx"
      },
      "execution_count": null,
      "outputs": []
    },
    {
      "cell_type": "code",
      "source": [
        "x = 0\n",
        "\n",
        "if x < 0:\n",
        "  print(\"It's negative\")"
      ],
      "metadata": {
        "id": "eEorsADZcuiy"
      },
      "execution_count": null,
      "outputs": []
    },
    {
      "cell_type": "code",
      "source": [
        "# if 문은 부가적으로 하나 이상의 elif 블록과 다른 모든 조건이 False인 경우에 수행될 else 블록을 가질 수 있다. "
      ],
      "metadata": {
        "id": "q-dMLaOJcziP"
      },
      "execution_count": null,
      "outputs": []
    },
    {
      "cell_type": "code",
      "source": [
        "if x < 0:\n",
        "  print(\"It's negative\")\n",
        "elif x == 0:\n",
        "  print(\"Equal to zero\")\n",
        "elif 0 < x < 5:\n",
        "  print(\"Positive but smaller than 5\")\n",
        "else:\n",
        "  print(\"Positive and larger than or equal to 5\")"
      ],
      "metadata": {
        "colab": {
          "base_uri": "https://localhost:8080/"
        },
        "id": "rxiqghljdDVv",
        "outputId": "36b2a58d-aac6-4fd4-9296-7a463f551a0c"
      },
      "execution_count": null,
      "outputs": [
        {
          "output_type": "stream",
          "name": "stdout",
          "text": [
            "Equal to zero\n"
          ]
        }
      ]
    },
    {
      "cell_type": "code",
      "source": [
        "# 만일 이 중 하나의 조건이라도 True면 이후의 elif나 else 블록은 검사하지 않는다. \n",
        "# and나 or과 함께 사용하면 이 조건에서 왼쪽에서 오른쪽 순서로 검사하며 왼쪽 조건이 True인 경우 오른쪽 조건은 검사하지 않는다."
      ],
      "metadata": {
        "id": "JeDLpk_kecJ_"
      },
      "execution_count": null,
      "outputs": []
    },
    {
      "cell_type": "code",
      "source": [
        "a = 5; b = 7"
      ],
      "metadata": {
        "id": "UZUIHgOCgLOg"
      },
      "execution_count": null,
      "outputs": []
    },
    {
      "cell_type": "code",
      "source": [
        "c = 8; d = 4"
      ],
      "metadata": {
        "id": "16YtNN7WgyAt"
      },
      "execution_count": null,
      "outputs": []
    },
    {
      "cell_type": "code",
      "source": [
        "if a < b or c > d:\n",
        "  print(\"Made it\") "
      ],
      "metadata": {
        "colab": {
          "base_uri": "https://localhost:8080/"
        },
        "id": "uUEUjUREgzXo",
        "outputId": "fa92d951-f646-4bbb-addc-18f5f7d8a56b"
      },
      "execution_count": null,
      "outputs": [
        {
          "output_type": "stream",
          "name": "stdout",
          "text": [
            "Made it\n"
          ]
        }
      ]
    },
    {
      "cell_type": "code",
      "source": [
        "# 위 예제에서는 왼쪽 조건이 True이므로 오른쪽의 c > d 조건은 검사하지 않는다.\n",
        "# 여러 조건을 연결해서 사용하는 것도 가능하다."
      ],
      "metadata": {
        "id": "rcqPdQ0WhACd"
      },
      "execution_count": null,
      "outputs": []
    },
    {
      "cell_type": "code",
      "source": [
        "4 > 3 > 2 > 1"
      ],
      "metadata": {
        "colab": {
          "base_uri": "https://localhost:8080/"
        },
        "id": "n-SWmVDvhJH0",
        "outputId": "eca6c443-8f67-47a6-a851-cab92816a3d6"
      },
      "execution_count": null,
      "outputs": [
        {
          "output_type": "execute_result",
          "data": {
            "text/plain": [
              "True"
            ]
          },
          "metadata": {},
          "execution_count": 185
        }
      ]
    },
    {
      "cell_type": "code",
      "source": [
        "# for문"
      ],
      "metadata": {
        "id": "1NmmJOgAhLrG"
      },
      "execution_count": null,
      "outputs": []
    },
    {
      "cell_type": "code",
      "source": [
        "# for문은 리스트나 튜플 같은 컬렉션이나 이터레이터를 순회한다. for문의 기본 문법은 다음과 같다."
      ],
      "metadata": {
        "id": "bs-pypIcVzCM"
      },
      "execution_count": null,
      "outputs": []
    },
    {
      "cell_type": "code",
      "source": [
        "# for value in collection: \n",
        "# value를 이용하는 코드 작성"
      ],
      "metadata": {
        "id": "ck7YgJ-JXRbz"
      },
      "execution_count": null,
      "outputs": []
    },
    {
      "cell_type": "code",
      "source": [
        "# for문은 continue 예약어를 사용해서 남은 블록을 건너뛰고 다음 순회로 넘어갈 수 있다. None 값은 건너뛰고 리스트에 있는 모든 정수를 더하는 다음 코드를 보자"
      ],
      "metadata": {
        "id": "gIwdpZEKam4F"
      },
      "execution_count": null,
      "outputs": []
    },
    {
      "cell_type": "code",
      "source": [
        "sequence = [1, 2, None, 4, None, 5]\n",
        "total = 0\n",
        "for value in sequence:\n",
        "  if value is None:\n",
        "    continue\n",
        "  total += value"
      ],
      "metadata": {
        "id": "3FSgZs9raxYD"
      },
      "execution_count": null,
      "outputs": []
    },
    {
      "cell_type": "code",
      "source": [
        "# break 예약어는 가장 안쪽에 있는 for문만 빠져나간다. "
      ],
      "metadata": {
        "id": "oppnt3zgbeAO"
      },
      "execution_count": null,
      "outputs": []
    },
    {
      "cell_type": "code",
      "source": [
        "for i in range(4):\n",
        "  for j in range(4):\n",
        "    if j > i:\n",
        "      break\n",
        "    print((i, j))"
      ],
      "metadata": {
        "colab": {
          "base_uri": "https://localhost:8080/"
        },
        "id": "UHU2lQrxfe0o",
        "outputId": "62ce80d0-647b-4246-a895-035f385fdba5"
      },
      "execution_count": null,
      "outputs": [
        {
          "output_type": "stream",
          "name": "stdout",
          "text": [
            "(0, 0)\n",
            "(1, 0)\n",
            "(1, 1)\n",
            "(2, 0)\n",
            "(2, 1)\n",
            "(2, 2)\n",
            "(3, 0)\n",
            "(3, 1)\n",
            "(3, 2)\n",
            "(3, 3)\n"
          ]
        }
      ]
    },
    {
      "cell_type": "code",
      "source": [
        "# 컬렉션의 원소나 이터레이터가 순차적인 자료(예를 들면 튜플이나 리스트)라면 for문 안에서 여러 개의 변수로 꺼낼 수 있다. "
      ],
      "metadata": {
        "id": "ZUqCEshrfmcn"
      },
      "execution_count": null,
      "outputs": []
    },
    {
      "cell_type": "code",
      "source": [
        "# for a, b, c in iterator:\n",
        "  # 필요한 코드 작성"
      ],
      "metadata": {
        "id": "UOUA7VEMf0Di"
      },
      "execution_count": null,
      "outputs": []
    },
    {
      "cell_type": "code",
      "source": [
        "# while 문"
      ],
      "metadata": {
        "id": "mEZJOHLMf83D"
      },
      "execution_count": null,
      "outputs": []
    },
    {
      "cell_type": "code",
      "source": [
        "# while 문은 조건을 명시하여 해당 조건이 False가 되거나 break 문을 사용해서 명시적으로 반복을 끝낼 때까지 블록 내의 코드를 수행한다. "
      ],
      "metadata": {
        "id": "13ZXHHlyhHWf"
      },
      "execution_count": null,
      "outputs": []
    },
    {
      "cell_type": "code",
      "source": [
        "x = 256\n",
        "total = 0\n",
        "while x > 0:\n",
        "  if total > 500:\n",
        "    break\n",
        "  total += x\n",
        "  x = x // 2"
      ],
      "metadata": {
        "id": "wYLXJmy1hQwz"
      },
      "execution_count": null,
      "outputs": []
    },
    {
      "cell_type": "code",
      "source": [
        "# pass"
      ],
      "metadata": {
        "id": "YGn485UAhjmB"
      },
      "execution_count": null,
      "outputs": []
    },
    {
      "cell_type": "code",
      "source": [
        "# 파이썬에서 pass는 아무 것도 하지 않음을 나타낸다. 이는 블록 내에서 어떤 작업도 실행하지 않을 때 사용한다(또는 아직 구현하지 않은 코드를 나중에 추가하기 위한 플레이스홀더 용도로 사용한다.)\n",
        "# pass를 사용하는 이유는 파이썬이 공백 문자를 블록을 구분하는 데 사용하기 때문이다."
      ],
      "metadata": {
        "id": "3HH8LcrFiI49"
      },
      "execution_count": null,
      "outputs": []
    },
    {
      "cell_type": "code",
      "source": [
        "if x < 0:\n",
        "  print(\"negative!\")\n",
        "elif x == 0:\n",
        "  #TODO: 여기에 내용 채울 것\n",
        "  pass\n",
        "else:\n",
        "  print(\"positive!\")"
      ],
      "metadata": {
        "colab": {
          "base_uri": "https://localhost:8080/"
        },
        "id": "VTH6G4vEiULJ",
        "outputId": "06efd877-cf4a-4c6a-a361-3b92de1fd87e"
      },
      "execution_count": null,
      "outputs": [
        {
          "output_type": "stream",
          "name": "stdout",
          "text": [
            "positive!\n"
          ]
        }
      ]
    },
    {
      "cell_type": "code",
      "source": [
        "# range"
      ],
      "metadata": {
        "id": "nK4FmIaCiyBb"
      },
      "execution_count": null,
      "outputs": []
    },
    {
      "cell_type": "code",
      "source": [
        "# range 함수는 연속된 정수를 넘겨주는 이터레이터를 반환한다. "
      ],
      "metadata": {
        "id": "c1jcJQZ7i0jI"
      },
      "execution_count": null,
      "outputs": []
    },
    {
      "cell_type": "code",
      "source": [
        "range(10)"
      ],
      "metadata": {
        "colab": {
          "base_uri": "https://localhost:8080/"
        },
        "id": "UzDrpzM4i9Ff",
        "outputId": "2247ea0f-c6f1-469e-bd0a-9592ad4eaa8a"
      },
      "execution_count": null,
      "outputs": [
        {
          "output_type": "execute_result",
          "data": {
            "text/plain": [
              "range(0, 10)"
            ]
          },
          "metadata": {},
          "execution_count": 203
        }
      ]
    },
    {
      "cell_type": "code",
      "source": [
        "list(range(10))"
      ],
      "metadata": {
        "colab": {
          "base_uri": "https://localhost:8080/"
        },
        "id": "ywmF5hUWi-U4",
        "outputId": "b6327b5e-793c-4e16-832e-68649fb0abdb"
      },
      "execution_count": null,
      "outputs": [
        {
          "output_type": "execute_result",
          "data": {
            "text/plain": [
              "[0, 1, 2, 3, 4, 5, 6, 7, 8, 9]"
            ]
          },
          "metadata": {},
          "execution_count": 204
        }
      ]
    },
    {
      "cell_type": "code",
      "source": [
        "# start, end, step(음수가 될 수도 있다) 값을 지정할 수 있다."
      ],
      "metadata": {
        "id": "7XfjPYwMi_-X"
      },
      "execution_count": null,
      "outputs": []
    },
    {
      "cell_type": "code",
      "source": [
        "list(range(0, 20, 2))"
      ],
      "metadata": {
        "colab": {
          "base_uri": "https://localhost:8080/"
        },
        "id": "W5iSid3juHIJ",
        "outputId": "f584ea63-8869-4bde-d644-6e07c7b88f26"
      },
      "execution_count": null,
      "outputs": [
        {
          "output_type": "execute_result",
          "data": {
            "text/plain": [
              "[0, 2, 4, 6, 8, 10, 12, 14, 16, 18]"
            ]
          },
          "metadata": {},
          "execution_count": 206
        }
      ]
    },
    {
      "cell_type": "code",
      "source": [
        "list(range(5, 0, -1))"
      ],
      "metadata": {
        "colab": {
          "base_uri": "https://localhost:8080/"
        },
        "id": "5qghewr2um6_",
        "outputId": "730c397a-8cfe-4c5d-dbde-dfd4746f92a2"
      },
      "execution_count": null,
      "outputs": [
        {
          "output_type": "execute_result",
          "data": {
            "text/plain": [
              "[5, 4, 3, 2, 1]"
            ]
          },
          "metadata": {},
          "execution_count": 207
        }
      ]
    },
    {
      "cell_type": "code",
      "source": [
        "# 위에서 알 수 있듯이 range는 마지막 값 바로 이전 정수까지의 값을 반환한다. range 함수는 일반적으로 색인으로 시퀀스를 반복하기 위해 사용한다."
      ],
      "metadata": {
        "id": "G9CiMcCuurNI"
      },
      "execution_count": null,
      "outputs": []
    },
    {
      "cell_type": "code",
      "source": [
        "seq = [1, 2, 3, 4]"
      ],
      "metadata": {
        "id": "zI320czku1wz"
      },
      "execution_count": null,
      "outputs": []
    },
    {
      "cell_type": "code",
      "source": [
        "for i in range(len(seq)):\n",
        "  val = seq[i]"
      ],
      "metadata": {
        "id": "bgw7Nf96u4Bt"
      },
      "execution_count": null,
      "outputs": []
    },
    {
      "cell_type": "code",
      "source": [
        "# list같은 함수를 이용해서 range 함수에서 생성되는 모든 정수를 다른 자료구조에 저장할 수도 있지만 보통은 기본적인 이터레이터의 용법으로 사용하게 될 것이다.\n",
        "# 아래 코드 예제는 0부터 99,999까지 모든 정수 중에서 3 또는 5의 배수를 모두 더한다."
      ],
      "metadata": {
        "id": "1V4A4S8su_A3"
      },
      "execution_count": null,
      "outputs": []
    },
    {
      "cell_type": "code",
      "source": [
        "sum = 0\n",
        "for i in range(100000):\n",
        "  # %는 나머지 연산자다.\n",
        "  if i % 3 == 0 or i % 5 == 0:\n",
        "    sum += i"
      ],
      "metadata": {
        "id": "kaaaW9YsvJBq"
      },
      "execution_count": null,
      "outputs": []
    },
    {
      "cell_type": "code",
      "source": [
        "# range 함수는 임의 크기로 값을 생성해낼 수 있지만 메모리 사용량은 매우 적다."
      ],
      "metadata": {
        "id": "ByI6IlmQwLFY"
      },
      "execution_count": null,
      "outputs": []
    },
    {
      "cell_type": "code",
      "source": [
        "# 삼항 표현식"
      ],
      "metadata": {
        "id": "oaxqxMwDwszX"
      },
      "execution_count": null,
      "outputs": []
    },
    {
      "cell_type": "code",
      "source": [
        "# 파이썬의 삼항 표현식은 if-else 블록을 한 줄로 표현할 수 있도록 한다. 문법은 아래와 같다."
      ],
      "metadata": {
        "id": "gAhtmiCnwtx8"
      },
      "execution_count": null,
      "outputs": []
    },
    {
      "cell_type": "code",
      "source": [
        "# value = true-expr if condition else false-expr"
      ],
      "metadata": {
        "id": "rTGvjuMbw2gL"
      },
      "execution_count": null,
      "outputs": []
    },
    {
      "cell_type": "code",
      "source": [
        "# 여기서 true-expr과 false-expr은 어떤 파이썬 표현이라도 상관없다. 삼항 표현식은 아래 코드와 동일하게 작동한다. "
      ],
      "metadata": {
        "id": "Ti6UrZegy00G"
      },
      "execution_count": null,
      "outputs": []
    },
    {
      "cell_type": "code",
      "source": [
        "# if condition:\n",
        "  # value = true-expr\n",
        "# else:\n",
        "  # value = false-expr"
      ],
      "metadata": {
        "id": "cwKYNLWmy_wW"
      },
      "execution_count": null,
      "outputs": []
    },
    {
      "cell_type": "code",
      "source": [
        "# 다음 예제를 보자"
      ],
      "metadata": {
        "id": "fGwnlMd5zIb1"
      },
      "execution_count": null,
      "outputs": []
    },
    {
      "cell_type": "code",
      "source": [
        "x = 5"
      ],
      "metadata": {
        "id": "mBSa2k2KzqiZ"
      },
      "execution_count": null,
      "outputs": []
    },
    {
      "cell_type": "code",
      "source": [
        "\"Non-negative\" if x >= 0 else \"Negative\""
      ],
      "metadata": {
        "colab": {
          "base_uri": "https://localhost:8080/",
          "height": 35
        },
        "id": "VfdEfxhnzsG6",
        "outputId": "b726c893-2717-4edb-9d4c-9ac71f38d87d"
      },
      "execution_count": null,
      "outputs": [
        {
          "output_type": "execute_result",
          "data": {
            "text/plain": [
              "'Non-negative'"
            ],
            "application/vnd.google.colaboratory.intrinsic+json": {
              "type": "string"
            }
          },
          "metadata": {},
          "execution_count": 221
        }
      ]
    },
    {
      "cell_type": "code",
      "source": [
        "# 삼항 표현식은 if-else 블록처럼 조건이 참인 경우의 표현식만 실행된다. 따라서 삼항 표현식에서 if와 else에 비용이 많이 드는 계산이 올 수 있으며 조건이 참인 파이썬 표현만 실행된다."
      ],
      "metadata": {
        "id": "DU_vEoMTzyNH"
      },
      "execution_count": null,
      "outputs": []
    },
    {
      "cell_type": "code",
      "source": [
        "# Chapter 3 - 내장 자료구조, 함수, 파일"
      ],
      "metadata": {
        "id": "X4fULcwp0Aw0"
      },
      "execution_count": null,
      "outputs": []
    },
    {
      "cell_type": "code",
      "source": [
        "# 3.1 자료구조와 순차 자료형"
      ],
      "metadata": {
        "id": "E8oa0RFH0LLa"
      },
      "execution_count": null,
      "outputs": []
    },
    {
      "cell_type": "code",
      "source": [
        "# 파이썬의 자료구조는 단순하지만 강력하다. 자료구조의 사용법을 숙지하는 것이 파이썬의 고수가 되는 지름길이다."
      ],
      "metadata": {
        "id": "VRanmTJQ4Bsh"
      },
      "execution_count": null,
      "outputs": []
    },
    {
      "cell_type": "code",
      "source": [
        "# 3.1.1 튜플"
      ],
      "metadata": {
        "id": "hXovojvR4KVm"
      },
      "execution_count": null,
      "outputs": []
    },
    {
      "cell_type": "code",
      "source": [
        "# 튜플은 1차원의 고정된 크기를 가지는 변경 불가능한 순차 자료형이다. 튜플을 생성하는 가장 쉬운 방법은 쉼표로 구분된 값을 대입하는 것이다."
      ],
      "metadata": {
        "id": "kbqxPubw4MuT"
      },
      "execution_count": null,
      "outputs": []
    },
    {
      "cell_type": "code",
      "source": [
        "tup = 4, 5, 6"
      ],
      "metadata": {
        "id": "WfhET8HH7MNt"
      },
      "execution_count": null,
      "outputs": []
    },
    {
      "cell_type": "code",
      "source": [
        "tup"
      ],
      "metadata": {
        "colab": {
          "base_uri": "https://localhost:8080/"
        },
        "id": "IrKbmq6w8CZu",
        "outputId": "aef43d0a-2b5b-4fa9-c0fb-f41f7987a749"
      },
      "execution_count": null,
      "outputs": [
        {
          "output_type": "execute_result",
          "data": {
            "text/plain": [
              "(4, 5, 6)"
            ]
          },
          "metadata": {},
          "execution_count": 229
        }
      ]
    },
    {
      "cell_type": "code",
      "source": [
        "# 괄호를 사용해서 값을 묶어줌으로써 중첩된 튜플을 정의할 수 있다. 아래 예제는 튜플의 튜플을 생성한다."
      ],
      "metadata": {
        "id": "sXZ_Nnfc8FWC"
      },
      "execution_count": null,
      "outputs": []
    },
    {
      "cell_type": "code",
      "source": [
        "nested_tup = (4, 5, 6), (7, 8)"
      ],
      "metadata": {
        "id": "C-F-1wxa8Lws"
      },
      "execution_count": null,
      "outputs": []
    },
    {
      "cell_type": "code",
      "source": [
        "nested_tup"
      ],
      "metadata": {
        "colab": {
          "base_uri": "https://localhost:8080/"
        },
        "id": "eeMSwPut8P5v",
        "outputId": "870f5b12-13b1-4b4e-91cd-3b22834342f5"
      },
      "execution_count": null,
      "outputs": [
        {
          "output_type": "execute_result",
          "data": {
            "text/plain": [
              "((4, 5, 6), (7, 8))"
            ]
          },
          "metadata": {},
          "execution_count": 232
        }
      ]
    },
    {
      "cell_type": "code",
      "source": [
        "# 모든 순차 자료형이나 이터레이터는 tuple 메서드를 호출해 튜플로 변환할 수 있다."
      ],
      "metadata": {
        "id": "Qwr0zMsT8R2N"
      },
      "execution_count": null,
      "outputs": []
    },
    {
      "cell_type": "code",
      "source": [
        "tuple([4, 0, 2])"
      ],
      "metadata": {
        "colab": {
          "base_uri": "https://localhost:8080/"
        },
        "id": "3EKlDqbX8gVo",
        "outputId": "a2e0977b-91d2-4b5f-a0fb-58f84b21a760"
      },
      "execution_count": null,
      "outputs": [
        {
          "output_type": "execute_result",
          "data": {
            "text/plain": [
              "(4, 0, 2)"
            ]
          },
          "metadata": {},
          "execution_count": 234
        }
      ]
    },
    {
      "cell_type": "code",
      "source": [
        "tup = tuple(\"string\")"
      ],
      "metadata": {
        "id": "GWahgKNC8jac"
      },
      "execution_count": null,
      "outputs": []
    },
    {
      "cell_type": "code",
      "source": [
        "tup"
      ],
      "metadata": {
        "colab": {
          "base_uri": "https://localhost:8080/"
        },
        "id": "XzylEx3X8mcl",
        "outputId": "46b46d88-f1a9-4852-be69-8d4182ab4c59"
      },
      "execution_count": null,
      "outputs": [
        {
          "output_type": "execute_result",
          "data": {
            "text/plain": [
              "('s', 't', 'r', 'i', 'n', 'g')"
            ]
          },
          "metadata": {},
          "execution_count": 236
        }
      ]
    },
    {
      "cell_type": "code",
      "source": [
        "# 튜플의 각 원소는 대괄호 []를 이용해서 다른 순차 자료형처럼 접근할 수 있다. C, C++, 자바 그리고 다른 많은 언어처럼 순차 자료형의 색인은 0부터 시작한다."
      ],
      "metadata": {
        "id": "SVwDkgym8oUw"
      },
      "execution_count": null,
      "outputs": []
    },
    {
      "cell_type": "code",
      "source": [
        "tup[0]"
      ],
      "metadata": {
        "colab": {
          "base_uri": "https://localhost:8080/",
          "height": 35
        },
        "id": "4mfbHOpc9auV",
        "outputId": "dd6ba870-a7c8-4d4d-e733-537e10a2416d"
      },
      "execution_count": null,
      "outputs": [
        {
          "output_type": "execute_result",
          "data": {
            "text/plain": [
              "'s'"
            ],
            "application/vnd.google.colaboratory.intrinsic+json": {
              "type": "string"
            }
          },
          "metadata": {},
          "execution_count": 238
        }
      ]
    },
    {
      "cell_type": "code",
      "source": [
        "# 튜플에 저장된 객체 자체는 변경이 가능하지만 한 번 생성되면 각 슬롯에 저장된 객체를 변경하는 것은 불가능하다. 다음 예제를 보자."
      ],
      "metadata": {
        "id": "o2syJuyr-SVm"
      },
      "execution_count": null,
      "outputs": []
    },
    {
      "cell_type": "code",
      "source": [
        "tup = tuple([\"foo\", [1, 2], True])"
      ],
      "metadata": {
        "id": "-w-MgDof-bEl"
      },
      "execution_count": null,
      "outputs": []
    },
    {
      "cell_type": "code",
      "source": [
        "tup[2] = False"
      ],
      "metadata": {
        "colab": {
          "base_uri": "https://localhost:8080/",
          "height": 173
        },
        "id": "Ofa_BSaO-gkG",
        "outputId": "c6a861bb-b2d3-402c-9481-5890003fcef2"
      },
      "execution_count": null,
      "outputs": [
        {
          "output_type": "error",
          "ename": "TypeError",
          "evalue": "ignored",
          "traceback": [
            "\u001b[0;31m---------------------------------------------------------------------------\u001b[0m",
            "\u001b[0;31mTypeError\u001b[0m                                 Traceback (most recent call last)",
            "\u001b[0;32m<ipython-input-241-b89d0c4ae599>\u001b[0m in \u001b[0;36m<module>\u001b[0;34m()\u001b[0m\n\u001b[0;32m----> 1\u001b[0;31m \u001b[0mtup\u001b[0m\u001b[0;34m[\u001b[0m\u001b[0;36m2\u001b[0m\u001b[0;34m]\u001b[0m \u001b[0;34m=\u001b[0m \u001b[0;32mFalse\u001b[0m\u001b[0;34m\u001b[0m\u001b[0;34m\u001b[0m\u001b[0m\n\u001b[0m",
            "\u001b[0;31mTypeError\u001b[0m: 'tuple' object does not support item assignment"
          ]
        }
      ]
    },
    {
      "cell_type": "code",
      "source": [
        "# 튜플 내에 저장된 객체는 그 위치에서 바로 변경이 가능하다. "
      ],
      "metadata": {
        "id": "OhK8e9JA-iHO"
      },
      "execution_count": null,
      "outputs": []
    },
    {
      "cell_type": "code",
      "source": [
        "tup[1].append(3)"
      ],
      "metadata": {
        "id": "s7i9AOi7A7tF"
      },
      "execution_count": null,
      "outputs": []
    },
    {
      "cell_type": "code",
      "source": [
        "tup"
      ],
      "metadata": {
        "id": "_c2_LVI-A_lN"
      },
      "execution_count": null,
      "outputs": []
    },
    {
      "cell_type": "code",
      "source": [
        "# + 연산자를 이용해서 튜플을 이어붙일 수 있다."
      ],
      "metadata": {
        "id": "bBKpoXnFBAYk"
      },
      "execution_count": null,
      "outputs": []
    },
    {
      "cell_type": "code",
      "source": [
        "(4, None, \"foo\") + (6, 0) + (\"bar\",)"
      ],
      "metadata": {
        "id": "wv5LcjTqBJAi"
      },
      "execution_count": null,
      "outputs": []
    },
    {
      "cell_type": "code",
      "source": [
        "# 튜플에 정수를 곱하면 리스트와 마찬가지로 튜플의 복사본이 반복되어 늘어난다."
      ],
      "metadata": {
        "id": "MOonXml0BO5c"
      },
      "execution_count": null,
      "outputs": []
    },
    {
      "cell_type": "code",
      "source": [
        "(\"foo\", \"bar\") * 4"
      ],
      "metadata": {
        "id": "RanlsKo5BaJb"
      },
      "execution_count": null,
      "outputs": []
    },
    {
      "cell_type": "code",
      "source": [
        "# 튜플 안에 있는 객체는 복사되지 않고 그 객체에 대한 참조만 복사된다는 점을 기억하자."
      ],
      "metadata": {
        "id": "qtTLo05wBdFK"
      },
      "execution_count": null,
      "outputs": []
    },
    {
      "cell_type": "code",
      "source": [
        "# 튜플에서 값 분리하기"
      ],
      "metadata": {
        "id": "B3bPrY-3Blfw"
      },
      "execution_count": null,
      "outputs": []
    },
    {
      "cell_type": "code",
      "source": [
        "# 만일 튜플과 같은 표현의 변수에 튜플을 대입하면 파이썬은 등호(=) 오른쪽에 있는 변수에서 값을 분리한다."
      ],
      "metadata": {
        "id": "bljewRoJBpvI"
      },
      "execution_count": null,
      "outputs": []
    },
    {
      "cell_type": "code",
      "source": [
        "tup = (4, 5, 6)"
      ],
      "metadata": {
        "id": "kcWc75uSGPVY"
      },
      "execution_count": null,
      "outputs": []
    },
    {
      "cell_type": "code",
      "source": [
        "a, b, c = tup"
      ],
      "metadata": {
        "id": "0cxQtRBBGQwz"
      },
      "execution_count": null,
      "outputs": []
    },
    {
      "cell_type": "code",
      "source": [
        "b"
      ],
      "metadata": {
        "id": "lr9lKRwNGSbq"
      },
      "execution_count": null,
      "outputs": []
    },
    {
      "cell_type": "code",
      "source": [
        "# 중첩된 튜플을 포함하는 순차 자료형에서도 값을 분리해낼 수 있다."
      ],
      "metadata": {
        "id": "Km-oKrWPGTNk"
      },
      "execution_count": null,
      "outputs": []
    },
    {
      "cell_type": "code",
      "source": [
        "tup = 4, 5, (6, 7)"
      ],
      "metadata": {
        "id": "bjSS8oZFGax-"
      },
      "execution_count": null,
      "outputs": []
    },
    {
      "cell_type": "code",
      "source": [
        "a, b, (c, d) = tup"
      ],
      "metadata": {
        "id": "9GrBmSueGc5x"
      },
      "execution_count": null,
      "outputs": []
    },
    {
      "cell_type": "code",
      "source": [
        "d"
      ],
      "metadata": {
        "colab": {
          "base_uri": "https://localhost:8080/"
        },
        "id": "yxHYw9aOGgKh",
        "outputId": "45e1ab0b-f396-4ba1-9256-01f4753a10a1"
      },
      "execution_count": null,
      "outputs": [
        {
          "output_type": "execute_result",
          "data": {
            "text/plain": [
              "7"
            ]
          },
          "metadata": {},
          "execution_count": 245
        }
      ]
    },
    {
      "cell_type": "code",
      "source": [
        "# 이 기능을 사용하면 변수의 이름을 바꿀 때 다른 언어에서는 아래처럼 처리하는 것을 쉽게 해결할 수 있다. "
      ],
      "metadata": {
        "id": "NeU5XarhGgsU"
      },
      "execution_count": null,
      "outputs": []
    },
    {
      "cell_type": "code",
      "source": [
        "# tma = a\n",
        "# a = b\n",
        "# b = tmp"
      ],
      "metadata": {
        "id": "lJUzw5KBGmrf"
      },
      "execution_count": null,
      "outputs": []
    },
    {
      "cell_type": "code",
      "source": [
        "# 즉, 파이썬에서는 다음과 같이 하여 두 변수의 값을 쉽게 바꿀 수 있다."
      ],
      "metadata": {
        "id": "zC63yV3YGqn7"
      },
      "execution_count": null,
      "outputs": []
    },
    {
      "cell_type": "code",
      "source": [
        "a, b = 1, 2"
      ],
      "metadata": {
        "id": "dYeLhi8cGxqm"
      },
      "execution_count": null,
      "outputs": []
    },
    {
      "cell_type": "code",
      "source": [
        "a"
      ],
      "metadata": {
        "colab": {
          "base_uri": "https://localhost:8080/"
        },
        "id": "Zicia4gSG0qh",
        "outputId": "62808fd5-9554-4144-df70-04adea8c0a9c"
      },
      "execution_count": null,
      "outputs": [
        {
          "output_type": "execute_result",
          "data": {
            "text/plain": [
              "1"
            ]
          },
          "metadata": {},
          "execution_count": 250
        }
      ]
    },
    {
      "cell_type": "code",
      "source": [
        "b"
      ],
      "metadata": {
        "colab": {
          "base_uri": "https://localhost:8080/"
        },
        "id": "Dqck4FiWG034",
        "outputId": "5d985420-34f3-47f6-cc5a-081e18574966"
      },
      "execution_count": null,
      "outputs": [
        {
          "output_type": "execute_result",
          "data": {
            "text/plain": [
              "2"
            ]
          },
          "metadata": {},
          "execution_count": 251
        }
      ]
    },
    {
      "cell_type": "code",
      "source": [
        "b, a, = a, b"
      ],
      "metadata": {
        "id": "IEolfoVxG1wM"
      },
      "execution_count": null,
      "outputs": []
    },
    {
      "cell_type": "code",
      "source": [
        "a"
      ],
      "metadata": {
        "colab": {
          "base_uri": "https://localhost:8080/"
        },
        "id": "bdDVZVZuG3Cd",
        "outputId": "9d72ff88-3a4c-465d-c13e-7f4c6bbb6e14"
      },
      "execution_count": null,
      "outputs": [
        {
          "output_type": "execute_result",
          "data": {
            "text/plain": [
              "2"
            ]
          },
          "metadata": {},
          "execution_count": 253
        }
      ]
    },
    {
      "cell_type": "code",
      "source": [
        "b"
      ],
      "metadata": {
        "colab": {
          "base_uri": "https://localhost:8080/"
        },
        "id": "KsYGVH-JG3kH",
        "outputId": "618a5a74-a7fa-42d5-91c9-4b634319302e"
      },
      "execution_count": null,
      "outputs": [
        {
          "output_type": "execute_result",
          "data": {
            "text/plain": [
              "1"
            ]
          },
          "metadata": {},
          "execution_count": 254
        }
      ]
    },
    {
      "cell_type": "code",
      "source": [
        "# 튜플이나 리스트를 순회할 때도 흔히 이 기능을 활용한다."
      ],
      "metadata": {
        "id": "vT8PXo9JG4CY"
      },
      "execution_count": null,
      "outputs": []
    },
    {
      "cell_type": "code",
      "source": [
        "seq = [(1, 2, 3), (4, 5, 6), (7, 8, 9)]"
      ],
      "metadata": {
        "id": "kpF09J9LG9Si"
      },
      "execution_count": null,
      "outputs": []
    },
    {
      "cell_type": "code",
      "source": [
        "for a, b, c in seq:\n",
        "  print(\"a = {0}, b = {1}, c = {2}\".format(a, b, c))"
      ],
      "metadata": {
        "colab": {
          "base_uri": "https://localhost:8080/"
        },
        "id": "34Wt9ZcOHCKT",
        "outputId": "2fa37ba1-acc1-495c-bbd7-b2c6791b12a8"
      },
      "execution_count": null,
      "outputs": [
        {
          "output_type": "stream",
          "name": "stdout",
          "text": [
            "a = 1, b = 2, c = 3\n",
            "a = 4, b = 5, c = 6\n",
            "a = 7, b = 8, c = 9\n"
          ]
        }
      ]
    },
    {
      "cell_type": "code",
      "source": [
        "# 이 기능은 함수에서 여러 개의 값을 반환할 때도 자주 사용하는데 이는 나중에 다시 살펴보겠다."
      ],
      "metadata": {
        "id": "8iCvCymsHORf"
      },
      "execution_count": null,
      "outputs": []
    },
    {
      "cell_type": "code",
      "source": [
        "# 파이썬은 최근에 튜플의 처음 몇몇 값을 \"끄집어내야\" 하는 상황을 위해 튜플에서 값을 분리하는 좀 더 진보된 방법을 수용했다. 이 경우 특수한 문법인 *rest를 사용해야 한다.\n",
        "# 이는 함수의 시그니처에서 길이를 알 수 없는 긴 인자를 담기 위한 방법으로도 사용된다."
      ],
      "metadata": {
        "id": "ReBel5XiHUrd"
      },
      "execution_count": null,
      "outputs": []
    },
    {
      "cell_type": "code",
      "source": [
        "values = 1, 2, 3, 4, 5"
      ],
      "metadata": {
        "id": "Df9cMyOmJLAr"
      },
      "execution_count": null,
      "outputs": []
    },
    {
      "cell_type": "code",
      "source": [
        "a, b, *rest = values"
      ],
      "metadata": {
        "id": "VYN7djB4JNsK"
      },
      "execution_count": null,
      "outputs": []
    },
    {
      "cell_type": "code",
      "source": [
        "a, b"
      ],
      "metadata": {
        "colab": {
          "base_uri": "https://localhost:8080/"
        },
        "id": "3wvPPbZOJQob",
        "outputId": "c0120e74-5297-4845-996b-85dc78942a74"
      },
      "execution_count": null,
      "outputs": [
        {
          "output_type": "execute_result",
          "data": {
            "text/plain": [
              "(1, 2)"
            ]
          },
          "metadata": {},
          "execution_count": 262
        }
      ]
    },
    {
      "cell_type": "code",
      "source": [
        "rest"
      ],
      "metadata": {
        "colab": {
          "base_uri": "https://localhost:8080/"
        },
        "id": "71PDDSuTJQ_t",
        "outputId": "50351919-3736-4e1d-cad0-49cfe05e1ea7"
      },
      "execution_count": null,
      "outputs": [
        {
          "output_type": "execute_result",
          "data": {
            "text/plain": [
              "[3, 4, 5]"
            ]
          },
          "metadata": {},
          "execution_count": 263
        }
      ]
    },
    {
      "cell_type": "code",
      "source": [
        "# rest는 필요 없는 값을 무시하기 위해 사용하기도 한다. rest라는 이름 자체에는 특별한 의미가 없다. 불필요한 변수라는 것을 나타내기 위해 _를 사용하는 관습도 있다."
      ],
      "metadata": {
        "id": "cDRKYDsPJSMa"
      },
      "execution_count": null,
      "outputs": []
    },
    {
      "cell_type": "code",
      "source": [
        "a, b, *_ = values"
      ],
      "metadata": {
        "id": "YtCHYYLvKKWA"
      },
      "execution_count": null,
      "outputs": []
    },
    {
      "cell_type": "code",
      "source": [
        "# 튜플 메서드"
      ],
      "metadata": {
        "id": "8YhLvR-xKNni"
      },
      "execution_count": null,
      "outputs": []
    },
    {
      "cell_type": "code",
      "source": [
        "# 튜플의 크기와 내용은 변경 불가능하므로 인스턴스 메서드가 많지 않다. 유용하게 사용되는 메서드 중 하나는 주어진 값과 같은 값이 몇 개 있는지 반환하는 count 메서드다.(리스트에서도 사용가능)"
      ],
      "metadata": {
        "id": "CJOCUuvzKQf3"
      },
      "execution_count": null,
      "outputs": []
    },
    {
      "cell_type": "code",
      "source": [
        "a = (1, 2, 2, 2, 3, 4, 2)"
      ],
      "metadata": {
        "id": "5G3L24_8K_mu"
      },
      "execution_count": null,
      "outputs": []
    },
    {
      "cell_type": "code",
      "source": [
        "a.count(2)"
      ],
      "metadata": {
        "colab": {
          "base_uri": "https://localhost:8080/"
        },
        "id": "P8FechHMLCJK",
        "outputId": "2b8a904a-c9ee-4811-e185-77f2792c9467"
      },
      "execution_count": null,
      "outputs": [
        {
          "output_type": "execute_result",
          "data": {
            "text/plain": [
              "4"
            ]
          },
          "metadata": {},
          "execution_count": 269
        }
      ]
    },
    {
      "cell_type": "code",
      "source": [
        "# 3.1.2 리스트"
      ],
      "metadata": {
        "id": "k2cbVRzkLDG9"
      },
      "execution_count": null,
      "outputs": []
    },
    {
      "cell_type": "code",
      "source": [
        "# 튜플과는 대조적으로 리스트는 크기나 내용의 변경이 가능하다. 리스트는 대괄호 []나 list 함수를 사용해서 생성할 수 있다. "
      ],
      "metadata": {
        "id": "zK-R0VSoLGeK"
      },
      "execution_count": null,
      "outputs": []
    },
    {
      "cell_type": "code",
      "source": [
        "a_list = [2, 3, 7, None]"
      ],
      "metadata": {
        "id": "AXRty1LI-vkU"
      },
      "execution_count": null,
      "outputs": []
    },
    {
      "cell_type": "code",
      "source": [
        "tup = (\"foo\", \"bar\", \"baz\")"
      ],
      "metadata": {
        "id": "F4nwbsKY-yW8"
      },
      "execution_count": null,
      "outputs": []
    },
    {
      "cell_type": "code",
      "source": [
        "b_list = list(tup)"
      ],
      "metadata": {
        "id": "nmbkqRVb-2tX"
      },
      "execution_count": null,
      "outputs": []
    },
    {
      "cell_type": "code",
      "source": [
        "b_list"
      ],
      "metadata": {
        "colab": {
          "base_uri": "https://localhost:8080/"
        },
        "id": "YOHxin1B-5Zm",
        "outputId": "bc7ca5cc-d36c-4569-acc3-4a31e37d1a60"
      },
      "execution_count": null,
      "outputs": [
        {
          "output_type": "execute_result",
          "data": {
            "text/plain": [
              "['foo', 'bar', 'baz']"
            ]
          },
          "metadata": {},
          "execution_count": 275
        }
      ]
    },
    {
      "cell_type": "code",
      "source": [
        "b_list[1] = \"peekaboo\""
      ],
      "metadata": {
        "id": "HOQ8tIA--8VU"
      },
      "execution_count": null,
      "outputs": []
    },
    {
      "cell_type": "code",
      "source": [
        "b_list"
      ],
      "metadata": {
        "colab": {
          "base_uri": "https://localhost:8080/"
        },
        "id": "HIJY9Om_--rw",
        "outputId": "7b3ef4e8-703e-4356-ac51-05057dbf22f3"
      },
      "execution_count": null,
      "outputs": [
        {
          "output_type": "execute_result",
          "data": {
            "text/plain": [
              "['foo', 'peekaboo', 'baz']"
            ]
          },
          "metadata": {},
          "execution_count": 277
        }
      ]
    },
    {
      "cell_type": "code",
      "source": [
        "# 리스트와 튜플은 의미적으로 비슷한(비록 튜플은 수정할 수 없지만) 객체의 1차원 순차 자료형이며 많은 함수에서 교차적으로 사용할 수 있다."
      ],
      "metadata": {
        "id": "XVU7ladp_FId"
      },
      "execution_count": null,
      "outputs": []
    },
    {
      "cell_type": "code",
      "source": [
        "# list 함수는 이터레이터나 제너레이터 표현에서 실제 값을 모두 담기 위한 용도로도 자주 사용된다."
      ],
      "metadata": {
        "id": "4Cb_UXbeDVhX"
      },
      "execution_count": null,
      "outputs": []
    },
    {
      "cell_type": "code",
      "source": [
        "gen = range(10)"
      ],
      "metadata": {
        "id": "6JHiod3dED0N"
      },
      "execution_count": null,
      "outputs": []
    },
    {
      "cell_type": "code",
      "source": [
        "gen"
      ],
      "metadata": {
        "colab": {
          "base_uri": "https://localhost:8080/"
        },
        "id": "2NluDYb1EGOL",
        "outputId": "8899c931-811c-4e68-e2e9-0cd3c592b571"
      },
      "execution_count": null,
      "outputs": [
        {
          "output_type": "execute_result",
          "data": {
            "text/plain": [
              "range(0, 10)"
            ]
          },
          "metadata": {},
          "execution_count": 281
        }
      ]
    },
    {
      "cell_type": "code",
      "source": [
        "list(gen)"
      ],
      "metadata": {
        "colab": {
          "base_uri": "https://localhost:8080/"
        },
        "id": "AIl85QjOEHBh",
        "outputId": "41b15ac0-6786-42d9-90fa-7b567a0d1d49"
      },
      "execution_count": null,
      "outputs": [
        {
          "output_type": "execute_result",
          "data": {
            "text/plain": [
              "[0, 1, 2, 3, 4, 5, 6, 7, 8, 9]"
            ]
          },
          "metadata": {},
          "execution_count": 282
        }
      ]
    },
    {
      "cell_type": "code",
      "source": [
        "# 원소 추가하고 삭제하기"
      ],
      "metadata": {
        "id": "Qp84N30-EJ97"
      },
      "execution_count": null,
      "outputs": []
    },
    {
      "cell_type": "code",
      "source": [
        "# append 메서드를 사용해서 리스트의 끝에 새로운 값을 추가할 수 있다."
      ],
      "metadata": {
        "id": "flkGngGhEV1V"
      },
      "execution_count": null,
      "outputs": []
    },
    {
      "cell_type": "code",
      "source": [
        "b_list.append(\"dwarf\")"
      ],
      "metadata": {
        "id": "jQy6ruzAEMLe"
      },
      "execution_count": null,
      "outputs": []
    },
    {
      "cell_type": "code",
      "source": [
        "b_list"
      ],
      "metadata": {
        "colab": {
          "base_uri": "https://localhost:8080/"
        },
        "id": "RpPBjBhFEQLO",
        "outputId": "250c4961-8c22-456a-ddfc-f238e7f54d36"
      },
      "execution_count": null,
      "outputs": [
        {
          "output_type": "execute_result",
          "data": {
            "text/plain": [
              "['foo', 'peekaboo', 'baz', 'dwarf']"
            ]
          },
          "metadata": {},
          "execution_count": 286
        }
      ]
    },
    {
      "cell_type": "code",
      "source": [
        "# insert 메서드를 사용해서 리스트의 특정 위치에 값을 추가할 수 있다."
      ],
      "metadata": {
        "id": "KKy96lLFERX5"
      },
      "execution_count": null,
      "outputs": []
    },
    {
      "cell_type": "code",
      "source": [
        "b_list.insert(1, \"red\")"
      ],
      "metadata": {
        "id": "Voqz1av4Ehp2"
      },
      "execution_count": null,
      "outputs": []
    },
    {
      "cell_type": "code",
      "source": [
        "b_list"
      ],
      "metadata": {
        "colab": {
          "base_uri": "https://localhost:8080/"
        },
        "id": "MSYEL7_LEkzu",
        "outputId": "12b7f68d-5430-4c14-ea70-becceea2f95a"
      },
      "execution_count": null,
      "outputs": [
        {
          "output_type": "execute_result",
          "data": {
            "text/plain": [
              "['foo', 'red', 'peekaboo', 'baz', 'dwarf']"
            ]
          },
          "metadata": {},
          "execution_count": 289
        }
      ]
    },
    {
      "cell_type": "code",
      "source": [
        "# 값을 추가하려는 위치는 0부터 리스트 길이까지의 값이어야 한다."
      ],
      "metadata": {
        "id": "mWblHHv1ElkN"
      },
      "execution_count": null,
      "outputs": []
    },
    {
      "cell_type": "code",
      "source": [
        "# insert 메서드와 반대 개념으로 pop 메서드가 있다. pop 메서드는 특정 위치의 값을 반환하고 해당 값을 리스트에서 삭제한다."
      ],
      "metadata": {
        "id": "xXWKQkJvEr8x"
      },
      "execution_count": null,
      "outputs": []
    },
    {
      "cell_type": "code",
      "source": [
        "b_list.pop(2)"
      ],
      "metadata": {
        "colab": {
          "base_uri": "https://localhost:8080/",
          "height": 35
        },
        "id": "xfh6GWt8EyY5",
        "outputId": "f11d1d6c-6c22-4e1c-89a2-5a8da5242294"
      },
      "execution_count": null,
      "outputs": [
        {
          "output_type": "execute_result",
          "data": {
            "text/plain": [
              "'peekaboo'"
            ],
            "application/vnd.google.colaboratory.intrinsic+json": {
              "type": "string"
            }
          },
          "metadata": {},
          "execution_count": 292
        }
      ]
    },
    {
      "cell_type": "code",
      "source": [
        "b_list"
      ],
      "metadata": {
        "colab": {
          "base_uri": "https://localhost:8080/"
        },
        "id": "g7tOQk9WE7cJ",
        "outputId": "594e574d-8675-4d44-d9df-482bb5af0141"
      },
      "execution_count": null,
      "outputs": [
        {
          "output_type": "execute_result",
          "data": {
            "text/plain": [
              "['foo', 'red', 'baz', 'dwarf']"
            ]
          },
          "metadata": {},
          "execution_count": 293
        }
      ]
    },
    {
      "cell_type": "code",
      "source": [
        "# remove 메서드를 이용해서 원소를 삭제할 수 있는데, 삭제는 리스트에서 제일 앞에 위치한 값부터 이루어진다."
      ],
      "metadata": {
        "id": "XsMnh10xE9S_"
      },
      "execution_count": null,
      "outputs": []
    },
    {
      "cell_type": "code",
      "source": [
        "b_list.append(\"foo\")"
      ],
      "metadata": {
        "id": "kXYcxWtxGT3N"
      },
      "execution_count": null,
      "outputs": []
    },
    {
      "cell_type": "code",
      "source": [
        "b_list"
      ],
      "metadata": {
        "colab": {
          "base_uri": "https://localhost:8080/"
        },
        "id": "DM1kBIZIGXK3",
        "outputId": "7c768a4e-1b0a-4d77-8e4e-2673bfb5801b"
      },
      "execution_count": null,
      "outputs": [
        {
          "output_type": "execute_result",
          "data": {
            "text/plain": [
              "['foo', 'red', 'baz', 'dwarf', 'foo']"
            ]
          },
          "metadata": {},
          "execution_count": 296
        }
      ]
    },
    {
      "cell_type": "code",
      "source": [
        "b_list.remove(\"foo\")"
      ],
      "metadata": {
        "id": "72XRe-WgGYdx"
      },
      "execution_count": null,
      "outputs": []
    },
    {
      "cell_type": "code",
      "source": [
        "b_list"
      ],
      "metadata": {
        "colab": {
          "base_uri": "https://localhost:8080/"
        },
        "id": "MObjxU3xGdpt",
        "outputId": "b9ab9221-08fd-4f01-fc52-45f80dfafa20"
      },
      "execution_count": null,
      "outputs": [
        {
          "output_type": "execute_result",
          "data": {
            "text/plain": [
              "['red', 'baz', 'dwarf', 'foo']"
            ]
          },
          "metadata": {},
          "execution_count": 298
        }
      ]
    },
    {
      "cell_type": "code",
      "source": [
        "# 성능이 큰 문제가 되지 않는다면 append와 remove 메서드를 사용해서 파이썬의 리스트를 여러 종류의 데이터를 담을 수 있는 자료구조로 사용할 수 있다."
      ],
      "metadata": {
        "id": "Ews8zLeNGerw"
      },
      "execution_count": null,
      "outputs": []
    },
    {
      "cell_type": "code",
      "source": [
        "# in 예약어를 사용해서 리스트에 어떤 값이 있는지 검사할 수 있다. "
      ],
      "metadata": {
        "id": "BdWg-fUlLvJm"
      },
      "execution_count": null,
      "outputs": []
    },
    {
      "cell_type": "code",
      "source": [
        "\"dwarf\" in b_list"
      ],
      "metadata": {
        "colab": {
          "base_uri": "https://localhost:8080/"
        },
        "id": "LWTjTxtgODWh",
        "outputId": "cdd92131-00c6-43d4-a2f7-f3c792778eac"
      },
      "execution_count": null,
      "outputs": [
        {
          "output_type": "execute_result",
          "data": {
            "text/plain": [
              "True"
            ]
          },
          "metadata": {},
          "execution_count": 301
        }
      ]
    },
    {
      "cell_type": "code",
      "source": [
        "# not 예약어를 사용해서 in 예약어를 반대 의미로 사용할 수도 있다."
      ],
      "metadata": {
        "id": "G2XOgHSIOG16"
      },
      "execution_count": null,
      "outputs": []
    },
    {
      "cell_type": "code",
      "source": [
        "\"dwarf\" not in b_list"
      ],
      "metadata": {
        "colab": {
          "base_uri": "https://localhost:8080/"
        },
        "id": "GI25O6CKOfQ_",
        "outputId": "b6845e96-93fe-4f7b-b859-c737f890412c"
      },
      "execution_count": null,
      "outputs": [
        {
          "output_type": "execute_result",
          "data": {
            "text/plain": [
              "False"
            ]
          },
          "metadata": {},
          "execution_count": 303
        }
      ]
    },
    {
      "cell_type": "code",
      "source": [
        "# 리스트에 어떤 값이 있는지 검사하는것은 리스트의 모든 값을 일일이 검사해야 하므로 해시테이블을 사용한 파이썬의 사전이나 집합 자료구조처럼 즉각적으로 반환하지 않고 많이 느리다는 점을 기억하자."
      ],
      "metadata": {
        "id": "AVbJypVnOoFN"
      },
      "execution_count": null,
      "outputs": []
    },
    {
      "cell_type": "code",
      "source": [
        "# 리스트 이어붙이기"
      ],
      "metadata": {
        "id": "qc0qe68fQFcu"
      },
      "execution_count": null,
      "outputs": []
    },
    {
      "cell_type": "code",
      "source": [
        "# 튜플과 마찬가지로 + 연산자를 이용하면 두 개의 리스트를 합칠 수 있다."
      ],
      "metadata": {
        "id": "vh6260nIR00r"
      },
      "execution_count": null,
      "outputs": []
    },
    {
      "cell_type": "code",
      "source": [
        "[4, None, \"foo\"] + [7, 8, (2, 3)]"
      ],
      "metadata": {
        "colab": {
          "base_uri": "https://localhost:8080/"
        },
        "id": "0InF3vBKSZ4b",
        "outputId": "6f978f05-0b2d-4acf-a042-cb46b2253876"
      },
      "execution_count": null,
      "outputs": [
        {
          "output_type": "execute_result",
          "data": {
            "text/plain": [
              "[4, None, 'foo', 7, 8, (2, 3)]"
            ]
          },
          "metadata": {},
          "execution_count": 307
        }
      ]
    },
    {
      "cell_type": "code",
      "source": [
        "# 만일 리스트를 미리 정의해두었다면 extend 메서드를 사용해서 여러 개의 값을 추가할 수 있다."
      ],
      "metadata": {
        "id": "B8SBZmILSpvw"
      },
      "execution_count": null,
      "outputs": []
    },
    {
      "cell_type": "code",
      "source": [
        "x = [4, None, \"foo\"]"
      ],
      "metadata": {
        "id": "AZKObLStTA81"
      },
      "execution_count": null,
      "outputs": []
    },
    {
      "cell_type": "code",
      "source": [
        "x.extend([7, 8, (2, 3)])"
      ],
      "metadata": {
        "id": "Yf-LiMwhTZSa"
      },
      "execution_count": null,
      "outputs": []
    },
    {
      "cell_type": "code",
      "source": [
        "x"
      ],
      "metadata": {
        "colab": {
          "base_uri": "https://localhost:8080/"
        },
        "id": "GKGrO_g4TcOK",
        "outputId": "85556089-8f77-4772-8346-4f2eccf22086"
      },
      "execution_count": null,
      "outputs": [
        {
          "output_type": "execute_result",
          "data": {
            "text/plain": [
              "[4, None, 'foo', 7, 8, (2, 3)]"
            ]
          },
          "metadata": {},
          "execution_count": 311
        }
      ]
    },
    {
      "cell_type": "code",
      "source": [
        "# 리스트를 이어붙이면 새로운 리스트를 생성하고 값을 복사하게 되므로 상대적으로 연산비용이 높다는 점을 기억하자. \n",
        "# 큰 리스트일수록 extend 메서드를 사용해서 기존의 리스트에 값을 추가하는 것이 일반적으로 더 나은 선택이다."
      ],
      "metadata": {
        "id": "-G9M9QXPTdX5"
      },
      "execution_count": null,
      "outputs": []
    },
    {
      "cell_type": "code",
      "source": [
        "list_of_lists = \"x\"\n",
        "\n",
        "everything = []\n",
        "for chunk in list_of_lists:\n",
        "  everything.extend(chunk)"
      ],
      "metadata": {
        "id": "ullmoaPGU1Zn"
      },
      "execution_count": null,
      "outputs": []
    },
    {
      "cell_type": "code",
      "source": [
        "# 위 코드가 아래 코드보다 좀 더 빠르다."
      ],
      "metadata": {
        "id": "asdpaW7nU-WJ"
      },
      "execution_count": null,
      "outputs": []
    },
    {
      "cell_type": "code",
      "source": [
        "# list_of_lists = [\"x\", \"y\"]\n",
        "\n",
        "# everything = []\n",
        "# for chunk in list_of_lists:\n",
        "  # everything = everything + chunk"
      ],
      "metadata": {
        "id": "nQkzX18dVVVw"
      },
      "execution_count": null,
      "outputs": []
    },
    {
      "cell_type": "code",
      "source": [
        "# 정렬"
      ],
      "metadata": {
        "id": "mHXrDOsbVcYm"
      },
      "execution_count": null,
      "outputs": []
    },
    {
      "cell_type": "code",
      "source": [
        "# sort 함수를 이용해서 새로운 리스트를 생성하지 않고 있는 그대로 리스트를 정렬할 수 있다."
      ],
      "metadata": {
        "id": "Huk4JSuOxGZI"
      },
      "execution_count": null,
      "outputs": []
    },
    {
      "cell_type": "code",
      "source": [
        "a = [7, 2, 5, 1, 3]"
      ],
      "metadata": {
        "id": "787MEl-GxOVg"
      },
      "execution_count": null,
      "outputs": []
    },
    {
      "cell_type": "code",
      "source": [
        "a.sort()"
      ],
      "metadata": {
        "id": "qD1uwg-0xQTb"
      },
      "execution_count": null,
      "outputs": []
    },
    {
      "cell_type": "code",
      "source": [
        "a"
      ],
      "metadata": {
        "colab": {
          "base_uri": "https://localhost:8080/"
        },
        "id": "x5ZVofhJxRb6",
        "outputId": "cd9246c2-175b-43c9-a20e-367ae62dfaf3"
      },
      "execution_count": null,
      "outputs": [
        {
          "output_type": "execute_result",
          "data": {
            "text/plain": [
              "[1, 2, 3, 5, 7]"
            ]
          },
          "metadata": {},
          "execution_count": 320
        }
      ]
    },
    {
      "cell_type": "code",
      "source": [
        "# sort는 편의를 위해 몇 가지 옵션을 제공한다. 그중 하나는 정렬 기준으로 사용할 값을 반환하는 함수다. \n",
        "# 예를 들어 다음과 같이 문자열이 들어 있는 리스트를 문자열의 길이 순으로 정렬할 수 있다. "
      ],
      "metadata": {
        "id": "q1mVlKukxSLn"
      },
      "execution_count": null,
      "outputs": []
    },
    {
      "cell_type": "code",
      "source": [
        "b = [\"saw\", \"small\", \"He\", \"foxes\", \"six\"]"
      ],
      "metadata": {
        "id": "wM882vc5xo1e"
      },
      "execution_count": null,
      "outputs": []
    },
    {
      "cell_type": "code",
      "source": [
        "b.sort(key=len)"
      ],
      "metadata": {
        "id": "ePw3SmPW0g3G"
      },
      "execution_count": null,
      "outputs": []
    },
    {
      "cell_type": "code",
      "source": [
        "b"
      ],
      "metadata": {
        "colab": {
          "base_uri": "https://localhost:8080/"
        },
        "id": "PRUc9_Pm0ipx",
        "outputId": "b211c981-fa2e-4721-8eda-0f6f17f13a69"
      },
      "execution_count": null,
      "outputs": [
        {
          "output_type": "execute_result",
          "data": {
            "text/plain": [
              "['He', 'saw', 'six', 'small', 'foxes']"
            ]
          },
          "metadata": {},
          "execution_count": 324
        }
      ]
    },
    {
      "cell_type": "code",
      "source": [
        "# 일반적으로 순차 자료형의 정렬된 복사본을 생성하는 sorted 함수도 살펴보자"
      ],
      "metadata": {
        "id": "TfJ56Kdw0jlX"
      },
      "execution_count": null,
      "outputs": []
    },
    {
      "cell_type": "code",
      "source": [
        "# 이진 탐색과 정렬된 리스트 유지하기"
      ],
      "metadata": {
        "id": "4W6wJNAp0oId"
      },
      "execution_count": null,
      "outputs": []
    },
    {
      "cell_type": "code",
      "source": [
        "# 내장 bisect 모듈은 이진 탐색과 정렬된 리스트에 값을 추가하는 기능을 제공한다. \n",
        "# bisect 메서드는 값이 추가될 때 리스트가 정렬된 상태를 유지할 수 있는 위치를 반환하며 bisect.insort는 실제로 정렬된 상태를 유지한 채 값을 추가한다."
      ],
      "metadata": {
        "id": "YSNuCb9v4HEF"
      },
      "execution_count": null,
      "outputs": []
    },
    {
      "cell_type": "code",
      "source": [
        "import bisect"
      ],
      "metadata": {
        "id": "cHaM_dDB8k96"
      },
      "execution_count": null,
      "outputs": []
    },
    {
      "cell_type": "code",
      "source": [
        "c = [1, 2, 2, 2, 3, 4, 7]"
      ],
      "metadata": {
        "id": "cBBoexmy9L4Q"
      },
      "execution_count": null,
      "outputs": []
    },
    {
      "cell_type": "code",
      "source": [
        "bisect.bisect(c, 2)"
      ],
      "metadata": {
        "colab": {
          "base_uri": "https://localhost:8080/"
        },
        "id": "L34qJIFj9OX9",
        "outputId": "8466f86a-d9e3-4307-bcf8-d9a7e3fda9ae"
      },
      "execution_count": null,
      "outputs": [
        {
          "output_type": "execute_result",
          "data": {
            "text/plain": [
              "4"
            ]
          },
          "metadata": {},
          "execution_count": 330
        }
      ]
    },
    {
      "cell_type": "code",
      "source": [
        "bisect.bisect(c, 5)"
      ],
      "metadata": {
        "colab": {
          "base_uri": "https://localhost:8080/"
        },
        "id": "rB6ZYS_p9SUS",
        "outputId": "0a9d383b-2577-4ebc-b302-68a90baeeef4"
      },
      "execution_count": null,
      "outputs": [
        {
          "output_type": "execute_result",
          "data": {
            "text/plain": [
              "6"
            ]
          },
          "metadata": {},
          "execution_count": 331
        }
      ]
    },
    {
      "cell_type": "code",
      "source": [
        "bisect.insort(c, 6)"
      ],
      "metadata": {
        "id": "UvwV1R8i9U1U"
      },
      "execution_count": null,
      "outputs": []
    },
    {
      "cell_type": "code",
      "source": [
        "c"
      ],
      "metadata": {
        "colab": {
          "base_uri": "https://localhost:8080/"
        },
        "id": "ncIkKnks9ZD9",
        "outputId": "8642e626-c7da-440e-ddb4-f9b0a659029c"
      },
      "execution_count": null,
      "outputs": [
        {
          "output_type": "execute_result",
          "data": {
            "text/plain": [
              "[1, 2, 2, 2, 3, 4, 6, 7]"
            ]
          },
          "metadata": {},
          "execution_count": 333
        }
      ]
    },
    {
      "cell_type": "code",
      "source": [
        "# 슬라이싱"
      ],
      "metadata": {
        "id": "2KPvKdEZ9a3-"
      },
      "execution_count": null,
      "outputs": []
    },
    {
      "cell_type": "code",
      "source": [
        "# 리스트와 같은 자료형(배열, 튜플, ndarry)은 색인 연산자 [] 안에 start:stop을 지정해서 원하는 크기만큼 잘라낼 수 있다."
      ],
      "metadata": {
        "id": "iHiYmvAu9cbG"
      },
      "execution_count": null,
      "outputs": []
    },
    {
      "cell_type": "code",
      "source": [
        "seq = [7, 2, 3, 7, 5, 6, 0, 1]"
      ],
      "metadata": {
        "id": "BSj2o5-z-90Y"
      },
      "execution_count": null,
      "outputs": []
    },
    {
      "cell_type": "code",
      "source": [
        "seq[1:5]"
      ],
      "metadata": {
        "colab": {
          "base_uri": "https://localhost:8080/"
        },
        "id": "TCXOW8SM_BV_",
        "outputId": "418a9202-9c44-47e2-8a9a-030c95063942"
      },
      "execution_count": null,
      "outputs": [
        {
          "output_type": "execute_result",
          "data": {
            "text/plain": [
              "[2, 3, 7, 5]"
            ]
          },
          "metadata": {},
          "execution_count": 337
        }
      ]
    },
    {
      "cell_type": "code",
      "source": [
        "# 슬라이스에 다른 순차 자료형을 대입하는 것도 가능하다."
      ],
      "metadata": {
        "id": "9XD3UR9P_CeX"
      },
      "execution_count": null,
      "outputs": []
    },
    {
      "cell_type": "code",
      "source": [
        "seq[3:4] = [6, 3]"
      ],
      "metadata": {
        "id": "avQUPcwK_IUg"
      },
      "execution_count": null,
      "outputs": []
    },
    {
      "cell_type": "code",
      "source": [
        "seq"
      ],
      "metadata": {
        "colab": {
          "base_uri": "https://localhost:8080/"
        },
        "id": "dyggIb34_MHr",
        "outputId": "3b14d0d3-3e93-48e9-81cf-623d0d54aa89"
      },
      "execution_count": null,
      "outputs": [
        {
          "output_type": "execute_result",
          "data": {
            "text/plain": [
              "[7, 2, 3, 6, 3, 5, 6, 0, 1]"
            ]
          },
          "metadata": {},
          "execution_count": 340
        }
      ]
    },
    {
      "cell_type": "code",
      "source": [
        "# 색인의 시작(start) 위치에 있는 값은 포함되지만 끝(stop) 위치에 있는 값은 포함되지 않는다. 따라서 슬라이싱 결과의 개수는 stop-start다. "
      ],
      "metadata": {
        "id": "VRoklSLw_NKo"
      },
      "execution_count": null,
      "outputs": []
    },
    {
      "cell_type": "code",
      "source": [
        "# 색인의 시작(start)값이나 끝(stop)값은 생략할 수 있는데, 이 경우 생략된 값은 각각 순차 자료형의 처음 혹은 마지막 값이 된다."
      ],
      "metadata": {
        "id": "shIiX-_s_xfz"
      },
      "execution_count": null,
      "outputs": []
    },
    {
      "cell_type": "code",
      "source": [
        "seq[:5]"
      ],
      "metadata": {
        "colab": {
          "base_uri": "https://localhost:8080/"
        },
        "id": "9wj_ZS-vAsFj",
        "outputId": "1fba6010-d0e7-4c03-9d72-9242e5f2ce5a"
      },
      "execution_count": null,
      "outputs": [
        {
          "output_type": "execute_result",
          "data": {
            "text/plain": [
              "[7, 2, 3, 6, 3]"
            ]
          },
          "metadata": {},
          "execution_count": 343
        }
      ]
    },
    {
      "cell_type": "code",
      "source": [
        "seq[3:]"
      ],
      "metadata": {
        "colab": {
          "base_uri": "https://localhost:8080/"
        },
        "id": "ffOBeMn5Athi",
        "outputId": "305e0082-b218-4b6e-f50c-18023e3e460c"
      },
      "execution_count": null,
      "outputs": [
        {
          "output_type": "execute_result",
          "data": {
            "text/plain": [
              "[6, 3, 5, 6, 0, 1]"
            ]
          },
          "metadata": {},
          "execution_count": 344
        }
      ]
    },
    {
      "cell_type": "code",
      "source": [
        "# 음수 색인은 순차 자료형의 끝에서부터의 위치를 나타낸다."
      ],
      "metadata": {
        "id": "sEGy2wXLAutb"
      },
      "execution_count": null,
      "outputs": []
    },
    {
      "cell_type": "code",
      "source": [
        "seq[-4:]"
      ],
      "metadata": {
        "colab": {
          "base_uri": "https://localhost:8080/"
        },
        "id": "rzReYi6SAy11",
        "outputId": "1bc0ab1d-8b7a-42b0-dc7a-ebd2e7280578"
      },
      "execution_count": null,
      "outputs": [
        {
          "output_type": "execute_result",
          "data": {
            "text/plain": [
              "[5, 6, 0, 1]"
            ]
          },
          "metadata": {},
          "execution_count": 346
        }
      ]
    },
    {
      "cell_type": "code",
      "source": [
        "seq[-6:-2]"
      ],
      "metadata": {
        "colab": {
          "base_uri": "https://localhost:8080/"
        },
        "id": "O0eCuLnaA2Iu",
        "outputId": "3a980dd0-c09b-4950-de3b-dc38ec22770d"
      },
      "execution_count": null,
      "outputs": [
        {
          "output_type": "execute_result",
          "data": {
            "text/plain": [
              "[6, 3, 5, 6]"
            ]
          },
          "metadata": {},
          "execution_count": 347
        }
      ]
    },
    {
      "cell_type": "code",
      "source": [
        "# R이나 매트랩 사용자라면 슬라이싱 문법에 익숙해지는 데 시간이 걸릴 수 있다. \n",
        "# 두번째 콜론 다음에 간격(step)을 지정할 수 있는데, 하나 걸러 다음 원소를 선택하려면 다음과 같이 표현한다."
      ],
      "metadata": {
        "id": "GtXS6CtaA4Jd"
      },
      "execution_count": null,
      "outputs": []
    },
    {
      "cell_type": "code",
      "source": [
        "seq[::2]"
      ],
      "metadata": {
        "colab": {
          "base_uri": "https://localhost:8080/"
        },
        "id": "0rWvPZTTCBYb",
        "outputId": "17c6120d-e07b-4fed-aed7-b46f8cd21657"
      },
      "execution_count": null,
      "outputs": [
        {
          "output_type": "execute_result",
          "data": {
            "text/plain": [
              "[7, 3, 3, 6, 1]"
            ]
          },
          "metadata": {},
          "execution_count": 349
        }
      ]
    },
    {
      "cell_type": "code",
      "source": [
        "# 간격 값으로 -1을 사용하면 리스트나 튜플을 역순으로 반환한다."
      ],
      "metadata": {
        "id": "wKVraXk6CzTf"
      },
      "execution_count": null,
      "outputs": []
    },
    {
      "cell_type": "code",
      "source": [
        "seq[::-1]"
      ],
      "metadata": {
        "colab": {
          "base_uri": "https://localhost:8080/"
        },
        "id": "iK51uaEfC6pw",
        "outputId": "89076117-5bec-414a-ac17-06c02b93b504"
      },
      "execution_count": null,
      "outputs": [
        {
          "output_type": "execute_result",
          "data": {
            "text/plain": [
              "[1, 0, 6, 5, 3, 6, 3, 2, 7]"
            ]
          },
          "metadata": {},
          "execution_count": 351
        }
      ]
    },
    {
      "cell_type": "code",
      "source": [
        "# 3.1.3 내장 순차 자료형 함수"
      ],
      "metadata": {
        "id": "J1S0R0dTC8aS"
      },
      "execution_count": null,
      "outputs": []
    },
    {
      "cell_type": "code",
      "source": [
        "# 파이썬에는 순차 자료형에 사용할 수 있는 매우 유용한 함수가 있는데 이 함수들은 꼭 익혀서 기회가 될 때마다 사용할 수 있어야 한다."
      ],
      "metadata": {
        "id": "iyggFMXtDAoQ"
      },
      "execution_count": null,
      "outputs": []
    },
    {
      "cell_type": "code",
      "source": [
        "# enumerate\n",
        "\n",
        "# 이 함수는 순차 자료형에서 현재 아이템의 색인을 함께 처리하고자 할 때 흔히 사용한다. "
      ],
      "metadata": {
        "id": "uGHFJdc7X5FQ"
      },
      "execution_count": null,
      "outputs": []
    },
    {
      "cell_type": "code",
      "source": [
        "# i = 0\n",
        "# for value in collection:\n",
        "  # value를 사용하는 코드 작성\n",
        "  # i += 1"
      ],
      "metadata": {
        "id": "QWv7-b-JYDYK"
      },
      "execution_count": null,
      "outputs": []
    },
    {
      "cell_type": "code",
      "source": [
        "# 이는 매우 흔한 코드인데 파이썬에는 (i, value) 튜플을 반환하는 enumerate라는 함수가 있다. 위 코드를 enumerate를 사용해서 다시 작성하면 다음과 같다."
      ],
      "metadata": {
        "id": "MagtQlJ2YNAr"
      },
      "execution_count": null,
      "outputs": []
    },
    {
      "cell_type": "code",
      "source": [
        "# for i, value in enumerate(collection):\n",
        "  # value를 사용하는 코드 작성"
      ],
      "metadata": {
        "id": "v1A1FediZKuA"
      },
      "execution_count": null,
      "outputs": []
    },
    {
      "cell_type": "code",
      "source": [
        "# 색인을 통해 데이터에 접근할 때 enumerate를 사용하는 유용한 패턴은 순차 자료형에서의 값과 그 위치를 dict에 넘겨주는 것이다."
      ],
      "metadata": {
        "id": "fvy1-P7rZRrG"
      },
      "execution_count": null,
      "outputs": []
    },
    {
      "cell_type": "code",
      "source": [
        "some_list = [\"foo\", \"bar\", \"baz\"]"
      ],
      "metadata": {
        "id": "eATgod8IaT9A"
      },
      "execution_count": null,
      "outputs": []
    },
    {
      "cell_type": "code",
      "source": [
        "mapping = {}"
      ],
      "metadata": {
        "id": "57ohFHpZaX8S"
      },
      "execution_count": null,
      "outputs": []
    },
    {
      "cell_type": "code",
      "source": [
        "for i, v in enumerate(some_list):\n",
        "  mapping[v] = i"
      ],
      "metadata": {
        "id": "t7gS8MiqaaGx"
      },
      "execution_count": null,
      "outputs": []
    },
    {
      "cell_type": "code",
      "source": [
        "mapping"
      ],
      "metadata": {
        "colab": {
          "base_uri": "https://localhost:8080/"
        },
        "id": "EKYwO9R-agm9",
        "outputId": "ed3d4fb8-9403-4f26-b57b-531cd7839acc"
      },
      "execution_count": null,
      "outputs": [
        {
          "output_type": "execute_result",
          "data": {
            "text/plain": [
              "{'bar': 1, 'baz': 2, 'foo': 0}"
            ]
          },
          "metadata": {},
          "execution_count": 362
        }
      ]
    },
    {
      "cell_type": "code",
      "source": [
        "# sorted"
      ],
      "metadata": {
        "id": "Pnj0HKSdahf7"
      },
      "execution_count": null,
      "outputs": []
    },
    {
      "cell_type": "code",
      "source": [
        "# sorted 함수는 정렬된 새로운 순차 자료형을 반환한다. "
      ],
      "metadata": {
        "id": "heiR3Zj9ai2Z"
      },
      "execution_count": null,
      "outputs": []
    },
    {
      "cell_type": "code",
      "source": [
        "sorted([7, 1, 2, 6, 0, 3, 2])"
      ],
      "metadata": {
        "colab": {
          "base_uri": "https://localhost:8080/"
        },
        "id": "SftpiNoAatmH",
        "outputId": "eb75afe2-c3f1-4577-9dfd-ee274b2be8e0"
      },
      "execution_count": null,
      "outputs": [
        {
          "output_type": "execute_result",
          "data": {
            "text/plain": [
              "[0, 1, 2, 2, 3, 6, 7]"
            ]
          },
          "metadata": {},
          "execution_count": 365
        }
      ]
    },
    {
      "cell_type": "code",
      "source": [
        "sorted(\"horse race\")"
      ],
      "metadata": {
        "colab": {
          "base_uri": "https://localhost:8080/"
        },
        "id": "dWkd_Wchaw8j",
        "outputId": "f1a953ca-e9d5-4483-b7dc-c587eb27d767"
      },
      "execution_count": null,
      "outputs": [
        {
          "output_type": "execute_result",
          "data": {
            "text/plain": [
              "[' ', 'a', 'c', 'e', 'e', 'h', 'o', 'r', 'r', 's']"
            ]
          },
          "metadata": {},
          "execution_count": 366
        }
      ]
    },
    {
      "cell_type": "code",
      "source": [
        "# sorted 함수는 리스트의 sort 메서드와 같은 인자를 취한다. "
      ],
      "metadata": {
        "id": "KWvyDNevazS-"
      },
      "execution_count": null,
      "outputs": []
    },
    {
      "cell_type": "code",
      "source": [
        "# zip"
      ],
      "metadata": {
        "id": "7qBJ2YWTDSlJ"
      },
      "execution_count": null,
      "outputs": []
    },
    {
      "cell_type": "code",
      "source": [
        "# zip 함수는 여러 개의 리스트나 튜플 또는 다른 순차 자료형을 서로 짝지어서 튜플의 리스트를 생성한다. "
      ],
      "metadata": {
        "id": "nuKZlHzJDTog"
      },
      "execution_count": null,
      "outputs": []
    },
    {
      "cell_type": "code",
      "source": [
        "seq1 = [\"foo\", \"bar\", \"baz\"]"
      ],
      "metadata": {
        "id": "lmNn3xPyDaJc"
      },
      "execution_count": null,
      "outputs": []
    },
    {
      "cell_type": "code",
      "source": [
        "seq2 = [\"one\", \"two\", \"three\"]"
      ],
      "metadata": {
        "id": "rGKHKkSHDd1s"
      },
      "execution_count": null,
      "outputs": []
    },
    {
      "cell_type": "code",
      "source": [
        "zipped = zip(seq1, seq2)"
      ],
      "metadata": {
        "id": "3vqFBsmfDh1m"
      },
      "execution_count": null,
      "outputs": []
    },
    {
      "cell_type": "code",
      "source": [
        "list(zipped)"
      ],
      "metadata": {
        "colab": {
          "base_uri": "https://localhost:8080/"
        },
        "id": "ekYsLdqDDoeW",
        "outputId": "2af0b6dc-ee24-4c8c-d769-f301882f89cb"
      },
      "execution_count": null,
      "outputs": [
        {
          "output_type": "execute_result",
          "data": {
            "text/plain": [
              "[('foo', 'one'), ('bar', 'two'), ('baz', 'three')]"
            ]
          },
          "metadata": {},
          "execution_count": 373
        }
      ]
    },
    {
      "cell_type": "code",
      "source": [
        "# zip 함수는 여러 개의 순차 자료형을 받을 수 있으며 반환되는 리스트의 크기는 넘겨받은 순차 자료형 중 가장 짧은 크기로 정해진다."
      ],
      "metadata": {
        "id": "CYbXA79BDpYo"
      },
      "execution_count": null,
      "outputs": []
    },
    {
      "cell_type": "code",
      "source": [
        "seq3 = [False, True]"
      ],
      "metadata": {
        "id": "gKo6i8peD3sz"
      },
      "execution_count": null,
      "outputs": []
    },
    {
      "cell_type": "code",
      "source": [
        "list(zip(seq1, seq2, seq3))"
      ],
      "metadata": {
        "colab": {
          "base_uri": "https://localhost:8080/"
        },
        "id": "LcIPpDjwD6s0",
        "outputId": "8d8d002a-f8b4-40a3-96d0-10df0a4a9f0d"
      },
      "execution_count": null,
      "outputs": [
        {
          "output_type": "execute_result",
          "data": {
            "text/plain": [
              "[('foo', 'one', False), ('bar', 'two', True)]"
            ]
          },
          "metadata": {},
          "execution_count": 376
        }
      ]
    },
    {
      "cell_type": "code",
      "source": [
        "# zip 함수의 아주 흔한 사용 예는 여러 개의 순차 자료형을 동시에 순회하는 경우인데 enumerate와 함께 사용되기도 한다."
      ],
      "metadata": {
        "id": "i6SWLqOuD984"
      },
      "execution_count": null,
      "outputs": []
    },
    {
      "cell_type": "code",
      "source": [
        "for i, (a, b) in enumerate(zip(seq1, seq2)):\n",
        "  print((\"{0}: {1}, {2}\".format(i, a, b)))"
      ],
      "metadata": {
        "colab": {
          "base_uri": "https://localhost:8080/"
        },
        "id": "8D_KY9pMEGOR",
        "outputId": "4050388d-f358-42e2-c282-2a77ace6d2b5"
      },
      "execution_count": null,
      "outputs": [
        {
          "output_type": "stream",
          "name": "stdout",
          "text": [
            "0: foo, one\n",
            "1: bar, two\n",
            "2: baz, three\n"
          ]
        }
      ]
    },
    {
      "cell_type": "code",
      "source": [
        "# zip 함수를 사용해서 이렇게 짝지어진 순차 자료형을 다시 풀어낼 수도 있다. 이를 이용해서 리스트의 로우를 리스트의 컬럼으로 변환하는 것도 가능하다. 약간 복잡하다."
      ],
      "metadata": {
        "id": "60_nBh49ERoG"
      },
      "execution_count": null,
      "outputs": []
    },
    {
      "cell_type": "code",
      "source": [
        "pitchers = [(\"Nolan\", \"Ryan\"), (\"Roger\", \"Clemens\"), \n",
        "            (\"Schilling\", \"Curt\")]"
      ],
      "metadata": {
        "id": "2UsmFwoSGDO9"
      },
      "execution_count": null,
      "outputs": []
    },
    {
      "cell_type": "code",
      "source": [
        "first_names, last_names = zip(*pitchers)"
      ],
      "metadata": {
        "id": "msZw0nt-HkXB"
      },
      "execution_count": null,
      "outputs": []
    },
    {
      "cell_type": "code",
      "source": [
        "first_names"
      ],
      "metadata": {
        "colab": {
          "base_uri": "https://localhost:8080/"
        },
        "id": "o8WoNv5bItvu",
        "outputId": "71d19f15-6a17-493b-9078-6d3ccd3411ad"
      },
      "execution_count": null,
      "outputs": [
        {
          "output_type": "execute_result",
          "data": {
            "text/plain": [
              "('Nolan', 'Roger', 'Schilling')"
            ]
          },
          "metadata": {},
          "execution_count": 382
        }
      ]
    },
    {
      "cell_type": "code",
      "source": [
        "last_names"
      ],
      "metadata": {
        "colab": {
          "base_uri": "https://localhost:8080/"
        },
        "id": "Mgu-d4SNI04G",
        "outputId": "05d807f6-59ab-43da-d16b-861163997d76"
      },
      "execution_count": null,
      "outputs": [
        {
          "output_type": "execute_result",
          "data": {
            "text/plain": [
              "('Ryan', 'Clemens', 'Curt')"
            ]
          },
          "metadata": {},
          "execution_count": 383
        }
      ]
    },
    {
      "cell_type": "code",
      "source": [
        "# reversed "
      ],
      "metadata": {
        "id": "1fDt-QiSI7-m"
      },
      "execution_count": null,
      "outputs": []
    },
    {
      "cell_type": "code",
      "source": [
        "# reversed는 순차 자료형을 역순으로 순회한다. "
      ],
      "metadata": {
        "id": "k1NYvSZGJCYO"
      },
      "execution_count": null,
      "outputs": []
    },
    {
      "cell_type": "code",
      "source": [
        "list(reversed(range(10)))"
      ],
      "metadata": {
        "colab": {
          "base_uri": "https://localhost:8080/"
        },
        "id": "6kz6juc6JF4g",
        "outputId": "222504eb-3fb8-4ee2-e9aa-af1381fd11bb"
      },
      "execution_count": null,
      "outputs": [
        {
          "output_type": "execute_result",
          "data": {
            "text/plain": [
              "[9, 8, 7, 6, 5, 4, 3, 2, 1, 0]"
            ]
          },
          "metadata": {},
          "execution_count": 386
        }
      ]
    },
    {
      "cell_type": "code",
      "source": [
        "# reversed는 제너레이터라는 점을 기억하자. 따라서 list()나 for 문으로 모든 값은 다 받아오기 전에는 순차 자료형을 생성하지 않는다. "
      ],
      "metadata": {
        "id": "lZRRWrSLJI-C"
      },
      "execution_count": null,
      "outputs": []
    },
    {
      "cell_type": "code",
      "source": [
        "# 3.1.4 딕셔너리 자료형(사전 자료형)"
      ],
      "metadata": {
        "id": "kvOlAPVDJTRi"
      },
      "execution_count": null,
      "outputs": []
    },
    {
      "cell_type": "code",
      "source": [
        "# dict(사전)는 파이썬 내장 자료구조 중에서 가장 중요하다. 일반적으로 해시맵 또는 연관 배열이라고 널리 알려져 있다. 사전은 유연한 크기를 가지는 키-값 쌍으로, 키와 값은 모두 파이썬 객체이다."
      ],
      "metadata": {
        "id": "YZHTgZtiJY9y"
      },
      "execution_count": null,
      "outputs": []
    },
    {
      "cell_type": "code",
      "source": [
        "# 사전을 생성하는 방법은 중괄호 {}를 사용하여 콜론으로 구분된 키와 값을 둘러싸는 것이다."
      ],
      "metadata": {
        "id": "khxCttA3JWYw"
      },
      "execution_count": null,
      "outputs": []
    },
    {
      "cell_type": "code",
      "source": [
        "empty_dict = {}"
      ],
      "metadata": {
        "id": "3p_H0qLILVF6"
      },
      "execution_count": null,
      "outputs": []
    },
    {
      "cell_type": "code",
      "source": [
        "d1 = {\"a\" : \"some value\", \"b\" : [1, 2, 3, 4]}"
      ],
      "metadata": {
        "id": "HztW0G97NlQ4"
      },
      "execution_count": null,
      "outputs": []
    },
    {
      "cell_type": "code",
      "source": [
        "d1"
      ],
      "metadata": {
        "colab": {
          "base_uri": "https://localhost:8080/"
        },
        "id": "tRd8osuJNsWU",
        "outputId": "b1cc62ac-7f1d-495e-9206-29af4e818c02"
      },
      "execution_count": null,
      "outputs": [
        {
          "output_type": "execute_result",
          "data": {
            "text/plain": [
              "{'a': 'some value', 'b': [1, 2, 3, 4]}"
            ]
          },
          "metadata": {},
          "execution_count": 393
        }
      ]
    },
    {
      "cell_type": "code",
      "source": [
        "# 리스트나 튜플을 사용하는 것처럼 사전의 값에 접근하거나 값을 입력할 수 있다."
      ],
      "metadata": {
        "id": "mA1BFKjVNtGJ"
      },
      "execution_count": null,
      "outputs": []
    },
    {
      "cell_type": "code",
      "source": [
        "d1[7] = \"an integer\""
      ],
      "metadata": {
        "id": "PVzWZVIwNyBJ"
      },
      "execution_count": null,
      "outputs": []
    },
    {
      "cell_type": "code",
      "source": [
        "d1"
      ],
      "metadata": {
        "colab": {
          "base_uri": "https://localhost:8080/"
        },
        "id": "I7-AY09TOMj6",
        "outputId": "af3d5c0b-deb0-4fe2-d903-57738b564a27"
      },
      "execution_count": null,
      "outputs": [
        {
          "output_type": "execute_result",
          "data": {
            "text/plain": [
              "{7: 'an integer', 'a': 'some value', 'b': [1, 2, 3, 4]}"
            ]
          },
          "metadata": {},
          "execution_count": 396
        }
      ]
    },
    {
      "cell_type": "code",
      "source": [
        "d1[\"b\"]"
      ],
      "metadata": {
        "colab": {
          "base_uri": "https://localhost:8080/"
        },
        "id": "lfayjVutO21i",
        "outputId": "38ced60f-18f3-41ef-c1ea-124059e9fc9b"
      },
      "execution_count": null,
      "outputs": [
        {
          "output_type": "execute_result",
          "data": {
            "text/plain": [
              "[1, 2, 3, 4]"
            ]
          },
          "metadata": {},
          "execution_count": 397
        }
      ]
    },
    {
      "cell_type": "code",
      "source": [
        "# 사전에 어떤 키가 있는지 확인하는 것도 리스트나 튜플과 같은 문법으로 확인할 수 있다. "
      ],
      "metadata": {
        "id": "UxwfMNW-O3uA"
      },
      "execution_count": null,
      "outputs": []
    },
    {
      "cell_type": "code",
      "source": [
        "\"b\" in d1"
      ],
      "metadata": {
        "colab": {
          "base_uri": "https://localhost:8080/"
        },
        "id": "rfx2IwG8PUsx",
        "outputId": "60e20358-95c2-418f-c744-3289297da293"
      },
      "execution_count": null,
      "outputs": [
        {
          "output_type": "execute_result",
          "data": {
            "text/plain": [
              "True"
            ]
          },
          "metadata": {},
          "execution_count": 399
        }
      ]
    },
    {
      "cell_type": "code",
      "source": [
        "# del 예약어나 pop 메서드(값을 반환함과 동시에 해당 키를 삭제한다)를 사용해서 사전의 값을 삭제할 수 있다."
      ],
      "metadata": {
        "id": "M6TzKYMIPYSp"
      },
      "execution_count": null,
      "outputs": []
    },
    {
      "cell_type": "code",
      "source": [
        "d1[5] = \"some value\""
      ],
      "metadata": {
        "id": "gJp9xjJEPh75"
      },
      "execution_count": null,
      "outputs": []
    },
    {
      "cell_type": "code",
      "source": [
        "d1"
      ],
      "metadata": {
        "colab": {
          "base_uri": "https://localhost:8080/"
        },
        "id": "Ef42G95QPw0t",
        "outputId": "56b7c9e3-6a91-40d2-9622-cef3553a4235"
      },
      "execution_count": null,
      "outputs": [
        {
          "output_type": "execute_result",
          "data": {
            "text/plain": [
              "{5: 'some value', 7: 'an integer', 'a': 'some value', 'b': [1, 2, 3, 4]}"
            ]
          },
          "metadata": {},
          "execution_count": 402
        }
      ]
    },
    {
      "cell_type": "code",
      "source": [
        "d1[\"dummy\"] = \"another value\""
      ],
      "metadata": {
        "id": "8aPZPjmsPxU-"
      },
      "execution_count": null,
      "outputs": []
    },
    {
      "cell_type": "code",
      "source": [
        "d1"
      ],
      "metadata": {
        "colab": {
          "base_uri": "https://localhost:8080/"
        },
        "id": "acMEux2ZP3NL",
        "outputId": "f70debcb-8c6b-4057-a92e-8c94b99bb366"
      },
      "execution_count": null,
      "outputs": [
        {
          "output_type": "execute_result",
          "data": {
            "text/plain": [
              "{5: 'some value',\n",
              " 7: 'an integer',\n",
              " 'a': 'some value',\n",
              " 'b': [1, 2, 3, 4],\n",
              " 'dummy': 'another value'}"
            ]
          },
          "metadata": {},
          "execution_count": 404
        }
      ]
    },
    {
      "cell_type": "code",
      "source": [
        "del d1[5]"
      ],
      "metadata": {
        "id": "F_Au3vaKP3iN"
      },
      "execution_count": null,
      "outputs": []
    },
    {
      "cell_type": "code",
      "source": [
        "d1"
      ],
      "metadata": {
        "colab": {
          "base_uri": "https://localhost:8080/"
        },
        "id": "CZ4Z7X8oP50e",
        "outputId": "48718c45-ca9a-464d-9e8f-4082d0fb7514"
      },
      "execution_count": null,
      "outputs": [
        {
          "output_type": "execute_result",
          "data": {
            "text/plain": [
              "{7: 'an integer',\n",
              " 'a': 'some value',\n",
              " 'b': [1, 2, 3, 4],\n",
              " 'dummy': 'another value'}"
            ]
          },
          "metadata": {},
          "execution_count": 406
        }
      ]
    },
    {
      "cell_type": "code",
      "source": [
        "ret = d1.pop(\"dummy\")"
      ],
      "metadata": {
        "id": "SEiaYxDKP6zv"
      },
      "execution_count": null,
      "outputs": []
    },
    {
      "cell_type": "code",
      "source": [
        "d1"
      ],
      "metadata": {
        "colab": {
          "base_uri": "https://localhost:8080/"
        },
        "id": "YRgngtY3P939",
        "outputId": "3300fbd2-e8f3-4fe7-f7b7-f1eedd84e1c0"
      },
      "execution_count": null,
      "outputs": [
        {
          "output_type": "execute_result",
          "data": {
            "text/plain": [
              "{7: 'an integer', 'a': 'some value', 'b': [1, 2, 3, 4]}"
            ]
          },
          "metadata": {},
          "execution_count": 408
        }
      ]
    },
    {
      "cell_type": "code",
      "source": [
        "# keys와 values 메서드는 각각 키와 값이 담긴 이터레이터를 반환한다.\n",
        "# 키-값 쌍은 일정한 기준으로 정렬되어 있진 않지만 keys 메서드와 values 메서드에서 반환하는 리스트는 같은 순서를 가진다. "
      ],
      "metadata": {
        "id": "FO37meN7P-YQ"
      },
      "execution_count": null,
      "outputs": []
    },
    {
      "cell_type": "code",
      "source": [
        "list(d1.keys())"
      ],
      "metadata": {
        "colab": {
          "base_uri": "https://localhost:8080/"
        },
        "id": "kIY_voNwQqfe",
        "outputId": "dfa82508-af80-4752-a7a7-9effd845cf1b"
      },
      "execution_count": null,
      "outputs": [
        {
          "output_type": "execute_result",
          "data": {
            "text/plain": [
              "['a', 'b', 7]"
            ]
          },
          "metadata": {},
          "execution_count": 410
        }
      ]
    },
    {
      "cell_type": "code",
      "source": [
        "list(d1.values())"
      ],
      "metadata": {
        "colab": {
          "base_uri": "https://localhost:8080/"
        },
        "id": "dVKPhIy2QsuM",
        "outputId": "12fbb85e-c285-4a61-e106-4fcb93dd6e1f"
      },
      "execution_count": null,
      "outputs": [
        {
          "output_type": "execute_result",
          "data": {
            "text/plain": [
              "['some value', [1, 2, 3, 4], 'an integer']"
            ]
          },
          "metadata": {},
          "execution_count": 411
        }
      ]
    },
    {
      "cell_type": "code",
      "source": [
        "# update 메서드를 사용해서 하나의 사전을 다른 사전과 합칠 수 있다."
      ],
      "metadata": {
        "id": "SS0eBYX-QvDG"
      },
      "execution_count": null,
      "outputs": []
    },
    {
      "cell_type": "code",
      "source": [
        "d1.update({\"b\" : \"foo\", \"c\" : 12})"
      ],
      "metadata": {
        "id": "okQifncRQznq"
      },
      "execution_count": null,
      "outputs": []
    },
    {
      "cell_type": "code",
      "source": [
        "d1"
      ],
      "metadata": {
        "colab": {
          "base_uri": "https://localhost:8080/"
        },
        "id": "9z1QhgsIQ8O6",
        "outputId": "b43f16b5-7fc3-473c-8422-f112ab05fa18"
      },
      "execution_count": null,
      "outputs": [
        {
          "output_type": "execute_result",
          "data": {
            "text/plain": [
              "{7: 'an integer', 'a': 'some value', 'b': 'foo', 'c': 12}"
            ]
          },
          "metadata": {},
          "execution_count": 414
        }
      ]
    },
    {
      "cell_type": "code",
      "source": [
        "# update 사전 값을 그 자리에서 바꾸므로 이미 존재하는 키에 대해 update를 호출하면 이전 값은 사라진다."
      ],
      "metadata": {
        "id": "LBwoMiOJQ9hM"
      },
      "execution_count": null,
      "outputs": []
    },
    {
      "cell_type": "code",
      "source": [
        "# 순차 자료형에서 사전 생성하기"
      ],
      "metadata": {
        "id": "of5idmS6RJ5p"
      },
      "execution_count": null,
      "outputs": []
    },
    {
      "cell_type": "code",
      "source": [
        "# 두 개의 순차 자료형의 각 원소를 짝지어서 사전으로 만드는 일은 흔히 접하게 된다. "
      ],
      "metadata": {
        "id": "cWLqoStvR0p-"
      },
      "execution_count": null,
      "outputs": []
    },
    {
      "cell_type": "code",
      "source": [
        "# 그리고 다음과 같이 일반적인 코드를 작성하게 된다. "
      ],
      "metadata": {
        "id": "h0DKClpRR5eu"
      },
      "execution_count": null,
      "outputs": []
    },
    {
      "cell_type": "code",
      "source": [
        "# mapping = {}\n",
        "# for key, value in zip(key_list, value_list):\n",
        "  # mapping[key] = value"
      ],
      "metadata": {
        "id": "VemLxlDGSB1x"
      },
      "execution_count": null,
      "outputs": []
    },
    {
      "cell_type": "code",
      "source": [
        "# 본질적으로 사전은 2개짜리 튜플로 구성되어 있으므로 dict 함수가 2개짜리 튜플의 리스트를 인자로 받아서 사전을 생성하는 일은 그다지 놀라운 일은 아니다."
      ],
      "metadata": {
        "id": "Ch2XUga4SSVL"
      },
      "execution_count": null,
      "outputs": []
    },
    {
      "cell_type": "code",
      "source": [
        "mapping = dict(zip(range(5), reversed(range(5))))"
      ],
      "metadata": {
        "id": "TNab8K1ASa4L"
      },
      "execution_count": null,
      "outputs": []
    },
    {
      "cell_type": "code",
      "source": [
        "mapping"
      ],
      "metadata": {
        "colab": {
          "base_uri": "https://localhost:8080/"
        },
        "id": "vyfDYBMSTZGt",
        "outputId": "caed14ad-3e77-4095-aea1-c95a5dc50f8d"
      },
      "execution_count": null,
      "outputs": [
        {
          "output_type": "execute_result",
          "data": {
            "text/plain": [
              "{0: 4, 1: 3, 2: 2, 3: 1, 4: 0}"
            ]
          },
          "metadata": {},
          "execution_count": 422
        }
      ]
    },
    {
      "cell_type": "code",
      "source": [
        "# 사전 표기법이 사전을 생성하는 세련된 방법이다. "
      ],
      "metadata": {
        "id": "ygGlYm8HTZ3G"
      },
      "execution_count": null,
      "outputs": []
    },
    {
      "cell_type": "code",
      "source": [
        "# 기본값"
      ],
      "metadata": {
        "id": "5ptCvjAUThxc"
      },
      "execution_count": null,
      "outputs": []
    },
    {
      "cell_type": "code",
      "source": [
        "# 아래는 매우 일반적인 로직이다. "
      ],
      "metadata": {
        "id": "sxmlCjqyTiUo"
      },
      "execution_count": null,
      "outputs": []
    },
    {
      "cell_type": "code",
      "source": [
        "# if key in some_dict:\n",
        "  # value = some_dict[key]\n",
        "# else:\n",
        "  # value = default_value"
      ],
      "metadata": {
        "id": "Nue1g9DwYGyM"
      },
      "execution_count": null,
      "outputs": []
    },
    {
      "cell_type": "code",
      "source": [
        "# 사전 메서드인 get과 pop은 반환할 기본값을 받아서 위 코드에서 if-else 블록을 아래처럼 간단하게 작성할 수 있다."
      ],
      "metadata": {
        "id": "hFRevgs6YiHF"
      },
      "execution_count": null,
      "outputs": []
    },
    {
      "cell_type": "code",
      "source": [
        "# value = some_dict.get(key, default_value)"
      ],
      "metadata": {
        "id": "HiUlyW4xYqzz"
      },
      "execution_count": null,
      "outputs": []
    },
    {
      "cell_type": "code",
      "source": [
        "# get 메서드는 기본적으로 해당 키가 존재하지 않을 경우 None을 반환하며, pop 메서드는 예외를 발생시킨다. \n",
        "# 보통 사전에 값을 대입할 때는 리스트 같은 다른 컬렉션에 있는 값을 이용하는데, 예를 들어 여러 단어를 시작 글자에 따라 사전에 리스트로 저장하고 싶다면 다음처럼 할 수 있다."
      ],
      "metadata": {
        "id": "nApSWJoDYwJh"
      },
      "execution_count": null,
      "outputs": []
    },
    {
      "cell_type": "code",
      "source": [
        "words = [\"apple\", \"bat\", \"bar\", \"atom\", \"book\"]"
      ],
      "metadata": {
        "id": "JTvPY-RicnGF"
      },
      "execution_count": null,
      "outputs": []
    },
    {
      "cell_type": "code",
      "source": [
        "by_letter = {}"
      ],
      "metadata": {
        "id": "k3ri5oEVcuZo"
      },
      "execution_count": null,
      "outputs": []
    },
    {
      "cell_type": "code",
      "source": [
        "for word in words:\n",
        "  letter = word[0]\n",
        "  if letter not in by_letter:\n",
        "    by_letter[letter] = [word]\n",
        "  else:\n",
        "    by_letter[letter].append(word)"
      ],
      "metadata": {
        "id": "hhXp5b2ZcwPH"
      },
      "execution_count": null,
      "outputs": []
    },
    {
      "cell_type": "code",
      "source": [
        "by_letter"
      ],
      "metadata": {
        "colab": {
          "base_uri": "https://localhost:8080/"
        },
        "id": "7erP_jJac0-y",
        "outputId": "73854383-8d49-4809-d6b2-9d2f4ece1e29"
      },
      "execution_count": null,
      "outputs": [
        {
          "output_type": "execute_result",
          "data": {
            "text/plain": [
              "{'a': ['apple', 'atom'], 'b': ['bat', 'bar', 'book']}"
            ]
          },
          "metadata": {},
          "execution_count": 433
        }
      ]
    },
    {
      "cell_type": "code",
      "source": [
        "# 사전의 setdefault 메서드를 바로 이 목적으로 사용한다. 위 코드에서 if-else 블록은 다음처럼 작성할 수 있다."
      ],
      "metadata": {
        "id": "Fay4-zGidYT_"
      },
      "execution_count": null,
      "outputs": []
    },
    {
      "cell_type": "code",
      "source": [
        "# for word in words:\n",
        "  # letter = word[0]\n",
        "  # by_letter.setdefault(letter, []).append(word)"
      ],
      "metadata": {
        "id": "1kLLxWOieoXj"
      },
      "execution_count": null,
      "outputs": []
    },
    {
      "cell_type": "code",
      "source": [
        "# 내장 collections 모듈은 defaultdict라는 유용한 클래스를 담고 있는데, 이 클래서를 사용하면 위 과정을 좀 더 쉽게 할 수 있다. \n",
        "# 자료형, 혹은 사전의 각 슬롯에 담길 기본값을 생성하는 함수를 넘겨서 사전을 생성하는 것이다."
      ],
      "metadata": {
        "id": "jZXQ_v9Pl1JH"
      },
      "execution_count": null,
      "outputs": []
    },
    {
      "cell_type": "code",
      "source": [
        "# from collections import defaultdict\n",
        "# by_letter = defaultdict(list)\n",
        "# for word in words:\n",
        "  # by_letter[word[0]].append(word)"
      ],
      "metadata": {
        "id": "1xOOiNlImCYf"
      },
      "execution_count": null,
      "outputs": []
    },
    {
      "cell_type": "code",
      "source": [
        "# 유효한 사전 키"
      ],
      "metadata": {
        "id": "xIa0Zfj7mQTO"
      },
      "execution_count": null,
      "outputs": []
    },
    {
      "cell_type": "code",
      "source": [
        "# 사전의 값으로 어떤 파이썬 객체라도 가능하지만 키는 스칼라형(정수, 실수, 문자열)이나 튜플(튜플에 저장된 값 역시 값이 바뀌지 않는 객체여야 한다)처럼 값이 바뀌지 않는 객체만 가능하다."
      ],
      "metadata": {
        "id": "8yMGokLZnXTK"
      },
      "execution_count": null,
      "outputs": []
    },
    {
      "cell_type": "code",
      "source": [
        "# 기술적으로는 해시 가능해야 한다는 뜻이다. 어떤 객체가 해시 가능한지, 즉 사전의 키로 사용할 수 있는지는 hash 함수를 사용해서 검사할 수 있다."
      ],
      "metadata": {
        "id": "aYzJ6JoDn40f"
      },
      "execution_count": null,
      "outputs": []
    },
    {
      "cell_type": "code",
      "source": [
        "hash(\"string\")"
      ],
      "metadata": {
        "colab": {
          "base_uri": "https://localhost:8080/"
        },
        "id": "vjzarAoeofvG",
        "outputId": "ae969a04-6fae-4351-eb8c-9dbea6d3a155"
      },
      "execution_count": null,
      "outputs": [
        {
          "output_type": "execute_result",
          "data": {
            "text/plain": [
              "8672870455773093989"
            ]
          },
          "metadata": {},
          "execution_count": 441
        }
      ]
    },
    {
      "cell_type": "code",
      "source": [
        "hash((1, 2, (2, 3)))"
      ],
      "metadata": {
        "colab": {
          "base_uri": "https://localhost:8080/"
        },
        "id": "rdTzdCE1t7_d",
        "outputId": "8598b44d-412c-4a0b-e33d-4a9ca9ec8083"
      },
      "execution_count": null,
      "outputs": [
        {
          "output_type": "execute_result",
          "data": {
            "text/plain": [
              "1097636502276347782"
            ]
          },
          "metadata": {},
          "execution_count": 442
        }
      ]
    },
    {
      "cell_type": "code",
      "source": [
        "hash((1, 2, [2, 3])) # 리스트는 변경이 가능한 값이므로 해시 가능하지 않음"
      ],
      "metadata": {
        "colab": {
          "base_uri": "https://localhost:8080/",
          "height": 173
        },
        "id": "Pkn4e7ufuiM9",
        "outputId": "97a3cffd-3347-499b-d4e0-a92472dc9b78"
      },
      "execution_count": null,
      "outputs": [
        {
          "output_type": "error",
          "ename": "TypeError",
          "evalue": "ignored",
          "traceback": [
            "\u001b[0;31m---------------------------------------------------------------------------\u001b[0m",
            "\u001b[0;31mTypeError\u001b[0m                                 Traceback (most recent call last)",
            "\u001b[0;32m<ipython-input-443-c9b3506ab028>\u001b[0m in \u001b[0;36m<module>\u001b[0;34m()\u001b[0m\n\u001b[0;32m----> 1\u001b[0;31m \u001b[0mhash\u001b[0m\u001b[0;34m(\u001b[0m\u001b[0;34m(\u001b[0m\u001b[0;36m1\u001b[0m\u001b[0;34m,\u001b[0m \u001b[0;36m2\u001b[0m\u001b[0;34m,\u001b[0m \u001b[0;34m[\u001b[0m\u001b[0;36m2\u001b[0m\u001b[0;34m,\u001b[0m \u001b[0;36m3\u001b[0m\u001b[0;34m]\u001b[0m\u001b[0;34m)\u001b[0m\u001b[0;34m)\u001b[0m \u001b[0;31m# 리스트는 변경이 가능한 값이므로 해시 가능하지 않음\u001b[0m\u001b[0;34m\u001b[0m\u001b[0;34m\u001b[0m\u001b[0m\n\u001b[0m",
            "\u001b[0;31mTypeError\u001b[0m: unhashable type: 'list'"
          ]
        }
      ]
    },
    {
      "cell_type": "code",
      "source": [
        "d = {}"
      ],
      "metadata": {
        "id": "yab8Zm5iu6av"
      },
      "execution_count": null,
      "outputs": []
    },
    {
      "cell_type": "code",
      "source": [
        "d[tuple([1, 2, 3])] = 5"
      ],
      "metadata": {
        "id": "4bNPD7J9vANS"
      },
      "execution_count": null,
      "outputs": []
    },
    {
      "cell_type": "code",
      "source": [
        "d"
      ],
      "metadata": {
        "colab": {
          "base_uri": "https://localhost:8080/"
        },
        "id": "1wGtHdGgvDU7",
        "outputId": "e5490333-2158-45a2-9fb3-c8b91f8b95a4"
      },
      "execution_count": null,
      "outputs": [
        {
          "output_type": "execute_result",
          "data": {
            "text/plain": [
              "{(1, 2, 3): 5}"
            ]
          },
          "metadata": {},
          "execution_count": 446
        }
      ]
    },
    {
      "cell_type": "code",
      "source": [
        "# 3.1.5 집합"
      ],
      "metadata": {
        "id": "VOfihA2LvEg4"
      },
      "execution_count": null,
      "outputs": []
    },
    {
      "cell_type": "code",
      "source": [
        "# 집합은 유일한 원소만 담는 정렬되지 않은 자료형이다. 사전과 유사하지만 값은 없고 키만 가지고 있다고 생각하면 된다. \n",
        "# 집합은 set 함수를 이용하거나 중괄호를 이용해서 생성할 수 있다."
      ],
      "metadata": {
        "id": "1NIChRzovG4H"
      },
      "execution_count": null,
      "outputs": []
    },
    {
      "cell_type": "code",
      "source": [
        "set([2, 2, 2, 1, 3, 3])"
      ],
      "metadata": {
        "colab": {
          "base_uri": "https://localhost:8080/"
        },
        "id": "_-BWCDDc1wvH",
        "outputId": "5e2618ba-fda9-44de-c3b2-748d95bcad46"
      },
      "execution_count": null,
      "outputs": [
        {
          "output_type": "execute_result",
          "data": {
            "text/plain": [
              "{1, 2, 3}"
            ]
          },
          "metadata": {},
          "execution_count": 449
        }
      ]
    },
    {
      "cell_type": "code",
      "source": [
        "{2, 2, 2, 1, 3, 3}"
      ],
      "metadata": {
        "colab": {
          "base_uri": "https://localhost:8080/"
        },
        "id": "9Fd9n77_10VB",
        "outputId": "743a0b88-6231-4ca0-d042-51736d8823ff"
      },
      "execution_count": null,
      "outputs": [
        {
          "output_type": "execute_result",
          "data": {
            "text/plain": [
              "{1, 2, 3}"
            ]
          },
          "metadata": {},
          "execution_count": 450
        }
      ]
    },
    {
      "cell_type": "code",
      "source": [
        "# 집합은 합집합, 교집합, 차집합, 대칭차집합 같은 산술 집합 연산을 제공한다. "
      ],
      "metadata": {
        "id": "heEh_pZP14Rb"
      },
      "execution_count": null,
      "outputs": []
    },
    {
      "cell_type": "code",
      "source": [
        "a = {1, 2, 3, 4, 5}"
      ],
      "metadata": {
        "id": "cWQxBSNa2BGu"
      },
      "execution_count": null,
      "outputs": []
    },
    {
      "cell_type": "code",
      "source": [
        "b = {3, 4, 5, 6, 7, 8}"
      ],
      "metadata": {
        "id": "tsTBvNCn2DwP"
      },
      "execution_count": null,
      "outputs": []
    },
    {
      "cell_type": "code",
      "source": [
        "# 두 집합의 합집합은 두 집합의 모든 원소를 모은 집합이다. union 메서드를 사용하거나 | 이항 연산자로 구할 수 있다."
      ],
      "metadata": {
        "id": "RtGJCJ-T2Gnx"
      },
      "execution_count": null,
      "outputs": []
    },
    {
      "cell_type": "code",
      "source": [
        "a.union(b)"
      ],
      "metadata": {
        "colab": {
          "base_uri": "https://localhost:8080/"
        },
        "id": "xfhyU5RYqbfC",
        "outputId": "20fd1963-bf56-4f1e-9b8c-4267739bd52c"
      },
      "execution_count": null,
      "outputs": [
        {
          "output_type": "execute_result",
          "data": {
            "text/plain": [
              "{1, 2, 3, 4, 5, 6, 7, 8}"
            ]
          },
          "metadata": {},
          "execution_count": 5
        }
      ]
    },
    {
      "cell_type": "code",
      "source": [
        "a | b"
      ],
      "metadata": {
        "colab": {
          "base_uri": "https://localhost:8080/"
        },
        "id": "T0BoBB2IqdDm",
        "outputId": "d0b3de28-fcbf-4414-ebf8-223150bf9ff1"
      },
      "execution_count": null,
      "outputs": [
        {
          "output_type": "execute_result",
          "data": {
            "text/plain": [
              "{1, 2, 3, 4, 5, 6, 7, 8}"
            ]
          },
          "metadata": {},
          "execution_count": 6
        }
      ]
    },
    {
      "cell_type": "code",
      "source": [
        "# 교집합은 두 집합에 공통으로 존재하는 원소만 모은 집합이다. intersection 메서드를 사용하거나 & 이항 연산자로 구할 수 있다."
      ],
      "metadata": {
        "id": "K6tu9edBrLbP"
      },
      "execution_count": null,
      "outputs": []
    },
    {
      "cell_type": "code",
      "source": [
        "a.intersection(b)"
      ],
      "metadata": {
        "colab": {
          "base_uri": "https://localhost:8080/"
        },
        "id": "ZJqrqbhlsVhB",
        "outputId": "fa046c5e-443e-45a8-c126-0e15114465c2"
      },
      "execution_count": null,
      "outputs": [
        {
          "output_type": "execute_result",
          "data": {
            "text/plain": [
              "{3, 4, 5}"
            ]
          },
          "metadata": {},
          "execution_count": 8
        }
      ]
    },
    {
      "cell_type": "code",
      "source": [
        "a & b"
      ],
      "metadata": {
        "colab": {
          "base_uri": "https://localhost:8080/"
        },
        "id": "vlD5tAnLsbG8",
        "outputId": "f444ebad-3807-4350-813c-127ecfa1d396"
      },
      "execution_count": null,
      "outputs": [
        {
          "output_type": "execute_result",
          "data": {
            "text/plain": [
              "{3, 4, 5}"
            ]
          },
          "metadata": {},
          "execution_count": 9
        }
      ]
    },
    {
      "cell_type": "code",
      "source": [
        "# page 107에 파이썬 집합 연산이 있다. 참고하자."
      ],
      "metadata": {
        "id": "2mxW_MdWsb00"
      },
      "execution_count": null,
      "outputs": []
    },
    {
      "cell_type": "code",
      "source": [
        "# 모든 논리 집합 연산은 연산 결과를 좌항에 대입하는 함수도 따로 제공한다. 큰 집합을 다룰 때 유용하게 사용할 수 있다."
      ],
      "metadata": {
        "id": "SxnjgXILsgs4"
      },
      "execution_count": null,
      "outputs": []
    },
    {
      "cell_type": "code",
      "source": [
        "c = a.copy()"
      ],
      "metadata": {
        "id": "8ThUR7oXs3gq"
      },
      "execution_count": null,
      "outputs": []
    },
    {
      "cell_type": "code",
      "source": [
        "c |= b"
      ],
      "metadata": {
        "id": "lTPy0wcDs6iO"
      },
      "execution_count": null,
      "outputs": []
    },
    {
      "cell_type": "code",
      "source": [
        "c"
      ],
      "metadata": {
        "colab": {
          "base_uri": "https://localhost:8080/"
        },
        "id": "jC1sjXe4s8Rv",
        "outputId": "a35e870d-6fb0-44b6-92ec-58f921699406"
      },
      "execution_count": null,
      "outputs": [
        {
          "output_type": "execute_result",
          "data": {
            "text/plain": [
              "{1, 2, 3, 4, 5, 6, 7, 8}"
            ]
          },
          "metadata": {},
          "execution_count": 14
        }
      ]
    },
    {
      "cell_type": "code",
      "source": [
        "d = a.copy()"
      ],
      "metadata": {
        "id": "crDyVUGKs9S3"
      },
      "execution_count": null,
      "outputs": []
    },
    {
      "cell_type": "code",
      "source": [
        "d &= b"
      ],
      "metadata": {
        "id": "BtYVqhyGs_HF"
      },
      "execution_count": null,
      "outputs": []
    },
    {
      "cell_type": "code",
      "source": [
        "d"
      ],
      "metadata": {
        "colab": {
          "base_uri": "https://localhost:8080/"
        },
        "id": "SB0Jp00AtAoJ",
        "outputId": "8ba2b158-830f-4cbc-b54e-cb21cf8d5f85"
      },
      "execution_count": null,
      "outputs": [
        {
          "output_type": "execute_result",
          "data": {
            "text/plain": [
              "{3, 4, 5}"
            ]
          },
          "metadata": {},
          "execution_count": 17
        }
      ]
    },
    {
      "cell_type": "code",
      "source": [
        "# 사진처럼 집합 원소들도 일반적으로 변경이 불가능해야 한다. 리스트 같은 원소를 담으려면 튜플로 변경해야 한다. "
      ],
      "metadata": {
        "id": "YD_kvJR2tBHt"
      },
      "execution_count": null,
      "outputs": []
    },
    {
      "cell_type": "code",
      "source": [
        "my_data = [1, 2, 3, 4]"
      ],
      "metadata": {
        "id": "emK3ccGctIH2"
      },
      "execution_count": null,
      "outputs": []
    },
    {
      "cell_type": "code",
      "source": [
        "my_set = {tuple(my_data)}"
      ],
      "metadata": {
        "id": "wBCjilgNtLFS"
      },
      "execution_count": null,
      "outputs": []
    },
    {
      "cell_type": "code",
      "source": [
        "my_set"
      ],
      "metadata": {
        "colab": {
          "base_uri": "https://localhost:8080/"
        },
        "id": "e1WilEcKtO7c",
        "outputId": "8c9c0065-68c3-4c16-bf75-afbc460e1ea0"
      },
      "execution_count": null,
      "outputs": [
        {
          "output_type": "execute_result",
          "data": {
            "text/plain": [
              "{(1, 2, 3, 4)}"
            ]
          },
          "metadata": {},
          "execution_count": 21
        }
      ]
    },
    {
      "cell_type": "code",
      "source": [
        "# 어떤 집합이 다른 집합의 부분집합인지 확대집합인지 검사할 수도 있다."
      ],
      "metadata": {
        "id": "zVKKBqRYtP-t"
      },
      "execution_count": null,
      "outputs": []
    },
    {
      "cell_type": "code",
      "source": [
        "a_set = {1, 2, 3, 4, 5}"
      ],
      "metadata": {
        "id": "YndcXfpMtm4e"
      },
      "execution_count": null,
      "outputs": []
    },
    {
      "cell_type": "code",
      "source": [
        "{1, 2, 3}.issubset(a_set)"
      ],
      "metadata": {
        "colab": {
          "base_uri": "https://localhost:8080/"
        },
        "id": "JZCFQwoJtpp6",
        "outputId": "da97a857-ce82-4a8d-fc77-8080d90d0937"
      },
      "execution_count": null,
      "outputs": [
        {
          "output_type": "execute_result",
          "data": {
            "text/plain": [
              "True"
            ]
          },
          "metadata": {},
          "execution_count": 24
        }
      ]
    },
    {
      "cell_type": "code",
      "source": [
        "a_set.issuperset({1, 2, 3})"
      ],
      "metadata": {
        "colab": {
          "base_uri": "https://localhost:8080/"
        },
        "id": "3bDFtbfMtuEQ",
        "outputId": "baf65871-686c-42ee-f73a-20905a5bb9ac"
      },
      "execution_count": null,
      "outputs": [
        {
          "output_type": "execute_result",
          "data": {
            "text/plain": [
              "True"
            ]
          },
          "metadata": {},
          "execution_count": 25
        }
      ]
    },
    {
      "cell_type": "code",
      "source": [
        "{1, 2, 3} == {3, 2, 1}"
      ],
      "metadata": {
        "colab": {
          "base_uri": "https://localhost:8080/"
        },
        "id": "-NRWYnOat0GO",
        "outputId": "0af12e95-fe32-455d-d6d4-1b97befd4d9d"
      },
      "execution_count": null,
      "outputs": [
        {
          "output_type": "execute_result",
          "data": {
            "text/plain": [
              "True"
            ]
          },
          "metadata": {},
          "execution_count": 26
        }
      ]
    },
    {
      "cell_type": "code",
      "source": [
        "# 3.1.6 리스트, 집합, 사전 표기법"
      ],
      "metadata": {
        "id": "IdLtcG9it247"
      },
      "execution_count": null,
      "outputs": []
    },
    {
      "cell_type": "code",
      "source": [
        "# 리스트 표기법은 파이썬 언어에서 가장 사랑받는 기능 중 하나다. 이를 이용하면 간결한 표현으로 새로운 리스트를 만들 수 있다. 기본 형식은 다음과 같다."
      ],
      "metadata": {
        "id": "tu1lAd7Et61R"
      },
      "execution_count": null,
      "outputs": []
    },
    {
      "cell_type": "code",
      "source": [
        "# [expr for val in collection if condition]"
      ],
      "metadata": {
        "id": "8xsYmhpfwLkH"
      },
      "execution_count": null,
      "outputs": []
    },
    {
      "cell_type": "code",
      "source": [
        "# 이를 반복문으로 구현하면 다음과 같다."
      ],
      "metadata": {
        "id": "9kkCdQWkwRVY"
      },
      "execution_count": null,
      "outputs": []
    },
    {
      "cell_type": "code",
      "source": [
        "# result = []\n",
        "# for val in collection:\n",
        "  # if condition:\n",
        "    # result.append(expr)"
      ],
      "metadata": {
        "id": "gtuKBAG0wTuk"
      },
      "execution_count": null,
      "outputs": []
    },
    {
      "cell_type": "code",
      "source": [
        "# 필터 조건은 생략 가능하다. 예를 들어 문자열 리스트가 있다면 아래처럼 문자열의 길이가 2 이하인 문자열은 제외하고 나머지를 대문자로 바꾸는 게 가능하다."
      ],
      "metadata": {
        "id": "JYUgNyVwwcPI"
      },
      "execution_count": null,
      "outputs": []
    },
    {
      "cell_type": "code",
      "source": [
        "strings = [\"a\", \"as\", \"bat\", \"car\", \"dove\", \"python\"]"
      ],
      "metadata": {
        "id": "h3WIz1lJxTDa"
      },
      "execution_count": null,
      "outputs": []
    },
    {
      "cell_type": "code",
      "source": [
        "[x.upper() for x in strings if len(x) > 2]"
      ],
      "metadata": {
        "colab": {
          "base_uri": "https://localhost:8080/"
        },
        "id": "Zf8s9GhXxaJb",
        "outputId": "90420677-7d4d-4880-b9b9-81868f681468"
      },
      "execution_count": null,
      "outputs": [
        {
          "output_type": "execute_result",
          "data": {
            "text/plain": [
              "['BAT', 'CAR', 'DOVE', 'PYTHON']"
            ]
          },
          "metadata": {},
          "execution_count": 34
        }
      ]
    },
    {
      "cell_type": "code",
      "source": [
        "# 집합과 사전에 대해서도 리스트 표기법과 같은 방식으로 적용할 수 있다. 사전 표기법은 다음과 같다."
      ],
      "metadata": {
        "id": "s1HL8q9xxhf4"
      },
      "execution_count": null,
      "outputs": []
    },
    {
      "cell_type": "code",
      "source": [
        "# dict_comp = {key-expr : value-expr for value in collection\n",
        "#             if condition}"
      ],
      "metadata": {
        "id": "veJdrZoOCtK3"
      },
      "execution_count": null,
      "outputs": []
    },
    {
      "cell_type": "code",
      "source": [
        "# 집합 표기법은 대괄호 대신 중괄호를 쓴다는 점만 빼면 리스트 표기법과 동일하다."
      ],
      "metadata": {
        "id": "VTs4AB0VGfM9"
      },
      "execution_count": null,
      "outputs": []
    },
    {
      "cell_type": "code",
      "source": [
        "# set_comp = {expr for value in collection if condition}"
      ],
      "metadata": {
        "id": "OgBWfwPOGlRu"
      },
      "execution_count": null,
      "outputs": []
    },
    {
      "cell_type": "code",
      "source": [
        "# 리스트 표기법과 마찬가지로 집학과 사전 표기법 역시 문법적 관용으로, 간결한 코드 작성을 통해 코드의 가독성을 높여준다.\n",
        "# 리스트 내의 문자열들의 길이를 담고 있는 집합을 생성하려면 집합 표기법을 이용하여 다음과 같이 처리할 수 있다. "
      ],
      "metadata": {
        "id": "Jw3KketnGqzQ"
      },
      "execution_count": null,
      "outputs": []
    },
    {
      "cell_type": "code",
      "source": [
        "unique_lengths = {len(x) for x in strings}"
      ],
      "metadata": {
        "id": "JZd6CxhDHt3M"
      },
      "execution_count": null,
      "outputs": []
    },
    {
      "cell_type": "code",
      "source": [
        "unique_lengths"
      ],
      "metadata": {
        "colab": {
          "base_uri": "https://localhost:8080/"
        },
        "id": "CNxcTOrvHzbi",
        "outputId": "6995b857-9d51-4a15-cd65-808224bb18e6"
      },
      "execution_count": null,
      "outputs": [
        {
          "output_type": "execute_result",
          "data": {
            "text/plain": [
              "{1, 2, 3, 4, 6}"
            ]
          },
          "metadata": {},
          "execution_count": 41
        }
      ]
    },
    {
      "cell_type": "code",
      "source": [
        "# map 함수를 이용해서 함수적으로 표현할 수도 있다."
      ],
      "metadata": {
        "id": "q0PQ9dP0H1uv"
      },
      "execution_count": null,
      "outputs": []
    },
    {
      "cell_type": "code",
      "source": [
        "set(map(len, strings))"
      ],
      "metadata": {
        "colab": {
          "base_uri": "https://localhost:8080/"
        },
        "id": "xVHQ0al9H6Gm",
        "outputId": "3089d68f-9cbe-482e-d336-6a1b4ca212b0"
      },
      "execution_count": null,
      "outputs": [
        {
          "output_type": "execute_result",
          "data": {
            "text/plain": [
              "{1, 2, 3, 4, 6}"
            ]
          },
          "metadata": {},
          "execution_count": 43
        }
      ]
    },
    {
      "cell_type": "code",
      "source": [
        "# 사전 표기법의 예제로, 리스트에서 문자열의 위치를 담고 있는 사전을 생성해보자."
      ],
      "metadata": {
        "id": "_yLkEuKaH9HJ"
      },
      "execution_count": null,
      "outputs": []
    },
    {
      "cell_type": "code",
      "source": [
        "loc_mapping = {val : index for index, val in enumerate(strings)}"
      ],
      "metadata": {
        "id": "dTXjDQdNIGVD"
      },
      "execution_count": null,
      "outputs": []
    },
    {
      "cell_type": "code",
      "source": [
        "loc_mapping"
      ],
      "metadata": {
        "colab": {
          "base_uri": "https://localhost:8080/"
        },
        "id": "jA2YBjyiINLF",
        "outputId": "2a2be47b-e87a-4ba0-c9e3-cfb74a162f1e"
      },
      "execution_count": null,
      "outputs": [
        {
          "output_type": "execute_result",
          "data": {
            "text/plain": [
              "{'a': 0, 'as': 1, 'bat': 2, 'car': 3, 'dove': 4, 'python': 5}"
            ]
          },
          "metadata": {},
          "execution_count": 46
        }
      ]
    },
    {
      "cell_type": "code",
      "source": [
        "# 중첩된 리스트 표기법"
      ],
      "metadata": {
        "id": "7Iz7pkVhINz-"
      },
      "execution_count": null,
      "outputs": []
    },
    {
      "cell_type": "code",
      "source": [
        "# 다음과 같이 영어 이름과 스페인어 이름을 담고 있는 리스트의 리스트가 있다고 하자."
      ],
      "metadata": {
        "id": "GhrZqBEzIU2C"
      },
      "execution_count": null,
      "outputs": []
    },
    {
      "cell_type": "code",
      "source": [
        "all_data = [[\"John\", \"Emily\", \"Michael\", \"Mary\", \"Steven\"], [\"Maria\", \"Juan\", \"Javier\", \"Natalia\", \"Pilar\"]]"
      ],
      "metadata": {
        "id": "n4oqB7ivIYtR"
      },
      "execution_count": null,
      "outputs": []
    },
    {
      "cell_type": "code",
      "source": [
        "# 몇몇 파일에서 이들 이름을 읽어와서 영어와 스페인어 이름을 따로 저장했으며 각 이름에서 알파벳 e가 2개 이상 포함된 이름의 목록을 구한다고 가정하자.\n",
        "# 리스트는 for 문을 사용해서 다음처럼 구할 수 있다."
      ],
      "metadata": {
        "id": "1FRGzhD_I3UT"
      },
      "execution_count": null,
      "outputs": []
    },
    {
      "cell_type": "code",
      "source": [
        "# names_of_interest = []\n",
        "# for names in all_data:\n",
        "  # enough_es = [name for name in names if name.count(\"e\") >= 2]\n",
        "  # names_of_interest.extend(enough_es)"
      ],
      "metadata": {
        "id": "rvAohQNoKF0S"
      },
      "execution_count": null,
      "outputs": []
    },
    {
      "cell_type": "code",
      "source": [
        "# 위 코드 전체를 중첩된 리스트 표기법을 이용해서 다음처럼 한번에 구현할 수 있다."
      ],
      "metadata": {
        "id": "GNFNXUWTLBBd"
      },
      "execution_count": null,
      "outputs": []
    },
    {
      "cell_type": "code",
      "source": [
        "result = [name for names in all_data for name in names if name.count(\"e\") >= 2]"
      ],
      "metadata": {
        "id": "9fDLoOmnLGIB"
      },
      "execution_count": null,
      "outputs": []
    },
    {
      "cell_type": "code",
      "source": [
        "result"
      ],
      "metadata": {
        "colab": {
          "base_uri": "https://localhost:8080/"
        },
        "id": "D0UeMpxj7U5o",
        "outputId": "80d914ab-ac80-4aa9-88da-92ab865c8317"
      },
      "execution_count": null,
      "outputs": [
        {
          "output_type": "execute_result",
          "data": {
            "text/plain": [
              "['Steven']"
            ]
          },
          "metadata": {},
          "execution_count": 54
        }
      ]
    },
    {
      "cell_type": "code",
      "source": [
        "# 중첩된 리스트 표기법을 처음 접하면 머릿속에서 그려내기가 조금 어려울 수 있다. 리스트 표기법에서 for 부분은 중첩의 순서에 따라 나열되며 필터 조건은 끝에 위치한다. \n",
        "# 숫자 튜플이 담긴 리스트를 그냥 단순한 리스트로 변환하는 다음 예제를 살펴보자"
      ],
      "metadata": {
        "id": "YaNuHSeF7ipG"
      },
      "execution_count": null,
      "outputs": []
    },
    {
      "cell_type": "code",
      "source": [
        "some_tuples = [(1, 2, 3), (4, 5, 6), (7, 8, 9)]"
      ],
      "metadata": {
        "id": "SZo5tWdF7xX9"
      },
      "execution_count": null,
      "outputs": []
    },
    {
      "cell_type": "code",
      "source": [
        "flattened = [x for tup in some_tuples for x in tup]"
      ],
      "metadata": {
        "id": "LkdG-sHA75NB"
      },
      "execution_count": null,
      "outputs": []
    },
    {
      "cell_type": "code",
      "source": [
        "flattened"
      ],
      "metadata": {
        "colab": {
          "base_uri": "https://localhost:8080/"
        },
        "id": "Oy4aunp18CcM",
        "outputId": "ed670828-5cd3-44e7-8b8b-831dc33f58c2"
      },
      "execution_count": null,
      "outputs": [
        {
          "output_type": "execute_result",
          "data": {
            "text/plain": [
              "[1, 2, 3, 4, 5, 6, 7, 8, 9]"
            ]
          },
          "metadata": {},
          "execution_count": 58
        }
      ]
    },
    {
      "cell_type": "code",
      "source": [
        "# 리스트 표기법 대신 for 문을 사용할 경우 for 표현식의 순서도 리스트 표기법의 순서와 동일함을 기억하자."
      ],
      "metadata": {
        "id": "6E0Ip_ft8DaQ"
      },
      "execution_count": null,
      "outputs": []
    },
    {
      "cell_type": "code",
      "source": [
        "flattened = []\n",
        "\n",
        "for tup in some_tuples:\n",
        "  for x in tup:\n",
        "    flattened.append(x)"
      ],
      "metadata": {
        "id": "mR0LwGwa8L0J"
      },
      "execution_count": null,
      "outputs": []
    },
    {
      "cell_type": "code",
      "source": [
        "# 몇 단계의 중첩이라도 가능하지만 만약 2단계 이상의 중첩이 필요하다면 자료구조 설계에 대해 다시 한 번 생각해봐야 할 것이다. \n",
        "# 위 문법과 리스트 표기법 안에서 리스트 표기법을 사용하는 것의 차이를 구별하는 것은 중요하다."
      ],
      "metadata": {
        "id": "7Beppm8e8Xn3"
      },
      "execution_count": null,
      "outputs": []
    },
    {
      "cell_type": "code",
      "source": [
        "[[x for x in tup] for tup in some_tuples]"
      ],
      "metadata": {
        "colab": {
          "base_uri": "https://localhost:8080/"
        },
        "id": "svsYYZqd8ofT",
        "outputId": "9811cac2-47d0-45bc-a210-56f8dfce1f8d"
      },
      "execution_count": null,
      "outputs": [
        {
          "output_type": "execute_result",
          "data": {
            "text/plain": [
              "[[1, 2, 3], [4, 5, 6], [7, 8, 9]]"
            ]
          },
          "metadata": {},
          "execution_count": 62
        }
      ]
    },
    {
      "cell_type": "code",
      "source": [
        "# 위 코드는 내부 리스트의 원소를 모두 끄집어낸 리스트를 생성하는 것이 아니라 리스트의 리스트를 생성한다."
      ],
      "metadata": {
        "id": "mSsUkDJG8s4n"
      },
      "execution_count": null,
      "outputs": []
    },
    {
      "cell_type": "code",
      "source": [
        "# 3.2 함수"
      ],
      "metadata": {
        "id": "eJKqQFHu8zL2"
      },
      "execution_count": null,
      "outputs": []
    },
    {
      "cell_type": "code",
      "source": [
        "# 함수는 파이썬에서 코드를 재사용하고 조직화하기 위한 가장 중요한 수단이다. \n",
        "# 경험적으로 같은 일을 반복하거나 비슷한 코드를 한 번 이상 실행해야 할 것이 예상되면 재사용 가능한 함수를 작성하는 것이 더 나을 것이다. \n",
        "# 함수는 파이썬 명령들의 집합에 이름을 지어 좀 더 가독성이 좋은 코드를 작성할 수 있도록 해준다."
      ],
      "metadata": {
        "id": "_Mp0-XP4RNb3"
      },
      "execution_count": null,
      "outputs": []
    },
    {
      "cell_type": "code",
      "source": [
        "# def my_function(x, y, z = 1.5):\n",
        "#   if z > 1:\n",
        "#     return z * (x + y)\n",
        "#   else:\n",
        "#     return z / (x + y)"
      ],
      "metadata": {
        "id": "K9u3cca6SmaR"
      },
      "execution_count": null,
      "outputs": []
    },
    {
      "cell_type": "code",
      "source": [
        "# return 문은 몇 개가 되든 상관없다. 함수 블록이 끝날 때까지 return 문이 없다면 None이 자동으로 반환된다."
      ],
      "metadata": {
        "id": "6MyAsN7SUENu"
      },
      "execution_count": null,
      "outputs": []
    },
    {
      "cell_type": "code",
      "source": [
        "# 함수는 여러 개의 일반 인자와 키워드 인자를 받을 수 있다. 키으ㅝ드 인자는 흔히 기본값 또는 부수적인 인자를 지정하기 위해 사용한다. 위 함수에서 x와 y는 일반 인자이며 z는 키워드 인자다."
      ],
      "metadata": {
        "id": "qSh6zAAeUvoc"
      },
      "execution_count": null,
      "outputs": []
    },
    {
      "cell_type": "code",
      "source": [
        "# my_functions(5, 6, z = 0.7)\n",
        "# my_functions(3.14, 7, 3.5)\n",
        "# my_functions(10, 20)"
      ],
      "metadata": {
        "id": "ZgKYfXZBU_MI"
      },
      "execution_count": null,
      "outputs": []
    },
    {
      "cell_type": "code",
      "source": [
        "# 함수의 키워드 인자는 항상 일반 인자 다음에 와야 한다는 규칙이 있다. 키워드 인자의 순서에는 제약이 없으므로 키워드 인자의 이름만 기억하고 있으면 된다.\n",
        "# 키워드 인자의 순서는 기억할 필요 없다."
      ],
      "metadata": {
        "id": "7mXHchotVndE"
      },
      "execution_count": null,
      "outputs": []
    },
    {
      "cell_type": "code",
      "source": [
        "# 3.2.1 네임스페이스, 스코프, 지역 함수"
      ],
      "metadata": {
        "id": "_Aw7LFvsWWNo"
      },
      "execution_count": null,
      "outputs": []
    },
    {
      "cell_type": "code",
      "source": [
        "# 함수는 전역과 지역, 두가지 스코프에서 변수를 참조한다. 변수의 스코프를 설명하는 다른 용어로 네임스페이스가 있다. 함수 내에서 선언된 변수는 기본적으로 모두 지역 네임스페이스에 속한다.\n",
        "# 지역 네임스페이스는 함수가 호출될 때 생성되며 함수의 인자를 통해 즉시 생성된다. 함수의 실행이 끝나면 지역 네임스페이스는 사라진다."
      ],
      "metadata": {
        "id": "Lw4ZW6zcW-CW"
      },
      "execution_count": null,
      "outputs": []
    },
    {
      "cell_type": "code",
      "source": [
        "# def func():\n",
        "#   a = []\n",
        "#   for i in range(5):\n",
        "#     a.append(i)"
      ],
      "metadata": {
        "id": "hYgZCGpjXTuT"
      },
      "execution_count": null,
      "outputs": []
    },
    {
      "cell_type": "code",
      "source": [
        "# func() 함수를 호출하면 비어 있는 리스트 a가 생성되고 다섯 개의 원소가 리스트에 추가된다. 그리고 함수가 끝나면 이 리스트 a는 사라진다. 하지만트리스트 a를 다음과 같이 선언했다고 하자."
      ],
      "metadata": {
        "id": "7JofakA4YnsH"
      },
      "execution_count": null,
      "outputs": []
    },
    {
      "cell_type": "code",
      "source": [
        "a = []\n",
        "def func():\n",
        "  for i in range(5):\n",
        "    a.append(i)"
      ],
      "metadata": {
        "id": "x2xY16rIZSWZ"
      },
      "execution_count": null,
      "outputs": []
    },
    {
      "cell_type": "code",
      "source": [
        "# 함수의 스코프 밖에서 변수에 값을 대입하려면 그 변수를 global 예약어를 이용해서 전역 변수로 선언해야 한다."
      ],
      "metadata": {
        "id": "GG6jO6yyZi5H"
      },
      "execution_count": null,
      "outputs": []
    },
    {
      "cell_type": "code",
      "source": [
        "a = None"
      ],
      "metadata": {
        "id": "myIdvm56ZyvB"
      },
      "execution_count": null,
      "outputs": []
    },
    {
      "cell_type": "code",
      "source": [
        "def bind_a_variable():\n",
        "  global a\n",
        "  a = []\n",
        "bind_a_variable()"
      ],
      "metadata": {
        "id": "tDbvrQX4Z0jJ"
      },
      "execution_count": null,
      "outputs": []
    },
    {
      "cell_type": "code",
      "source": [
        "print(a)"
      ],
      "metadata": {
        "colab": {
          "base_uri": "https://localhost:8080/"
        },
        "id": "HWV1_-kbZ6S-",
        "outputId": "cc7d428d-8ab8-4131-d07c-d63df26c9dae"
      },
      "execution_count": null,
      "outputs": [
        {
          "output_type": "stream",
          "name": "stdout",
          "text": [
            "[]\n"
          ]
        }
      ]
    },
    {
      "cell_type": "code",
      "source": [
        "# 3.2.2 여러 값 반환하기"
      ],
      "metadata": {
        "id": "yC6iCjYOaARJ"
      },
      "execution_count": null,
      "outputs": []
    },
    {
      "cell_type": "code",
      "source": [
        "# 파이썬의 장점 중 하나가 하나의 함수에서 여러 개의 값을 반환할 수 있는 기능이었다."
      ],
      "metadata": {
        "id": "s3MM4VjWaFPO"
      },
      "execution_count": null,
      "outputs": []
    },
    {
      "cell_type": "code",
      "source": [
        "def f():\n",
        "  a = 5\n",
        "  b = 6\n",
        "  c = 7\n",
        "  return a, b, c\n",
        "\n",
        "a, b, c = f()"
      ],
      "metadata": {
        "id": "1BYM1YpOe3Vp"
      },
      "execution_count": null,
      "outputs": []
    },
    {
      "cell_type": "code",
      "source": [
        "# 데이터 분석과 과학 계산 애플리케이션에서는 많은 함수가 여러 개의 값을 반환하는 일이 잦다. 앞서 살펴본 튜플을 생각해보면 이 함수는 하나의 객체, 말하자면 튜플을 반환한다고 생각할 수 있다.\n",
        "# 즉, 위 예제에서는 튜플을 반환하며 아래 코드처럼 변수에 대입할 수 있다. "
      ],
      "metadata": {
        "id": "i0BioW1rfFS3"
      },
      "execution_count": null,
      "outputs": []
    },
    {
      "cell_type": "code",
      "source": [
        "return_value = f()"
      ],
      "metadata": {
        "id": "tuglJOcafPYm"
      },
      "execution_count": null,
      "outputs": []
    },
    {
      "cell_type": "code",
      "source": [
        "# 여기서 return_value는 짐작한 대로 반환된 세 개의 값을 가지고 있는 튜플이 된다. 다른 대안은 여러 값을 반환하는 대신 사전 형태로 반환하는 것이다."
      ],
      "metadata": {
        "id": "uXt7sCj1f9_K"
      },
      "execution_count": null,
      "outputs": []
    },
    {
      "cell_type": "code",
      "source": [
        "def f():\n",
        "  a = 5\n",
        "  b = 6\n",
        "  c = 7\n",
        "  return {\"a\" : a, \"b\" : b, \"c\" : c}"
      ],
      "metadata": {
        "id": "9PGfrhecgHBO"
      },
      "execution_count": null,
      "outputs": []
    },
    {
      "cell_type": "code",
      "source": [
        "# 경우에 따라서는 사전을 반환하는 이 대안이 좀 더 유용할 수 있다. "
      ],
      "metadata": {
        "id": "FMuUTePOgMI4"
      },
      "execution_count": null,
      "outputs": []
    },
    {
      "cell_type": "code",
      "source": [
        "# 3.2.3 함수도 객체다."
      ],
      "metadata": {
        "id": "hXfC3tIXgYVh"
      },
      "execution_count": null,
      "outputs": []
    },
    {
      "cell_type": "code",
      "source": [
        "# 파이썬에서는 함수도 객체이므로 다른 언어에서는 힘든 객체 생성 표현을 쉽게 할 수 있다. 데이터를 정제하기 위해 다음과 같은 문자열 리스트를 변형해야 한다고 가정하자."
      ],
      "metadata": {
        "id": "fwhEzXYvgahU"
      },
      "execution_count": null,
      "outputs": []
    },
    {
      "cell_type": "code",
      "source": [
        "states = [\"Alabama\", \"Georgia!\", \"Georgia\", \"georgia\", \"FlOrIda\", \"southcarolina##\", \"West virginia?\"]"
      ],
      "metadata": {
        "id": "RF8ejqjL-JSj"
      },
      "execution_count": null,
      "outputs": []
    },
    {
      "cell_type": "code",
      "source": [
        "# 사용자가 입력하는 설문 조사 데이터를 다뤄본 적이 있다면 이와 같이 엉망인 데이터를 많이 보았을 것이다.\n",
        "# 분석을 위해 이런 문자열 리스트를 정형화할 필요가 있는데, 공백 문자를 제거하고 필요없는 문장 부호를 제거하거나 대소문자를 맞추는 등의 작업이 필요하다. \n",
        "# 이는 문자열 메서드와 정규 표현식을 위한 re 표준 라이브러리를 이용해서 쉽게 해결할 수 있다. "
      ],
      "metadata": {
        "id": "c16GrJOS-mmS"
      },
      "execution_count": null,
      "outputs": []
    },
    {
      "cell_type": "code",
      "source": [
        "import re\n",
        "\n",
        "def clean_strings(strings):\n",
        "  result = []\n",
        "  for value in strings:\n",
        "    value = value.strip()\n",
        "    value = re.sub(\"[!#?]\", \"\", value)\n",
        "    value = value.title()\n",
        "    result.append(value)\n",
        "  return result"
      ],
      "metadata": {
        "id": "RSM7o78k_NFQ"
      },
      "execution_count": null,
      "outputs": []
    },
    {
      "cell_type": "code",
      "source": [
        "clean_strings(states)"
      ],
      "metadata": {
        "colab": {
          "base_uri": "https://localhost:8080/"
        },
        "id": "XDpKbmFpArqh",
        "outputId": "21e5b09f-b6a2-4a23-c46d-91855c48d51a"
      },
      "execution_count": null,
      "outputs": [
        {
          "output_type": "execute_result",
          "data": {
            "text/plain": [
              "['Alabama',\n",
              " 'Georgia',\n",
              " 'Georgia',\n",
              " 'Georgia',\n",
              " 'Florida',\n",
              " 'Southcarolina',\n",
              " 'West Virginia']"
            ]
          },
          "metadata": {},
          "execution_count": 7
        }
      ]
    },
    {
      "cell_type": "code",
      "source": [
        "# 다른 유용한 접근법으로는 적용할 함수를 리스트에 담아두고 각각의 문자열에 적용하는 것이다."
      ],
      "metadata": {
        "id": "U_AzRMH7AvJG"
      },
      "execution_count": null,
      "outputs": []
    },
    {
      "cell_type": "code",
      "source": [
        "def remove_punctuation(value):\n",
        "  return re.sub(\"[!#?]\", \"\", value)\n",
        "\n",
        "clean_ops = [str.strip ,remove_punctuation, str.title]\n",
        "\n",
        "def clean_strings(strings, ops):\n",
        "  result = []\n",
        "  for value in strings:\n",
        "    for function in ops:\n",
        "      value = function(value)\n",
        "    result.append(value)\n",
        "  return result "
      ],
      "metadata": {
        "id": "k1sRfydIBN4g"
      },
      "execution_count": null,
      "outputs": []
    },
    {
      "cell_type": "code",
      "source": [
        "# 아래와 같은 결과를 얻을 수 있다."
      ],
      "metadata": {
        "id": "d4x69G41DCSc"
      },
      "execution_count": null,
      "outputs": []
    },
    {
      "cell_type": "code",
      "source": [
        "clean_strings(states, clean_ops)"
      ],
      "metadata": {
        "colab": {
          "base_uri": "https://localhost:8080/"
        },
        "id": "13Bed00WDEry",
        "outputId": "eb8da572-d9b6-4bdc-ca98-53154dc6ec15"
      },
      "execution_count": null,
      "outputs": [
        {
          "output_type": "execute_result",
          "data": {
            "text/plain": [
              "['Alabama',\n",
              " 'Georgia',\n",
              " 'Georgia',\n",
              " 'Georgia',\n",
              " 'Florida',\n",
              " 'Southcarolina',\n",
              " 'West Virginia']"
            ]
          },
          "metadata": {},
          "execution_count": 17
        }
      ]
    },
    {
      "cell_type": "code",
      "source": [
        "# 이와 같이 좀 더 실용적인 패턴은 문자열 변형을 상위 레벨에서 쉽게 처리할 수 있다."
      ],
      "metadata": {
        "id": "qca93WtnDImy"
      },
      "execution_count": null,
      "outputs": []
    },
    {
      "cell_type": "code",
      "source": [
        "# 순차적 자료형에 대해 함수를 적용하는 내장 함수인 map 함수를 이용해서 함수를 인자로 사용할 수도 있다. "
      ],
      "metadata": {
        "id": "EuH7312ZEBC4"
      },
      "execution_count": null,
      "outputs": []
    },
    {
      "cell_type": "code",
      "source": [
        "for x in map(remove_punctuation, states):\n",
        "  print(x)"
      ],
      "metadata": {
        "colab": {
          "base_uri": "https://localhost:8080/"
        },
        "id": "y_ex5ICVEJbp",
        "outputId": "2a21368b-08bc-494a-a331-05d5c0857329"
      },
      "execution_count": null,
      "outputs": [
        {
          "output_type": "stream",
          "name": "stdout",
          "text": [
            "Alabama\n",
            "Georgia\n",
            "Georgia\n",
            "georgia\n",
            "FlOrIda\n",
            "southcarolina\n",
            "West virginia\n"
          ]
        }
      ]
    },
    {
      "cell_type": "code",
      "source": [
        "# 3.2.4 익명 함수"
      ],
      "metadata": {
        "id": "sYAsK3srERvC"
      },
      "execution_count": null,
      "outputs": []
    },
    {
      "cell_type": "code",
      "source": [
        "# 파이썬은 익명 함수 혹은 람다 함수라고 하는 값을 반환하는 단순한 한 문장으로 이루어진 함수를 지원한다. lambda 예약어로 정의하며, 이는 \"익명 함수를 선언한다\"라는 의미다."
      ],
      "metadata": {
        "id": "nOz2dAp8Fh9c"
      },
      "execution_count": null,
      "outputs": []
    },
    {
      "cell_type": "code",
      "source": [
        "# 이 책에서는 이를 람다 함수라고 하겠다. 람다 함수는 데이터 분석에서 특히 편리한데, 이는 앞으로 알게 되겠지만 데이터를 변형하는 함수에서 인자로 함수를 받아야 하는 경우가 매우 많기 때문이다. \n",
        "# 즉, 람다 함수를 사용하면 실제 함수를 선언하거나 람다 함수를 지역 변수에 대입하는 것보다 코드를 적게 쓰고 더 간결해지기 때문이다."
      ],
      "metadata": {
        "id": "qv7daK6dFzWX"
      },
      "execution_count": null,
      "outputs": []
    },
    {
      "cell_type": "code",
      "source": [
        "def apply_to_list(some_list, f):\n",
        "  return [f(x) for x in some_list]\n",
        "\n",
        "ints = [4, 0, 1, 5, 6]\n",
        "apply_to_list(ints, lambda x: x * 2)"
      ],
      "metadata": {
        "colab": {
          "base_uri": "https://localhost:8080/"
        },
        "id": "x8zBxhWzGzhg",
        "outputId": "227a1000-3bdb-414b-d7d8-e291dbafca40"
      },
      "execution_count": null,
      "outputs": [
        {
          "output_type": "execute_result",
          "data": {
            "text/plain": [
              "[8, 0, 2, 10, 12]"
            ]
          },
          "metadata": {},
          "execution_count": 28
        }
      ]
    },
    {
      "cell_type": "code",
      "source": [
        "# 물론 [x * 2 for x in ints]라고 해도 되지만 이렇게 하면 apply_to_list 함수에 사용자 연산을 간결하게 전달할 수 있다."
      ],
      "metadata": {
        "id": "Xg_eCZMwG5uA"
      },
      "execution_count": null,
      "outputs": []
    },
    {
      "cell_type": "code",
      "source": [
        "# 다른 예제로, 다음 문자열 리스트를 각 문자열에서 다양한 문자가 포함된 순서로 정렬한다고 가정하자."
      ],
      "metadata": {
        "id": "mhntTrgEHXK0"
      },
      "execution_count": null,
      "outputs": []
    },
    {
      "cell_type": "code",
      "source": [
        "strings = [\"foo\", \"card\", \"bar\", \"aaaa\", \"abab\"]"
      ],
      "metadata": {
        "id": "3Pj_u_AMHcAS"
      },
      "execution_count": null,
      "outputs": []
    },
    {
      "cell_type": "code",
      "source": [
        "# 리스트의 sort 메서드에 람다 함수를 넘겨 다음과 같이 정렬할 수 있다."
      ],
      "metadata": {
        "id": "6x9T4zb6Hi8O"
      },
      "execution_count": null,
      "outputs": []
    },
    {
      "cell_type": "code",
      "source": [
        "strings.sort(key=lambda x: len(set(list(x))))"
      ],
      "metadata": {
        "id": "1BGHm9dxHoIP"
      },
      "execution_count": null,
      "outputs": []
    },
    {
      "cell_type": "code",
      "source": [
        "strings"
      ],
      "metadata": {
        "colab": {
          "base_uri": "https://localhost:8080/"
        },
        "id": "k3dT-Y1IINYq",
        "outputId": "3a549de5-9de6-4bbd-ad23-4619b3687fe0"
      },
      "execution_count": null,
      "outputs": [
        {
          "output_type": "execute_result",
          "data": {
            "text/plain": [
              "['aaaa', 'foo', 'abab', 'bar', 'card']"
            ]
          },
          "metadata": {},
          "execution_count": 34
        }
      ]
    },
    {
      "cell_type": "code",
      "source": [
        "# 3.2.5 커링: 일부 인자만 취하기"
      ],
      "metadata": {
        "id": "PBNktELpIOFO"
      },
      "execution_count": null,
      "outputs": []
    },
    {
      "cell_type": "code",
      "source": [
        "# 커링은 컴퓨터 과학 용어로, 함수에서 일부 인자만 취하는 새로운 함수를 만드는 기법이다. 예를 들어 숫자 2개를 더하는 함수가 있다고 가정하자."
      ],
      "metadata": {
        "id": "7Dk8FUp3IR1E"
      },
      "execution_count": null,
      "outputs": []
    },
    {
      "cell_type": "code",
      "source": [
        "def add_numbers(x, y):\n",
        "  return x + y"
      ],
      "metadata": {
        "id": "4Cvv5DslJcv8"
      },
      "execution_count": null,
      "outputs": []
    },
    {
      "cell_type": "code",
      "source": [
        "# 이 함수를 이용해서 하나의 변수만 인자로 받아 5를 더해주는 새로운 함수 add_five를 생성하자."
      ],
      "metadata": {
        "id": "wtS1RRAqJgDN"
      },
      "execution_count": null,
      "outputs": []
    },
    {
      "cell_type": "code",
      "source": [
        "add_five = lambda y: add_numbers(5, y)"
      ],
      "metadata": {
        "id": "a70TmWwOJl4z"
      },
      "execution_count": null,
      "outputs": []
    },
    {
      "cell_type": "code",
      "source": [
        "# add_numbers의 두 번째 인자를 커링했다. 여기서는 기존 함수를 호출하는 새로운 함수를 하나 정의했을 뿐이므로 그리 복잡하지 않다.\n",
        "# 내장 functools 모듈의 partial 함수를 이용하면 이 과정을 단순화할 수 있다."
      ],
      "metadata": {
        "id": "UFbt_uESOnLf"
      },
      "execution_count": null,
      "outputs": []
    },
    {
      "cell_type": "code",
      "source": [
        "from functools import partial\n",
        "add_five = partial(add_numbers, 5)"
      ],
      "metadata": {
        "id": "qQ3Hb3knO5GR"
      },
      "execution_count": null,
      "outputs": []
    },
    {
      "cell_type": "code",
      "source": [
        "# 3.2.6 제너레이터"
      ],
      "metadata": {
        "id": "JONzqEgUO9FW"
      },
      "execution_count": null,
      "outputs": []
    },
    {
      "cell_type": "code",
      "source": [
        "# 파이썬은 리스트 내의 객체나 파일의 각 로우 같은 순차적인 자료를 순회하는 일관적인 방법을 제공한다.\n",
        "# 이터레이터 프로토콜을 이용해 순회 가능한 객체를 만들 수 있다.\n",
        "# 예를 들어 사전을 순회하면 사전의 키가 반환된다."
      ],
      "metadata": {
        "id": "cN1G2CGWPYOC"
      },
      "execution_count": null,
      "outputs": []
    },
    {
      "cell_type": "code",
      "source": [
        "some_dict = {\"a\" : 1, \"b\" : 2, \"c\" : 3}"
      ],
      "metadata": {
        "id": "U-D2ty72PjTj"
      },
      "execution_count": null,
      "outputs": []
    },
    {
      "cell_type": "code",
      "source": [
        "for key in some_dict:\n",
        "  print(key)"
      ],
      "metadata": {
        "colab": {
          "base_uri": "https://localhost:8080/"
        },
        "id": "yC0MDPcrQBWA",
        "outputId": "b1fa66a8-7c6c-48f7-fb46-490382a69801"
      },
      "execution_count": null,
      "outputs": [
        {
          "output_type": "stream",
          "name": "stdout",
          "text": [
            "a\n",
            "b\n",
            "c\n"
          ]
        }
      ]
    },
    {
      "cell_type": "code",
      "source": [
        "# for key in some_dict라고 작성하면 파이썬 인터프리터는 some_dict에서 이터레이터를 생성한다. "
      ],
      "metadata": {
        "id": "SDhjHKClQE5M"
      },
      "execution_count": null,
      "outputs": []
    },
    {
      "cell_type": "code",
      "source": [
        "dict_iterator = iter(some_dict)"
      ],
      "metadata": {
        "id": "xCUAGB8gQP2u"
      },
      "execution_count": null,
      "outputs": []
    },
    {
      "cell_type": "code",
      "source": [
        "dict_iterator"
      ],
      "metadata": {
        "colab": {
          "base_uri": "https://localhost:8080/"
        },
        "id": "PEzs3TbTQWfS",
        "outputId": "56a6f930-b0ec-479f-cf84-76e40e60f5a7"
      },
      "execution_count": null,
      "outputs": [
        {
          "output_type": "execute_result",
          "data": {
            "text/plain": [
              "<dict_keyiterator at 0x7f25e04e8050>"
            ]
          },
          "metadata": {},
          "execution_count": 52
        }
      ]
    },
    {
      "cell_type": "code",
      "source": [
        "# 이터레이터는 for 문 같은 컨텍스트에서 사용될 경우 객체를 반환한다. 리스트나 리스트와 유사한 객체를 취하는 대부분의 메서드는 순회 가능한 객체도 허용한다.\n",
        "# 여기에는 min, max, sum 같은 내장 메서드와 list, tuple 같은 자료구조를 생성하는 메서드도 포함된다."
      ],
      "metadata": {
        "id": "KB9QF9KuRJtI"
      },
      "execution_count": null,
      "outputs": []
    },
    {
      "cell_type": "code",
      "source": [
        "list(dict_iterator)"
      ],
      "metadata": {
        "colab": {
          "base_uri": "https://localhost:8080/"
        },
        "id": "CHBCUpQZRRQo",
        "outputId": "368a73e4-49cd-4d47-fc11-07fc2772ae13"
      },
      "execution_count": null,
      "outputs": [
        {
          "output_type": "execute_result",
          "data": {
            "text/plain": [
              "['a', 'b', 'c']"
            ]
          },
          "metadata": {},
          "execution_count": 57
        }
      ]
    },
    {
      "cell_type": "code",
      "source": [
        "# 제너레이터는 순회 가능한 객체를 생성하는 간단한 방법이다. 일반 함수는 실행되면 단일 값을 반환하는 반면 제너레이터는 순차적인 값을 매 요청 시마다 하나씩 반환한다.\n",
        "# 제너레이터를 생성하려면 함수에서 return을 하는 대신 yield 예약어를 사용한다."
      ],
      "metadata": {
        "id": "63k4l1ZaSCkl"
      },
      "execution_count": null,
      "outputs": []
    },
    {
      "cell_type": "code",
      "source": [
        "def squares(n=10):\n",
        "  print(\"Generating square from 1 to {0}\".format(n ** 2))\n",
        "  for i in range(1, n + 1):\n",
        "    yield i ** 2"
      ],
      "metadata": {
        "id": "TPIIXofASZnl"
      },
      "execution_count": null,
      "outputs": []
    },
    {
      "cell_type": "code",
      "source": [
        "# 제너레이터를 호출하더라도 코드가 즉각적으로 실행되지 않는다."
      ],
      "metadata": {
        "id": "xorqTrQQTPKQ"
      },
      "execution_count": null,
      "outputs": []
    },
    {
      "cell_type": "code",
      "source": [
        "gen = squares()"
      ],
      "metadata": {
        "id": "FkttvIrJTTzT"
      },
      "execution_count": null,
      "outputs": []
    },
    {
      "cell_type": "code",
      "source": [
        "gen"
      ],
      "metadata": {
        "colab": {
          "base_uri": "https://localhost:8080/"
        },
        "id": "XB-3oVyqTVw0",
        "outputId": "39e7ebac-be58-41aa-a886-374ab30f0649"
      },
      "execution_count": null,
      "outputs": [
        {
          "output_type": "execute_result",
          "data": {
            "text/plain": [
              "<generator object squares at 0x7f25e0511750>"
            ]
          },
          "metadata": {},
          "execution_count": 81
        }
      ]
    },
    {
      "cell_type": "code",
      "source": [
        "# 제너레이터로부터 값을 요청하면 그때서야 제너레이터의 코드가 실행된다."
      ],
      "metadata": {
        "id": "ye5qgHppTWSp"
      },
      "execution_count": null,
      "outputs": []
    },
    {
      "cell_type": "code",
      "source": [
        "for x in gen:\n",
        "    print(x, end = \" \")"
      ],
      "metadata": {
        "id": "K8fp1yN2TcP3",
        "colab": {
          "base_uri": "https://localhost:8080/"
        },
        "outputId": "06a3295d-776d-41d7-8bf7-41da97322174"
      },
      "execution_count": null,
      "outputs": [
        {
          "output_type": "stream",
          "name": "stdout",
          "text": [
            "Generating square from 1 to 100\n",
            "1 4 9 16 25 36 49 64 81 100 "
          ]
        }
      ]
    },
    {
      "cell_type": "code",
      "source": [
        "# 제너레이터 표현식"
      ],
      "metadata": {
        "id": "h3Q_Avj_TtTV"
      },
      "execution_count": null,
      "outputs": []
    },
    {
      "cell_type": "code",
      "source": [
        "# 제너레이터를 생성하는 더 간단한 방법은 제너레이터 표현식을 사용하는 것이다. 다음은 리스트, 사전, 집합 표현식고 ㅏ유사한 방식으로 제너레이터를 생성한다.\n",
        "# 리스트 표현식에서 대괄호를 사용하듯이 괄호를 사용해서 제너레이터를 생성할 수 있다."
      ],
      "metadata": {
        "id": "qse_OVRmU5mJ"
      },
      "execution_count": null,
      "outputs": []
    },
    {
      "cell_type": "code",
      "source": [
        "gen = (x ** 2 for x in range(100))"
      ],
      "metadata": {
        "id": "r_vzsx8EVGns"
      },
      "execution_count": null,
      "outputs": []
    },
    {
      "cell_type": "code",
      "source": [
        "gen"
      ],
      "metadata": {
        "colab": {
          "base_uri": "https://localhost:8080/"
        },
        "id": "alFvbTrMVL1b",
        "outputId": "c8192341-a23b-4686-fe24-16bc7eef4a97"
      },
      "execution_count": null,
      "outputs": [
        {
          "output_type": "execute_result",
          "data": {
            "text/plain": [
              "<generator object <genexpr> at 0x7f25e0471850>"
            ]
          },
          "metadata": {},
          "execution_count": 87
        }
      ]
    },
    {
      "cell_type": "code",
      "source": [
        "# 다음은 위 코드와 동일한 코드다."
      ],
      "metadata": {
        "id": "gE9LJx1NVMX-"
      },
      "execution_count": null,
      "outputs": []
    },
    {
      "cell_type": "code",
      "source": [
        "def _make_gen():\n",
        "  for x in range(100):\n",
        "    yield x ** 2\n",
        "gen = _make_gen()"
      ],
      "metadata": {
        "id": "24h_ASBIVdQD"
      },
      "execution_count": null,
      "outputs": []
    },
    {
      "cell_type": "code",
      "source": [
        "# 제너레이터 표현식은 리스트 표현식을 인자로 받는 어떤 파이썬 함수에서도 사용할 수 있다."
      ],
      "metadata": {
        "id": "nEynjEufVltK"
      },
      "execution_count": null,
      "outputs": []
    },
    {
      "cell_type": "code",
      "source": [
        "sum(x ** 2 for x in range(100))"
      ],
      "metadata": {
        "colab": {
          "base_uri": "https://localhost:8080/"
        },
        "id": "nrKsvJCcVrdM",
        "outputId": "7db95b14-2e0e-4395-e30e-a9dd51993964"
      },
      "execution_count": null,
      "outputs": [
        {
          "output_type": "execute_result",
          "data": {
            "text/plain": [
              "328350"
            ]
          },
          "metadata": {},
          "execution_count": 91
        }
      ]
    },
    {
      "cell_type": "code",
      "source": [
        "dict((i, i ** 2) for i in range(5))"
      ],
      "metadata": {
        "colab": {
          "base_uri": "https://localhost:8080/"
        },
        "id": "QaKaYCCDVuzj",
        "outputId": "3c91d53d-d09a-40d6-f665-c5e4b96bb1b9"
      },
      "execution_count": null,
      "outputs": [
        {
          "output_type": "execute_result",
          "data": {
            "text/plain": [
              "{0: 0, 1: 1, 2: 4, 3: 9, 4: 16}"
            ]
          },
          "metadata": {},
          "execution_count": 92
        }
      ]
    },
    {
      "cell_type": "code",
      "source": [
        "# itertools 모듈"
      ],
      "metadata": {
        "id": "owOmWJJ4Vz8f"
      },
      "execution_count": null,
      "outputs": []
    },
    {
      "cell_type": "code",
      "source": [
        "# 표준 라이브러리인 itertools 모듈은 일반 데이터 알고리즘을 많은 제너레이터를 포함하고 있다. \n",
        "# 예를 들어 groupby는 순차 자료구조와 함수를 받아 인자로 받은 함수에서 반환되는 값에 따라 그룹을 지어준다. "
      ],
      "metadata": {
        "id": "i2K9l1NIV3iG"
      },
      "execution_count": null,
      "outputs": []
    },
    {
      "cell_type": "code",
      "source": [
        "import itertools"
      ],
      "metadata": {
        "id": "KUkPCpkaWHOx"
      },
      "execution_count": null,
      "outputs": []
    },
    {
      "cell_type": "code",
      "source": [
        "first_letter = lambda x: x[0]"
      ],
      "metadata": {
        "id": "-EeJ-pSjXGo_"
      },
      "execution_count": null,
      "outputs": []
    },
    {
      "cell_type": "code",
      "source": [
        "names = [\"Alan\", \"Adam\", \"Wes\", \"Will\", \"Albert\", \"Steven\"]"
      ],
      "metadata": {
        "id": "R3_LK7v1XKtf"
      },
      "execution_count": null,
      "outputs": []
    },
    {
      "cell_type": "code",
      "source": [
        "for letter, names in itertools.groupby(names, first_letter):\n",
        "  print(letter, list(names)) # names는 제너레이터다."
      ],
      "metadata": {
        "colab": {
          "base_uri": "https://localhost:8080/"
        },
        "id": "rLKdqVywXUk3",
        "outputId": "c9760ef2-4024-4c52-e6fe-e33dcd14ef3c"
      },
      "execution_count": null,
      "outputs": [
        {
          "output_type": "stream",
          "name": "stdout",
          "text": [
            "A ['Alan', 'Adam']\n",
            "W ['Wes', 'Will']\n",
            "A ['Albert']\n",
            "S ['Steven']\n"
          ]
        }
      ]
    },
    {
      "cell_type": "code",
      "source": [
        "# 122페이지에 유용한 itertools 함수를 정리해두었다. 더 유용한 내장 유틸리티 모듈을 더 자세히 알아보려면 공식 파이썬 문서를 참고해야 한다."
      ],
      "metadata": {
        "id": "icFJWrIPX5nh"
      },
      "execution_count": null,
      "outputs": []
    },
    {
      "cell_type": "code",
      "source": [
        "# 3.2.7 에러와 예외처리"
      ],
      "metadata": {
        "id": "eAoTkBJOYV4G"
      },
      "execution_count": null,
      "outputs": []
    },
    {
      "cell_type": "code",
      "source": [
        "# 견고한 프로그램을 작성하려면 파이썬의 오류와 예외를 잘 처리해야 한다. 데이터 분석 애플리케이션에서는 많은 함수가 특정한 종류의 입력만 처리하도록 되어 있다.\n",
        "# 예를 들어 파이썬의 float 함수는 문자열을 부동소수점수로 변환할 수 있지만 적절하지 않은 입력에 대해서는 ValueError와 함께 실패하게 된다."
      ],
      "metadata": {
        "id": "yrnvq8MsYYLi"
      },
      "execution_count": null,
      "outputs": []
    },
    {
      "cell_type": "code",
      "source": [
        "float(\"1.2345\")"
      ],
      "metadata": {
        "colab": {
          "base_uri": "https://localhost:8080/"
        },
        "id": "15E-3nRXOaIR",
        "outputId": "3d079016-3c29-4314-a77d-1b310122091a"
      },
      "execution_count": null,
      "outputs": [
        {
          "output_type": "execute_result",
          "data": {
            "text/plain": [
              "1.2345"
            ]
          },
          "metadata": {},
          "execution_count": 2
        }
      ]
    },
    {
      "cell_type": "code",
      "source": [
        "float(\"something\")"
      ],
      "metadata": {
        "colab": {
          "base_uri": "https://localhost:8080/",
          "height": 171
        },
        "id": "bNRKpQWOOdTF",
        "outputId": "deb2c6da-62b6-4747-8732-38bfc5fbc966"
      },
      "execution_count": null,
      "outputs": [
        {
          "output_type": "error",
          "ename": "ValueError",
          "evalue": "ignored",
          "traceback": [
            "\u001b[0;31m---------------------------------------------------------------------------\u001b[0m",
            "\u001b[0;31mValueError\u001b[0m                                Traceback (most recent call last)",
            "\u001b[0;32m<ipython-input-3-5ccfe07933f4>\u001b[0m in \u001b[0;36m<module>\u001b[0;34m()\u001b[0m\n\u001b[0;32m----> 1\u001b[0;31m \u001b[0mfloat\u001b[0m\u001b[0;34m(\u001b[0m\u001b[0;34m\"something\"\u001b[0m\u001b[0;34m)\u001b[0m\u001b[0;34m\u001b[0m\u001b[0;34m\u001b[0m\u001b[0m\n\u001b[0m",
            "\u001b[0;31mValueError\u001b[0m: could not convert string to float: 'something'"
          ]
        }
      ]
    },
    {
      "cell_type": "code",
      "source": [
        "# 적절하지 않은 입력에 대해서는 입력을 그대로 반환하는 개선된 float 함수를 작성한다고 가정하자. 이렇게 하려면 try/except 블록을 사용해서 float 함수를 호출하면 된다."
      ],
      "metadata": {
        "id": "dcng1643Ohlt"
      },
      "execution_count": null,
      "outputs": []
    },
    {
      "cell_type": "code",
      "source": [
        "def attempt_float(x):\n",
        "  try:\n",
        "    return float(x)\n",
        "  except:\n",
        "    return x"
      ],
      "metadata": {
        "id": "GMuDkucnOtQY"
      },
      "execution_count": null,
      "outputs": []
    },
    {
      "cell_type": "code",
      "source": [
        "# except 블록에 있는 코드는 float(x)가 예외를 발생했을 때 실행된다."
      ],
      "metadata": {
        "id": "AcsBhivgPGRf"
      },
      "execution_count": null,
      "outputs": []
    },
    {
      "cell_type": "code",
      "source": [
        "attempt_float(\"1.2345\")"
      ],
      "metadata": {
        "colab": {
          "base_uri": "https://localhost:8080/"
        },
        "id": "9VJBJWXGPMZE",
        "outputId": "2c2f6b8b-ff75-48e3-930d-5e800d2516c5"
      },
      "execution_count": null,
      "outputs": [
        {
          "output_type": "execute_result",
          "data": {
            "text/plain": [
              "1.2345"
            ]
          },
          "metadata": {},
          "execution_count": 7
        }
      ]
    },
    {
      "cell_type": "code",
      "source": [
        "attempt_float(\"something\")"
      ],
      "metadata": {
        "colab": {
          "base_uri": "https://localhost:8080/",
          "height": 38
        },
        "id": "zZ8nOL6iPPKd",
        "outputId": "2af577ce-036f-4fae-f44f-b44229a90f33"
      },
      "execution_count": null,
      "outputs": [
        {
          "output_type": "execute_result",
          "data": {
            "text/plain": [
              "'something'"
            ],
            "application/vnd.google.colaboratory.intrinsic+json": {
              "type": "string"
            }
          },
          "metadata": {},
          "execution_count": 9
        }
      ]
    },
    {
      "cell_type": "code",
      "source": [
        "# float 함수가 ValueErro가가 아닌 예외를 발생시키는 경우도 있다. "
      ],
      "metadata": {
        "id": "OvlxKi68PR7d"
      },
      "execution_count": null,
      "outputs": []
    },
    {
      "cell_type": "code",
      "source": [
        "float((1, 2))"
      ],
      "metadata": {
        "colab": {
          "base_uri": "https://localhost:8080/",
          "height": 171
        },
        "id": "quLLMjRVPZdE",
        "outputId": "a2756c99-aa87-44d9-b98f-3cb986448347"
      },
      "execution_count": null,
      "outputs": [
        {
          "output_type": "error",
          "ename": "TypeError",
          "evalue": "ignored",
          "traceback": [
            "\u001b[0;31m---------------------------------------------------------------------------\u001b[0m",
            "\u001b[0;31mTypeError\u001b[0m                                 Traceback (most recent call last)",
            "\u001b[0;32m<ipython-input-11-82f777b0e564>\u001b[0m in \u001b[0;36m<module>\u001b[0;34m()\u001b[0m\n\u001b[0;32m----> 1\u001b[0;31m \u001b[0mfloat\u001b[0m\u001b[0;34m(\u001b[0m\u001b[0;34m(\u001b[0m\u001b[0;36m1\u001b[0m\u001b[0;34m,\u001b[0m \u001b[0;36m2\u001b[0m\u001b[0;34m)\u001b[0m\u001b[0;34m)\u001b[0m\u001b[0;34m\u001b[0m\u001b[0;34m\u001b[0m\u001b[0m\n\u001b[0m",
            "\u001b[0;31mTypeError\u001b[0m: float() argument must be a string or a number, not 'tuple'"
          ]
        }
      ]
    },
    {
      "cell_type": "code",
      "source": [
        "# 입력이 문자열이나 숫자가 아니라는 뜻의 TypeError는 정당한 오류이므로 그대로 두고 ValueError만 무시하고 싶다면 except 뒤에 처리할 예외의 종류를 적어준다. "
      ],
      "metadata": {
        "id": "AvH3SD4GPaw0"
      },
      "execution_count": null,
      "outputs": []
    },
    {
      "cell_type": "code",
      "source": [
        "def attempt_float(x):\n",
        "  try:\n",
        "    return float(x)\n",
        "  except ValueError:\n",
        "    return x"
      ],
      "metadata": {
        "id": "N4Rv-tCGPtUI"
      },
      "execution_count": null,
      "outputs": []
    },
    {
      "cell_type": "code",
      "source": [
        "# 이 함수는 다음처럼 동작한다. "
      ],
      "metadata": {
        "id": "W8CrFYQWPxrb"
      },
      "execution_count": null,
      "outputs": []
    },
    {
      "cell_type": "code",
      "source": [
        "attempt_float((1, 2))"
      ],
      "metadata": {
        "colab": {
          "base_uri": "https://localhost:8080/",
          "height": 297
        },
        "id": "iEDwmcu7P61k",
        "outputId": "3c9797a5-7cda-4eaf-e651-dba4b070a163"
      },
      "execution_count": null,
      "outputs": [
        {
          "output_type": "error",
          "ename": "TypeError",
          "evalue": "ignored",
          "traceback": [
            "\u001b[0;31m---------------------------------------------------------------------------\u001b[0m",
            "\u001b[0;31mTypeError\u001b[0m                                 Traceback (most recent call last)",
            "\u001b[0;32m<ipython-input-15-8b0026e9e6b7>\u001b[0m in \u001b[0;36m<module>\u001b[0;34m()\u001b[0m\n\u001b[0;32m----> 1\u001b[0;31m \u001b[0mattempt_float\u001b[0m\u001b[0;34m(\u001b[0m\u001b[0;34m(\u001b[0m\u001b[0;36m1\u001b[0m\u001b[0;34m,\u001b[0m \u001b[0;36m2\u001b[0m\u001b[0;34m)\u001b[0m\u001b[0;34m)\u001b[0m\u001b[0;34m\u001b[0m\u001b[0;34m\u001b[0m\u001b[0m\n\u001b[0m",
            "\u001b[0;32m<ipython-input-13-dd8724242948>\u001b[0m in \u001b[0;36mattempt_float\u001b[0;34m(x)\u001b[0m\n\u001b[1;32m      1\u001b[0m \u001b[0;32mdef\u001b[0m \u001b[0mattempt_float\u001b[0m\u001b[0;34m(\u001b[0m\u001b[0mx\u001b[0m\u001b[0;34m)\u001b[0m\u001b[0;34m:\u001b[0m\u001b[0;34m\u001b[0m\u001b[0;34m\u001b[0m\u001b[0m\n\u001b[1;32m      2\u001b[0m   \u001b[0;32mtry\u001b[0m\u001b[0;34m:\u001b[0m\u001b[0;34m\u001b[0m\u001b[0;34m\u001b[0m\u001b[0m\n\u001b[0;32m----> 3\u001b[0;31m     \u001b[0;32mreturn\u001b[0m \u001b[0mfloat\u001b[0m\u001b[0;34m(\u001b[0m\u001b[0mx\u001b[0m\u001b[0;34m)\u001b[0m\u001b[0;34m\u001b[0m\u001b[0;34m\u001b[0m\u001b[0m\n\u001b[0m\u001b[1;32m      4\u001b[0m   \u001b[0;32mexcept\u001b[0m \u001b[0mValueError\u001b[0m\u001b[0;34m:\u001b[0m\u001b[0;34m\u001b[0m\u001b[0;34m\u001b[0m\u001b[0m\n\u001b[1;32m      5\u001b[0m     \u001b[0;32mreturn\u001b[0m \u001b[0mx\u001b[0m\u001b[0;34m\u001b[0m\u001b[0;34m\u001b[0m\u001b[0m\n",
            "\u001b[0;31mTypeError\u001b[0m: float() argument must be a string or a number, not 'tuple'"
          ]
        }
      ]
    },
    {
      "cell_type": "code",
      "source": [
        "# 튜플을 사용해서 여러 개의 예외를 한 번에 처리할 수도 있다.(괄호로 묶어줌)"
      ],
      "metadata": {
        "id": "Oi29AJRJP_Kg"
      },
      "execution_count": null,
      "outputs": []
    },
    {
      "cell_type": "code",
      "source": [
        "def attempt_float(x):\n",
        "  try:\n",
        "    return float(x)\n",
        "  except (ValueError, TypeError):\n",
        "    return x"
      ],
      "metadata": {
        "id": "0k_ghxawQmzv"
      },
      "execution_count": null,
      "outputs": []
    },
    {
      "cell_type": "code",
      "source": [
        "# 예외를 무시하지 않고, try 블록의 코드가 성공적으로 수행되었는지 여부와 관계없이 실행시키고 싶은 코드는 finally 블록을 이용해서 적어준다. "
      ],
      "metadata": {
        "id": "Cb99ha_kQtZG"
      },
      "execution_count": null,
      "outputs": []
    },
    {
      "cell_type": "code",
      "source": [
        "# f = open(path, \"w\")\n",
        "\n",
        "# try:\n",
        "#  write_to_file(f)\n",
        "#finally:\n",
        "#  f.close()"
      ],
      "metadata": {
        "id": "kcCJRe5PQ3nG"
      },
      "execution_count": null,
      "outputs": []
    },
    {
      "cell_type": "code",
      "source": [
        "# 여기서 파일 f는 항상 닫히게 된다. 이와 유사하게 try 블록이 성공적으로 수행되었을 때만 else 블록을 사용해서 수행할 코드를 적어준다."
      ],
      "metadata": {
        "id": "n8SenQwHREYj"
      },
      "execution_count": null,
      "outputs": []
    },
    {
      "cell_type": "code",
      "source": [
        "# f = open(path, \"w\")\n",
        "\n",
        "# try:\n",
        "#   write_to_file(f)\n",
        "# except:\n",
        "#   print(\"Failed\")\n",
        "# else:\n",
        "#   print(\"Succeeded\")\n",
        "# finally:\n",
        "#   f.close()"
      ],
      "metadata": {
        "id": "muaKVnRQSNNE"
      },
      "execution_count": null,
      "outputs": []
    },
    {
      "cell_type": "code",
      "source": [
        "# IPython에서 예외 처리"
      ],
      "metadata": {
        "id": "mtqE10k3rZ7b"
      },
      "execution_count": null,
      "outputs": []
    },
    {
      "cell_type": "code",
      "source": [
        "# %run을 이용해서 코드를 실행시키던 중에 예외가 발생하면 IPython은 기본적으로 전체 트레이스백을 출력하고 해당 위치 주변의 코드를 함께 보여준다. "
      ],
      "metadata": {
        "id": "NZVxtE6RslDr"
      },
      "execution_count": null,
      "outputs": []
    },
    {
      "cell_type": "code",
      "source": [
        "%run examples/ipython_bug.py"
      ],
      "metadata": {
        "colab": {
          "base_uri": "https://localhost:8080/"
        },
        "id": "Am6f1PKcr6S0",
        "outputId": "d124185e-79b1-45cb-ebdd-fd91da77aefa"
      },
      "execution_count": null,
      "outputs": [
        {
          "output_type": "stream",
          "name": "stderr",
          "text": [
            "ERROR:root:File `'examples/ipython_bug.py'` not found.\n"
          ]
        }
      ]
    },
    {
      "cell_type": "code",
      "source": [
        "# 추가 내용을 보여주지 않는 표준 파이썬 인터프리터에 비해 IPython은 추가 내용을 함께 포함해서 보여주므로 매우 편리하다. \n",
        "# %xmode 매직 명령어를 이용하면 표준 파이썬 인터프리터와 같은 수준인 Plain에서부터 함수 인잣값 등을 포함해서 보여주는 Verbose 단계까지 직접 제어할 수 있다."
      ],
      "metadata": {
        "id": "MvE6tH47uHC3"
      },
      "execution_count": null,
      "outputs": []
    },
    {
      "cell_type": "code",
      "source": [
        "# 3.3 파일과 운영체제 "
      ],
      "metadata": {
        "id": "m5qJu_yZugSO"
      },
      "execution_count": null,
      "outputs": []
    },
    {
      "cell_type": "code",
      "source": [
        "# 이 책에서는 대부분 pandas.read_csv 같은 고수준의 도구를 사용해서 디스크로부터 파일을 읽어와 파이썬 자료구조에 저장한다. "
      ],
      "metadata": {
        "id": "eOiwJYW2Epur"
      },
      "execution_count": null,
      "outputs": []
    },
    {
      "cell_type": "code",
      "source": [
        "# 파일을 읽고 쓰기 위해 열 때는 내장 함수인 open을 이용해서 파일의 상대 경로나 절대 경로를 넘겨주어야 한다."
      ],
      "metadata": {
        "id": "K2lL-yeyFQ2e"
      },
      "execution_count": null,
      "outputs": []
    },
    {
      "cell_type": "code",
      "source": [
        "# path = \"examples/segismundo.txt\""
      ],
      "metadata": {
        "id": "8Czvfet7F5A9"
      },
      "execution_count": null,
      "outputs": []
    },
    {
      "cell_type": "code",
      "source": [
        "# f = open(path) - 코랩에서 하고 있기 때문에 각주 처리하고 코드 작성하겠음"
      ],
      "metadata": {
        "id": "bjxEJm47F-wh"
      },
      "execution_count": null,
      "outputs": []
    },
    {
      "cell_type": "code",
      "source": [
        "# 기본적으로 파일은 읽기 전용 모드인 \"r\"로 열린다. 파일 핸들 f를 핸들 리스트로 생각할 수 있으며 파일의 매 줄을 순회할 수 있다."
      ],
      "metadata": {
        "id": "5MtlkLp3GAY4"
      },
      "execution_count": null,
      "outputs": []
    },
    {
      "cell_type": "code",
      "source": [
        "# for line in f:\n",
        "  # pass"
      ],
      "metadata": {
        "id": "M0HaRf7HIkIK"
      },
      "execution_count": null,
      "outputs": []
    },
    {
      "cell_type": "code",
      "source": [
        "# 파일에서 읽은 줄끝 문자가 그대로 남아 있으므로 파일에서 읽은 줄에서 이를 제거하는 다음과 같은 코드를 종종 보게 될 것이다."
      ],
      "metadata": {
        "id": "kg0PpkftInPj"
      },
      "execution_count": null,
      "outputs": []
    },
    {
      "cell_type": "code",
      "source": [
        "# lines = [x.rstrip() for x in open(path)]"
      ],
      "metadata": {
        "id": "fz8LyaSkKvfT"
      },
      "execution_count": null,
      "outputs": []
    },
    {
      "cell_type": "code",
      "source": [
        "# lines"
      ],
      "metadata": {
        "id": "Zc1x_v3UNNIG"
      },
      "execution_count": null,
      "outputs": []
    },
    {
      "cell_type": "code",
      "source": [
        "# 파일 객체를 생성하기 위해 open을 사용했다면 작업이 끝났을 때 명시적으로 닫아주어야 한다. 파일을 닫으면 해당 자원을 운영체제로 되돌려준다."
      ],
      "metadata": {
        "id": "uck61B9FNOQf"
      },
      "execution_count": null,
      "outputs": []
    },
    {
      "cell_type": "code",
      "source": [
        "# f.close()"
      ],
      "metadata": {
        "id": "V2ndgwTaN0Wo"
      },
      "execution_count": null,
      "outputs": []
    },
    {
      "cell_type": "code",
      "source": [
        "# with 문을 사용하면 파일 작업이 끝났을 때 필요한 작업을 쉽게 처리할 수 있다."
      ],
      "metadata": {
        "id": "4o6kuKCcObV5"
      },
      "execution_count": null,
      "outputs": []
    },
    {
      "cell_type": "code",
      "source": [
        "# with open(path) as f:\n",
        "#   lines = [x.rstrip() for x in f]"
      ],
      "metadata": {
        "id": "_Go6F8jAOgZk"
      },
      "execution_count": null,
      "outputs": []
    },
    {
      "cell_type": "code",
      "source": [
        "# 이렇게 하면 with 블록이 끝나는 시점에 파일 핸들 f를 자동으로 닫아준다."
      ],
      "metadata": {
        "id": "GpN7quInPDaZ"
      },
      "execution_count": null,
      "outputs": []
    },
    {
      "cell_type": "code",
      "source": [
        "# 만일 파일을 f = open(path, \"w\")로 연다면 examples/segismundo.txt 파일이 새롭게 생성되고 파일의 내용을 새로운 내용으로 덮어쓴다. \n",
        "# \"x\" 모드는 쓰기 목적으로 파일을 새로 만들지만 이미 해당 파일이 존재하면 실패하게 된다. "
      ],
      "metadata": {
        "id": "OYikxSuCU-pG"
      },
      "execution_count": null,
      "outputs": []
    },
    {
      "cell_type": "code",
      "source": [
        "# 파일을 읽을 때는 read, seek, tell 메서드를 주로 사용하게 되는데 read 메서드는 해당 파일에서 특정 개수만큼 문자를 반환한다. \n",
        "# 여기서 \"문자자는 인코딩(UTF-8 같은)으로 결정되거나 이진 모드인 경우에는 단순히 바이트로 결정된다."
      ],
      "metadata": {
        "id": "cNd_gUiTVtg7"
      },
      "execution_count": null,
      "outputs": []
    },
    {
      "cell_type": "code",
      "source": [
        "# f = open(path)"
      ],
      "metadata": {
        "id": "mCmSYTi2WPaJ"
      },
      "execution_count": null,
      "outputs": []
    },
    {
      "cell_type": "code",
      "source": [
        "# f.read(10)"
      ],
      "metadata": {
        "id": "yFkemjzkWSF7"
      },
      "execution_count": null,
      "outputs": []
    },
    {
      "cell_type": "code",
      "source": [
        "# f2 = open(path, \"rb\") # 이진 모드"
      ],
      "metadata": {
        "id": "exOMpbWfWUp4"
      },
      "execution_count": null,
      "outputs": []
    },
    {
      "cell_type": "code",
      "source": [
        "# f2.read(10)"
      ],
      "metadata": {
        "id": "dsFuTz9JWZeB"
      },
      "execution_count": null,
      "outputs": []
    },
    {
      "cell_type": "code",
      "source": [
        "# read 메서드는 읽은 바이트만큼 파일 핸들의 위치를 옮긴다. tell 메서드는 현재 위치를 알려준다."
      ],
      "metadata": {
        "id": "CPoiYGNlWbhG"
      },
      "execution_count": null,
      "outputs": []
    },
    {
      "cell_type": "code",
      "source": [
        "# f.tell()"
      ],
      "metadata": {
        "id": "nHUXkXT4Wmb7"
      },
      "execution_count": null,
      "outputs": []
    },
    {
      "cell_type": "code",
      "source": [
        "# f2.tell()"
      ],
      "metadata": {
        "id": "gScjbmyzWnZm"
      },
      "execution_count": null,
      "outputs": []
    },
    {
      "cell_type": "code",
      "source": [
        "# 파일에서 10개의 문자를 읽었어도 위치가 11인 이유는 기본 인코딩에서 10개의 문자를 디코딩하기 위해 그 만큼의 바이트가 필요했기 때문이다. 기본 인코딩은 sys 모듈에서 확인할 수 있다."
      ],
      "metadata": {
        "id": "x7TH1Rp5WqXn"
      },
      "execution_count": null,
      "outputs": []
    },
    {
      "cell_type": "code",
      "source": [
        "import sys"
      ],
      "metadata": {
        "id": "FgZtgFvSW35H"
      },
      "execution_count": null,
      "outputs": []
    },
    {
      "cell_type": "code",
      "source": [
        "sys.getdefaultencoding()"
      ],
      "metadata": {
        "colab": {
          "base_uri": "https://localhost:8080/",
          "height": 38
        },
        "id": "yamXIS72XZfi",
        "outputId": "912ca657-049f-4686-9cb9-492b60297f47"
      },
      "execution_count": null,
      "outputs": [
        {
          "output_type": "execute_result",
          "data": {
            "text/plain": [
              "'utf-8'"
            ],
            "application/vnd.google.colaboratory.intrinsic+json": {
              "type": "string"
            }
          },
          "metadata": {},
          "execution_count": 32
        }
      ]
    },
    {
      "cell_type": "code",
      "source": [
        "# seek 메서드는 파일 핸들의 위치를 해당 파일에서 지정한 바이트 위치로 옮긴다."
      ],
      "metadata": {
        "id": "5iiq_lN3Xd_i"
      },
      "execution_count": null,
      "outputs": []
    },
    {
      "cell_type": "code",
      "source": [
        "# f.seek(3)"
      ],
      "metadata": {
        "id": "3aWvc2p5Xo8U"
      },
      "execution_count": null,
      "outputs": []
    },
    {
      "cell_type": "code",
      "source": [
        "# f.read(1)"
      ],
      "metadata": {
        "id": "K2zkdIvJXrbc"
      },
      "execution_count": null,
      "outputs": []
    },
    {
      "cell_type": "code",
      "source": [
        "# 마지막으로 파일을 꼭 닫아주어야 한다."
      ],
      "metadata": {
        "id": "ID-BUH9lXvYc"
      },
      "execution_count": null,
      "outputs": []
    },
    {
      "cell_type": "code",
      "source": [
        "# f.close()"
      ],
      "metadata": {
        "id": "qNQUP71oXya_"
      },
      "execution_count": null,
      "outputs": []
    },
    {
      "cell_type": "code",
      "source": [
        "# f2.close()"
      ],
      "metadata": {
        "id": "amgk9lJYX1Td"
      },
      "execution_count": null,
      "outputs": []
    },
    {
      "cell_type": "code",
      "source": [
        "# 표 3-3에는 파이썬 파일 모드가 기록되어 있다. 페이지 129쪽"
      ],
      "metadata": {
        "id": "E9JE5XVjX3HH"
      },
      "execution_count": null,
      "outputs": []
    },
    {
      "cell_type": "code",
      "source": [
        "# 파일에 텍스트를 기록하려면 write나 writelines 메서드를 이용하면 된다. 예를 들어 빈 줄이 포함되지 않도록 prof_mod.py를 작성하려면 다음과 같이 하면 된다."
      ],
      "metadata": {
        "id": "h9OPcEieYA32"
      },
      "execution_count": null,
      "outputs": []
    },
    {
      "cell_type": "code",
      "source": [
        "# with open(\"tmp.txt\", \"w\") as handle:\n",
        "  # handle.writelines(x for x in open(path) if len(x) > 1)"
      ],
      "metadata": {
        "id": "JVs-VRzgZe69"
      },
      "execution_count": null,
      "outputs": []
    },
    {
      "cell_type": "code",
      "source": [
        "# with open(\"tmp.txt\") as f:\n",
        "#   lines = f.readlines()"
      ],
      "metadata": {
        "id": "0wwFtrnUZv6T"
      },
      "execution_count": null,
      "outputs": []
    },
    {
      "cell_type": "code",
      "source": [
        "# lines"
      ],
      "metadata": {
        "id": "zGK7UoMmZ9sO"
      },
      "execution_count": null,
      "outputs": []
    },
    {
      "cell_type": "code",
      "source": [
        "# 표 3-4에 자주 사용하는 파일 메서드를 정리해두었다. 페이지 130쪽"
      ],
      "metadata": {
        "id": "VSy4ufXaZ_2w"
      },
      "execution_count": null,
      "outputs": []
    },
    {
      "cell_type": "code",
      "source": [
        "# 3.3.1 바이트와 유니코드"
      ],
      "metadata": {
        "id": "i-KBx7V3cu9v"
      },
      "execution_count": null,
      "outputs": []
    },
    {
      "cell_type": "code",
      "source": [
        "# 읽기든 쓰기든 파이썬 파일은 파이썬 문자열(즉, 유니코드)을 다루기 위한 텍스트 모드를 기본으로 한다. 이는 파일 모드에 b를 추가해서 열 수 있는 이진 모드와는 다르다. \n",
        "# UTF-8 인코딩을 사용하는 비-아스키자문자가 포함된 파일을 살펴보자. "
      ],
      "metadata": {
        "id": "LZAx5CoJc6kS"
      },
      "execution_count": null,
      "outputs": []
    },
    {
      "cell_type": "code",
      "source": [
        "# with open(path) as f:\n",
        "#   char = f.read(10)"
      ],
      "metadata": {
        "id": "bT-P9m4ceafF"
      },
      "execution_count": null,
      "outputs": []
    },
    {
      "cell_type": "code",
      "source": [
        "# chars"
      ],
      "metadata": {
        "id": "S8pcu3OuejQF"
      },
      "execution_count": null,
      "outputs": []
    },
    {
      "cell_type": "code",
      "source": [
        "# UTF-8은 가변길이 유니코드 인코딩이므로 파일에서 일부 문자를 읽어오도록 한다면 파이썬은 파일에서 필요한 만큼의 바이트(최소 10바이트에서 최대 40바이트까지 될 수 있다)를 읽은 다음 10문자로 디코딩 한다."
      ],
      "metadata": {
        "id": "uapRKtmCekh2"
      },
      "execution_count": null,
      "outputs": []
    },
    {
      "cell_type": "code",
      "source": [
        "# 만일 파일을 \"rb\" 모드로 열었다면 read는 딱 10바이트만 읽어올 것이다."
      ],
      "metadata": {
        "id": "x_AxcQWXe4BH"
      },
      "execution_count": null,
      "outputs": []
    },
    {
      "cell_type": "code",
      "source": [
        "# with open(path, \"rb\") as f:\n",
        "#   data = f.read(10)"
      ],
      "metadata": {
        "id": "U51F0ObNgoij"
      },
      "execution_count": null,
      "outputs": []
    },
    {
      "cell_type": "code",
      "source": [
        "# data"
      ],
      "metadata": {
        "id": "hEjKSwCigw4M"
      },
      "execution_count": null,
      "outputs": []
    },
    {
      "cell_type": "code",
      "source": [
        "#트텍스트 인코딩에 따라 읽어온 바이트를 str깩체로 직접 디코딩할 수도 있다. 다만 온전한 유니코드 문자로 인코딩되어 있을 경우에만 가능하다."
      ],
      "metadata": {
        "id": "EJJzYOcYgxc7"
      },
      "execution_count": null,
      "outputs": []
    },
    {
      "cell_type": "code",
      "source": [
        "# data.decode(\"utf8\")"
      ],
      "metadata": {
        "id": "rzZSz2LNg9yc"
      },
      "execution_count": null,
      "outputs": []
    },
    {
      "cell_type": "code",
      "source": [
        "# data[:4].decode(\"utf8\")"
      ],
      "metadata": {
        "id": "7WoCQSnWhAkt"
      },
      "execution_count": null,
      "outputs": []
    },
    {
      "cell_type": "code",
      "source": [
        "# open 메서드에 encoding 옵션을 지정한 텍스트 모드에서는 유니코드 인코딩을 다른 인코딩으로 쉽게 변경할 수 있는 방법을 제공한다."
      ],
      "metadata": {
        "id": "ElNkBaU6hGW8"
      },
      "execution_count": null,
      "outputs": []
    },
    {
      "cell_type": "code",
      "source": [
        "# sink_path = \"sink.txt\""
      ],
      "metadata": {
        "id": "0-9SdOK6hOaN"
      },
      "execution_count": null,
      "outputs": []
    },
    {
      "cell_type": "code",
      "source": [
        "# with open(path) as source:\n",
        "#   with open(sink_path, \"xt\", encoding=\"iso-8859-1\") as sink:\n",
        "#     sink.write(source.read())"
      ],
      "metadata": {
        "id": "xtGp3D-DhR50"
      },
      "execution_count": null,
      "outputs": []
    },
    {
      "cell_type": "code",
      "source": [
        "# with open(sink_path, encoding=\"iso-8859-1\") as f:\n",
        "#   print(f.read(10))"
      ],
      "metadata": {
        "id": "yEscTiTTjHKJ"
      },
      "execution_count": null,
      "outputs": []
    },
    {
      "cell_type": "code",
      "source": [
        "# 이진 모드가 아닐 경우에는 열려진 파일에 대해 seek 메서드를 호출할 때 주의해야 한다."
      ],
      "metadata": {
        "id": "6-x9LToBjRs7"
      },
      "execution_count": null,
      "outputs": []
    },
    {
      "cell_type": "code",
      "source": [
        "# 파일 위치를 유니코드 문자를 정의하는 바이트들 사이로 지정하면 뒤이은 읽기에서 에러가 발생한다."
      ],
      "metadata": {
        "id": "dD7xO4_kjXSU"
      },
      "execution_count": null,
      "outputs": []
    },
    {
      "cell_type": "code",
      "source": [
        "# f = open(path)"
      ],
      "metadata": {
        "id": "xY2yA2Bsjb15"
      },
      "execution_count": null,
      "outputs": []
    },
    {
      "cell_type": "code",
      "source": [
        "# f.read(5)"
      ],
      "metadata": {
        "id": "bD--1-XijfJU"
      },
      "execution_count": null,
      "outputs": []
    },
    {
      "cell_type": "code",
      "source": [
        "# f.seek(4)"
      ],
      "metadata": {
        "id": "sM8VWH54jgqy"
      },
      "execution_count": null,
      "outputs": []
    },
    {
      "cell_type": "code",
      "source": [
        "# f.read(1)"
      ],
      "metadata": {
        "id": "hPZ_clSTjjgf"
      },
      "execution_count": null,
      "outputs": []
    },
    {
      "cell_type": "code",
      "source": [
        "# f.close()"
      ],
      "metadata": {
        "id": "F0N7MYeyjk2Q"
      },
      "execution_count": null,
      "outputs": []
    },
    {
      "cell_type": "code",
      "source": [
        "# 비-아스키 텍스트 데이터가 포함된 데이터를 자주 다뤄야 한다면 파이썬의 유니코드 관련 내용을 숙지해두는 편이 좋을 것이다. "
      ],
      "metadata": {
        "id": "4MMLJGjNjou3"
      },
      "execution_count": null,
      "outputs": []
    },
    {
      "cell_type": "code",
      "source": [
        ""
      ],
      "metadata": {
        "id": "Pslg3c8mjz0E"
      },
      "execution_count": null,
      "outputs": []
    }
  ]
}